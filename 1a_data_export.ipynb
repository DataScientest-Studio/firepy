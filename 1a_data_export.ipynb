{
  "nbformat": 4,
  "nbformat_minor": 0,
  "metadata": {
    "colab": {
      "name": "1a_data_export.ipynb",
      "provenance": [],
      "collapsed_sections": [],
      "authorship_tag": "ABX9TyPvKbGT4IGXF2TjltbFjYos",
      "include_colab_link": true
    },
    "kernelspec": {
      "display_name": "Python 3",
      "name": "python3"
    },
    "language_info": {
      "name": "python"
    }
  },
  "cells": [
    {
      "cell_type": "markdown",
      "metadata": {
        "id": "view-in-github",
        "colab_type": "text"
      },
      "source": [
        "<a href=\"https://colab.research.google.com/github/icecore013/image-segmentation-keras/blob/master/1a_data_export.ipynb\" target=\"_parent\"><img src=\"https://colab.research.google.com/assets/colab-badge.svg\" alt=\"Open In Colab\"/></a>"
      ]
    },
    {
      "cell_type": "markdown",
      "source": [
        "# Objective of the notebook\n",
        "\n",
        "The aim of this code is to produce a training database containing the Sentinel 2 images and associated masks."
      ],
      "metadata": {
        "id": "xadGOEefES9I"
      }
    },
    {
      "cell_type": "markdown",
      "metadata": {
        "id": "LYKfJJNJukr0"
      },
      "source": [
        "# Imports and configuration"
      ]
    },
    {
      "cell_type": "code",
      "metadata": {
        "id": "XYtrXiRQXSZh",
        "colab": {
          "base_uri": "https://localhost:8080/"
        },
        "outputId": "76111d19-9681-4e6b-877e-b11bd36ba60c"
      },
      "source": [
        "# Installing and importing the desired packages\n",
        "\n",
        "import pandas as pd\n",
        "import numpy as np\n",
        "from datetime import datetime, timedelta\n",
        "import time\n",
        "from google.colab import drive\n",
        "\n",
        "import os\n",
        "from os import path as op\n",
        "import glob\n",
        "import pprint\n",
        "pp = pprint.PrettyPrinter(indent=4)\n",
        "from tqdm import tqdm\n",
        "\n",
        "import ee\n",
        "import folium\n",
        "import gdal\n",
        "import ogr\n",
        "\n",
        "!pip install rasterio\n",
        "import rasterio as rio\n",
        "from rasterio.windows import Window\n",
        "\n",
        "!pip install geopandas\n",
        "import geopandas as gpd\n",
        "\n",
        "from pyproj import Proj, transform"
      ],
      "execution_count": null,
      "outputs": [
        {
          "output_type": "stream",
          "name": "stdout",
          "text": [
            "Requirement already satisfied: rasterio in /usr/local/lib/python3.7/dist-packages (1.2.10)\n",
            "Requirement already satisfied: cligj>=0.5 in /usr/local/lib/python3.7/dist-packages (from rasterio) (0.7.2)\n",
            "Requirement already satisfied: setuptools in /usr/local/lib/python3.7/dist-packages (from rasterio) (57.4.0)\n",
            "Requirement already satisfied: numpy in /usr/local/lib/python3.7/dist-packages (from rasterio) (1.19.5)\n",
            "Requirement already satisfied: affine in /usr/local/lib/python3.7/dist-packages (from rasterio) (2.3.0)\n",
            "Requirement already satisfied: click-plugins in /usr/local/lib/python3.7/dist-packages (from rasterio) (1.1.1)\n",
            "Requirement already satisfied: certifi in /usr/local/lib/python3.7/dist-packages (from rasterio) (2021.10.8)\n",
            "Requirement already satisfied: snuggs>=1.4.1 in /usr/local/lib/python3.7/dist-packages (from rasterio) (1.4.7)\n",
            "Requirement already satisfied: attrs in /usr/local/lib/python3.7/dist-packages (from rasterio) (21.4.0)\n",
            "Requirement already satisfied: click>=4.0 in /usr/local/lib/python3.7/dist-packages (from rasterio) (7.1.2)\n",
            "Requirement already satisfied: pyparsing>=2.1.6 in /usr/local/lib/python3.7/dist-packages (from snuggs>=1.4.1->rasterio) (3.0.6)\n",
            "Requirement already satisfied: geopandas in /usr/local/lib/python3.7/dist-packages (0.10.2)\n",
            "Requirement already satisfied: pyproj>=2.2.0 in /usr/local/lib/python3.7/dist-packages (from geopandas) (3.2.1)\n",
            "Requirement already satisfied: pandas>=0.25.0 in /usr/local/lib/python3.7/dist-packages (from geopandas) (1.1.5)\n",
            "Requirement already satisfied: fiona>=1.8 in /usr/local/lib/python3.7/dist-packages (from geopandas) (1.8.20)\n",
            "Requirement already satisfied: shapely>=1.6 in /usr/local/lib/python3.7/dist-packages (from geopandas) (1.8.0)\n",
            "Requirement already satisfied: cligj>=0.5 in /usr/local/lib/python3.7/dist-packages (from fiona>=1.8->geopandas) (0.7.2)\n",
            "Requirement already satisfied: six>=1.7 in /usr/local/lib/python3.7/dist-packages (from fiona>=1.8->geopandas) (1.15.0)\n",
            "Requirement already satisfied: click-plugins>=1.0 in /usr/local/lib/python3.7/dist-packages (from fiona>=1.8->geopandas) (1.1.1)\n",
            "Requirement already satisfied: attrs>=17 in /usr/local/lib/python3.7/dist-packages (from fiona>=1.8->geopandas) (21.4.0)\n",
            "Requirement already satisfied: click>=4.0 in /usr/local/lib/python3.7/dist-packages (from fiona>=1.8->geopandas) (7.1.2)\n",
            "Requirement already satisfied: munch in /usr/local/lib/python3.7/dist-packages (from fiona>=1.8->geopandas) (2.5.0)\n",
            "Requirement already satisfied: certifi in /usr/local/lib/python3.7/dist-packages (from fiona>=1.8->geopandas) (2021.10.8)\n",
            "Requirement already satisfied: setuptools in /usr/local/lib/python3.7/dist-packages (from fiona>=1.8->geopandas) (57.4.0)\n",
            "Requirement already satisfied: python-dateutil>=2.7.3 in /usr/local/lib/python3.7/dist-packages (from pandas>=0.25.0->geopandas) (2.8.2)\n",
            "Requirement already satisfied: pytz>=2017.2 in /usr/local/lib/python3.7/dist-packages (from pandas>=0.25.0->geopandas) (2018.9)\n",
            "Requirement already satisfied: numpy>=1.15.4 in /usr/local/lib/python3.7/dist-packages (from pandas>=0.25.0->geopandas) (1.19.5)\n"
          ]
        }
      ]
    },
    {
      "cell_type": "code",
      "metadata": {
        "colab": {
          "base_uri": "https://localhost:8080/"
        },
        "id": "vF9emJE0a2o1",
        "outputId": "521d41a1-6b28-4888-fe40-e4b7e7ecbc6b"
      },
      "source": [
        "# Loading of our drive\n",
        "drive.mount('/content/gdrive', force_remount=True)\n",
        "root_path = 'gdrive/My Drive/'"
      ],
      "execution_count": null,
      "outputs": [
        {
          "output_type": "stream",
          "name": "stdout",
          "text": [
            "Mounted at /content/gdrive\n"
          ]
        }
      ]
    },
    {
      "cell_type": "code",
      "metadata": {
        "colab": {
          "base_uri": "https://localhost:8080/"
        },
        "id": "8gBgKDcya6q6",
        "outputId": "e4488fcc-9c92-4ae2-aa29-968387355499"
      },
      "source": [
        "# Trigger the authentication flow.\n",
        "ee.Authenticate()\n",
        "\n",
        "# Initialize the library.\n",
        "ee.Initialize()"
      ],
      "execution_count": null,
      "outputs": [
        {
          "output_type": "stream",
          "name": "stdout",
          "text": [
            "To authorize access needed by Earth Engine, open the following URL in a web browser and follow the instructions. If the web browser does not start automatically, please manually browse the URL below.\n",
            "\n",
            "    https://accounts.google.com/o/oauth2/auth?client_id=517222506229-vsmmajv00ul0bs7p89v5m89qs8eb9359.apps.googleusercontent.com&scope=https%3A%2F%2Fwww.googleapis.com%2Fauth%2Fearthengine+https%3A%2F%2Fwww.googleapis.com%2Fauth%2Fdevstorage.full_control&redirect_uri=urn%3Aietf%3Awg%3Aoauth%3A2.0%3Aoob&response_type=code&code_challenge=KVxTI021KhUJDvSfRQ8dIE6cmqY63G9WpxZmvNYzFP4&code_challenge_method=S256\n",
            "\n",
            "The authorization workflow will generate a code, which you should paste in the box below. \n",
            "Enter verification code: 4/1AX4XfWiNwwQvDju44pAjmVAy6QGDS9Mhj0NALkj2cp_qGAeBvM9cbYIwuhw\n",
            "\n",
            "Successfully saved authorization token.\n"
          ]
        }
      ]
    },
    {
      "cell_type": "code",
      "metadata": {
        "id": "yorGkj2LiaIF"
      },
      "source": [
        "# Setting the config variables\n",
        "\n",
        "NUMBER_OF_FIRES = 500\n",
        "\n",
        "DATABASE_PATH = \"/content/gdrive/MyDrive/Fires/PERIMETRES/PERIM_DATABASE/\"\n",
        "\n",
        "DATABASE_NAME = \"CAL_database\"\n",
        "\n",
        "SHAPEFILE_FOLDER = \"raw_shapefiles_32610\"\n",
        "SENTINEL_FOLDER = \"sentinel_tif_files\"\n",
        "LABEL_FOLDER = \"label_tif_files\"\n",
        "INDIVIDUAL_SHAPEFILE_FOLDER = 'individual_shapefiles'\n",
        "\n",
        "GDF_MAPPING_DICT = {\n",
        "    'firenum': 'fire_id',\n",
        "    'ALARM_DATE': 'fire_alert_date',\n",
        "    'CONT_DATE': 'fire_cont_date',\n",
        "    'SURFHA': 'fire_area',\n",
        "    'geometry': 'fire_geometry'\n",
        "}\n",
        "\n",
        "INDIVIDUAL_SHAPEFILE_CRS_CONFIG = 'epsg:32610'"
      ],
      "execution_count": null,
      "outputs": []
    },
    {
      "cell_type": "markdown",
      "metadata": {
        "id": "O3Fese1RuWQk"
      },
      "source": [
        "# Complete shapefile database collection"
      ]
    },
    {
      "cell_type": "code",
      "metadata": {
        "colab": {
          "base_uri": "https://localhost:8080/",
          "height": 1000
        },
        "id": "JRbkk9FRrfuT",
        "outputId": "dbb8cede-ea6b-4dd9-a6ae-0efd38b0c0ce"
      },
      "source": [
        "# Global geo dataframe\n",
        "shapefile_list = sorted(os.listdir(op.join(DATABASE_PATH, DATABASE_NAME, SHAPEFILE_FOLDER)))\n",
        "shapefile_list = [i for i in shapefile_list if '.shp' in i]\n",
        "print(shapefile_list)\n",
        "\n",
        "gdf_list = []\n",
        "for shapefile_filename in shapefile_list:\n",
        "  gdf = gpd.read_file(op.join(DATABASE_PATH, DATABASE_NAME, SHAPEFILE_FOLDER, shapefile_filename))\n",
        "  gdf_list.append(gdf)\n",
        "\n",
        "global_gdf = gpd.GeoDataFrame( pd.concat( gdf_list, ignore_index = True ) )\n",
        "\n",
        "# Renaming & selecting the the columns\n",
        "global_gdf = global_gdf.rename(columns = GDF_MAPPING_DICT)\n",
        "\n",
        "# Dropping NA and NULL\n",
        "sorted_gdf = global_gdf.dropna(how='any', subset=list(GDF_MAPPING_DICT.values())).sort_values(by = 'fire_area', ascending = False)\n",
        "sorted_gdf = sorted_gdf[sorted_gdf['fire_cont_date']!='NULL']\n",
        "\n",
        "# Extracting the alert year\n",
        "sorted_gdf['fire_alert_year'] = sorted_gdf['fire_alert_date'].apply(lambda x: x.split('-')[0]).astype('int')\n",
        "\n",
        "# Filtering the fire since 2017-01-01\n",
        "sorted_gdf = sorted_gdf[sorted_gdf['fire_alert_year'] > 2015]\n",
        "\n",
        "# Filtering on big fires (minimum area of one patch 256x256x20m)\n",
        "sorted_gdf = sorted_gdf[sorted_gdf['fire_area'] > 2600]\n",
        "\n",
        "# Filter the biggest fires\n",
        "filtered_gdf = sorted_gdf.head(NUMBER_OF_FIRES).reset_index()\n",
        "\n",
        "# Check the final gdf\n",
        "filtered_gdf"
      ],
      "execution_count": null,
      "outputs": [
        {
          "output_type": "stream",
          "name": "stdout",
          "text": [
            "['PFTOTCAL_HORSNULL32610.shp']\n"
          ]
        },
        {
          "output_type": "execute_result",
          "data": {
            "text/html": [
              "\n",
              "  <div id=\"df-05a43114-bc52-4b86-8d32-ec08e0fea721\">\n",
              "    <div class=\"colab-df-container\">\n",
              "      <div>\n",
              "<style scoped>\n",
              "    .dataframe tbody tr th:only-of-type {\n",
              "        vertical-align: middle;\n",
              "    }\n",
              "\n",
              "    .dataframe tbody tr th {\n",
              "        vertical-align: top;\n",
              "    }\n",
              "\n",
              "    .dataframe thead th {\n",
              "        text-align: right;\n",
              "    }\n",
              "</style>\n",
              "<table border=\"1\" class=\"dataframe\">\n",
              "  <thead>\n",
              "    <tr style=\"text-align: right;\">\n",
              "      <th></th>\n",
              "      <th>index</th>\n",
              "      <th>YEAR_</th>\n",
              "      <th>STATE</th>\n",
              "      <th>AGENCY</th>\n",
              "      <th>UNIT_ID</th>\n",
              "      <th>FIRE_NAME</th>\n",
              "      <th>INC_NUM</th>\n",
              "      <th>fire_alert_date</th>\n",
              "      <th>fire_cont_date</th>\n",
              "      <th>Shape_Leng</th>\n",
              "      <th>Shape_Area</th>\n",
              "      <th>fire_id</th>\n",
              "      <th>fire_area</th>\n",
              "      <th>BBOX</th>\n",
              "      <th>fire_geometry</th>\n",
              "      <th>fire_alert_year</th>\n",
              "    </tr>\n",
              "  </thead>\n",
              "  <tbody>\n",
              "    <tr>\n",
              "      <th>0</th>\n",
              "      <td>290</td>\n",
              "      <td>2020</td>\n",
              "      <td>CA</td>\n",
              "      <td>USF</td>\n",
              "      <td>MNF</td>\n",
              "      <td>AUGUST COMPLEX FIRES</td>\n",
              "      <td>00008864</td>\n",
              "      <td>2020-08-16</td>\n",
              "      <td>2020-11-11</td>\n",
              "      <td>1.298407e+06</td>\n",
              "      <td>4.179187e+09</td>\n",
              "      <td>291</td>\n",
              "      <td>417918.70</td>\n",
              "      <td>Polygon ((455998.47609156 4358097.87038731, 53...</td>\n",
              "      <td>MULTIPOLYGON (((525060.419 4358103.964, 524934...</td>\n",
              "      <td>2020</td>\n",
              "    </tr>\n",
              "    <tr>\n",
              "      <th>1</th>\n",
              "      <td>8169</td>\n",
              "      <td>2018</td>\n",
              "      <td>CA</td>\n",
              "      <td>CDF</td>\n",
              "      <td>LNU</td>\n",
              "      <td>RANCH</td>\n",
              "      <td>00008646</td>\n",
              "      <td>2018-07-27</td>\n",
              "      <td>2018-09-19</td>\n",
              "      <td>3.482277e+05</td>\n",
              "      <td>1.660030e+09</td>\n",
              "      <td>8170</td>\n",
              "      <td>166003.05</td>\n",
              "      <td>Polygon ((490516.59312277 4321802.50334735, 54...</td>\n",
              "      <td>MULTIPOLYGON (((525040.645 4321941.501, 525026...</td>\n",
              "      <td>2018</td>\n",
              "    </tr>\n",
              "    <tr>\n",
              "      <th>2</th>\n",
              "      <td>175</td>\n",
              "      <td>2020</td>\n",
              "      <td>CA</td>\n",
              "      <td>CDF</td>\n",
              "      <td>SCU</td>\n",
              "      <td>SCU COMPLEX</td>\n",
              "      <td>00005740</td>\n",
              "      <td>2020-08-16</td>\n",
              "      <td>2020-09-11</td>\n",
              "      <td>5.033547e+05</td>\n",
              "      <td>1.605892e+09</td>\n",
              "      <td>176</td>\n",
              "      <td>160589.16</td>\n",
              "      <td>Polygon ((594434.49001191 4107437.00079614, 66...</td>\n",
              "      <td>MULTIPOLYGON (((600314.004 4152845.714, 600355...</td>\n",
              "      <td>2020</td>\n",
              "    </tr>\n",
              "    <tr>\n",
              "      <th>3</th>\n",
              "      <td>247</td>\n",
              "      <td>2020</td>\n",
              "      <td>CA</td>\n",
              "      <td>USF</td>\n",
              "      <td>SNF</td>\n",
              "      <td>CREEK</td>\n",
              "      <td>00001391</td>\n",
              "      <td>2020-09-04</td>\n",
              "      <td>2020-12-24</td>\n",
              "      <td>8.180878e+05</td>\n",
              "      <td>1.537168e+09</td>\n",
              "      <td>248</td>\n",
              "      <td>153716.77</td>\n",
              "      <td>Polygon ((811330.89762775 4100254.70937166, 85...</td>\n",
              "      <td>MULTIPOLYGON (((839412.588 4112371.716, 839408...</td>\n",
              "      <td>2020</td>\n",
              "    </tr>\n",
              "    <tr>\n",
              "      <th>4</th>\n",
              "      <td>242</td>\n",
              "      <td>2020</td>\n",
              "      <td>CA</td>\n",
              "      <td>USF</td>\n",
              "      <td>PNF</td>\n",
              "      <td>NORTH COMPLEX</td>\n",
              "      <td>00001302</td>\n",
              "      <td>2020-08-17</td>\n",
              "      <td>2020-12-03</td>\n",
              "      <td>3.958365e+05</td>\n",
              "      <td>1.290127e+09</td>\n",
              "      <td>243</td>\n",
              "      <td>129012.67</td>\n",
              "      <td>Polygon ((629896.46019884 4375255.46951663, 69...</td>\n",
              "      <td>MULTIPOLYGON (((652102.740 4377766.501, 652098...</td>\n",
              "      <td>2020</td>\n",
              "    </tr>\n",
              "    <tr>\n",
              "      <th>...</th>\n",
              "      <td>...</td>\n",
              "      <td>...</td>\n",
              "      <td>...</td>\n",
              "      <td>...</td>\n",
              "      <td>...</td>\n",
              "      <td>...</td>\n",
              "      <td>...</td>\n",
              "      <td>...</td>\n",
              "      <td>...</td>\n",
              "      <td>...</td>\n",
              "      <td>...</td>\n",
              "      <td>...</td>\n",
              "      <td>...</td>\n",
              "      <td>...</td>\n",
              "      <td>...</td>\n",
              "      <td>...</td>\n",
              "    </tr>\n",
              "    <tr>\n",
              "      <th>104</th>\n",
              "      <td>300</td>\n",
              "      <td>2020</td>\n",
              "      <td>CA</td>\n",
              "      <td>NPS</td>\n",
              "      <td>YNP</td>\n",
              "      <td>BLUEJAY</td>\n",
              "      <td>00000054</td>\n",
              "      <td>2020-07-25</td>\n",
              "      <td>2020-11-19</td>\n",
              "      <td>4.408865e+04</td>\n",
              "      <td>2.801240e+07</td>\n",
              "      <td>301</td>\n",
              "      <td>2801.24</td>\n",
              "      <td>Polygon ((794240.66351095 4189948.41067016, 80...</td>\n",
              "      <td>MULTIPOLYGON (((798652.813 4190517.960, 798657...</td>\n",
              "      <td>2020</td>\n",
              "    </tr>\n",
              "    <tr>\n",
              "      <th>105</th>\n",
              "      <td>322</td>\n",
              "      <td>2020</td>\n",
              "      <td>CA</td>\n",
              "      <td>BLM</td>\n",
              "      <td>CCD</td>\n",
              "      <td>NORTH</td>\n",
              "      <td>00030547</td>\n",
              "      <td>2020-08-02</td>\n",
              "      <td>2020-08-10</td>\n",
              "      <td>4.284393e+04</td>\n",
              "      <td>2.785165e+07</td>\n",
              "      <td>323</td>\n",
              "      <td>2785.17</td>\n",
              "      <td>Polygon ((753405.85427991 4412372.39775962, 76...</td>\n",
              "      <td>POLYGON ((756152.078 4419006.206, 756181.541 4...</td>\n",
              "      <td>2020</td>\n",
              "    </tr>\n",
              "    <tr>\n",
              "      <th>106</th>\n",
              "      <td>7106</td>\n",
              "      <td>2016</td>\n",
              "      <td>CA</td>\n",
              "      <td>CDF</td>\n",
              "      <td>FKU</td>\n",
              "      <td>MINERAL</td>\n",
              "      <td>011358</td>\n",
              "      <td>2016-08-08</td>\n",
              "      <td>2016-08-19</td>\n",
              "      <td>3.292598e+04</td>\n",
              "      <td>2.747934e+07</td>\n",
              "      <td>7107</td>\n",
              "      <td>2747.93</td>\n",
              "      <td>Polygon ((720157.67466306 3998231.60527129, 72...</td>\n",
              "      <td>MULTIPOLYGON (((723898.039 4006044.153, 723867...</td>\n",
              "      <td>2016</td>\n",
              "    </tr>\n",
              "    <tr>\n",
              "      <th>107</th>\n",
              "      <td>41</td>\n",
              "      <td>2020</td>\n",
              "      <td>CA</td>\n",
              "      <td>CDF</td>\n",
              "      <td>ORC</td>\n",
              "      <td>BOND</td>\n",
              "      <td>20136890</td>\n",
              "      <td>2020-12-03</td>\n",
              "      <td>2020-12-07</td>\n",
              "      <td>4.384591e+04</td>\n",
              "      <td>2.703745e+07</td>\n",
              "      <td>42</td>\n",
              "      <td>2703.75</td>\n",
              "      <td>Polygon ((987747.83027922 3742480.12586713, 10...</td>\n",
              "      <td>POLYGON ((996930.765 3746766.923, 996993.165 3...</td>\n",
              "      <td>2020</td>\n",
              "    </tr>\n",
              "    <tr>\n",
              "      <th>108</th>\n",
              "      <td>8557</td>\n",
              "      <td>2019</td>\n",
              "      <td>CA</td>\n",
              "      <td>USF</td>\n",
              "      <td>INF</td>\n",
              "      <td>SPRINGS</td>\n",
              "      <td>00001465</td>\n",
              "      <td>2019-07-26</td>\n",
              "      <td>2019-12-18</td>\n",
              "      <td>2.476219e+04</td>\n",
              "      <td>2.676847e+07</td>\n",
              "      <td>8558</td>\n",
              "      <td>2676.85</td>\n",
              "      <td>Polygon ((850623.38753817 4192017.71523654, 86...</td>\n",
              "      <td>MULTIPOLYGON (((850647.536 4205721.588, 850623...</td>\n",
              "      <td>2019</td>\n",
              "    </tr>\n",
              "  </tbody>\n",
              "</table>\n",
              "<p>109 rows × 16 columns</p>\n",
              "</div>\n",
              "      <button class=\"colab-df-convert\" onclick=\"convertToInteractive('df-05a43114-bc52-4b86-8d32-ec08e0fea721')\"\n",
              "              title=\"Convert this dataframe to an interactive table.\"\n",
              "              style=\"display:none;\">\n",
              "        \n",
              "  <svg xmlns=\"http://www.w3.org/2000/svg\" height=\"24px\"viewBox=\"0 0 24 24\"\n",
              "       width=\"24px\">\n",
              "    <path d=\"M0 0h24v24H0V0z\" fill=\"none\"/>\n",
              "    <path d=\"M18.56 5.44l.94 2.06.94-2.06 2.06-.94-2.06-.94-.94-2.06-.94 2.06-2.06.94zm-11 1L8.5 8.5l.94-2.06 2.06-.94-2.06-.94L8.5 2.5l-.94 2.06-2.06.94zm10 10l.94 2.06.94-2.06 2.06-.94-2.06-.94-.94-2.06-.94 2.06-2.06.94z\"/><path d=\"M17.41 7.96l-1.37-1.37c-.4-.4-.92-.59-1.43-.59-.52 0-1.04.2-1.43.59L10.3 9.45l-7.72 7.72c-.78.78-.78 2.05 0 2.83L4 21.41c.39.39.9.59 1.41.59.51 0 1.02-.2 1.41-.59l7.78-7.78 2.81-2.81c.8-.78.8-2.07 0-2.86zM5.41 20L4 18.59l7.72-7.72 1.47 1.35L5.41 20z\"/>\n",
              "  </svg>\n",
              "      </button>\n",
              "      \n",
              "  <style>\n",
              "    .colab-df-container {\n",
              "      display:flex;\n",
              "      flex-wrap:wrap;\n",
              "      gap: 12px;\n",
              "    }\n",
              "\n",
              "    .colab-df-convert {\n",
              "      background-color: #E8F0FE;\n",
              "      border: none;\n",
              "      border-radius: 50%;\n",
              "      cursor: pointer;\n",
              "      display: none;\n",
              "      fill: #1967D2;\n",
              "      height: 32px;\n",
              "      padding: 0 0 0 0;\n",
              "      width: 32px;\n",
              "    }\n",
              "\n",
              "    .colab-df-convert:hover {\n",
              "      background-color: #E2EBFA;\n",
              "      box-shadow: 0px 1px 2px rgba(60, 64, 67, 0.3), 0px 1px 3px 1px rgba(60, 64, 67, 0.15);\n",
              "      fill: #174EA6;\n",
              "    }\n",
              "\n",
              "    [theme=dark] .colab-df-convert {\n",
              "      background-color: #3B4455;\n",
              "      fill: #D2E3FC;\n",
              "    }\n",
              "\n",
              "    [theme=dark] .colab-df-convert:hover {\n",
              "      background-color: #434B5C;\n",
              "      box-shadow: 0px 1px 3px 1px rgba(0, 0, 0, 0.15);\n",
              "      filter: drop-shadow(0px 1px 2px rgba(0, 0, 0, 0.3));\n",
              "      fill: #FFFFFF;\n",
              "    }\n",
              "  </style>\n",
              "\n",
              "      <script>\n",
              "        const buttonEl =\n",
              "          document.querySelector('#df-05a43114-bc52-4b86-8d32-ec08e0fea721 button.colab-df-convert');\n",
              "        buttonEl.style.display =\n",
              "          google.colab.kernel.accessAllowed ? 'block' : 'none';\n",
              "\n",
              "        async function convertToInteractive(key) {\n",
              "          const element = document.querySelector('#df-05a43114-bc52-4b86-8d32-ec08e0fea721');\n",
              "          const dataTable =\n",
              "            await google.colab.kernel.invokeFunction('convertToInteractive',\n",
              "                                                     [key], {});\n",
              "          if (!dataTable) return;\n",
              "\n",
              "          const docLinkHtml = 'Like what you see? Visit the ' +\n",
              "            '<a target=\"_blank\" href=https://colab.research.google.com/notebooks/data_table.ipynb>data table notebook</a>'\n",
              "            + ' to learn more about interactive tables.';\n",
              "          element.innerHTML = '';\n",
              "          dataTable['output_type'] = 'display_data';\n",
              "          await google.colab.output.renderOutput(dataTable, element);\n",
              "          const docLink = document.createElement('div');\n",
              "          docLink.innerHTML = docLinkHtml;\n",
              "          element.appendChild(docLink);\n",
              "        }\n",
              "      </script>\n",
              "    </div>\n",
              "  </div>\n",
              "  "
            ],
            "text/plain": [
              "     index  ... fire_alert_year\n",
              "0      290  ...            2020\n",
              "1     8169  ...            2018\n",
              "2      175  ...            2020\n",
              "3      247  ...            2020\n",
              "4      242  ...            2020\n",
              "..     ...  ...             ...\n",
              "104    300  ...            2020\n",
              "105    322  ...            2020\n",
              "106   7106  ...            2016\n",
              "107     41  ...            2020\n",
              "108   8557  ...            2019\n",
              "\n",
              "[109 rows x 16 columns]"
            ]
          },
          "metadata": {},
          "execution_count": 37
        }
      ]
    },
    {
      "cell_type": "markdown",
      "metadata": {
        "id": "Uk-vHes0uCMW"
      },
      "source": [
        "# Utility functions"
      ]
    },
    {
      "cell_type": "code",
      "metadata": {
        "id": "pGne2mbubAjj"
      },
      "source": [
        "# Fire record extraction\n",
        "def fire_features_extraction(bdd_index, fire_bdd):\n",
        "  \"\"\"\n",
        "  This function extracts key fire characteristics from a Geo Dataframe.\n",
        "  INPUTS:\n",
        "     - bdd_index: index of a record\n",
        "     - fire_bdd: geo detaframe\n",
        "  OUTPUT:\n",
        "     - A dictionary containing the fire characteristics\n",
        "  \"\"\"\n",
        "\n",
        "    fire_name = DATABASE_NAME + '_Sentinel2_' + str(fire_bdd['fire_id'][bdd_index])\n",
        "\n",
        "    fire_perimeter = fire_bdd['fire_geometry'][bdd_index].bounds\n",
        "    longitude1, latitude1  = fire_perimeter[0], fire_perimeter[1]\n",
        "    longitude2, latitude2  = fire_perimeter[2], fire_perimeter[3]\n",
        "      \n",
        "    inProj = Proj(init=INDIVIDUAL_SHAPEFILE_CRS_CONFIG)\n",
        "    outProj = Proj(init='epsg:4326')\n",
        "\n",
        "    longitude1, latitude1  = transform(inProj , outProj, fire_perimeter[0], fire_perimeter[1])\n",
        "    longitude2, latitude2  = transform(inProj , outProj, fire_perimeter[2], fire_perimeter[3])\n",
        "\n",
        "    gps_bounding_box = [longitude1, latitude1, longitude2, latitude2]\n",
        "    \n",
        "    fire_cont_date = fire_bdd['fire_cont_date'][bdd_index].replace('/', '-').split(' ')[0]\n",
        "    fire_alert_date = fire_bdd['fire_alert_date'][bdd_index].replace('/', '-').split(' ')[0]\n",
        "\n",
        "    fire_cont_date_obj = datetime.strptime(fire_cont_date, '%Y-%m-%d')\n",
        "    fire_cont_date_a_few_days_after =  fire_cont_date_obj + timedelta(days=30)\n",
        "    fire_cont_date_a_few_days_after = fire_cont_date_a_few_days_after.strftime('%Y-%m-%d')\n",
        "\n",
        "    fire_alert_date_obj = datetime.strptime(fire_alert_date, '%Y-%m-%d')\n",
        "    fire_alert_date_a_few_days_before =  fire_alert_date_obj + timedelta(days=-30)\n",
        "    fire_alert_date_a_few_days_before = fire_alert_date_a_few_days_before.strftime('%Y-%m-%d')\n",
        "\n",
        "    return {'fire_name' : fire_name,\n",
        "            'fire_area' : fire_bdd['fire_area'][bdd_index],\n",
        "            'fire_perimeter' : gps_bounding_box, \n",
        "            'fire_cont_date' : fire_cont_date,\n",
        "            'fire_cont_date_a_few_days_after' : fire_cont_date_a_few_days_after,\n",
        "            'fire_alert_date' : fire_alert_date,\n",
        "            'fire_alert_date_a_few_days_before' : fire_alert_date_a_few_days_before}"
      ],
      "execution_count": null,
      "outputs": []
    },
    {
      "cell_type": "code",
      "metadata": {
        "id": "JcvYdU6QbBfb"
      },
      "source": [
        "def extract_image(fire_record, bands, before_event):\n",
        "  \"\"\"\n",
        "  This function extracts a Google Earth Engine image.\n",
        "  INPUTS:\n",
        "     - fire_record: dictionary of fire record\n",
        "     - bands: a list containing the channels of interest\n",
        "     - before_event: boolean choosing the image before and after the fire event\n",
        "  OUTPUT:\n",
        "     - image object\n",
        "     - a bounding box\n",
        "  \"\"\"\n",
        "  \n",
        "  # Construct the bounding box\n",
        "  bounding_box = ee.Geometry.Rectangle(fire_record['fire_perimeter'])\n",
        "\n",
        "  # Defining the date range based on before_event boolean\n",
        "  if before_event:\n",
        "    fire_date1 = fire_record['fire_alert_date_a_few_days_before']\n",
        "    fire_date2 = fire_record['fire_alert_date']\n",
        "  else:\n",
        "    fire_date1 = fire_record['fire_cont_date']\n",
        "    fire_date2 = fire_record['fire_cont_date_a_few_days_after']\n",
        "\n",
        "  # Collecting the Sentinel image\n",
        "  image = (ee.ImageCollection('COPERNICUS/S2_SR')\n",
        "          .filterBounds(bounding_box)\n",
        "          .filterDate(fire_date1, fire_date2)\n",
        "          .filter(ee.Filter.lt('CLOUDY_PIXEL_PERCENTAGE', 10))\n",
        "          .select(bands)\n",
        "          .sort('system:index', opt_ascending=False).mosaic()\n",
        "          .clip(bounding_box))\n",
        "\n",
        "  return image, bounding_box"
      ],
      "execution_count": null,
      "outputs": []
    },
    {
      "cell_type": "code",
      "metadata": {
        "id": "hKpzI5gMbR2L"
      },
      "source": [
        "def images_package_extraction(i, fire_bdd):\n",
        "\n",
        "  \"\"\"\n",
        "  This function extracts a package of pre and post fire images\n",
        "  \"\"\"\n",
        "\n",
        "  # Extract a fire record\n",
        "  fire_record = fire_features_extraction(i, fire_bdd)\n",
        "\n",
        "  # Collect the image RGB + IR \n",
        "  fire_image_RGBIR_postFire, bounding_box  = extract_image(fire_record, ['B2', 'B3', 'B4', 'B7', 'B12'], False)\n",
        "  fire_image_RGBIR_preFire, bounding_box = extract_image(fire_record, ['B2', 'B3', 'B4', 'B7', 'B12'], True)\n",
        "  \n",
        "  return fire_image_RGBIR_preFire, fire_image_RGBIR_postFire, bounding_box, fire_record"
      ],
      "execution_count": null,
      "outputs": []
    },
    {
      "cell_type": "code",
      "metadata": {
        "id": "THLn1je0bZ82"
      },
      "source": [
        "def image_export(fire_image_RGBIR, fire_record, before_event):\n",
        "  \"\"\"\n",
        "  This function exports a Sentinel 2 image to a tif file stored into a drive account.\n",
        "  \"\"\"\n",
        "\n",
        "  if before_event :\n",
        "    fire_output_filename = fire_record['fire_name'] + '_preFire_' + 'RGBIR'\n",
        "  else:\n",
        "    fire_output_filename = fire_record['fire_name'] + '_postFire_' + 'RGBIR'\n",
        "  \n",
        "  task_config = {\n",
        "      'folder': 'GEE_exports',\n",
        "      'scale': 20,\n",
        "      'crs': INDIVIDUAL_SHAPEFILE_CRS_CONFIG,\n",
        "      'maxPixels': 200000000,\n",
        "      'fileNamePrefix': fire_output_filename,\n",
        "      'description': 'export_task'\n",
        "  }\n",
        "\n",
        "  task = ee.batch.Export.image.toDrive(image = fire_image_RGBIR,\n",
        "                                       **task_config)\n",
        "  \n",
        "  print('Generating the Sentinel tif: ' + fire_output_filename)\n",
        "  task.start()\n",
        "\n",
        "  while task.active():\n",
        "    print('Polling for task (id: {}).'.format(task.id))\n",
        "    print(task.status())\n",
        "    time.sleep(30)\n",
        "\n",
        "  return"
      ],
      "execution_count": null,
      "outputs": []
    },
    {
      "cell_type": "code",
      "metadata": {
        "id": "f0ARviyuzNE8"
      },
      "source": [
        "def add_ee_layer(self, ee_object, vis_params, name):\n",
        "  \"\"\"\n",
        "  This function defines a method for displaying Earth Engine image tiles on a folium map.\n",
        "  \"\"\"\n",
        "\n",
        "    try:    \n",
        "        # display ee.Image()\n",
        "        if isinstance(ee_object, ee.image.Image):    \n",
        "            map_id_dict = ee.Image(ee_object).getMapId(vis_params)\n",
        "            folium.raster_layers.TileLayer(\n",
        "            tiles = map_id_dict['tile_fetcher'].url_format,\n",
        "            attr = 'Google Earth Engine',\n",
        "            name = name,\n",
        "            overlay = True,\n",
        "            control = True\n",
        "            ).add_to(self)\n",
        "        # display ee.ImageCollection()\n",
        "        elif isinstance(ee_object, ee.imagecollection.ImageCollection):    \n",
        "            ee_object_new = ee_object.mosaic()\n",
        "            map_id_dict = ee.Image(ee_object_new).getMapId(vis_params)\n",
        "            folium.raster_layers.TileLayer(\n",
        "            tiles = map_id_dict['tile_fetcher'].url_format,\n",
        "            attr = 'Google Earth Engine',\n",
        "            name = name,\n",
        "            overlay = True,\n",
        "            control = True\n",
        "            ).add_to(self)\n",
        "        # display ee.Geometry()\n",
        "        elif isinstance(ee_object, ee.geometry.Geometry):    \n",
        "            folium.GeoJson(\n",
        "            data = ee_object.getInfo(),\n",
        "            name = name,\n",
        "            overlay = True,\n",
        "            control = True\n",
        "        ).add_to(self)\n",
        "        # display ee.FeatureCollection()\n",
        "        elif isinstance(ee_object, ee.featurecollection.FeatureCollection):  \n",
        "            ee_object_new = ee.Image().paint(ee_object, 0, 2)\n",
        "            map_id_dict = ee.Image(ee_object_new).getMapId(vis_params)\n",
        "            folium.raster_layers.TileLayer(\n",
        "            tiles = map_id_dict['tile_fetcher'].url_format,\n",
        "            attr = 'Google Earth Engine',\n",
        "            name = name,\n",
        "            overlay = True,\n",
        "            control = True\n",
        "        ).add_to(self)\n",
        "    \n",
        "    except:\n",
        "        print(\"Could not display {}\".format(name))\n",
        "    \n",
        "# Add EE drawing method to folium.\n",
        "folium.Map.add_ee_layer = add_ee_layer"
      ],
      "execution_count": null,
      "outputs": []
    },
    {
      "cell_type": "code",
      "metadata": {
        "id": "5isHV4U2zPRA"
      },
      "source": [
        "def show_image(vis_params, image, bounding_box):\n",
        "\n",
        "  \"\"\"\n",
        "  This function displays an image on a map.\n",
        "  \"\"\"\n",
        "\n",
        "  # Centering the map on the centroid of the feature map\n",
        "  map_s2 = folium.Map(location = bounding_box.centroid().getInfo()['coordinates'][::-1], zoom_start = 10)\n",
        "  \n",
        "  # Add the image layer to the map and display it.\n",
        "  map_s2.add_ee_layer( image, vis_params, 'layer')\n",
        "  \n",
        "  # Add the fire perimeter\n",
        "  folium.GeoJson( data = bounding_box.getInfo(), name = 'bounding box', overlay = True, control = True, \n",
        "                  style_function = lambda x: {'color': 'red', 'fillColor':'#00000000'} ).add_to(map_s2)\n",
        "\n",
        "  return map_s2"
      ],
      "execution_count": null,
      "outputs": []
    },
    {
      "cell_type": "markdown",
      "metadata": {
        "id": "mFnh_DjrLvx6"
      },
      "source": [
        "# Visual check"
      ]
    },
    {
      "cell_type": "code",
      "metadata": {
        "colab": {
          "base_uri": "https://localhost:8080/",
          "height": 1000
        },
        "id": "1HVAFlOjzaXR",
        "outputId": "6f18c88e-e5b9-4418-fe20-a69128239891"
      },
      "source": [
        "vis_params_RGB = {\n",
        "  'min': 0,\n",
        "  'max': 2000,\n",
        "  'bands': ['B2', 'B3', 'B4'][::-1] }\n",
        "\n",
        "for i in range(0, 10):\n",
        "  \n",
        "  # Extracting the images\n",
        "  fire_image_RGBIR_preFire, fire_image_RGBIR_postFire, bounding_box, fire_record = images_package_extraction(i, filtered_gdf)\n",
        "  pp.pprint(fire_record)\n",
        "\n",
        "  # Showing the images\n",
        "  map_features_preFire = show_image(vis_params_RGB, fire_image_RGBIR_preFire, bounding_box)\n",
        "  map_features_postFire = show_image(vis_params_RGB, fire_image_RGBIR_postFire, bounding_box)\n",
        "\n",
        "  from IPython.core.display import display, HTML\n",
        "\n",
        "  htmlmap = HTML('<iframe srcdoc=\"{}\" style=\"float:left; width: {}px; height: {}px; display:inline-block; width: 30%; margin: 0 auto; border: 2px solid black\"></iframe>'\n",
        "            '<iframe srcdoc=\"{}\" style=\"float:right; width: {}px; height: {}px; display:inline-block; width: 30%; margin: 0 auto; border: 2px solid black\"></iframe>'\n",
        "            .format(map_features_preFire.get_root().render().replace('\"', '&quot;'),400,400,\n",
        "                    map_features_postFire.get_root().render().replace('\"', '&quot;'),400,400))\n",
        "  display(htmlmap)"
      ],
      "execution_count": null,
      "outputs": [
        {
          "output_type": "stream",
          "name": "stderr",
          "text": [
            "/usr/local/lib/python3.7/dist-packages/pyproj/crs/crs.py:131: FutureWarning: '+init=<authority>:<code>' syntax is deprecated. '<authority>:<code>' is the preferred initialization method. When making the change, be mindful of axis order changes: https://pyproj4.github.io/pyproj/stable/gotchas.html#axis-order-changes-in-proj-6\n",
            "  in_crs_string = _prepare_from_proj_string(in_crs_string)\n",
            "/usr/local/lib/python3.7/dist-packages/pyproj/crs/crs.py:131: FutureWarning: '+init=<authority>:<code>' syntax is deprecated. '<authority>:<code>' is the preferred initialization method. When making the change, be mindful of axis order changes: https://pyproj4.github.io/pyproj/stable/gotchas.html#axis-order-changes-in-proj-6\n",
            "  in_crs_string = _prepare_from_proj_string(in_crs_string)\n",
            "/usr/local/lib/python3.7/dist-packages/ipykernel_launcher.py:18: DeprecationWarning: This function is deprecated. See: https://pyproj4.github.io/pyproj/stable/gotchas.html#upgrading-to-pyproj-2-from-pyproj-1\n",
            "/usr/local/lib/python3.7/dist-packages/ipykernel_launcher.py:19: DeprecationWarning: This function is deprecated. See: https://pyproj4.github.io/pyproj/stable/gotchas.html#upgrading-to-pyproj-2-from-pyproj-1\n"
          ]
        },
        {
          "output_type": "stream",
          "name": "stdout",
          "text": [
            "{   'fire_alert_date': '2020-08-16',\n",
            "    'fire_alert_date_a_few_days_before': '2020-07-17',\n",
            "    'fire_area': 417918.7,\n",
            "    'fire_cont_date': '2020-11-11',\n",
            "    'fire_cont_date_a_few_days_after': '2020-12-11',\n",
            "    'fire_name': 'CAL_database_Sentinel2_291',\n",
            "    'fire_perimeter': [   -123.51082784298728,\n",
            "                          39.371227756473516,\n",
            "                          -122.53795635356124,\n",
            "                          40.441537128938315]}\n"
          ]
        },
        {
          "output_type": "display_data",
          "data": {
            "text/html": [
              "<iframe srcdoc=\"<!DOCTYPE html>\n",
              "<head>    \n",
              "    <meta http-equiv=&quot;content-type&quot; content=&quot;text/html; charset=UTF-8&quot; />\n",
              "    <script>L_PREFER_CANVAS=false; L_NO_TOUCH=false; L_DISABLE_3D=false;</script>\n",
              "    <script src=&quot;https://cdn.jsdelivr.net/npm/leaflet@1.4.0/dist/leaflet.js&quot;></script>\n",
              "    <script src=&quot;https://code.jquery.com/jquery-1.12.4.min.js&quot;></script>\n",
              "    <script src=&quot;https://maxcdn.bootstrapcdn.com/bootstrap/3.2.0/js/bootstrap.min.js&quot;></script>\n",
              "    <script src=&quot;https://cdnjs.cloudflare.com/ajax/libs/Leaflet.awesome-markers/2.0.2/leaflet.awesome-markers.js&quot;></script>\n",
              "    <link rel=&quot;stylesheet&quot; href=&quot;https://cdn.jsdelivr.net/npm/leaflet@1.4.0/dist/leaflet.css&quot;/>\n",
              "    <link rel=&quot;stylesheet&quot; href=&quot;https://maxcdn.bootstrapcdn.com/bootstrap/3.2.0/css/bootstrap.min.css&quot;/>\n",
              "    <link rel=&quot;stylesheet&quot; href=&quot;https://maxcdn.bootstrapcdn.com/bootstrap/3.2.0/css/bootstrap-theme.min.css&quot;/>\n",
              "    <link rel=&quot;stylesheet&quot; href=&quot;https://maxcdn.bootstrapcdn.com/font-awesome/4.6.3/css/font-awesome.min.css&quot;/>\n",
              "    <link rel=&quot;stylesheet&quot; href=&quot;https://cdnjs.cloudflare.com/ajax/libs/Leaflet.awesome-markers/2.0.2/leaflet.awesome-markers.css&quot;/>\n",
              "    <link rel=&quot;stylesheet&quot; href=&quot;https://rawcdn.githack.com/python-visualization/folium/master/folium/templates/leaflet.awesome.rotate.css&quot;/>\n",
              "    <style>html, body {width: 100%;height: 100%;margin: 0;padding: 0;}</style>\n",
              "    <style>#map {position:absolute;top:0;bottom:0;right:0;left:0;}</style>\n",
              "    \n",
              "    <meta name=&quot;viewport&quot; content=&quot;width=device-width,\n",
              "        initial-scale=1.0, maximum-scale=1.0, user-scalable=no&quot; />\n",
              "    <style>#map_d814f539ed34433bac33587804efaee1 {\n",
              "        position: relative;\n",
              "        width: 100.0%;\n",
              "        height: 100.0%;\n",
              "        left: 0.0%;\n",
              "        top: 0.0%;\n",
              "        }\n",
              "    </style>\n",
              "</head>\n",
              "<body>    \n",
              "    \n",
              "    <div class=&quot;folium-map&quot; id=&quot;map_d814f539ed34433bac33587804efaee1&quot; ></div>\n",
              "</body>\n",
              "<script>    \n",
              "    \n",
              "    \n",
              "        var bounds = null;\n",
              "    \n",
              "\n",
              "    var map_d814f539ed34433bac33587804efaee1 = L.map(\n",
              "        'map_d814f539ed34433bac33587804efaee1', {\n",
              "        center: [39.9060050121054, -123.02439209827406],\n",
              "        zoom: 10,\n",
              "        maxBounds: bounds,\n",
              "        layers: [],\n",
              "        worldCopyJump: false,\n",
              "        crs: L.CRS.EPSG3857,\n",
              "        zoomControl: true,\n",
              "        });\n",
              "\n",
              "\n",
              "    \n",
              "    var tile_layer_f89695fdc0dd4c2f912c379ccc861ab9 = L.tileLayer(\n",
              "        'https://{s}.tile.openstreetmap.org/{z}/{x}/{y}.png',\n",
              "        {\n",
              "        &quot;attribution&quot;: null,\n",
              "        &quot;detectRetina&quot;: false,\n",
              "        &quot;maxNativeZoom&quot;: 18,\n",
              "        &quot;maxZoom&quot;: 18,\n",
              "        &quot;minZoom&quot;: 0,\n",
              "        &quot;noWrap&quot;: false,\n",
              "        &quot;opacity&quot;: 1,\n",
              "        &quot;subdomains&quot;: &quot;abc&quot;,\n",
              "        &quot;tms&quot;: false\n",
              "}).addTo(map_d814f539ed34433bac33587804efaee1);\n",
              "    var tile_layer_db8a9c15b668429999d79c7b176d96d2 = L.tileLayer(\n",
              "        'https://earthengine.googleapis.com/v1alpha/projects/earthengine-legacy/maps/69e2ff8189e36af6b4047bb73d8a59ad-d310f1e4a2263f9a3de7f322f69bc96c/tiles/{z}/{x}/{y}',\n",
              "        {\n",
              "        &quot;attribution&quot;: &quot;Google Earth Engine&quot;,\n",
              "        &quot;detectRetina&quot;: false,\n",
              "        &quot;maxNativeZoom&quot;: 18,\n",
              "        &quot;maxZoom&quot;: 18,\n",
              "        &quot;minZoom&quot;: 0,\n",
              "        &quot;noWrap&quot;: false,\n",
              "        &quot;opacity&quot;: 1,\n",
              "        &quot;subdomains&quot;: &quot;abc&quot;,\n",
              "        &quot;tms&quot;: false\n",
              "}).addTo(map_d814f539ed34433bac33587804efaee1);\n",
              "    \n",
              "        var geo_json_1dc88a2cdace432fbdcbf9588ba4f7ea = L.geoJson(\n",
              "            {&quot;features&quot;: [{&quot;geometry&quot;: {&quot;coordinates&quot;: [[[-123.51082784298728, 39.371227756473516], [-122.53795635356124, 39.371227756473516], [-122.53795635356124, 40.441537128938315], [-123.51082784298728, 40.441537128938315], [-123.51082784298728, 39.371227756473516]]], &quot;type&quot;: &quot;Polygon&quot;}, &quot;properties&quot;: {&quot;highlight&quot;: {}, &quot;style&quot;: {&quot;color&quot;: &quot;red&quot;, &quot;fillColor&quot;: &quot;#00000000&quot;}}, &quot;type&quot;: &quot;Feature&quot;}], &quot;type&quot;: &quot;FeatureCollection&quot;},\n",
              "            {\n",
              "            }\n",
              "        ).addTo(map_d814f539ed34433bac33587804efaee1 );\n",
              "        geo_json_1dc88a2cdace432fbdcbf9588ba4f7ea.setStyle(function(feature) {return feature.properties.style;});\n",
              "        \n",
              "</script>\" style=\"float:left; width: 400px; height: 400px; display:inline-block; width: 30%; margin: 0 auto; border: 2px solid black\"></iframe><iframe srcdoc=\"<!DOCTYPE html>\n",
              "<head>    \n",
              "    <meta http-equiv=&quot;content-type&quot; content=&quot;text/html; charset=UTF-8&quot; />\n",
              "    <script>L_PREFER_CANVAS=false; L_NO_TOUCH=false; L_DISABLE_3D=false;</script>\n",
              "    <script src=&quot;https://cdn.jsdelivr.net/npm/leaflet@1.4.0/dist/leaflet.js&quot;></script>\n",
              "    <script src=&quot;https://code.jquery.com/jquery-1.12.4.min.js&quot;></script>\n",
              "    <script src=&quot;https://maxcdn.bootstrapcdn.com/bootstrap/3.2.0/js/bootstrap.min.js&quot;></script>\n",
              "    <script src=&quot;https://cdnjs.cloudflare.com/ajax/libs/Leaflet.awesome-markers/2.0.2/leaflet.awesome-markers.js&quot;></script>\n",
              "    <link rel=&quot;stylesheet&quot; href=&quot;https://cdn.jsdelivr.net/npm/leaflet@1.4.0/dist/leaflet.css&quot;/>\n",
              "    <link rel=&quot;stylesheet&quot; href=&quot;https://maxcdn.bootstrapcdn.com/bootstrap/3.2.0/css/bootstrap.min.css&quot;/>\n",
              "    <link rel=&quot;stylesheet&quot; href=&quot;https://maxcdn.bootstrapcdn.com/bootstrap/3.2.0/css/bootstrap-theme.min.css&quot;/>\n",
              "    <link rel=&quot;stylesheet&quot; href=&quot;https://maxcdn.bootstrapcdn.com/font-awesome/4.6.3/css/font-awesome.min.css&quot;/>\n",
              "    <link rel=&quot;stylesheet&quot; href=&quot;https://cdnjs.cloudflare.com/ajax/libs/Leaflet.awesome-markers/2.0.2/leaflet.awesome-markers.css&quot;/>\n",
              "    <link rel=&quot;stylesheet&quot; href=&quot;https://rawcdn.githack.com/python-visualization/folium/master/folium/templates/leaflet.awesome.rotate.css&quot;/>\n",
              "    <style>html, body {width: 100%;height: 100%;margin: 0;padding: 0;}</style>\n",
              "    <style>#map {position:absolute;top:0;bottom:0;right:0;left:0;}</style>\n",
              "    \n",
              "    <meta name=&quot;viewport&quot; content=&quot;width=device-width,\n",
              "        initial-scale=1.0, maximum-scale=1.0, user-scalable=no&quot; />\n",
              "    <style>#map_64f19680ae4646239afefdd2f4207800 {\n",
              "        position: relative;\n",
              "        width: 100.0%;\n",
              "        height: 100.0%;\n",
              "        left: 0.0%;\n",
              "        top: 0.0%;\n",
              "        }\n",
              "    </style>\n",
              "</head>\n",
              "<body>    \n",
              "    \n",
              "    <div class=&quot;folium-map&quot; id=&quot;map_64f19680ae4646239afefdd2f4207800&quot; ></div>\n",
              "</body>\n",
              "<script>    \n",
              "    \n",
              "    \n",
              "        var bounds = null;\n",
              "    \n",
              "\n",
              "    var map_64f19680ae4646239afefdd2f4207800 = L.map(\n",
              "        'map_64f19680ae4646239afefdd2f4207800', {\n",
              "        center: [39.9060050121054, -123.02439209827406],\n",
              "        zoom: 10,\n",
              "        maxBounds: bounds,\n",
              "        layers: [],\n",
              "        worldCopyJump: false,\n",
              "        crs: L.CRS.EPSG3857,\n",
              "        zoomControl: true,\n",
              "        });\n",
              "\n",
              "\n",
              "    \n",
              "    var tile_layer_176d916c4af6470e87c6236641a93099 = L.tileLayer(\n",
              "        'https://{s}.tile.openstreetmap.org/{z}/{x}/{y}.png',\n",
              "        {\n",
              "        &quot;attribution&quot;: null,\n",
              "        &quot;detectRetina&quot;: false,\n",
              "        &quot;maxNativeZoom&quot;: 18,\n",
              "        &quot;maxZoom&quot;: 18,\n",
              "        &quot;minZoom&quot;: 0,\n",
              "        &quot;noWrap&quot;: false,\n",
              "        &quot;opacity&quot;: 1,\n",
              "        &quot;subdomains&quot;: &quot;abc&quot;,\n",
              "        &quot;tms&quot;: false\n",
              "}).addTo(map_64f19680ae4646239afefdd2f4207800);\n",
              "    var tile_layer_6137ae6a919e43b385086291bdabba7f = L.tileLayer(\n",
              "        'https://earthengine.googleapis.com/v1alpha/projects/earthengine-legacy/maps/a51e55f547362616b097e63349a72060-793fd565df48f8dcc8afb633fcce3fd4/tiles/{z}/{x}/{y}',\n",
              "        {\n",
              "        &quot;attribution&quot;: &quot;Google Earth Engine&quot;,\n",
              "        &quot;detectRetina&quot;: false,\n",
              "        &quot;maxNativeZoom&quot;: 18,\n",
              "        &quot;maxZoom&quot;: 18,\n",
              "        &quot;minZoom&quot;: 0,\n",
              "        &quot;noWrap&quot;: false,\n",
              "        &quot;opacity&quot;: 1,\n",
              "        &quot;subdomains&quot;: &quot;abc&quot;,\n",
              "        &quot;tms&quot;: false\n",
              "}).addTo(map_64f19680ae4646239afefdd2f4207800);\n",
              "    \n",
              "        var geo_json_f0f6592c258647e8a1bb27bbe7af0522 = L.geoJson(\n",
              "            {&quot;features&quot;: [{&quot;geometry&quot;: {&quot;coordinates&quot;: [[[-123.51082784298728, 39.371227756473516], [-122.53795635356124, 39.371227756473516], [-122.53795635356124, 40.441537128938315], [-123.51082784298728, 40.441537128938315], [-123.51082784298728, 39.371227756473516]]], &quot;type&quot;: &quot;Polygon&quot;}, &quot;properties&quot;: {&quot;highlight&quot;: {}, &quot;style&quot;: {&quot;color&quot;: &quot;red&quot;, &quot;fillColor&quot;: &quot;#00000000&quot;}}, &quot;type&quot;: &quot;Feature&quot;}], &quot;type&quot;: &quot;FeatureCollection&quot;},\n",
              "            {\n",
              "            }\n",
              "        ).addTo(map_64f19680ae4646239afefdd2f4207800 );\n",
              "        geo_json_f0f6592c258647e8a1bb27bbe7af0522.setStyle(function(feature) {return feature.properties.style;});\n",
              "        \n",
              "</script>\" style=\"float:right; width: 400px; height: 400px; display:inline-block; width: 30%; margin: 0 auto; border: 2px solid black\"></iframe>"
            ],
            "text/plain": [
              "<IPython.core.display.HTML object>"
            ]
          },
          "metadata": {}
        },
        {
          "output_type": "stream",
          "name": "stderr",
          "text": [
            "/usr/local/lib/python3.7/dist-packages/pyproj/crs/crs.py:131: FutureWarning: '+init=<authority>:<code>' syntax is deprecated. '<authority>:<code>' is the preferred initialization method. When making the change, be mindful of axis order changes: https://pyproj4.github.io/pyproj/stable/gotchas.html#axis-order-changes-in-proj-6\n",
            "  in_crs_string = _prepare_from_proj_string(in_crs_string)\n",
            "/usr/local/lib/python3.7/dist-packages/pyproj/crs/crs.py:131: FutureWarning: '+init=<authority>:<code>' syntax is deprecated. '<authority>:<code>' is the preferred initialization method. When making the change, be mindful of axis order changes: https://pyproj4.github.io/pyproj/stable/gotchas.html#axis-order-changes-in-proj-6\n",
            "  in_crs_string = _prepare_from_proj_string(in_crs_string)\n",
            "/usr/local/lib/python3.7/dist-packages/ipykernel_launcher.py:18: DeprecationWarning: This function is deprecated. See: https://pyproj4.github.io/pyproj/stable/gotchas.html#upgrading-to-pyproj-2-from-pyproj-1\n",
            "/usr/local/lib/python3.7/dist-packages/ipykernel_launcher.py:19: DeprecationWarning: This function is deprecated. See: https://pyproj4.github.io/pyproj/stable/gotchas.html#upgrading-to-pyproj-2-from-pyproj-1\n"
          ]
        },
        {
          "output_type": "stream",
          "name": "stdout",
          "text": [
            "{   'fire_alert_date': '2018-07-27',\n",
            "    'fire_alert_date_a_few_days_before': '2018-06-27',\n",
            "    'fire_area': 166003.05,\n",
            "    'fire_cont_date': '2018-09-19',\n",
            "    'fire_cont_date_a_few_days_after': '2018-10-19',\n",
            "    'fire_name': 'CAL_database_Sentinel2_8170',\n",
            "    'fire_perimeter': [   -123.1095883962178,\n",
            "                          39.045238703196624,\n",
            "                          -122.43667364733632,\n",
            "                          39.528976753305706]}\n"
          ]
        },
        {
          "output_type": "display_data",
          "data": {
            "text/html": [
              "<iframe srcdoc=\"<!DOCTYPE html>\n",
              "<head>    \n",
              "    <meta http-equiv=&quot;content-type&quot; content=&quot;text/html; charset=UTF-8&quot; />\n",
              "    <script>L_PREFER_CANVAS=false; L_NO_TOUCH=false; L_DISABLE_3D=false;</script>\n",
              "    <script src=&quot;https://cdn.jsdelivr.net/npm/leaflet@1.4.0/dist/leaflet.js&quot;></script>\n",
              "    <script src=&quot;https://code.jquery.com/jquery-1.12.4.min.js&quot;></script>\n",
              "    <script src=&quot;https://maxcdn.bootstrapcdn.com/bootstrap/3.2.0/js/bootstrap.min.js&quot;></script>\n",
              "    <script src=&quot;https://cdnjs.cloudflare.com/ajax/libs/Leaflet.awesome-markers/2.0.2/leaflet.awesome-markers.js&quot;></script>\n",
              "    <link rel=&quot;stylesheet&quot; href=&quot;https://cdn.jsdelivr.net/npm/leaflet@1.4.0/dist/leaflet.css&quot;/>\n",
              "    <link rel=&quot;stylesheet&quot; href=&quot;https://maxcdn.bootstrapcdn.com/bootstrap/3.2.0/css/bootstrap.min.css&quot;/>\n",
              "    <link rel=&quot;stylesheet&quot; href=&quot;https://maxcdn.bootstrapcdn.com/bootstrap/3.2.0/css/bootstrap-theme.min.css&quot;/>\n",
              "    <link rel=&quot;stylesheet&quot; href=&quot;https://maxcdn.bootstrapcdn.com/font-awesome/4.6.3/css/font-awesome.min.css&quot;/>\n",
              "    <link rel=&quot;stylesheet&quot; href=&quot;https://cdnjs.cloudflare.com/ajax/libs/Leaflet.awesome-markers/2.0.2/leaflet.awesome-markers.css&quot;/>\n",
              "    <link rel=&quot;stylesheet&quot; href=&quot;https://rawcdn.githack.com/python-visualization/folium/master/folium/templates/leaflet.awesome.rotate.css&quot;/>\n",
              "    <style>html, body {width: 100%;height: 100%;margin: 0;padding: 0;}</style>\n",
              "    <style>#map {position:absolute;top:0;bottom:0;right:0;left:0;}</style>\n",
              "    \n",
              "    <meta name=&quot;viewport&quot; content=&quot;width=device-width,\n",
              "        initial-scale=1.0, maximum-scale=1.0, user-scalable=no&quot; />\n",
              "    <style>#map_425862ee277246d28c1dd7a8e2d6b6b7 {\n",
              "        position: relative;\n",
              "        width: 100.0%;\n",
              "        height: 100.0%;\n",
              "        left: 0.0%;\n",
              "        top: 0.0%;\n",
              "        }\n",
              "    </style>\n",
              "</head>\n",
              "<body>    \n",
              "    \n",
              "    <div class=&quot;folium-map&quot; id=&quot;map_425862ee277246d28c1dd7a8e2d6b6b7&quot; ></div>\n",
              "</body>\n",
              "<script>    \n",
              "    \n",
              "    \n",
              "        var bounds = null;\n",
              "    \n",
              "\n",
              "    var map_425862ee277246d28c1dd7a8e2d6b6b7 = L.map(\n",
              "        'map_425862ee277246d28c1dd7a8e2d6b6b7', {\n",
              "        center: [39.287313430200484, -122.77313102177712],\n",
              "        zoom: 10,\n",
              "        maxBounds: bounds,\n",
              "        layers: [],\n",
              "        worldCopyJump: false,\n",
              "        crs: L.CRS.EPSG3857,\n",
              "        zoomControl: true,\n",
              "        });\n",
              "\n",
              "\n",
              "    \n",
              "    var tile_layer_5107b41f92164389bf2493e20d2ce545 = L.tileLayer(\n",
              "        'https://{s}.tile.openstreetmap.org/{z}/{x}/{y}.png',\n",
              "        {\n",
              "        &quot;attribution&quot;: null,\n",
              "        &quot;detectRetina&quot;: false,\n",
              "        &quot;maxNativeZoom&quot;: 18,\n",
              "        &quot;maxZoom&quot;: 18,\n",
              "        &quot;minZoom&quot;: 0,\n",
              "        &quot;noWrap&quot;: false,\n",
              "        &quot;opacity&quot;: 1,\n",
              "        &quot;subdomains&quot;: &quot;abc&quot;,\n",
              "        &quot;tms&quot;: false\n",
              "}).addTo(map_425862ee277246d28c1dd7a8e2d6b6b7);\n",
              "    var tile_layer_75a5abfa47a340239ec3919f9edd9d82 = L.tileLayer(\n",
              "        'https://earthengine.googleapis.com/v1alpha/projects/earthengine-legacy/maps/55d964a69f70c4650dfe35a5902e46b9-2b9ba63151117ebf490b22c70515c73a/tiles/{z}/{x}/{y}',\n",
              "        {\n",
              "        &quot;attribution&quot;: &quot;Google Earth Engine&quot;,\n",
              "        &quot;detectRetina&quot;: false,\n",
              "        &quot;maxNativeZoom&quot;: 18,\n",
              "        &quot;maxZoom&quot;: 18,\n",
              "        &quot;minZoom&quot;: 0,\n",
              "        &quot;noWrap&quot;: false,\n",
              "        &quot;opacity&quot;: 1,\n",
              "        &quot;subdomains&quot;: &quot;abc&quot;,\n",
              "        &quot;tms&quot;: false\n",
              "}).addTo(map_425862ee277246d28c1dd7a8e2d6b6b7);\n",
              "    \n",
              "        var geo_json_a6f09af8f3714035b0488fcb3087cbcd = L.geoJson(\n",
              "            {&quot;features&quot;: [{&quot;geometry&quot;: {&quot;coordinates&quot;: [[[-123.1095883962178, 39.045238703196624], [-122.43667364733632, 39.045238703196624], [-122.43667364733632, 39.528976753305706], [-123.1095883962178, 39.528976753305706], [-123.1095883962178, 39.045238703196624]]], &quot;type&quot;: &quot;Polygon&quot;}, &quot;properties&quot;: {&quot;highlight&quot;: {}, &quot;style&quot;: {&quot;color&quot;: &quot;red&quot;, &quot;fillColor&quot;: &quot;#00000000&quot;}}, &quot;type&quot;: &quot;Feature&quot;}], &quot;type&quot;: &quot;FeatureCollection&quot;},\n",
              "            {\n",
              "            }\n",
              "        ).addTo(map_425862ee277246d28c1dd7a8e2d6b6b7 );\n",
              "        geo_json_a6f09af8f3714035b0488fcb3087cbcd.setStyle(function(feature) {return feature.properties.style;});\n",
              "        \n",
              "</script>\" style=\"float:left; width: 400px; height: 400px; display:inline-block; width: 30%; margin: 0 auto; border: 2px solid black\"></iframe><iframe srcdoc=\"<!DOCTYPE html>\n",
              "<head>    \n",
              "    <meta http-equiv=&quot;content-type&quot; content=&quot;text/html; charset=UTF-8&quot; />\n",
              "    <script>L_PREFER_CANVAS=false; L_NO_TOUCH=false; L_DISABLE_3D=false;</script>\n",
              "    <script src=&quot;https://cdn.jsdelivr.net/npm/leaflet@1.4.0/dist/leaflet.js&quot;></script>\n",
              "    <script src=&quot;https://code.jquery.com/jquery-1.12.4.min.js&quot;></script>\n",
              "    <script src=&quot;https://maxcdn.bootstrapcdn.com/bootstrap/3.2.0/js/bootstrap.min.js&quot;></script>\n",
              "    <script src=&quot;https://cdnjs.cloudflare.com/ajax/libs/Leaflet.awesome-markers/2.0.2/leaflet.awesome-markers.js&quot;></script>\n",
              "    <link rel=&quot;stylesheet&quot; href=&quot;https://cdn.jsdelivr.net/npm/leaflet@1.4.0/dist/leaflet.css&quot;/>\n",
              "    <link rel=&quot;stylesheet&quot; href=&quot;https://maxcdn.bootstrapcdn.com/bootstrap/3.2.0/css/bootstrap.min.css&quot;/>\n",
              "    <link rel=&quot;stylesheet&quot; href=&quot;https://maxcdn.bootstrapcdn.com/bootstrap/3.2.0/css/bootstrap-theme.min.css&quot;/>\n",
              "    <link rel=&quot;stylesheet&quot; href=&quot;https://maxcdn.bootstrapcdn.com/font-awesome/4.6.3/css/font-awesome.min.css&quot;/>\n",
              "    <link rel=&quot;stylesheet&quot; href=&quot;https://cdnjs.cloudflare.com/ajax/libs/Leaflet.awesome-markers/2.0.2/leaflet.awesome-markers.css&quot;/>\n",
              "    <link rel=&quot;stylesheet&quot; href=&quot;https://rawcdn.githack.com/python-visualization/folium/master/folium/templates/leaflet.awesome.rotate.css&quot;/>\n",
              "    <style>html, body {width: 100%;height: 100%;margin: 0;padding: 0;}</style>\n",
              "    <style>#map {position:absolute;top:0;bottom:0;right:0;left:0;}</style>\n",
              "    \n",
              "    <meta name=&quot;viewport&quot; content=&quot;width=device-width,\n",
              "        initial-scale=1.0, maximum-scale=1.0, user-scalable=no&quot; />\n",
              "    <style>#map_91abb36bf4a340bba2d707741fdbc8d2 {\n",
              "        position: relative;\n",
              "        width: 100.0%;\n",
              "        height: 100.0%;\n",
              "        left: 0.0%;\n",
              "        top: 0.0%;\n",
              "        }\n",
              "    </style>\n",
              "</head>\n",
              "<body>    \n",
              "    \n",
              "    <div class=&quot;folium-map&quot; id=&quot;map_91abb36bf4a340bba2d707741fdbc8d2&quot; ></div>\n",
              "</body>\n",
              "<script>    \n",
              "    \n",
              "    \n",
              "        var bounds = null;\n",
              "    \n",
              "\n",
              "    var map_91abb36bf4a340bba2d707741fdbc8d2 = L.map(\n",
              "        'map_91abb36bf4a340bba2d707741fdbc8d2', {\n",
              "        center: [39.287313430200484, -122.77313102177712],\n",
              "        zoom: 10,\n",
              "        maxBounds: bounds,\n",
              "        layers: [],\n",
              "        worldCopyJump: false,\n",
              "        crs: L.CRS.EPSG3857,\n",
              "        zoomControl: true,\n",
              "        });\n",
              "\n",
              "\n",
              "    \n",
              "    var tile_layer_f1bb227dd98c4c72a1b793e37ba790d2 = L.tileLayer(\n",
              "        'https://{s}.tile.openstreetmap.org/{z}/{x}/{y}.png',\n",
              "        {\n",
              "        &quot;attribution&quot;: null,\n",
              "        &quot;detectRetina&quot;: false,\n",
              "        &quot;maxNativeZoom&quot;: 18,\n",
              "        &quot;maxZoom&quot;: 18,\n",
              "        &quot;minZoom&quot;: 0,\n",
              "        &quot;noWrap&quot;: false,\n",
              "        &quot;opacity&quot;: 1,\n",
              "        &quot;subdomains&quot;: &quot;abc&quot;,\n",
              "        &quot;tms&quot;: false\n",
              "}).addTo(map_91abb36bf4a340bba2d707741fdbc8d2);\n",
              "    var tile_layer_4f2a2b0d6d1f469da15c9c70dc8a1ef4 = L.tileLayer(\n",
              "        'https://earthengine.googleapis.com/v1alpha/projects/earthengine-legacy/maps/2368e9fd0ca2b1d373d26e0f8e397581-e71e5e2aea88ac1adcaa33cabbba37ad/tiles/{z}/{x}/{y}',\n",
              "        {\n",
              "        &quot;attribution&quot;: &quot;Google Earth Engine&quot;,\n",
              "        &quot;detectRetina&quot;: false,\n",
              "        &quot;maxNativeZoom&quot;: 18,\n",
              "        &quot;maxZoom&quot;: 18,\n",
              "        &quot;minZoom&quot;: 0,\n",
              "        &quot;noWrap&quot;: false,\n",
              "        &quot;opacity&quot;: 1,\n",
              "        &quot;subdomains&quot;: &quot;abc&quot;,\n",
              "        &quot;tms&quot;: false\n",
              "}).addTo(map_91abb36bf4a340bba2d707741fdbc8d2);\n",
              "    \n",
              "        var geo_json_4d06249f61504a45bcd62cda7cef9ddc = L.geoJson(\n",
              "            {&quot;features&quot;: [{&quot;geometry&quot;: {&quot;coordinates&quot;: [[[-123.1095883962178, 39.045238703196624], [-122.43667364733632, 39.045238703196624], [-122.43667364733632, 39.528976753305706], [-123.1095883962178, 39.528976753305706], [-123.1095883962178, 39.045238703196624]]], &quot;type&quot;: &quot;Polygon&quot;}, &quot;properties&quot;: {&quot;highlight&quot;: {}, &quot;style&quot;: {&quot;color&quot;: &quot;red&quot;, &quot;fillColor&quot;: &quot;#00000000&quot;}}, &quot;type&quot;: &quot;Feature&quot;}], &quot;type&quot;: &quot;FeatureCollection&quot;},\n",
              "            {\n",
              "            }\n",
              "        ).addTo(map_91abb36bf4a340bba2d707741fdbc8d2 );\n",
              "        geo_json_4d06249f61504a45bcd62cda7cef9ddc.setStyle(function(feature) {return feature.properties.style;});\n",
              "        \n",
              "</script>\" style=\"float:right; width: 400px; height: 400px; display:inline-block; width: 30%; margin: 0 auto; border: 2px solid black\"></iframe>"
            ],
            "text/plain": [
              "<IPython.core.display.HTML object>"
            ]
          },
          "metadata": {}
        },
        {
          "output_type": "stream",
          "name": "stderr",
          "text": [
            "/usr/local/lib/python3.7/dist-packages/pyproj/crs/crs.py:131: FutureWarning: '+init=<authority>:<code>' syntax is deprecated. '<authority>:<code>' is the preferred initialization method. When making the change, be mindful of axis order changes: https://pyproj4.github.io/pyproj/stable/gotchas.html#axis-order-changes-in-proj-6\n",
            "  in_crs_string = _prepare_from_proj_string(in_crs_string)\n",
            "/usr/local/lib/python3.7/dist-packages/pyproj/crs/crs.py:131: FutureWarning: '+init=<authority>:<code>' syntax is deprecated. '<authority>:<code>' is the preferred initialization method. When making the change, be mindful of axis order changes: https://pyproj4.github.io/pyproj/stable/gotchas.html#axis-order-changes-in-proj-6\n",
            "  in_crs_string = _prepare_from_proj_string(in_crs_string)\n",
            "/usr/local/lib/python3.7/dist-packages/ipykernel_launcher.py:18: DeprecationWarning: This function is deprecated. See: https://pyproj4.github.io/pyproj/stable/gotchas.html#upgrading-to-pyproj-2-from-pyproj-1\n",
            "/usr/local/lib/python3.7/dist-packages/ipykernel_launcher.py:19: DeprecationWarning: This function is deprecated. See: https://pyproj4.github.io/pyproj/stable/gotchas.html#upgrading-to-pyproj-2-from-pyproj-1\n"
          ]
        },
        {
          "output_type": "stream",
          "name": "stdout",
          "text": [
            "{   'fire_alert_date': '2020-08-16',\n",
            "    'fire_alert_date_a_few_days_before': '2020-07-17',\n",
            "    'fire_area': 160589.16,\n",
            "    'fire_cont_date': '2020-09-11',\n",
            "    'fire_cont_date_a_few_days_after': '2020-10-11',\n",
            "    'fire_name': 'CAL_database_Sentinel2_176',\n",
            "    'fire_perimeter': [   -121.93715756868603,\n",
            "                          37.10849804709762,\n",
            "                          -121.11157695114096,\n",
            "                          37.88721509286988]}\n"
          ]
        },
        {
          "output_type": "display_data",
          "data": {
            "text/html": [
              "<iframe srcdoc=\"<!DOCTYPE html>\n",
              "<head>    \n",
              "    <meta http-equiv=&quot;content-type&quot; content=&quot;text/html; charset=UTF-8&quot; />\n",
              "    <script>L_PREFER_CANVAS=false; L_NO_TOUCH=false; L_DISABLE_3D=false;</script>\n",
              "    <script src=&quot;https://cdn.jsdelivr.net/npm/leaflet@1.4.0/dist/leaflet.js&quot;></script>\n",
              "    <script src=&quot;https://code.jquery.com/jquery-1.12.4.min.js&quot;></script>\n",
              "    <script src=&quot;https://maxcdn.bootstrapcdn.com/bootstrap/3.2.0/js/bootstrap.min.js&quot;></script>\n",
              "    <script src=&quot;https://cdnjs.cloudflare.com/ajax/libs/Leaflet.awesome-markers/2.0.2/leaflet.awesome-markers.js&quot;></script>\n",
              "    <link rel=&quot;stylesheet&quot; href=&quot;https://cdn.jsdelivr.net/npm/leaflet@1.4.0/dist/leaflet.css&quot;/>\n",
              "    <link rel=&quot;stylesheet&quot; href=&quot;https://maxcdn.bootstrapcdn.com/bootstrap/3.2.0/css/bootstrap.min.css&quot;/>\n",
              "    <link rel=&quot;stylesheet&quot; href=&quot;https://maxcdn.bootstrapcdn.com/bootstrap/3.2.0/css/bootstrap-theme.min.css&quot;/>\n",
              "    <link rel=&quot;stylesheet&quot; href=&quot;https://maxcdn.bootstrapcdn.com/font-awesome/4.6.3/css/font-awesome.min.css&quot;/>\n",
              "    <link rel=&quot;stylesheet&quot; href=&quot;https://cdnjs.cloudflare.com/ajax/libs/Leaflet.awesome-markers/2.0.2/leaflet.awesome-markers.css&quot;/>\n",
              "    <link rel=&quot;stylesheet&quot; href=&quot;https://rawcdn.githack.com/python-visualization/folium/master/folium/templates/leaflet.awesome.rotate.css&quot;/>\n",
              "    <style>html, body {width: 100%;height: 100%;margin: 0;padding: 0;}</style>\n",
              "    <style>#map {position:absolute;top:0;bottom:0;right:0;left:0;}</style>\n",
              "    \n",
              "    <meta name=&quot;viewport&quot; content=&quot;width=device-width,\n",
              "        initial-scale=1.0, maximum-scale=1.0, user-scalable=no&quot; />\n",
              "    <style>#map_b46b096da24348d3a096a0cc8bf9ab3f {\n",
              "        position: relative;\n",
              "        width: 100.0%;\n",
              "        height: 100.0%;\n",
              "        left: 0.0%;\n",
              "        top: 0.0%;\n",
              "        }\n",
              "    </style>\n",
              "</head>\n",
              "<body>    \n",
              "    \n",
              "    <div class=&quot;folium-map&quot; id=&quot;map_b46b096da24348d3a096a0cc8bf9ab3f&quot; ></div>\n",
              "</body>\n",
              "<script>    \n",
              "    \n",
              "    \n",
              "        var bounds = null;\n",
              "    \n",
              "\n",
              "    var map_b46b096da24348d3a096a0cc8bf9ab3f = L.map(\n",
              "        'map_b46b096da24348d3a096a0cc8bf9ab3f', {\n",
              "        center: [37.49789794519658, -121.52436725991336],\n",
              "        zoom: 10,\n",
              "        maxBounds: bounds,\n",
              "        layers: [],\n",
              "        worldCopyJump: false,\n",
              "        crs: L.CRS.EPSG3857,\n",
              "        zoomControl: true,\n",
              "        });\n",
              "\n",
              "\n",
              "    \n",
              "    var tile_layer_114841ccfef44b108c8d3d3290583880 = L.tileLayer(\n",
              "        'https://{s}.tile.openstreetmap.org/{z}/{x}/{y}.png',\n",
              "        {\n",
              "        &quot;attribution&quot;: null,\n",
              "        &quot;detectRetina&quot;: false,\n",
              "        &quot;maxNativeZoom&quot;: 18,\n",
              "        &quot;maxZoom&quot;: 18,\n",
              "        &quot;minZoom&quot;: 0,\n",
              "        &quot;noWrap&quot;: false,\n",
              "        &quot;opacity&quot;: 1,\n",
              "        &quot;subdomains&quot;: &quot;abc&quot;,\n",
              "        &quot;tms&quot;: false\n",
              "}).addTo(map_b46b096da24348d3a096a0cc8bf9ab3f);\n",
              "    var tile_layer_7ab197287adc4fc48f9b2177d550ce44 = L.tileLayer(\n",
              "        'https://earthengine.googleapis.com/v1alpha/projects/earthengine-legacy/maps/828b58aa5a9a2a676b70d4bdddbc0c47-8f2825bc85603a4e6ebe0c98f20e0058/tiles/{z}/{x}/{y}',\n",
              "        {\n",
              "        &quot;attribution&quot;: &quot;Google Earth Engine&quot;,\n",
              "        &quot;detectRetina&quot;: false,\n",
              "        &quot;maxNativeZoom&quot;: 18,\n",
              "        &quot;maxZoom&quot;: 18,\n",
              "        &quot;minZoom&quot;: 0,\n",
              "        &quot;noWrap&quot;: false,\n",
              "        &quot;opacity&quot;: 1,\n",
              "        &quot;subdomains&quot;: &quot;abc&quot;,\n",
              "        &quot;tms&quot;: false\n",
              "}).addTo(map_b46b096da24348d3a096a0cc8bf9ab3f);\n",
              "    \n",
              "        var geo_json_3202a3cd41cb46eaa5144c8780ca02d8 = L.geoJson(\n",
              "            {&quot;features&quot;: [{&quot;geometry&quot;: {&quot;coordinates&quot;: [[[-121.93715756868603, 37.10849804709762], [-121.11157695114096, 37.10849804709762], [-121.11157695114096, 37.88721509286988], [-121.93715756868603, 37.88721509286988], [-121.93715756868603, 37.10849804709762]]], &quot;type&quot;: &quot;Polygon&quot;}, &quot;properties&quot;: {&quot;highlight&quot;: {}, &quot;style&quot;: {&quot;color&quot;: &quot;red&quot;, &quot;fillColor&quot;: &quot;#00000000&quot;}}, &quot;type&quot;: &quot;Feature&quot;}], &quot;type&quot;: &quot;FeatureCollection&quot;},\n",
              "            {\n",
              "            }\n",
              "        ).addTo(map_b46b096da24348d3a096a0cc8bf9ab3f );\n",
              "        geo_json_3202a3cd41cb46eaa5144c8780ca02d8.setStyle(function(feature) {return feature.properties.style;});\n",
              "        \n",
              "</script>\" style=\"float:left; width: 400px; height: 400px; display:inline-block; width: 30%; margin: 0 auto; border: 2px solid black\"></iframe><iframe srcdoc=\"<!DOCTYPE html>\n",
              "<head>    \n",
              "    <meta http-equiv=&quot;content-type&quot; content=&quot;text/html; charset=UTF-8&quot; />\n",
              "    <script>L_PREFER_CANVAS=false; L_NO_TOUCH=false; L_DISABLE_3D=false;</script>\n",
              "    <script src=&quot;https://cdn.jsdelivr.net/npm/leaflet@1.4.0/dist/leaflet.js&quot;></script>\n",
              "    <script src=&quot;https://code.jquery.com/jquery-1.12.4.min.js&quot;></script>\n",
              "    <script src=&quot;https://maxcdn.bootstrapcdn.com/bootstrap/3.2.0/js/bootstrap.min.js&quot;></script>\n",
              "    <script src=&quot;https://cdnjs.cloudflare.com/ajax/libs/Leaflet.awesome-markers/2.0.2/leaflet.awesome-markers.js&quot;></script>\n",
              "    <link rel=&quot;stylesheet&quot; href=&quot;https://cdn.jsdelivr.net/npm/leaflet@1.4.0/dist/leaflet.css&quot;/>\n",
              "    <link rel=&quot;stylesheet&quot; href=&quot;https://maxcdn.bootstrapcdn.com/bootstrap/3.2.0/css/bootstrap.min.css&quot;/>\n",
              "    <link rel=&quot;stylesheet&quot; href=&quot;https://maxcdn.bootstrapcdn.com/bootstrap/3.2.0/css/bootstrap-theme.min.css&quot;/>\n",
              "    <link rel=&quot;stylesheet&quot; href=&quot;https://maxcdn.bootstrapcdn.com/font-awesome/4.6.3/css/font-awesome.min.css&quot;/>\n",
              "    <link rel=&quot;stylesheet&quot; href=&quot;https://cdnjs.cloudflare.com/ajax/libs/Leaflet.awesome-markers/2.0.2/leaflet.awesome-markers.css&quot;/>\n",
              "    <link rel=&quot;stylesheet&quot; href=&quot;https://rawcdn.githack.com/python-visualization/folium/master/folium/templates/leaflet.awesome.rotate.css&quot;/>\n",
              "    <style>html, body {width: 100%;height: 100%;margin: 0;padding: 0;}</style>\n",
              "    <style>#map {position:absolute;top:0;bottom:0;right:0;left:0;}</style>\n",
              "    \n",
              "    <meta name=&quot;viewport&quot; content=&quot;width=device-width,\n",
              "        initial-scale=1.0, maximum-scale=1.0, user-scalable=no&quot; />\n",
              "    <style>#map_031084eaf10241dbbf7b489c4b82869e {\n",
              "        position: relative;\n",
              "        width: 100.0%;\n",
              "        height: 100.0%;\n",
              "        left: 0.0%;\n",
              "        top: 0.0%;\n",
              "        }\n",
              "    </style>\n",
              "</head>\n",
              "<body>    \n",
              "    \n",
              "    <div class=&quot;folium-map&quot; id=&quot;map_031084eaf10241dbbf7b489c4b82869e&quot; ></div>\n",
              "</body>\n",
              "<script>    \n",
              "    \n",
              "    \n",
              "        var bounds = null;\n",
              "    \n",
              "\n",
              "    var map_031084eaf10241dbbf7b489c4b82869e = L.map(\n",
              "        'map_031084eaf10241dbbf7b489c4b82869e', {\n",
              "        center: [37.49789794519658, -121.52436725991336],\n",
              "        zoom: 10,\n",
              "        maxBounds: bounds,\n",
              "        layers: [],\n",
              "        worldCopyJump: false,\n",
              "        crs: L.CRS.EPSG3857,\n",
              "        zoomControl: true,\n",
              "        });\n",
              "\n",
              "\n",
              "    \n",
              "    var tile_layer_173eb10b34f34ece8a3bd65005d9348b = L.tileLayer(\n",
              "        'https://{s}.tile.openstreetmap.org/{z}/{x}/{y}.png',\n",
              "        {\n",
              "        &quot;attribution&quot;: null,\n",
              "        &quot;detectRetina&quot;: false,\n",
              "        &quot;maxNativeZoom&quot;: 18,\n",
              "        &quot;maxZoom&quot;: 18,\n",
              "        &quot;minZoom&quot;: 0,\n",
              "        &quot;noWrap&quot;: false,\n",
              "        &quot;opacity&quot;: 1,\n",
              "        &quot;subdomains&quot;: &quot;abc&quot;,\n",
              "        &quot;tms&quot;: false\n",
              "}).addTo(map_031084eaf10241dbbf7b489c4b82869e);\n",
              "    var tile_layer_66c9bba017704912b821dfa9a9dcf27b = L.tileLayer(\n",
              "        'https://earthengine.googleapis.com/v1alpha/projects/earthengine-legacy/maps/bc7a0d0abb94aa4001b0194dcfc647bc-88a6dcf202a420a9a027b7a411a0e984/tiles/{z}/{x}/{y}',\n",
              "        {\n",
              "        &quot;attribution&quot;: &quot;Google Earth Engine&quot;,\n",
              "        &quot;detectRetina&quot;: false,\n",
              "        &quot;maxNativeZoom&quot;: 18,\n",
              "        &quot;maxZoom&quot;: 18,\n",
              "        &quot;minZoom&quot;: 0,\n",
              "        &quot;noWrap&quot;: false,\n",
              "        &quot;opacity&quot;: 1,\n",
              "        &quot;subdomains&quot;: &quot;abc&quot;,\n",
              "        &quot;tms&quot;: false\n",
              "}).addTo(map_031084eaf10241dbbf7b489c4b82869e);\n",
              "    \n",
              "        var geo_json_b032afcdbe5440c0bb3d23204f25e2c8 = L.geoJson(\n",
              "            {&quot;features&quot;: [{&quot;geometry&quot;: {&quot;coordinates&quot;: [[[-121.93715756868603, 37.10849804709762], [-121.11157695114096, 37.10849804709762], [-121.11157695114096, 37.88721509286988], [-121.93715756868603, 37.88721509286988], [-121.93715756868603, 37.10849804709762]]], &quot;type&quot;: &quot;Polygon&quot;}, &quot;properties&quot;: {&quot;highlight&quot;: {}, &quot;style&quot;: {&quot;color&quot;: &quot;red&quot;, &quot;fillColor&quot;: &quot;#00000000&quot;}}, &quot;type&quot;: &quot;Feature&quot;}], &quot;type&quot;: &quot;FeatureCollection&quot;},\n",
              "            {\n",
              "            }\n",
              "        ).addTo(map_031084eaf10241dbbf7b489c4b82869e );\n",
              "        geo_json_b032afcdbe5440c0bb3d23204f25e2c8.setStyle(function(feature) {return feature.properties.style;});\n",
              "        \n",
              "</script>\" style=\"float:right; width: 400px; height: 400px; display:inline-block; width: 30%; margin: 0 auto; border: 2px solid black\"></iframe>"
            ],
            "text/plain": [
              "<IPython.core.display.HTML object>"
            ]
          },
          "metadata": {}
        },
        {
          "output_type": "stream",
          "name": "stderr",
          "text": [
            "/usr/local/lib/python3.7/dist-packages/pyproj/crs/crs.py:131: FutureWarning: '+init=<authority>:<code>' syntax is deprecated. '<authority>:<code>' is the preferred initialization method. When making the change, be mindful of axis order changes: https://pyproj4.github.io/pyproj/stable/gotchas.html#axis-order-changes-in-proj-6\n",
            "  in_crs_string = _prepare_from_proj_string(in_crs_string)\n",
            "/usr/local/lib/python3.7/dist-packages/pyproj/crs/crs.py:131: FutureWarning: '+init=<authority>:<code>' syntax is deprecated. '<authority>:<code>' is the preferred initialization method. When making the change, be mindful of axis order changes: https://pyproj4.github.io/pyproj/stable/gotchas.html#axis-order-changes-in-proj-6\n",
            "  in_crs_string = _prepare_from_proj_string(in_crs_string)\n",
            "/usr/local/lib/python3.7/dist-packages/ipykernel_launcher.py:18: DeprecationWarning: This function is deprecated. See: https://pyproj4.github.io/pyproj/stable/gotchas.html#upgrading-to-pyproj-2-from-pyproj-1\n",
            "/usr/local/lib/python3.7/dist-packages/ipykernel_launcher.py:19: DeprecationWarning: This function is deprecated. See: https://pyproj4.github.io/pyproj/stable/gotchas.html#upgrading-to-pyproj-2-from-pyproj-1\n"
          ]
        },
        {
          "output_type": "stream",
          "name": "stdout",
          "text": [
            "{   'fire_alert_date': '2020-09-04',\n",
            "    'fire_alert_date_a_few_days_before': '2020-08-05',\n",
            "    'fire_area': 153716.77,\n",
            "    'fire_cont_date': '2020-12-24',\n",
            "    'fire_cont_date_a_few_days_after': '2021-01-23',\n",
            "    'fire_name': 'CAL_database_Sentinel2_248',\n",
            "    'fire_perimeter': [   -119.50170452441222,\n",
            "                          36.99692388442021,\n",
            "                          -118.93120856703038,\n",
            "                          37.636137935382365]}\n"
          ]
        },
        {
          "output_type": "display_data",
          "data": {
            "text/html": [
              "<iframe srcdoc=\"<!DOCTYPE html>\n",
              "<head>    \n",
              "    <meta http-equiv=&quot;content-type&quot; content=&quot;text/html; charset=UTF-8&quot; />\n",
              "    <script>L_PREFER_CANVAS=false; L_NO_TOUCH=false; L_DISABLE_3D=false;</script>\n",
              "    <script src=&quot;https://cdn.jsdelivr.net/npm/leaflet@1.4.0/dist/leaflet.js&quot;></script>\n",
              "    <script src=&quot;https://code.jquery.com/jquery-1.12.4.min.js&quot;></script>\n",
              "    <script src=&quot;https://maxcdn.bootstrapcdn.com/bootstrap/3.2.0/js/bootstrap.min.js&quot;></script>\n",
              "    <script src=&quot;https://cdnjs.cloudflare.com/ajax/libs/Leaflet.awesome-markers/2.0.2/leaflet.awesome-markers.js&quot;></script>\n",
              "    <link rel=&quot;stylesheet&quot; href=&quot;https://cdn.jsdelivr.net/npm/leaflet@1.4.0/dist/leaflet.css&quot;/>\n",
              "    <link rel=&quot;stylesheet&quot; href=&quot;https://maxcdn.bootstrapcdn.com/bootstrap/3.2.0/css/bootstrap.min.css&quot;/>\n",
              "    <link rel=&quot;stylesheet&quot; href=&quot;https://maxcdn.bootstrapcdn.com/bootstrap/3.2.0/css/bootstrap-theme.min.css&quot;/>\n",
              "    <link rel=&quot;stylesheet&quot; href=&quot;https://maxcdn.bootstrapcdn.com/font-awesome/4.6.3/css/font-awesome.min.css&quot;/>\n",
              "    <link rel=&quot;stylesheet&quot; href=&quot;https://cdnjs.cloudflare.com/ajax/libs/Leaflet.awesome-markers/2.0.2/leaflet.awesome-markers.css&quot;/>\n",
              "    <link rel=&quot;stylesheet&quot; href=&quot;https://rawcdn.githack.com/python-visualization/folium/master/folium/templates/leaflet.awesome.rotate.css&quot;/>\n",
              "    <style>html, body {width: 100%;height: 100%;margin: 0;padding: 0;}</style>\n",
              "    <style>#map {position:absolute;top:0;bottom:0;right:0;left:0;}</style>\n",
              "    \n",
              "    <meta name=&quot;viewport&quot; content=&quot;width=device-width,\n",
              "        initial-scale=1.0, maximum-scale=1.0, user-scalable=no&quot; />\n",
              "    <style>#map_05d1ea9b16b2459b9bc601f45a4ae649 {\n",
              "        position: relative;\n",
              "        width: 100.0%;\n",
              "        height: 100.0%;\n",
              "        left: 0.0%;\n",
              "        top: 0.0%;\n",
              "        }\n",
              "    </style>\n",
              "</head>\n",
              "<body>    \n",
              "    \n",
              "    <div class=&quot;folium-map&quot; id=&quot;map_05d1ea9b16b2459b9bc601f45a4ae649&quot; ></div>\n",
              "</body>\n",
              "<script>    \n",
              "    \n",
              "    \n",
              "        var bounds = null;\n",
              "    \n",
              "\n",
              "    var map_05d1ea9b16b2459b9bc601f45a4ae649 = L.map(\n",
              "        'map_05d1ea9b16b2459b9bc601f45a4ae649', {\n",
              "        center: [37.31642023612401, -119.21645654572104],\n",
              "        zoom: 10,\n",
              "        maxBounds: bounds,\n",
              "        layers: [],\n",
              "        worldCopyJump: false,\n",
              "        crs: L.CRS.EPSG3857,\n",
              "        zoomControl: true,\n",
              "        });\n",
              "\n",
              "\n",
              "    \n",
              "    var tile_layer_956d2507526e456a80389520d887ffda = L.tileLayer(\n",
              "        'https://{s}.tile.openstreetmap.org/{z}/{x}/{y}.png',\n",
              "        {\n",
              "        &quot;attribution&quot;: null,\n",
              "        &quot;detectRetina&quot;: false,\n",
              "        &quot;maxNativeZoom&quot;: 18,\n",
              "        &quot;maxZoom&quot;: 18,\n",
              "        &quot;minZoom&quot;: 0,\n",
              "        &quot;noWrap&quot;: false,\n",
              "        &quot;opacity&quot;: 1,\n",
              "        &quot;subdomains&quot;: &quot;abc&quot;,\n",
              "        &quot;tms&quot;: false\n",
              "}).addTo(map_05d1ea9b16b2459b9bc601f45a4ae649);\n",
              "    var tile_layer_0779416bf7c24783a58b6606a8ae6cd5 = L.tileLayer(\n",
              "        'https://earthengine.googleapis.com/v1alpha/projects/earthengine-legacy/maps/d6975a43b198bee414cfbaa8c83bc3ff-80afed5ec2ab846d1a74be547ab1d918/tiles/{z}/{x}/{y}',\n",
              "        {\n",
              "        &quot;attribution&quot;: &quot;Google Earth Engine&quot;,\n",
              "        &quot;detectRetina&quot;: false,\n",
              "        &quot;maxNativeZoom&quot;: 18,\n",
              "        &quot;maxZoom&quot;: 18,\n",
              "        &quot;minZoom&quot;: 0,\n",
              "        &quot;noWrap&quot;: false,\n",
              "        &quot;opacity&quot;: 1,\n",
              "        &quot;subdomains&quot;: &quot;abc&quot;,\n",
              "        &quot;tms&quot;: false\n",
              "}).addTo(map_05d1ea9b16b2459b9bc601f45a4ae649);\n",
              "    \n",
              "        var geo_json_b284d3982cdf4dbeb44f393012727526 = L.geoJson(\n",
              "            {&quot;features&quot;: [{&quot;geometry&quot;: {&quot;coordinates&quot;: [[[-119.50170452441222, 36.99692388442021], [-118.93120856703038, 36.99692388442021], [-118.93120856703038, 37.636137935382365], [-119.50170452441222, 37.636137935382365], [-119.50170452441222, 36.99692388442021]]], &quot;type&quot;: &quot;Polygon&quot;}, &quot;properties&quot;: {&quot;highlight&quot;: {}, &quot;style&quot;: {&quot;color&quot;: &quot;red&quot;, &quot;fillColor&quot;: &quot;#00000000&quot;}}, &quot;type&quot;: &quot;Feature&quot;}], &quot;type&quot;: &quot;FeatureCollection&quot;},\n",
              "            {\n",
              "            }\n",
              "        ).addTo(map_05d1ea9b16b2459b9bc601f45a4ae649 );\n",
              "        geo_json_b284d3982cdf4dbeb44f393012727526.setStyle(function(feature) {return feature.properties.style;});\n",
              "        \n",
              "</script>\" style=\"float:left; width: 400px; height: 400px; display:inline-block; width: 30%; margin: 0 auto; border: 2px solid black\"></iframe><iframe srcdoc=\"<!DOCTYPE html>\n",
              "<head>    \n",
              "    <meta http-equiv=&quot;content-type&quot; content=&quot;text/html; charset=UTF-8&quot; />\n",
              "    <script>L_PREFER_CANVAS=false; L_NO_TOUCH=false; L_DISABLE_3D=false;</script>\n",
              "    <script src=&quot;https://cdn.jsdelivr.net/npm/leaflet@1.4.0/dist/leaflet.js&quot;></script>\n",
              "    <script src=&quot;https://code.jquery.com/jquery-1.12.4.min.js&quot;></script>\n",
              "    <script src=&quot;https://maxcdn.bootstrapcdn.com/bootstrap/3.2.0/js/bootstrap.min.js&quot;></script>\n",
              "    <script src=&quot;https://cdnjs.cloudflare.com/ajax/libs/Leaflet.awesome-markers/2.0.2/leaflet.awesome-markers.js&quot;></script>\n",
              "    <link rel=&quot;stylesheet&quot; href=&quot;https://cdn.jsdelivr.net/npm/leaflet@1.4.0/dist/leaflet.css&quot;/>\n",
              "    <link rel=&quot;stylesheet&quot; href=&quot;https://maxcdn.bootstrapcdn.com/bootstrap/3.2.0/css/bootstrap.min.css&quot;/>\n",
              "    <link rel=&quot;stylesheet&quot; href=&quot;https://maxcdn.bootstrapcdn.com/bootstrap/3.2.0/css/bootstrap-theme.min.css&quot;/>\n",
              "    <link rel=&quot;stylesheet&quot; href=&quot;https://maxcdn.bootstrapcdn.com/font-awesome/4.6.3/css/font-awesome.min.css&quot;/>\n",
              "    <link rel=&quot;stylesheet&quot; href=&quot;https://cdnjs.cloudflare.com/ajax/libs/Leaflet.awesome-markers/2.0.2/leaflet.awesome-markers.css&quot;/>\n",
              "    <link rel=&quot;stylesheet&quot; href=&quot;https://rawcdn.githack.com/python-visualization/folium/master/folium/templates/leaflet.awesome.rotate.css&quot;/>\n",
              "    <style>html, body {width: 100%;height: 100%;margin: 0;padding: 0;}</style>\n",
              "    <style>#map {position:absolute;top:0;bottom:0;right:0;left:0;}</style>\n",
              "    \n",
              "    <meta name=&quot;viewport&quot; content=&quot;width=device-width,\n",
              "        initial-scale=1.0, maximum-scale=1.0, user-scalable=no&quot; />\n",
              "    <style>#map_27be7c6b484d403da90945142c7c34e3 {\n",
              "        position: relative;\n",
              "        width: 100.0%;\n",
              "        height: 100.0%;\n",
              "        left: 0.0%;\n",
              "        top: 0.0%;\n",
              "        }\n",
              "    </style>\n",
              "</head>\n",
              "<body>    \n",
              "    \n",
              "    <div class=&quot;folium-map&quot; id=&quot;map_27be7c6b484d403da90945142c7c34e3&quot; ></div>\n",
              "</body>\n",
              "<script>    \n",
              "    \n",
              "    \n",
              "        var bounds = null;\n",
              "    \n",
              "\n",
              "    var map_27be7c6b484d403da90945142c7c34e3 = L.map(\n",
              "        'map_27be7c6b484d403da90945142c7c34e3', {\n",
              "        center: [37.31642023612401, -119.21645654572104],\n",
              "        zoom: 10,\n",
              "        maxBounds: bounds,\n",
              "        layers: [],\n",
              "        worldCopyJump: false,\n",
              "        crs: L.CRS.EPSG3857,\n",
              "        zoomControl: true,\n",
              "        });\n",
              "\n",
              "\n",
              "    \n",
              "    var tile_layer_d4d42a33963440d1b835f227c879c200 = L.tileLayer(\n",
              "        'https://{s}.tile.openstreetmap.org/{z}/{x}/{y}.png',\n",
              "        {\n",
              "        &quot;attribution&quot;: null,\n",
              "        &quot;detectRetina&quot;: false,\n",
              "        &quot;maxNativeZoom&quot;: 18,\n",
              "        &quot;maxZoom&quot;: 18,\n",
              "        &quot;minZoom&quot;: 0,\n",
              "        &quot;noWrap&quot;: false,\n",
              "        &quot;opacity&quot;: 1,\n",
              "        &quot;subdomains&quot;: &quot;abc&quot;,\n",
              "        &quot;tms&quot;: false\n",
              "}).addTo(map_27be7c6b484d403da90945142c7c34e3);\n",
              "    var tile_layer_248a6584705a4b23a2036edd0af98f4f = L.tileLayer(\n",
              "        'https://earthengine.googleapis.com/v1alpha/projects/earthengine-legacy/maps/84fe35c48d4278c702edcd594289c697-6be1879dfe235067fb6178cb5b0209b5/tiles/{z}/{x}/{y}',\n",
              "        {\n",
              "        &quot;attribution&quot;: &quot;Google Earth Engine&quot;,\n",
              "        &quot;detectRetina&quot;: false,\n",
              "        &quot;maxNativeZoom&quot;: 18,\n",
              "        &quot;maxZoom&quot;: 18,\n",
              "        &quot;minZoom&quot;: 0,\n",
              "        &quot;noWrap&quot;: false,\n",
              "        &quot;opacity&quot;: 1,\n",
              "        &quot;subdomains&quot;: &quot;abc&quot;,\n",
              "        &quot;tms&quot;: false\n",
              "}).addTo(map_27be7c6b484d403da90945142c7c34e3);\n",
              "    \n",
              "        var geo_json_41b3cf60043c45cb8182b7d4d6b02e0b = L.geoJson(\n",
              "            {&quot;features&quot;: [{&quot;geometry&quot;: {&quot;coordinates&quot;: [[[-119.50170452441222, 36.99692388442021], [-118.93120856703038, 36.99692388442021], [-118.93120856703038, 37.636137935382365], [-119.50170452441222, 37.636137935382365], [-119.50170452441222, 36.99692388442021]]], &quot;type&quot;: &quot;Polygon&quot;}, &quot;properties&quot;: {&quot;highlight&quot;: {}, &quot;style&quot;: {&quot;color&quot;: &quot;red&quot;, &quot;fillColor&quot;: &quot;#00000000&quot;}}, &quot;type&quot;: &quot;Feature&quot;}], &quot;type&quot;: &quot;FeatureCollection&quot;},\n",
              "            {\n",
              "            }\n",
              "        ).addTo(map_27be7c6b484d403da90945142c7c34e3 );\n",
              "        geo_json_41b3cf60043c45cb8182b7d4d6b02e0b.setStyle(function(feature) {return feature.properties.style;});\n",
              "        \n",
              "</script>\" style=\"float:right; width: 400px; height: 400px; display:inline-block; width: 30%; margin: 0 auto; border: 2px solid black\"></iframe>"
            ],
            "text/plain": [
              "<IPython.core.display.HTML object>"
            ]
          },
          "metadata": {}
        },
        {
          "output_type": "stream",
          "name": "stderr",
          "text": [
            "/usr/local/lib/python3.7/dist-packages/pyproj/crs/crs.py:131: FutureWarning: '+init=<authority>:<code>' syntax is deprecated. '<authority>:<code>' is the preferred initialization method. When making the change, be mindful of axis order changes: https://pyproj4.github.io/pyproj/stable/gotchas.html#axis-order-changes-in-proj-6\n",
            "  in_crs_string = _prepare_from_proj_string(in_crs_string)\n",
            "/usr/local/lib/python3.7/dist-packages/pyproj/crs/crs.py:131: FutureWarning: '+init=<authority>:<code>' syntax is deprecated. '<authority>:<code>' is the preferred initialization method. When making the change, be mindful of axis order changes: https://pyproj4.github.io/pyproj/stable/gotchas.html#axis-order-changes-in-proj-6\n",
            "  in_crs_string = _prepare_from_proj_string(in_crs_string)\n",
            "/usr/local/lib/python3.7/dist-packages/ipykernel_launcher.py:18: DeprecationWarning: This function is deprecated. See: https://pyproj4.github.io/pyproj/stable/gotchas.html#upgrading-to-pyproj-2-from-pyproj-1\n",
            "/usr/local/lib/python3.7/dist-packages/ipykernel_launcher.py:19: DeprecationWarning: This function is deprecated. See: https://pyproj4.github.io/pyproj/stable/gotchas.html#upgrading-to-pyproj-2-from-pyproj-1\n"
          ]
        },
        {
          "output_type": "stream",
          "name": "stdout",
          "text": [
            "{   'fire_alert_date': '2020-08-17',\n",
            "    'fire_alert_date_a_few_days_before': '2020-07-18',\n",
            "    'fire_area': 129012.67,\n",
            "    'fire_cont_date': '2020-12-03',\n",
            "    'fire_cont_date_a_few_days_after': '2021-01-02',\n",
            "    'fire_name': 'CAL_database_Sentinel2_243',\n",
            "    'fire_perimeter': [   -121.48887013240986,\n",
            "                          39.51712775969083,\n",
            "                          -120.7406153945249,\n",
            "                          40.0565075014461]}\n"
          ]
        },
        {
          "output_type": "display_data",
          "data": {
            "text/html": [
              "<iframe srcdoc=\"<!DOCTYPE html>\n",
              "<head>    \n",
              "    <meta http-equiv=&quot;content-type&quot; content=&quot;text/html; charset=UTF-8&quot; />\n",
              "    <script>L_PREFER_CANVAS=false; L_NO_TOUCH=false; L_DISABLE_3D=false;</script>\n",
              "    <script src=&quot;https://cdn.jsdelivr.net/npm/leaflet@1.4.0/dist/leaflet.js&quot;></script>\n",
              "    <script src=&quot;https://code.jquery.com/jquery-1.12.4.min.js&quot;></script>\n",
              "    <script src=&quot;https://maxcdn.bootstrapcdn.com/bootstrap/3.2.0/js/bootstrap.min.js&quot;></script>\n",
              "    <script src=&quot;https://cdnjs.cloudflare.com/ajax/libs/Leaflet.awesome-markers/2.0.2/leaflet.awesome-markers.js&quot;></script>\n",
              "    <link rel=&quot;stylesheet&quot; href=&quot;https://cdn.jsdelivr.net/npm/leaflet@1.4.0/dist/leaflet.css&quot;/>\n",
              "    <link rel=&quot;stylesheet&quot; href=&quot;https://maxcdn.bootstrapcdn.com/bootstrap/3.2.0/css/bootstrap.min.css&quot;/>\n",
              "    <link rel=&quot;stylesheet&quot; href=&quot;https://maxcdn.bootstrapcdn.com/bootstrap/3.2.0/css/bootstrap-theme.min.css&quot;/>\n",
              "    <link rel=&quot;stylesheet&quot; href=&quot;https://maxcdn.bootstrapcdn.com/font-awesome/4.6.3/css/font-awesome.min.css&quot;/>\n",
              "    <link rel=&quot;stylesheet&quot; href=&quot;https://cdnjs.cloudflare.com/ajax/libs/Leaflet.awesome-markers/2.0.2/leaflet.awesome-markers.css&quot;/>\n",
              "    <link rel=&quot;stylesheet&quot; href=&quot;https://rawcdn.githack.com/python-visualization/folium/master/folium/templates/leaflet.awesome.rotate.css&quot;/>\n",
              "    <style>html, body {width: 100%;height: 100%;margin: 0;padding: 0;}</style>\n",
              "    <style>#map {position:absolute;top:0;bottom:0;right:0;left:0;}</style>\n",
              "    \n",
              "    <meta name=&quot;viewport&quot; content=&quot;width=device-width,\n",
              "        initial-scale=1.0, maximum-scale=1.0, user-scalable=no&quot; />\n",
              "    <style>#map_99b613b5479541bd8ae380af42eba2a3 {\n",
              "        position: relative;\n",
              "        width: 100.0%;\n",
              "        height: 100.0%;\n",
              "        left: 0.0%;\n",
              "        top: 0.0%;\n",
              "        }\n",
              "    </style>\n",
              "</head>\n",
              "<body>    \n",
              "    \n",
              "    <div class=&quot;folium-map&quot; id=&quot;map_99b613b5479541bd8ae380af42eba2a3&quot; ></div>\n",
              "</body>\n",
              "<script>    \n",
              "    \n",
              "    \n",
              "        var bounds = null;\n",
              "    \n",
              "\n",
              "    var map_99b613b5479541bd8ae380af42eba2a3 = L.map(\n",
              "        'map_99b613b5479541bd8ae380af42eba2a3', {\n",
              "        center: [39.78706588243174, -121.11474276346736],\n",
              "        zoom: 10,\n",
              "        maxBounds: bounds,\n",
              "        layers: [],\n",
              "        worldCopyJump: false,\n",
              "        crs: L.CRS.EPSG3857,\n",
              "        zoomControl: true,\n",
              "        });\n",
              "\n",
              "\n",
              "    \n",
              "    var tile_layer_31443652d7984fcfa046a7a936677585 = L.tileLayer(\n",
              "        'https://{s}.tile.openstreetmap.org/{z}/{x}/{y}.png',\n",
              "        {\n",
              "        &quot;attribution&quot;: null,\n",
              "        &quot;detectRetina&quot;: false,\n",
              "        &quot;maxNativeZoom&quot;: 18,\n",
              "        &quot;maxZoom&quot;: 18,\n",
              "        &quot;minZoom&quot;: 0,\n",
              "        &quot;noWrap&quot;: false,\n",
              "        &quot;opacity&quot;: 1,\n",
              "        &quot;subdomains&quot;: &quot;abc&quot;,\n",
              "        &quot;tms&quot;: false\n",
              "}).addTo(map_99b613b5479541bd8ae380af42eba2a3);\n",
              "    var tile_layer_97b6ce54d2a549d683e18da88c04361f = L.tileLayer(\n",
              "        'https://earthengine.googleapis.com/v1alpha/projects/earthengine-legacy/maps/2c66f5653288afb1396e1da5de86245b-9b90514d6cb8683c6d99fc5566da6893/tiles/{z}/{x}/{y}',\n",
              "        {\n",
              "        &quot;attribution&quot;: &quot;Google Earth Engine&quot;,\n",
              "        &quot;detectRetina&quot;: false,\n",
              "        &quot;maxNativeZoom&quot;: 18,\n",
              "        &quot;maxZoom&quot;: 18,\n",
              "        &quot;minZoom&quot;: 0,\n",
              "        &quot;noWrap&quot;: false,\n",
              "        &quot;opacity&quot;: 1,\n",
              "        &quot;subdomains&quot;: &quot;abc&quot;,\n",
              "        &quot;tms&quot;: false\n",
              "}).addTo(map_99b613b5479541bd8ae380af42eba2a3);\n",
              "    \n",
              "        var geo_json_eb5eaf0a39464d83bcc03474516d019f = L.geoJson(\n",
              "            {&quot;features&quot;: [{&quot;geometry&quot;: {&quot;coordinates&quot;: [[[-121.48887013240986, 39.51712775969083], [-120.7406153945249, 39.51712775969083], [-120.7406153945249, 40.0565075014461], [-121.48887013240986, 40.0565075014461], [-121.48887013240986, 39.51712775969083]]], &quot;type&quot;: &quot;Polygon&quot;}, &quot;properties&quot;: {&quot;highlight&quot;: {}, &quot;style&quot;: {&quot;color&quot;: &quot;red&quot;, &quot;fillColor&quot;: &quot;#00000000&quot;}}, &quot;type&quot;: &quot;Feature&quot;}], &quot;type&quot;: &quot;FeatureCollection&quot;},\n",
              "            {\n",
              "            }\n",
              "        ).addTo(map_99b613b5479541bd8ae380af42eba2a3 );\n",
              "        geo_json_eb5eaf0a39464d83bcc03474516d019f.setStyle(function(feature) {return feature.properties.style;});\n",
              "        \n",
              "</script>\" style=\"float:left; width: 400px; height: 400px; display:inline-block; width: 30%; margin: 0 auto; border: 2px solid black\"></iframe><iframe srcdoc=\"<!DOCTYPE html>\n",
              "<head>    \n",
              "    <meta http-equiv=&quot;content-type&quot; content=&quot;text/html; charset=UTF-8&quot; />\n",
              "    <script>L_PREFER_CANVAS=false; L_NO_TOUCH=false; L_DISABLE_3D=false;</script>\n",
              "    <script src=&quot;https://cdn.jsdelivr.net/npm/leaflet@1.4.0/dist/leaflet.js&quot;></script>\n",
              "    <script src=&quot;https://code.jquery.com/jquery-1.12.4.min.js&quot;></script>\n",
              "    <script src=&quot;https://maxcdn.bootstrapcdn.com/bootstrap/3.2.0/js/bootstrap.min.js&quot;></script>\n",
              "    <script src=&quot;https://cdnjs.cloudflare.com/ajax/libs/Leaflet.awesome-markers/2.0.2/leaflet.awesome-markers.js&quot;></script>\n",
              "    <link rel=&quot;stylesheet&quot; href=&quot;https://cdn.jsdelivr.net/npm/leaflet@1.4.0/dist/leaflet.css&quot;/>\n",
              "    <link rel=&quot;stylesheet&quot; href=&quot;https://maxcdn.bootstrapcdn.com/bootstrap/3.2.0/css/bootstrap.min.css&quot;/>\n",
              "    <link rel=&quot;stylesheet&quot; href=&quot;https://maxcdn.bootstrapcdn.com/bootstrap/3.2.0/css/bootstrap-theme.min.css&quot;/>\n",
              "    <link rel=&quot;stylesheet&quot; href=&quot;https://maxcdn.bootstrapcdn.com/font-awesome/4.6.3/css/font-awesome.min.css&quot;/>\n",
              "    <link rel=&quot;stylesheet&quot; href=&quot;https://cdnjs.cloudflare.com/ajax/libs/Leaflet.awesome-markers/2.0.2/leaflet.awesome-markers.css&quot;/>\n",
              "    <link rel=&quot;stylesheet&quot; href=&quot;https://rawcdn.githack.com/python-visualization/folium/master/folium/templates/leaflet.awesome.rotate.css&quot;/>\n",
              "    <style>html, body {width: 100%;height: 100%;margin: 0;padding: 0;}</style>\n",
              "    <style>#map {position:absolute;top:0;bottom:0;right:0;left:0;}</style>\n",
              "    \n",
              "    <meta name=&quot;viewport&quot; content=&quot;width=device-width,\n",
              "        initial-scale=1.0, maximum-scale=1.0, user-scalable=no&quot; />\n",
              "    <style>#map_7cd8a001f1204de38c9e990678a91d4c {\n",
              "        position: relative;\n",
              "        width: 100.0%;\n",
              "        height: 100.0%;\n",
              "        left: 0.0%;\n",
              "        top: 0.0%;\n",
              "        }\n",
              "    </style>\n",
              "</head>\n",
              "<body>    \n",
              "    \n",
              "    <div class=&quot;folium-map&quot; id=&quot;map_7cd8a001f1204de38c9e990678a91d4c&quot; ></div>\n",
              "</body>\n",
              "<script>    \n",
              "    \n",
              "    \n",
              "        var bounds = null;\n",
              "    \n",
              "\n",
              "    var map_7cd8a001f1204de38c9e990678a91d4c = L.map(\n",
              "        'map_7cd8a001f1204de38c9e990678a91d4c', {\n",
              "        center: [39.78706588243174, -121.11474276346736],\n",
              "        zoom: 10,\n",
              "        maxBounds: bounds,\n",
              "        layers: [],\n",
              "        worldCopyJump: false,\n",
              "        crs: L.CRS.EPSG3857,\n",
              "        zoomControl: true,\n",
              "        });\n",
              "\n",
              "\n",
              "    \n",
              "    var tile_layer_30db8f93e08b416893fb88fc8ae71715 = L.tileLayer(\n",
              "        'https://{s}.tile.openstreetmap.org/{z}/{x}/{y}.png',\n",
              "        {\n",
              "        &quot;attribution&quot;: null,\n",
              "        &quot;detectRetina&quot;: false,\n",
              "        &quot;maxNativeZoom&quot;: 18,\n",
              "        &quot;maxZoom&quot;: 18,\n",
              "        &quot;minZoom&quot;: 0,\n",
              "        &quot;noWrap&quot;: false,\n",
              "        &quot;opacity&quot;: 1,\n",
              "        &quot;subdomains&quot;: &quot;abc&quot;,\n",
              "        &quot;tms&quot;: false\n",
              "}).addTo(map_7cd8a001f1204de38c9e990678a91d4c);\n",
              "    var tile_layer_4792cea8450b4a39b2fca576b29b7ca2 = L.tileLayer(\n",
              "        'https://earthengine.googleapis.com/v1alpha/projects/earthengine-legacy/maps/505863c6b75428ec1f20695c8ea63aa7-e5028e2563a6a7ff2bedb58537dba104/tiles/{z}/{x}/{y}',\n",
              "        {\n",
              "        &quot;attribution&quot;: &quot;Google Earth Engine&quot;,\n",
              "        &quot;detectRetina&quot;: false,\n",
              "        &quot;maxNativeZoom&quot;: 18,\n",
              "        &quot;maxZoom&quot;: 18,\n",
              "        &quot;minZoom&quot;: 0,\n",
              "        &quot;noWrap&quot;: false,\n",
              "        &quot;opacity&quot;: 1,\n",
              "        &quot;subdomains&quot;: &quot;abc&quot;,\n",
              "        &quot;tms&quot;: false\n",
              "}).addTo(map_7cd8a001f1204de38c9e990678a91d4c);\n",
              "    \n",
              "        var geo_json_4a9da5c1598b4632bd3437e73077e5ef = L.geoJson(\n",
              "            {&quot;features&quot;: [{&quot;geometry&quot;: {&quot;coordinates&quot;: [[[-121.48887013240986, 39.51712775969083], [-120.7406153945249, 39.51712775969083], [-120.7406153945249, 40.0565075014461], [-121.48887013240986, 40.0565075014461], [-121.48887013240986, 39.51712775969083]]], &quot;type&quot;: &quot;Polygon&quot;}, &quot;properties&quot;: {&quot;highlight&quot;: {}, &quot;style&quot;: {&quot;color&quot;: &quot;red&quot;, &quot;fillColor&quot;: &quot;#00000000&quot;}}, &quot;type&quot;: &quot;Feature&quot;}], &quot;type&quot;: &quot;FeatureCollection&quot;},\n",
              "            {\n",
              "            }\n",
              "        ).addTo(map_7cd8a001f1204de38c9e990678a91d4c );\n",
              "        geo_json_4a9da5c1598b4632bd3437e73077e5ef.setStyle(function(feature) {return feature.properties.style;});\n",
              "        \n",
              "</script>\" style=\"float:right; width: 400px; height: 400px; display:inline-block; width: 30%; margin: 0 auto; border: 2px solid black\"></iframe>"
            ],
            "text/plain": [
              "<IPython.core.display.HTML object>"
            ]
          },
          "metadata": {}
        },
        {
          "output_type": "stream",
          "name": "stderr",
          "text": [
            "/usr/local/lib/python3.7/dist-packages/pyproj/crs/crs.py:131: FutureWarning: '+init=<authority>:<code>' syntax is deprecated. '<authority>:<code>' is the preferred initialization method. When making the change, be mindful of axis order changes: https://pyproj4.github.io/pyproj/stable/gotchas.html#axis-order-changes-in-proj-6\n",
            "  in_crs_string = _prepare_from_proj_string(in_crs_string)\n",
            "/usr/local/lib/python3.7/dist-packages/pyproj/crs/crs.py:131: FutureWarning: '+init=<authority>:<code>' syntax is deprecated. '<authority>:<code>' is the preferred initialization method. When making the change, be mindful of axis order changes: https://pyproj4.github.io/pyproj/stable/gotchas.html#axis-order-changes-in-proj-6\n",
            "  in_crs_string = _prepare_from_proj_string(in_crs_string)\n",
            "/usr/local/lib/python3.7/dist-packages/ipykernel_launcher.py:18: DeprecationWarning: This function is deprecated. See: https://pyproj4.github.io/pyproj/stable/gotchas.html#upgrading-to-pyproj-2-from-pyproj-1\n",
            "/usr/local/lib/python3.7/dist-packages/ipykernel_launcher.py:19: DeprecationWarning: This function is deprecated. See: https://pyproj4.github.io/pyproj/stable/gotchas.html#upgrading-to-pyproj-2-from-pyproj-1\n"
          ]
        },
        {
          "output_type": "stream",
          "name": "stdout",
          "text": [
            "{   'fire_alert_date': '2020-08-17',\n",
            "    'fire_alert_date_a_few_days_before': '2020-07-18',\n",
            "    'fire_area': 123571.52,\n",
            "    'fire_cont_date': '2020-09-16',\n",
            "    'fire_cont_date_a_few_days_after': '2020-10-16',\n",
            "    'fire_name': 'CAL_database_Sentinel2_226',\n",
            "    'fire_perimeter': [   -122.58222304378353,\n",
            "                          38.29811147134812,\n",
            "                          -121.97819219540715,\n",
            "                          38.94858846089029]}\n"
          ]
        },
        {
          "output_type": "display_data",
          "data": {
            "text/html": [
              "<iframe srcdoc=\"<!DOCTYPE html>\n",
              "<head>    \n",
              "    <meta http-equiv=&quot;content-type&quot; content=&quot;text/html; charset=UTF-8&quot; />\n",
              "    <script>L_PREFER_CANVAS=false; L_NO_TOUCH=false; L_DISABLE_3D=false;</script>\n",
              "    <script src=&quot;https://cdn.jsdelivr.net/npm/leaflet@1.4.0/dist/leaflet.js&quot;></script>\n",
              "    <script src=&quot;https://code.jquery.com/jquery-1.12.4.min.js&quot;></script>\n",
              "    <script src=&quot;https://maxcdn.bootstrapcdn.com/bootstrap/3.2.0/js/bootstrap.min.js&quot;></script>\n",
              "    <script src=&quot;https://cdnjs.cloudflare.com/ajax/libs/Leaflet.awesome-markers/2.0.2/leaflet.awesome-markers.js&quot;></script>\n",
              "    <link rel=&quot;stylesheet&quot; href=&quot;https://cdn.jsdelivr.net/npm/leaflet@1.4.0/dist/leaflet.css&quot;/>\n",
              "    <link rel=&quot;stylesheet&quot; href=&quot;https://maxcdn.bootstrapcdn.com/bootstrap/3.2.0/css/bootstrap.min.css&quot;/>\n",
              "    <link rel=&quot;stylesheet&quot; href=&quot;https://maxcdn.bootstrapcdn.com/bootstrap/3.2.0/css/bootstrap-theme.min.css&quot;/>\n",
              "    <link rel=&quot;stylesheet&quot; href=&quot;https://maxcdn.bootstrapcdn.com/font-awesome/4.6.3/css/font-awesome.min.css&quot;/>\n",
              "    <link rel=&quot;stylesheet&quot; href=&quot;https://cdnjs.cloudflare.com/ajax/libs/Leaflet.awesome-markers/2.0.2/leaflet.awesome-markers.css&quot;/>\n",
              "    <link rel=&quot;stylesheet&quot; href=&quot;https://rawcdn.githack.com/python-visualization/folium/master/folium/templates/leaflet.awesome.rotate.css&quot;/>\n",
              "    <style>html, body {width: 100%;height: 100%;margin: 0;padding: 0;}</style>\n",
              "    <style>#map {position:absolute;top:0;bottom:0;right:0;left:0;}</style>\n",
              "    \n",
              "    <meta name=&quot;viewport&quot; content=&quot;width=device-width,\n",
              "        initial-scale=1.0, maximum-scale=1.0, user-scalable=no&quot; />\n",
              "    <style>#map_505c9d4be6954ed991abd579b21ad61d {\n",
              "        position: relative;\n",
              "        width: 100.0%;\n",
              "        height: 100.0%;\n",
              "        left: 0.0%;\n",
              "        top: 0.0%;\n",
              "        }\n",
              "    </style>\n",
              "</head>\n",
              "<body>    \n",
              "    \n",
              "    <div class=&quot;folium-map&quot; id=&quot;map_505c9d4be6954ed991abd579b21ad61d&quot; ></div>\n",
              "</body>\n",
              "<script>    \n",
              "    \n",
              "    \n",
              "        var bounds = null;\n",
              "    \n",
              "\n",
              "    var map_505c9d4be6954ed991abd579b21ad61d = L.map(\n",
              "        'map_505c9d4be6954ed991abd579b21ad61d', {\n",
              "        center: [38.623246436223916, -122.28020761959593],\n",
              "        zoom: 10,\n",
              "        maxBounds: bounds,\n",
              "        layers: [],\n",
              "        worldCopyJump: false,\n",
              "        crs: L.CRS.EPSG3857,\n",
              "        zoomControl: true,\n",
              "        });\n",
              "\n",
              "\n",
              "    \n",
              "    var tile_layer_814ed8d626ea4fc59dfbecbe75f29ce0 = L.tileLayer(\n",
              "        'https://{s}.tile.openstreetmap.org/{z}/{x}/{y}.png',\n",
              "        {\n",
              "        &quot;attribution&quot;: null,\n",
              "        &quot;detectRetina&quot;: false,\n",
              "        &quot;maxNativeZoom&quot;: 18,\n",
              "        &quot;maxZoom&quot;: 18,\n",
              "        &quot;minZoom&quot;: 0,\n",
              "        &quot;noWrap&quot;: false,\n",
              "        &quot;opacity&quot;: 1,\n",
              "        &quot;subdomains&quot;: &quot;abc&quot;,\n",
              "        &quot;tms&quot;: false\n",
              "}).addTo(map_505c9d4be6954ed991abd579b21ad61d);\n",
              "    var tile_layer_639f070e1fc94e279175e26ee9417792 = L.tileLayer(\n",
              "        'https://earthengine.googleapis.com/v1alpha/projects/earthengine-legacy/maps/cdd6b1366a23dec74c3655cd22974424-80d96d88d8ce9b71dfdbd35caf08fd3d/tiles/{z}/{x}/{y}',\n",
              "        {\n",
              "        &quot;attribution&quot;: &quot;Google Earth Engine&quot;,\n",
              "        &quot;detectRetina&quot;: false,\n",
              "        &quot;maxNativeZoom&quot;: 18,\n",
              "        &quot;maxZoom&quot;: 18,\n",
              "        &quot;minZoom&quot;: 0,\n",
              "        &quot;noWrap&quot;: false,\n",
              "        &quot;opacity&quot;: 1,\n",
              "        &quot;subdomains&quot;: &quot;abc&quot;,\n",
              "        &quot;tms&quot;: false\n",
              "}).addTo(map_505c9d4be6954ed991abd579b21ad61d);\n",
              "    \n",
              "        var geo_json_4aa248c7e65341ecb7baa1354d5d45b2 = L.geoJson(\n",
              "            {&quot;features&quot;: [{&quot;geometry&quot;: {&quot;coordinates&quot;: [[[-122.58222304378353, 38.29811147134812], [-121.97819219540715, 38.29811147134812], [-121.97819219540715, 38.94858846089029], [-122.58222304378353, 38.94858846089029], [-122.58222304378353, 38.29811147134812]]], &quot;type&quot;: &quot;Polygon&quot;}, &quot;properties&quot;: {&quot;highlight&quot;: {}, &quot;style&quot;: {&quot;color&quot;: &quot;red&quot;, &quot;fillColor&quot;: &quot;#00000000&quot;}}, &quot;type&quot;: &quot;Feature&quot;}], &quot;type&quot;: &quot;FeatureCollection&quot;},\n",
              "            {\n",
              "            }\n",
              "        ).addTo(map_505c9d4be6954ed991abd579b21ad61d );\n",
              "        geo_json_4aa248c7e65341ecb7baa1354d5d45b2.setStyle(function(feature) {return feature.properties.style;});\n",
              "        \n",
              "</script>\" style=\"float:left; width: 400px; height: 400px; display:inline-block; width: 30%; margin: 0 auto; border: 2px solid black\"></iframe><iframe srcdoc=\"<!DOCTYPE html>\n",
              "<head>    \n",
              "    <meta http-equiv=&quot;content-type&quot; content=&quot;text/html; charset=UTF-8&quot; />\n",
              "    <script>L_PREFER_CANVAS=false; L_NO_TOUCH=false; L_DISABLE_3D=false;</script>\n",
              "    <script src=&quot;https://cdn.jsdelivr.net/npm/leaflet@1.4.0/dist/leaflet.js&quot;></script>\n",
              "    <script src=&quot;https://code.jquery.com/jquery-1.12.4.min.js&quot;></script>\n",
              "    <script src=&quot;https://maxcdn.bootstrapcdn.com/bootstrap/3.2.0/js/bootstrap.min.js&quot;></script>\n",
              "    <script src=&quot;https://cdnjs.cloudflare.com/ajax/libs/Leaflet.awesome-markers/2.0.2/leaflet.awesome-markers.js&quot;></script>\n",
              "    <link rel=&quot;stylesheet&quot; href=&quot;https://cdn.jsdelivr.net/npm/leaflet@1.4.0/dist/leaflet.css&quot;/>\n",
              "    <link rel=&quot;stylesheet&quot; href=&quot;https://maxcdn.bootstrapcdn.com/bootstrap/3.2.0/css/bootstrap.min.css&quot;/>\n",
              "    <link rel=&quot;stylesheet&quot; href=&quot;https://maxcdn.bootstrapcdn.com/bootstrap/3.2.0/css/bootstrap-theme.min.css&quot;/>\n",
              "    <link rel=&quot;stylesheet&quot; href=&quot;https://maxcdn.bootstrapcdn.com/font-awesome/4.6.3/css/font-awesome.min.css&quot;/>\n",
              "    <link rel=&quot;stylesheet&quot; href=&quot;https://cdnjs.cloudflare.com/ajax/libs/Leaflet.awesome-markers/2.0.2/leaflet.awesome-markers.css&quot;/>\n",
              "    <link rel=&quot;stylesheet&quot; href=&quot;https://rawcdn.githack.com/python-visualization/folium/master/folium/templates/leaflet.awesome.rotate.css&quot;/>\n",
              "    <style>html, body {width: 100%;height: 100%;margin: 0;padding: 0;}</style>\n",
              "    <style>#map {position:absolute;top:0;bottom:0;right:0;left:0;}</style>\n",
              "    \n",
              "    <meta name=&quot;viewport&quot; content=&quot;width=device-width,\n",
              "        initial-scale=1.0, maximum-scale=1.0, user-scalable=no&quot; />\n",
              "    <style>#map_65cfd8ffa7a442d3941693d156fa6462 {\n",
              "        position: relative;\n",
              "        width: 100.0%;\n",
              "        height: 100.0%;\n",
              "        left: 0.0%;\n",
              "        top: 0.0%;\n",
              "        }\n",
              "    </style>\n",
              "</head>\n",
              "<body>    \n",
              "    \n",
              "    <div class=&quot;folium-map&quot; id=&quot;map_65cfd8ffa7a442d3941693d156fa6462&quot; ></div>\n",
              "</body>\n",
              "<script>    \n",
              "    \n",
              "    \n",
              "        var bounds = null;\n",
              "    \n",
              "\n",
              "    var map_65cfd8ffa7a442d3941693d156fa6462 = L.map(\n",
              "        'map_65cfd8ffa7a442d3941693d156fa6462', {\n",
              "        center: [38.623246436223916, -122.28020761959593],\n",
              "        zoom: 10,\n",
              "        maxBounds: bounds,\n",
              "        layers: [],\n",
              "        worldCopyJump: false,\n",
              "        crs: L.CRS.EPSG3857,\n",
              "        zoomControl: true,\n",
              "        });\n",
              "\n",
              "\n",
              "    \n",
              "    var tile_layer_3139a5cd51644cc7a17bb6e840e89513 = L.tileLayer(\n",
              "        'https://{s}.tile.openstreetmap.org/{z}/{x}/{y}.png',\n",
              "        {\n",
              "        &quot;attribution&quot;: null,\n",
              "        &quot;detectRetina&quot;: false,\n",
              "        &quot;maxNativeZoom&quot;: 18,\n",
              "        &quot;maxZoom&quot;: 18,\n",
              "        &quot;minZoom&quot;: 0,\n",
              "        &quot;noWrap&quot;: false,\n",
              "        &quot;opacity&quot;: 1,\n",
              "        &quot;subdomains&quot;: &quot;abc&quot;,\n",
              "        &quot;tms&quot;: false\n",
              "}).addTo(map_65cfd8ffa7a442d3941693d156fa6462);\n",
              "    var tile_layer_c72f19be5cc94b1581557978c4b80a25 = L.tileLayer(\n",
              "        'https://earthengine.googleapis.com/v1alpha/projects/earthengine-legacy/maps/6a151f3cfd4a52c16e2e5003b3cbf780-21d9451b0080ab7be62a7ac912166521/tiles/{z}/{x}/{y}',\n",
              "        {\n",
              "        &quot;attribution&quot;: &quot;Google Earth Engine&quot;,\n",
              "        &quot;detectRetina&quot;: false,\n",
              "        &quot;maxNativeZoom&quot;: 18,\n",
              "        &quot;maxZoom&quot;: 18,\n",
              "        &quot;minZoom&quot;: 0,\n",
              "        &quot;noWrap&quot;: false,\n",
              "        &quot;opacity&quot;: 1,\n",
              "        &quot;subdomains&quot;: &quot;abc&quot;,\n",
              "        &quot;tms&quot;: false\n",
              "}).addTo(map_65cfd8ffa7a442d3941693d156fa6462);\n",
              "    \n",
              "        var geo_json_24e5e2d4f4bf49279343139915502ea3 = L.geoJson(\n",
              "            {&quot;features&quot;: [{&quot;geometry&quot;: {&quot;coordinates&quot;: [[[-122.58222304378353, 38.29811147134812], [-121.97819219540715, 38.29811147134812], [-121.97819219540715, 38.94858846089029], [-122.58222304378353, 38.94858846089029], [-122.58222304378353, 38.29811147134812]]], &quot;type&quot;: &quot;Polygon&quot;}, &quot;properties&quot;: {&quot;highlight&quot;: {}, &quot;style&quot;: {&quot;color&quot;: &quot;red&quot;, &quot;fillColor&quot;: &quot;#00000000&quot;}}, &quot;type&quot;: &quot;Feature&quot;}], &quot;type&quot;: &quot;FeatureCollection&quot;},\n",
              "            {\n",
              "            }\n",
              "        ).addTo(map_65cfd8ffa7a442d3941693d156fa6462 );\n",
              "        geo_json_24e5e2d4f4bf49279343139915502ea3.setStyle(function(feature) {return feature.properties.style;});\n",
              "        \n",
              "</script>\" style=\"float:right; width: 400px; height: 400px; display:inline-block; width: 30%; margin: 0 auto; border: 2px solid black\"></iframe>"
            ],
            "text/plain": [
              "<IPython.core.display.HTML object>"
            ]
          },
          "metadata": {}
        },
        {
          "output_type": "stream",
          "name": "stderr",
          "text": [
            "/usr/local/lib/python3.7/dist-packages/pyproj/crs/crs.py:131: FutureWarning: '+init=<authority>:<code>' syntax is deprecated. '<authority>:<code>' is the preferred initialization method. When making the change, be mindful of axis order changes: https://pyproj4.github.io/pyproj/stable/gotchas.html#axis-order-changes-in-proj-6\n",
            "  in_crs_string = _prepare_from_proj_string(in_crs_string)\n",
            "/usr/local/lib/python3.7/dist-packages/pyproj/crs/crs.py:131: FutureWarning: '+init=<authority>:<code>' syntax is deprecated. '<authority>:<code>' is the preferred initialization method. When making the change, be mindful of axis order changes: https://pyproj4.github.io/pyproj/stable/gotchas.html#axis-order-changes-in-proj-6\n",
            "  in_crs_string = _prepare_from_proj_string(in_crs_string)\n",
            "/usr/local/lib/python3.7/dist-packages/ipykernel_launcher.py:18: DeprecationWarning: This function is deprecated. See: https://pyproj4.github.io/pyproj/stable/gotchas.html#upgrading-to-pyproj-2-from-pyproj-1\n",
            "/usr/local/lib/python3.7/dist-packages/ipykernel_launcher.py:19: DeprecationWarning: This function is deprecated. See: https://pyproj4.github.io/pyproj/stable/gotchas.html#upgrading-to-pyproj-2-from-pyproj-1\n"
          ]
        },
        {
          "output_type": "stream",
          "name": "stdout",
          "text": [
            "{   'fire_alert_date': '2017-12-04',\n",
            "    'fire_alert_date_a_few_days_before': '2017-11-04',\n",
            "    'fire_area': 114036.73,\n",
            "    'fire_cont_date': '2018-01-12',\n",
            "    'fire_cont_date_a_few_days_after': '2018-02-11',\n",
            "    'fire_name': 'CAL_database_Sentinel2_7753',\n",
            "    'fire_perimeter': [   -119.68901785859032,\n",
            "                          34.29280124649202,\n",
            "                          -118.91696285466172,\n",
            "                          34.621443808261944]}\n"
          ]
        },
        {
          "output_type": "display_data",
          "data": {
            "text/html": [
              "<iframe srcdoc=\"<!DOCTYPE html>\n",
              "<head>    \n",
              "    <meta http-equiv=&quot;content-type&quot; content=&quot;text/html; charset=UTF-8&quot; />\n",
              "    <script>L_PREFER_CANVAS=false; L_NO_TOUCH=false; L_DISABLE_3D=false;</script>\n",
              "    <script src=&quot;https://cdn.jsdelivr.net/npm/leaflet@1.4.0/dist/leaflet.js&quot;></script>\n",
              "    <script src=&quot;https://code.jquery.com/jquery-1.12.4.min.js&quot;></script>\n",
              "    <script src=&quot;https://maxcdn.bootstrapcdn.com/bootstrap/3.2.0/js/bootstrap.min.js&quot;></script>\n",
              "    <script src=&quot;https://cdnjs.cloudflare.com/ajax/libs/Leaflet.awesome-markers/2.0.2/leaflet.awesome-markers.js&quot;></script>\n",
              "    <link rel=&quot;stylesheet&quot; href=&quot;https://cdn.jsdelivr.net/npm/leaflet@1.4.0/dist/leaflet.css&quot;/>\n",
              "    <link rel=&quot;stylesheet&quot; href=&quot;https://maxcdn.bootstrapcdn.com/bootstrap/3.2.0/css/bootstrap.min.css&quot;/>\n",
              "    <link rel=&quot;stylesheet&quot; href=&quot;https://maxcdn.bootstrapcdn.com/bootstrap/3.2.0/css/bootstrap-theme.min.css&quot;/>\n",
              "    <link rel=&quot;stylesheet&quot; href=&quot;https://maxcdn.bootstrapcdn.com/font-awesome/4.6.3/css/font-awesome.min.css&quot;/>\n",
              "    <link rel=&quot;stylesheet&quot; href=&quot;https://cdnjs.cloudflare.com/ajax/libs/Leaflet.awesome-markers/2.0.2/leaflet.awesome-markers.css&quot;/>\n",
              "    <link rel=&quot;stylesheet&quot; href=&quot;https://rawcdn.githack.com/python-visualization/folium/master/folium/templates/leaflet.awesome.rotate.css&quot;/>\n",
              "    <style>html, body {width: 100%;height: 100%;margin: 0;padding: 0;}</style>\n",
              "    <style>#map {position:absolute;top:0;bottom:0;right:0;left:0;}</style>\n",
              "    \n",
              "    <meta name=&quot;viewport&quot; content=&quot;width=device-width,\n",
              "        initial-scale=1.0, maximum-scale=1.0, user-scalable=no&quot; />\n",
              "    <style>#map_021ba78b5dd24f7a8f2040c046f660e7 {\n",
              "        position: relative;\n",
              "        width: 100.0%;\n",
              "        height: 100.0%;\n",
              "        left: 0.0%;\n",
              "        top: 0.0%;\n",
              "        }\n",
              "    </style>\n",
              "</head>\n",
              "<body>    \n",
              "    \n",
              "    <div class=&quot;folium-map&quot; id=&quot;map_021ba78b5dd24f7a8f2040c046f660e7&quot; ></div>\n",
              "</body>\n",
              "<script>    \n",
              "    \n",
              "    \n",
              "        var bounds = null;\n",
              "    \n",
              "\n",
              "    var map_021ba78b5dd24f7a8f2040c046f660e7 = L.map(\n",
              "        'map_021ba78b5dd24f7a8f2040c046f660e7', {\n",
              "        center: [34.457621408010354, -119.30299035662625],\n",
              "        zoom: 10,\n",
              "        maxBounds: bounds,\n",
              "        layers: [],\n",
              "        worldCopyJump: false,\n",
              "        crs: L.CRS.EPSG3857,\n",
              "        zoomControl: true,\n",
              "        });\n",
              "\n",
              "\n",
              "    \n",
              "    var tile_layer_5ba0bb96a4684864910c4d4218d8aaa9 = L.tileLayer(\n",
              "        'https://{s}.tile.openstreetmap.org/{z}/{x}/{y}.png',\n",
              "        {\n",
              "        &quot;attribution&quot;: null,\n",
              "        &quot;detectRetina&quot;: false,\n",
              "        &quot;maxNativeZoom&quot;: 18,\n",
              "        &quot;maxZoom&quot;: 18,\n",
              "        &quot;minZoom&quot;: 0,\n",
              "        &quot;noWrap&quot;: false,\n",
              "        &quot;opacity&quot;: 1,\n",
              "        &quot;subdomains&quot;: &quot;abc&quot;,\n",
              "        &quot;tms&quot;: false\n",
              "}).addTo(map_021ba78b5dd24f7a8f2040c046f660e7);\n",
              "    var tile_layer_d80033daf6594c21aae796f94380f1c3 = L.tileLayer(\n",
              "        'https://earthengine.googleapis.com/v1alpha/projects/earthengine-legacy/maps/4ebe0b0ac7e33ef523ef668f3be8bd67-022ddb615f06ae2c2661a4ba3a75b518/tiles/{z}/{x}/{y}',\n",
              "        {\n",
              "        &quot;attribution&quot;: &quot;Google Earth Engine&quot;,\n",
              "        &quot;detectRetina&quot;: false,\n",
              "        &quot;maxNativeZoom&quot;: 18,\n",
              "        &quot;maxZoom&quot;: 18,\n",
              "        &quot;minZoom&quot;: 0,\n",
              "        &quot;noWrap&quot;: false,\n",
              "        &quot;opacity&quot;: 1,\n",
              "        &quot;subdomains&quot;: &quot;abc&quot;,\n",
              "        &quot;tms&quot;: false\n",
              "}).addTo(map_021ba78b5dd24f7a8f2040c046f660e7);\n",
              "    \n",
              "        var geo_json_afdc41b50d7745b197a18591d0444619 = L.geoJson(\n",
              "            {&quot;features&quot;: [{&quot;geometry&quot;: {&quot;coordinates&quot;: [[[-119.68901785859032, 34.29280124649202], [-118.91696285466172, 34.29280124649202], [-118.91696285466172, 34.621443808261944], [-119.68901785859032, 34.621443808261944], [-119.68901785859032, 34.29280124649202]]], &quot;type&quot;: &quot;Polygon&quot;}, &quot;properties&quot;: {&quot;highlight&quot;: {}, &quot;style&quot;: {&quot;color&quot;: &quot;red&quot;, &quot;fillColor&quot;: &quot;#00000000&quot;}}, &quot;type&quot;: &quot;Feature&quot;}], &quot;type&quot;: &quot;FeatureCollection&quot;},\n",
              "            {\n",
              "            }\n",
              "        ).addTo(map_021ba78b5dd24f7a8f2040c046f660e7 );\n",
              "        geo_json_afdc41b50d7745b197a18591d0444619.setStyle(function(feature) {return feature.properties.style;});\n",
              "        \n",
              "</script>\" style=\"float:left; width: 400px; height: 400px; display:inline-block; width: 30%; margin: 0 auto; border: 2px solid black\"></iframe><iframe srcdoc=\"<!DOCTYPE html>\n",
              "<head>    \n",
              "    <meta http-equiv=&quot;content-type&quot; content=&quot;text/html; charset=UTF-8&quot; />\n",
              "    <script>L_PREFER_CANVAS=false; L_NO_TOUCH=false; L_DISABLE_3D=false;</script>\n",
              "    <script src=&quot;https://cdn.jsdelivr.net/npm/leaflet@1.4.0/dist/leaflet.js&quot;></script>\n",
              "    <script src=&quot;https://code.jquery.com/jquery-1.12.4.min.js&quot;></script>\n",
              "    <script src=&quot;https://maxcdn.bootstrapcdn.com/bootstrap/3.2.0/js/bootstrap.min.js&quot;></script>\n",
              "    <script src=&quot;https://cdnjs.cloudflare.com/ajax/libs/Leaflet.awesome-markers/2.0.2/leaflet.awesome-markers.js&quot;></script>\n",
              "    <link rel=&quot;stylesheet&quot; href=&quot;https://cdn.jsdelivr.net/npm/leaflet@1.4.0/dist/leaflet.css&quot;/>\n",
              "    <link rel=&quot;stylesheet&quot; href=&quot;https://maxcdn.bootstrapcdn.com/bootstrap/3.2.0/css/bootstrap.min.css&quot;/>\n",
              "    <link rel=&quot;stylesheet&quot; href=&quot;https://maxcdn.bootstrapcdn.com/bootstrap/3.2.0/css/bootstrap-theme.min.css&quot;/>\n",
              "    <link rel=&quot;stylesheet&quot; href=&quot;https://maxcdn.bootstrapcdn.com/font-awesome/4.6.3/css/font-awesome.min.css&quot;/>\n",
              "    <link rel=&quot;stylesheet&quot; href=&quot;https://cdnjs.cloudflare.com/ajax/libs/Leaflet.awesome-markers/2.0.2/leaflet.awesome-markers.css&quot;/>\n",
              "    <link rel=&quot;stylesheet&quot; href=&quot;https://rawcdn.githack.com/python-visualization/folium/master/folium/templates/leaflet.awesome.rotate.css&quot;/>\n",
              "    <style>html, body {width: 100%;height: 100%;margin: 0;padding: 0;}</style>\n",
              "    <style>#map {position:absolute;top:0;bottom:0;right:0;left:0;}</style>\n",
              "    \n",
              "    <meta name=&quot;viewport&quot; content=&quot;width=device-width,\n",
              "        initial-scale=1.0, maximum-scale=1.0, user-scalable=no&quot; />\n",
              "    <style>#map_1be4b577dec6470f91ca8ebd576c497e {\n",
              "        position: relative;\n",
              "        width: 100.0%;\n",
              "        height: 100.0%;\n",
              "        left: 0.0%;\n",
              "        top: 0.0%;\n",
              "        }\n",
              "    </style>\n",
              "</head>\n",
              "<body>    \n",
              "    \n",
              "    <div class=&quot;folium-map&quot; id=&quot;map_1be4b577dec6470f91ca8ebd576c497e&quot; ></div>\n",
              "</body>\n",
              "<script>    \n",
              "    \n",
              "    \n",
              "        var bounds = null;\n",
              "    \n",
              "\n",
              "    var map_1be4b577dec6470f91ca8ebd576c497e = L.map(\n",
              "        'map_1be4b577dec6470f91ca8ebd576c497e', {\n",
              "        center: [34.457621408010354, -119.30299035662625],\n",
              "        zoom: 10,\n",
              "        maxBounds: bounds,\n",
              "        layers: [],\n",
              "        worldCopyJump: false,\n",
              "        crs: L.CRS.EPSG3857,\n",
              "        zoomControl: true,\n",
              "        });\n",
              "\n",
              "\n",
              "    \n",
              "    var tile_layer_3b2d25b8d66e4fe38ba1fae4b396a653 = L.tileLayer(\n",
              "        'https://{s}.tile.openstreetmap.org/{z}/{x}/{y}.png',\n",
              "        {\n",
              "        &quot;attribution&quot;: null,\n",
              "        &quot;detectRetina&quot;: false,\n",
              "        &quot;maxNativeZoom&quot;: 18,\n",
              "        &quot;maxZoom&quot;: 18,\n",
              "        &quot;minZoom&quot;: 0,\n",
              "        &quot;noWrap&quot;: false,\n",
              "        &quot;opacity&quot;: 1,\n",
              "        &quot;subdomains&quot;: &quot;abc&quot;,\n",
              "        &quot;tms&quot;: false\n",
              "}).addTo(map_1be4b577dec6470f91ca8ebd576c497e);\n",
              "    var tile_layer_15216b679e344f0dbcc5a3857983f92b = L.tileLayer(\n",
              "        'https://earthengine.googleapis.com/v1alpha/projects/earthengine-legacy/maps/798cc366c35578b56bbc717e7c994a8e-2c401fbe4bac0123806acbe37961497c/tiles/{z}/{x}/{y}',\n",
              "        {\n",
              "        &quot;attribution&quot;: &quot;Google Earth Engine&quot;,\n",
              "        &quot;detectRetina&quot;: false,\n",
              "        &quot;maxNativeZoom&quot;: 18,\n",
              "        &quot;maxZoom&quot;: 18,\n",
              "        &quot;minZoom&quot;: 0,\n",
              "        &quot;noWrap&quot;: false,\n",
              "        &quot;opacity&quot;: 1,\n",
              "        &quot;subdomains&quot;: &quot;abc&quot;,\n",
              "        &quot;tms&quot;: false\n",
              "}).addTo(map_1be4b577dec6470f91ca8ebd576c497e);\n",
              "    \n",
              "        var geo_json_c833dbb1e5e1458881fbc57bc49ad459 = L.geoJson(\n",
              "            {&quot;features&quot;: [{&quot;geometry&quot;: {&quot;coordinates&quot;: [[[-119.68901785859032, 34.29280124649202], [-118.91696285466172, 34.29280124649202], [-118.91696285466172, 34.621443808261944], [-119.68901785859032, 34.621443808261944], [-119.68901785859032, 34.29280124649202]]], &quot;type&quot;: &quot;Polygon&quot;}, &quot;properties&quot;: {&quot;highlight&quot;: {}, &quot;style&quot;: {&quot;color&quot;: &quot;red&quot;, &quot;fillColor&quot;: &quot;#00000000&quot;}}, &quot;type&quot;: &quot;Feature&quot;}], &quot;type&quot;: &quot;FeatureCollection&quot;},\n",
              "            {\n",
              "            }\n",
              "        ).addTo(map_1be4b577dec6470f91ca8ebd576c497e );\n",
              "        geo_json_c833dbb1e5e1458881fbc57bc49ad459.setStyle(function(feature) {return feature.properties.style;});\n",
              "        \n",
              "</script>\" style=\"float:right; width: 400px; height: 400px; display:inline-block; width: 30%; margin: 0 auto; border: 2px solid black\"></iframe>"
            ],
            "text/plain": [
              "<IPython.core.display.HTML object>"
            ]
          },
          "metadata": {}
        },
        {
          "output_type": "stream",
          "name": "stderr",
          "text": [
            "/usr/local/lib/python3.7/dist-packages/pyproj/crs/crs.py:131: FutureWarning: '+init=<authority>:<code>' syntax is deprecated. '<authority>:<code>' is the preferred initialization method. When making the change, be mindful of axis order changes: https://pyproj4.github.io/pyproj/stable/gotchas.html#axis-order-changes-in-proj-6\n",
            "  in_crs_string = _prepare_from_proj_string(in_crs_string)\n",
            "/usr/local/lib/python3.7/dist-packages/pyproj/crs/crs.py:131: FutureWarning: '+init=<authority>:<code>' syntax is deprecated. '<authority>:<code>' is the preferred initialization method. When making the change, be mindful of axis order changes: https://pyproj4.github.io/pyproj/stable/gotchas.html#axis-order-changes-in-proj-6\n",
            "  in_crs_string = _prepare_from_proj_string(in_crs_string)\n",
            "/usr/local/lib/python3.7/dist-packages/ipykernel_launcher.py:18: DeprecationWarning: This function is deprecated. See: https://pyproj4.github.io/pyproj/stable/gotchas.html#upgrading-to-pyproj-2-from-pyproj-1\n",
            "/usr/local/lib/python3.7/dist-packages/ipykernel_launcher.py:19: DeprecationWarning: This function is deprecated. See: https://pyproj4.github.io/pyproj/stable/gotchas.html#upgrading-to-pyproj-2-from-pyproj-1\n"
          ]
        },
        {
          "output_type": "stream",
          "name": "stdout",
          "text": [
            "{   'fire_alert_date': '2018-07-23',\n",
            "    'fire_alert_date_a_few_days_before': '2018-06-23',\n",
            "    'fire_area': 92936.62,\n",
            "    'fire_cont_date': '2018-09-01',\n",
            "    'fire_cont_date_a_few_days_after': '2018-10-01',\n",
            "    'fire_name': 'CAL_database_Sentinel2_7992',\n",
            "    'fire_perimeter': [   -122.78466999596687,\n",
            "                          40.493150200327776,\n",
            "                          -122.39251488996382,\n",
            "                          40.93670239595063]}\n"
          ]
        },
        {
          "output_type": "display_data",
          "data": {
            "text/html": [
              "<iframe srcdoc=\"<!DOCTYPE html>\n",
              "<head>    \n",
              "    <meta http-equiv=&quot;content-type&quot; content=&quot;text/html; charset=UTF-8&quot; />\n",
              "    <script>L_PREFER_CANVAS=false; L_NO_TOUCH=false; L_DISABLE_3D=false;</script>\n",
              "    <script src=&quot;https://cdn.jsdelivr.net/npm/leaflet@1.4.0/dist/leaflet.js&quot;></script>\n",
              "    <script src=&quot;https://code.jquery.com/jquery-1.12.4.min.js&quot;></script>\n",
              "    <script src=&quot;https://maxcdn.bootstrapcdn.com/bootstrap/3.2.0/js/bootstrap.min.js&quot;></script>\n",
              "    <script src=&quot;https://cdnjs.cloudflare.com/ajax/libs/Leaflet.awesome-markers/2.0.2/leaflet.awesome-markers.js&quot;></script>\n",
              "    <link rel=&quot;stylesheet&quot; href=&quot;https://cdn.jsdelivr.net/npm/leaflet@1.4.0/dist/leaflet.css&quot;/>\n",
              "    <link rel=&quot;stylesheet&quot; href=&quot;https://maxcdn.bootstrapcdn.com/bootstrap/3.2.0/css/bootstrap.min.css&quot;/>\n",
              "    <link rel=&quot;stylesheet&quot; href=&quot;https://maxcdn.bootstrapcdn.com/bootstrap/3.2.0/css/bootstrap-theme.min.css&quot;/>\n",
              "    <link rel=&quot;stylesheet&quot; href=&quot;https://maxcdn.bootstrapcdn.com/font-awesome/4.6.3/css/font-awesome.min.css&quot;/>\n",
              "    <link rel=&quot;stylesheet&quot; href=&quot;https://cdnjs.cloudflare.com/ajax/libs/Leaflet.awesome-markers/2.0.2/leaflet.awesome-markers.css&quot;/>\n",
              "    <link rel=&quot;stylesheet&quot; href=&quot;https://rawcdn.githack.com/python-visualization/folium/master/folium/templates/leaflet.awesome.rotate.css&quot;/>\n",
              "    <style>html, body {width: 100%;height: 100%;margin: 0;padding: 0;}</style>\n",
              "    <style>#map {position:absolute;top:0;bottom:0;right:0;left:0;}</style>\n",
              "    \n",
              "    <meta name=&quot;viewport&quot; content=&quot;width=device-width,\n",
              "        initial-scale=1.0, maximum-scale=1.0, user-scalable=no&quot; />\n",
              "    <style>#map_45bc7818a1604873bc87e2db30fe29ec {\n",
              "        position: relative;\n",
              "        width: 100.0%;\n",
              "        height: 100.0%;\n",
              "        left: 0.0%;\n",
              "        top: 0.0%;\n",
              "        }\n",
              "    </style>\n",
              "</head>\n",
              "<body>    \n",
              "    \n",
              "    <div class=&quot;folium-map&quot; id=&quot;map_45bc7818a1604873bc87e2db30fe29ec&quot; ></div>\n",
              "</body>\n",
              "<script>    \n",
              "    \n",
              "    \n",
              "        var bounds = null;\n",
              "    \n",
              "\n",
              "    var map_45bc7818a1604873bc87e2db30fe29ec = L.map(\n",
              "        'map_45bc7818a1604873bc87e2db30fe29ec', {\n",
              "        center: [40.71484592146224, -122.58859244296593],\n",
              "        zoom: 10,\n",
              "        maxBounds: bounds,\n",
              "        layers: [],\n",
              "        worldCopyJump: false,\n",
              "        crs: L.CRS.EPSG3857,\n",
              "        zoomControl: true,\n",
              "        });\n",
              "\n",
              "\n",
              "    \n",
              "    var tile_layer_d44c2ae744674d229009d9521a3b4090 = L.tileLayer(\n",
              "        'https://{s}.tile.openstreetmap.org/{z}/{x}/{y}.png',\n",
              "        {\n",
              "        &quot;attribution&quot;: null,\n",
              "        &quot;detectRetina&quot;: false,\n",
              "        &quot;maxNativeZoom&quot;: 18,\n",
              "        &quot;maxZoom&quot;: 18,\n",
              "        &quot;minZoom&quot;: 0,\n",
              "        &quot;noWrap&quot;: false,\n",
              "        &quot;opacity&quot;: 1,\n",
              "        &quot;subdomains&quot;: &quot;abc&quot;,\n",
              "        &quot;tms&quot;: false\n",
              "}).addTo(map_45bc7818a1604873bc87e2db30fe29ec);\n",
              "    var tile_layer_094f703cc7d643899d02672052df2ec6 = L.tileLayer(\n",
              "        'https://earthengine.googleapis.com/v1alpha/projects/earthengine-legacy/maps/5be1ec0f32fe2fd8b2c7e437c63b3a6e-22bdd8ab8e7b0e0d8b9210867a3f5af2/tiles/{z}/{x}/{y}',\n",
              "        {\n",
              "        &quot;attribution&quot;: &quot;Google Earth Engine&quot;,\n",
              "        &quot;detectRetina&quot;: false,\n",
              "        &quot;maxNativeZoom&quot;: 18,\n",
              "        &quot;maxZoom&quot;: 18,\n",
              "        &quot;minZoom&quot;: 0,\n",
              "        &quot;noWrap&quot;: false,\n",
              "        &quot;opacity&quot;: 1,\n",
              "        &quot;subdomains&quot;: &quot;abc&quot;,\n",
              "        &quot;tms&quot;: false\n",
              "}).addTo(map_45bc7818a1604873bc87e2db30fe29ec);\n",
              "    \n",
              "        var geo_json_7292b0faba3046f9995964a04cb5bc37 = L.geoJson(\n",
              "            {&quot;features&quot;: [{&quot;geometry&quot;: {&quot;coordinates&quot;: [[[-122.78466999596687, 40.493150200327776], [-122.39251488996382, 40.493150200327776], [-122.39251488996382, 40.93670239595063], [-122.78466999596687, 40.93670239595063], [-122.78466999596687, 40.493150200327776]]], &quot;type&quot;: &quot;Polygon&quot;}, &quot;properties&quot;: {&quot;highlight&quot;: {}, &quot;style&quot;: {&quot;color&quot;: &quot;red&quot;, &quot;fillColor&quot;: &quot;#00000000&quot;}}, &quot;type&quot;: &quot;Feature&quot;}], &quot;type&quot;: &quot;FeatureCollection&quot;},\n",
              "            {\n",
              "            }\n",
              "        ).addTo(map_45bc7818a1604873bc87e2db30fe29ec );\n",
              "        geo_json_7292b0faba3046f9995964a04cb5bc37.setStyle(function(feature) {return feature.properties.style;});\n",
              "        \n",
              "</script>\" style=\"float:left; width: 400px; height: 400px; display:inline-block; width: 30%; margin: 0 auto; border: 2px solid black\"></iframe><iframe srcdoc=\"<!DOCTYPE html>\n",
              "<head>    \n",
              "    <meta http-equiv=&quot;content-type&quot; content=&quot;text/html; charset=UTF-8&quot; />\n",
              "    <script>L_PREFER_CANVAS=false; L_NO_TOUCH=false; L_DISABLE_3D=false;</script>\n",
              "    <script src=&quot;https://cdn.jsdelivr.net/npm/leaflet@1.4.0/dist/leaflet.js&quot;></script>\n",
              "    <script src=&quot;https://code.jquery.com/jquery-1.12.4.min.js&quot;></script>\n",
              "    <script src=&quot;https://maxcdn.bootstrapcdn.com/bootstrap/3.2.0/js/bootstrap.min.js&quot;></script>\n",
              "    <script src=&quot;https://cdnjs.cloudflare.com/ajax/libs/Leaflet.awesome-markers/2.0.2/leaflet.awesome-markers.js&quot;></script>\n",
              "    <link rel=&quot;stylesheet&quot; href=&quot;https://cdn.jsdelivr.net/npm/leaflet@1.4.0/dist/leaflet.css&quot;/>\n",
              "    <link rel=&quot;stylesheet&quot; href=&quot;https://maxcdn.bootstrapcdn.com/bootstrap/3.2.0/css/bootstrap.min.css&quot;/>\n",
              "    <link rel=&quot;stylesheet&quot; href=&quot;https://maxcdn.bootstrapcdn.com/bootstrap/3.2.0/css/bootstrap-theme.min.css&quot;/>\n",
              "    <link rel=&quot;stylesheet&quot; href=&quot;https://maxcdn.bootstrapcdn.com/font-awesome/4.6.3/css/font-awesome.min.css&quot;/>\n",
              "    <link rel=&quot;stylesheet&quot; href=&quot;https://cdnjs.cloudflare.com/ajax/libs/Leaflet.awesome-markers/2.0.2/leaflet.awesome-markers.css&quot;/>\n",
              "    <link rel=&quot;stylesheet&quot; href=&quot;https://rawcdn.githack.com/python-visualization/folium/master/folium/templates/leaflet.awesome.rotate.css&quot;/>\n",
              "    <style>html, body {width: 100%;height: 100%;margin: 0;padding: 0;}</style>\n",
              "    <style>#map {position:absolute;top:0;bottom:0;right:0;left:0;}</style>\n",
              "    \n",
              "    <meta name=&quot;viewport&quot; content=&quot;width=device-width,\n",
              "        initial-scale=1.0, maximum-scale=1.0, user-scalable=no&quot; />\n",
              "    <style>#map_4bde61a402af46fa9e99d0e9b775dfa4 {\n",
              "        position: relative;\n",
              "        width: 100.0%;\n",
              "        height: 100.0%;\n",
              "        left: 0.0%;\n",
              "        top: 0.0%;\n",
              "        }\n",
              "    </style>\n",
              "</head>\n",
              "<body>    \n",
              "    \n",
              "    <div class=&quot;folium-map&quot; id=&quot;map_4bde61a402af46fa9e99d0e9b775dfa4&quot; ></div>\n",
              "</body>\n",
              "<script>    \n",
              "    \n",
              "    \n",
              "        var bounds = null;\n",
              "    \n",
              "\n",
              "    var map_4bde61a402af46fa9e99d0e9b775dfa4 = L.map(\n",
              "        'map_4bde61a402af46fa9e99d0e9b775dfa4', {\n",
              "        center: [40.71484592146224, -122.58859244296593],\n",
              "        zoom: 10,\n",
              "        maxBounds: bounds,\n",
              "        layers: [],\n",
              "        worldCopyJump: false,\n",
              "        crs: L.CRS.EPSG3857,\n",
              "        zoomControl: true,\n",
              "        });\n",
              "\n",
              "\n",
              "    \n",
              "    var tile_layer_0e7a526fc31047be964d054617f6a2d0 = L.tileLayer(\n",
              "        'https://{s}.tile.openstreetmap.org/{z}/{x}/{y}.png',\n",
              "        {\n",
              "        &quot;attribution&quot;: null,\n",
              "        &quot;detectRetina&quot;: false,\n",
              "        &quot;maxNativeZoom&quot;: 18,\n",
              "        &quot;maxZoom&quot;: 18,\n",
              "        &quot;minZoom&quot;: 0,\n",
              "        &quot;noWrap&quot;: false,\n",
              "        &quot;opacity&quot;: 1,\n",
              "        &quot;subdomains&quot;: &quot;abc&quot;,\n",
              "        &quot;tms&quot;: false\n",
              "}).addTo(map_4bde61a402af46fa9e99d0e9b775dfa4);\n",
              "    var tile_layer_a737e1c789da471eb02b880cbe75b88f = L.tileLayer(\n",
              "        'https://earthengine.googleapis.com/v1alpha/projects/earthengine-legacy/maps/964fa5a8ff0eb17527b6ff6e964a19e9-6bd9f5e05f1825e6840793abcc98e4c3/tiles/{z}/{x}/{y}',\n",
              "        {\n",
              "        &quot;attribution&quot;: &quot;Google Earth Engine&quot;,\n",
              "        &quot;detectRetina&quot;: false,\n",
              "        &quot;maxNativeZoom&quot;: 18,\n",
              "        &quot;maxZoom&quot;: 18,\n",
              "        &quot;minZoom&quot;: 0,\n",
              "        &quot;noWrap&quot;: false,\n",
              "        &quot;opacity&quot;: 1,\n",
              "        &quot;subdomains&quot;: &quot;abc&quot;,\n",
              "        &quot;tms&quot;: false\n",
              "}).addTo(map_4bde61a402af46fa9e99d0e9b775dfa4);\n",
              "    \n",
              "        var geo_json_d3d6109df29b4988a9da873c07e6f151 = L.geoJson(\n",
              "            {&quot;features&quot;: [{&quot;geometry&quot;: {&quot;coordinates&quot;: [[[-122.78466999596687, 40.493150200327776], [-122.39251488996382, 40.493150200327776], [-122.39251488996382, 40.93670239595063], [-122.78466999596687, 40.93670239595063], [-122.78466999596687, 40.493150200327776]]], &quot;type&quot;: &quot;Polygon&quot;}, &quot;properties&quot;: {&quot;highlight&quot;: {}, &quot;style&quot;: {&quot;color&quot;: &quot;red&quot;, &quot;fillColor&quot;: &quot;#00000000&quot;}}, &quot;type&quot;: &quot;Feature&quot;}], &quot;type&quot;: &quot;FeatureCollection&quot;},\n",
              "            {\n",
              "            }\n",
              "        ).addTo(map_4bde61a402af46fa9e99d0e9b775dfa4 );\n",
              "        geo_json_d3d6109df29b4988a9da873c07e6f151.setStyle(function(feature) {return feature.properties.style;});\n",
              "        \n",
              "</script>\" style=\"float:right; width: 400px; height: 400px; display:inline-block; width: 30%; margin: 0 auto; border: 2px solid black\"></iframe>"
            ],
            "text/plain": [
              "<IPython.core.display.HTML object>"
            ]
          },
          "metadata": {}
        },
        {
          "output_type": "stream",
          "name": "stderr",
          "text": [
            "/usr/local/lib/python3.7/dist-packages/pyproj/crs/crs.py:131: FutureWarning: '+init=<authority>:<code>' syntax is deprecated. '<authority>:<code>' is the preferred initialization method. When making the change, be mindful of axis order changes: https://pyproj4.github.io/pyproj/stable/gotchas.html#axis-order-changes-in-proj-6\n",
            "  in_crs_string = _prepare_from_proj_string(in_crs_string)\n",
            "/usr/local/lib/python3.7/dist-packages/pyproj/crs/crs.py:131: FutureWarning: '+init=<authority>:<code>' syntax is deprecated. '<authority>:<code>' is the preferred initialization method. When making the change, be mindful of axis order changes: https://pyproj4.github.io/pyproj/stable/gotchas.html#axis-order-changes-in-proj-6\n",
            "  in_crs_string = _prepare_from_proj_string(in_crs_string)\n",
            "/usr/local/lib/python3.7/dist-packages/ipykernel_launcher.py:18: DeprecationWarning: This function is deprecated. See: https://pyproj4.github.io/pyproj/stable/gotchas.html#upgrading-to-pyproj-2-from-pyproj-1\n",
            "/usr/local/lib/python3.7/dist-packages/ipykernel_launcher.py:19: DeprecationWarning: This function is deprecated. See: https://pyproj4.github.io/pyproj/stable/gotchas.html#upgrading-to-pyproj-2-from-pyproj-1\n"
          ]
        },
        {
          "output_type": "stream",
          "name": "stdout",
          "text": [
            "{   'fire_alert_date': '2020-08-19',\n",
            "    'fire_alert_date_a_few_days_before': '2020-07-20',\n",
            "    'fire_area': 69058.77,\n",
            "    'fire_cont_date': '2021-01-04',\n",
            "    'fire_cont_date_a_few_days_after': '2021-02-03',\n",
            "    'fire_name': 'CAL_database_Sentinel2_244',\n",
            "    'fire_perimeter': [   -118.86112682107117,\n",
            "                          36.09210291506932,\n",
            "                          -118.28569630471146,\n",
            "                          36.37464327131643]}\n"
          ]
        },
        {
          "output_type": "display_data",
          "data": {
            "text/html": [
              "<iframe srcdoc=\"<!DOCTYPE html>\n",
              "<head>    \n",
              "    <meta http-equiv=&quot;content-type&quot; content=&quot;text/html; charset=UTF-8&quot; />\n",
              "    <script>L_PREFER_CANVAS=false; L_NO_TOUCH=false; L_DISABLE_3D=false;</script>\n",
              "    <script src=&quot;https://cdn.jsdelivr.net/npm/leaflet@1.4.0/dist/leaflet.js&quot;></script>\n",
              "    <script src=&quot;https://code.jquery.com/jquery-1.12.4.min.js&quot;></script>\n",
              "    <script src=&quot;https://maxcdn.bootstrapcdn.com/bootstrap/3.2.0/js/bootstrap.min.js&quot;></script>\n",
              "    <script src=&quot;https://cdnjs.cloudflare.com/ajax/libs/Leaflet.awesome-markers/2.0.2/leaflet.awesome-markers.js&quot;></script>\n",
              "    <link rel=&quot;stylesheet&quot; href=&quot;https://cdn.jsdelivr.net/npm/leaflet@1.4.0/dist/leaflet.css&quot;/>\n",
              "    <link rel=&quot;stylesheet&quot; href=&quot;https://maxcdn.bootstrapcdn.com/bootstrap/3.2.0/css/bootstrap.min.css&quot;/>\n",
              "    <link rel=&quot;stylesheet&quot; href=&quot;https://maxcdn.bootstrapcdn.com/bootstrap/3.2.0/css/bootstrap-theme.min.css&quot;/>\n",
              "    <link rel=&quot;stylesheet&quot; href=&quot;https://maxcdn.bootstrapcdn.com/font-awesome/4.6.3/css/font-awesome.min.css&quot;/>\n",
              "    <link rel=&quot;stylesheet&quot; href=&quot;https://cdnjs.cloudflare.com/ajax/libs/Leaflet.awesome-markers/2.0.2/leaflet.awesome-markers.css&quot;/>\n",
              "    <link rel=&quot;stylesheet&quot; href=&quot;https://rawcdn.githack.com/python-visualization/folium/master/folium/templates/leaflet.awesome.rotate.css&quot;/>\n",
              "    <style>html, body {width: 100%;height: 100%;margin: 0;padding: 0;}</style>\n",
              "    <style>#map {position:absolute;top:0;bottom:0;right:0;left:0;}</style>\n",
              "    \n",
              "    <meta name=&quot;viewport&quot; content=&quot;width=device-width,\n",
              "        initial-scale=1.0, maximum-scale=1.0, user-scalable=no&quot; />\n",
              "    <style>#map_c09e1dc70df845a899270c49f3a87650 {\n",
              "        position: relative;\n",
              "        width: 100.0%;\n",
              "        height: 100.0%;\n",
              "        left: 0.0%;\n",
              "        top: 0.0%;\n",
              "        }\n",
              "    </style>\n",
              "</head>\n",
              "<body>    \n",
              "    \n",
              "    <div class=&quot;folium-map&quot; id=&quot;map_c09e1dc70df845a899270c49f3a87650&quot; ></div>\n",
              "</body>\n",
              "<script>    \n",
              "    \n",
              "    \n",
              "        var bounds = null;\n",
              "    \n",
              "\n",
              "    var map_c09e1dc70df845a899270c49f3a87650 = L.map(\n",
              "        'map_c09e1dc70df845a899270c49f3a87650', {\n",
              "        center: [36.233632425891784, -118.57341156289134],\n",
              "        zoom: 10,\n",
              "        maxBounds: bounds,\n",
              "        layers: [],\n",
              "        worldCopyJump: false,\n",
              "        crs: L.CRS.EPSG3857,\n",
              "        zoomControl: true,\n",
              "        });\n",
              "\n",
              "\n",
              "    \n",
              "    var tile_layer_c60fe6deff0342a0a1276b082a8dc17b = L.tileLayer(\n",
              "        'https://{s}.tile.openstreetmap.org/{z}/{x}/{y}.png',\n",
              "        {\n",
              "        &quot;attribution&quot;: null,\n",
              "        &quot;detectRetina&quot;: false,\n",
              "        &quot;maxNativeZoom&quot;: 18,\n",
              "        &quot;maxZoom&quot;: 18,\n",
              "        &quot;minZoom&quot;: 0,\n",
              "        &quot;noWrap&quot;: false,\n",
              "        &quot;opacity&quot;: 1,\n",
              "        &quot;subdomains&quot;: &quot;abc&quot;,\n",
              "        &quot;tms&quot;: false\n",
              "}).addTo(map_c09e1dc70df845a899270c49f3a87650);\n",
              "    var tile_layer_43e0807217ff41ae96741351bf07219a = L.tileLayer(\n",
              "        'https://earthengine.googleapis.com/v1alpha/projects/earthengine-legacy/maps/8252d7c9092758c08a2b0822756f967f-77f508d1c415949444d2e7823c3f5b9e/tiles/{z}/{x}/{y}',\n",
              "        {\n",
              "        &quot;attribution&quot;: &quot;Google Earth Engine&quot;,\n",
              "        &quot;detectRetina&quot;: false,\n",
              "        &quot;maxNativeZoom&quot;: 18,\n",
              "        &quot;maxZoom&quot;: 18,\n",
              "        &quot;minZoom&quot;: 0,\n",
              "        &quot;noWrap&quot;: false,\n",
              "        &quot;opacity&quot;: 1,\n",
              "        &quot;subdomains&quot;: &quot;abc&quot;,\n",
              "        &quot;tms&quot;: false\n",
              "}).addTo(map_c09e1dc70df845a899270c49f3a87650);\n",
              "    \n",
              "        var geo_json_3aa8521c79164981830b772c9cac05c3 = L.geoJson(\n",
              "            {&quot;features&quot;: [{&quot;geometry&quot;: {&quot;coordinates&quot;: [[[-118.86112682107117, 36.09210291506932], [-118.28569630471146, 36.09210291506932], [-118.28569630471146, 36.37464327131643], [-118.86112682107117, 36.37464327131643], [-118.86112682107117, 36.09210291506932]]], &quot;type&quot;: &quot;Polygon&quot;}, &quot;properties&quot;: {&quot;highlight&quot;: {}, &quot;style&quot;: {&quot;color&quot;: &quot;red&quot;, &quot;fillColor&quot;: &quot;#00000000&quot;}}, &quot;type&quot;: &quot;Feature&quot;}], &quot;type&quot;: &quot;FeatureCollection&quot;},\n",
              "            {\n",
              "            }\n",
              "        ).addTo(map_c09e1dc70df845a899270c49f3a87650 );\n",
              "        geo_json_3aa8521c79164981830b772c9cac05c3.setStyle(function(feature) {return feature.properties.style;});\n",
              "        \n",
              "</script>\" style=\"float:left; width: 400px; height: 400px; display:inline-block; width: 30%; margin: 0 auto; border: 2px solid black\"></iframe><iframe srcdoc=\"<!DOCTYPE html>\n",
              "<head>    \n",
              "    <meta http-equiv=&quot;content-type&quot; content=&quot;text/html; charset=UTF-8&quot; />\n",
              "    <script>L_PREFER_CANVAS=false; L_NO_TOUCH=false; L_DISABLE_3D=false;</script>\n",
              "    <script src=&quot;https://cdn.jsdelivr.net/npm/leaflet@1.4.0/dist/leaflet.js&quot;></script>\n",
              "    <script src=&quot;https://code.jquery.com/jquery-1.12.4.min.js&quot;></script>\n",
              "    <script src=&quot;https://maxcdn.bootstrapcdn.com/bootstrap/3.2.0/js/bootstrap.min.js&quot;></script>\n",
              "    <script src=&quot;https://cdnjs.cloudflare.com/ajax/libs/Leaflet.awesome-markers/2.0.2/leaflet.awesome-markers.js&quot;></script>\n",
              "    <link rel=&quot;stylesheet&quot; href=&quot;https://cdn.jsdelivr.net/npm/leaflet@1.4.0/dist/leaflet.css&quot;/>\n",
              "    <link rel=&quot;stylesheet&quot; href=&quot;https://maxcdn.bootstrapcdn.com/bootstrap/3.2.0/css/bootstrap.min.css&quot;/>\n",
              "    <link rel=&quot;stylesheet&quot; href=&quot;https://maxcdn.bootstrapcdn.com/bootstrap/3.2.0/css/bootstrap-theme.min.css&quot;/>\n",
              "    <link rel=&quot;stylesheet&quot; href=&quot;https://maxcdn.bootstrapcdn.com/font-awesome/4.6.3/css/font-awesome.min.css&quot;/>\n",
              "    <link rel=&quot;stylesheet&quot; href=&quot;https://cdnjs.cloudflare.com/ajax/libs/Leaflet.awesome-markers/2.0.2/leaflet.awesome-markers.css&quot;/>\n",
              "    <link rel=&quot;stylesheet&quot; href=&quot;https://rawcdn.githack.com/python-visualization/folium/master/folium/templates/leaflet.awesome.rotate.css&quot;/>\n",
              "    <style>html, body {width: 100%;height: 100%;margin: 0;padding: 0;}</style>\n",
              "    <style>#map {position:absolute;top:0;bottom:0;right:0;left:0;}</style>\n",
              "    \n",
              "    <meta name=&quot;viewport&quot; content=&quot;width=device-width,\n",
              "        initial-scale=1.0, maximum-scale=1.0, user-scalable=no&quot; />\n",
              "    <style>#map_735b36eafe0040f3b94311ec482d5be8 {\n",
              "        position: relative;\n",
              "        width: 100.0%;\n",
              "        height: 100.0%;\n",
              "        left: 0.0%;\n",
              "        top: 0.0%;\n",
              "        }\n",
              "    </style>\n",
              "</head>\n",
              "<body>    \n",
              "    \n",
              "    <div class=&quot;folium-map&quot; id=&quot;map_735b36eafe0040f3b94311ec482d5be8&quot; ></div>\n",
              "</body>\n",
              "<script>    \n",
              "    \n",
              "    \n",
              "        var bounds = null;\n",
              "    \n",
              "\n",
              "    var map_735b36eafe0040f3b94311ec482d5be8 = L.map(\n",
              "        'map_735b36eafe0040f3b94311ec482d5be8', {\n",
              "        center: [36.233632425891784, -118.57341156289134],\n",
              "        zoom: 10,\n",
              "        maxBounds: bounds,\n",
              "        layers: [],\n",
              "        worldCopyJump: false,\n",
              "        crs: L.CRS.EPSG3857,\n",
              "        zoomControl: true,\n",
              "        });\n",
              "\n",
              "\n",
              "    \n",
              "    var tile_layer_db7e5b5529be4b7e8517ab5a66d71a73 = L.tileLayer(\n",
              "        'https://{s}.tile.openstreetmap.org/{z}/{x}/{y}.png',\n",
              "        {\n",
              "        &quot;attribution&quot;: null,\n",
              "        &quot;detectRetina&quot;: false,\n",
              "        &quot;maxNativeZoom&quot;: 18,\n",
              "        &quot;maxZoom&quot;: 18,\n",
              "        &quot;minZoom&quot;: 0,\n",
              "        &quot;noWrap&quot;: false,\n",
              "        &quot;opacity&quot;: 1,\n",
              "        &quot;subdomains&quot;: &quot;abc&quot;,\n",
              "        &quot;tms&quot;: false\n",
              "}).addTo(map_735b36eafe0040f3b94311ec482d5be8);\n",
              "    var tile_layer_56742d07cf0645bdbb2a374cd109cd80 = L.tileLayer(\n",
              "        'https://earthengine.googleapis.com/v1alpha/projects/earthengine-legacy/maps/06315fadcf1a48e677726cb94859e5d5-5a89dcd5e179db38fc3b5140576949be/tiles/{z}/{x}/{y}',\n",
              "        {\n",
              "        &quot;attribution&quot;: &quot;Google Earth Engine&quot;,\n",
              "        &quot;detectRetina&quot;: false,\n",
              "        &quot;maxNativeZoom&quot;: 18,\n",
              "        &quot;maxZoom&quot;: 18,\n",
              "        &quot;minZoom&quot;: 0,\n",
              "        &quot;noWrap&quot;: false,\n",
              "        &quot;opacity&quot;: 1,\n",
              "        &quot;subdomains&quot;: &quot;abc&quot;,\n",
              "        &quot;tms&quot;: false\n",
              "}).addTo(map_735b36eafe0040f3b94311ec482d5be8);\n",
              "    \n",
              "        var geo_json_a96b5b3ed2ff46309b46fe30a6d31fe8 = L.geoJson(\n",
              "            {&quot;features&quot;: [{&quot;geometry&quot;: {&quot;coordinates&quot;: [[[-118.86112682107117, 36.09210291506932], [-118.28569630471146, 36.09210291506932], [-118.28569630471146, 36.37464327131643], [-118.86112682107117, 36.37464327131643], [-118.86112682107117, 36.09210291506932]]], &quot;type&quot;: &quot;Polygon&quot;}, &quot;properties&quot;: {&quot;highlight&quot;: {}, &quot;style&quot;: {&quot;color&quot;: &quot;red&quot;, &quot;fillColor&quot;: &quot;#00000000&quot;}}, &quot;type&quot;: &quot;Feature&quot;}], &quot;type&quot;: &quot;FeatureCollection&quot;},\n",
              "            {\n",
              "            }\n",
              "        ).addTo(map_735b36eafe0040f3b94311ec482d5be8 );\n",
              "        geo_json_a96b5b3ed2ff46309b46fe30a6d31fe8.setStyle(function(feature) {return feature.properties.style;});\n",
              "        \n",
              "</script>\" style=\"float:right; width: 400px; height: 400px; display:inline-block; width: 30%; margin: 0 auto; border: 2px solid black\"></iframe>"
            ],
            "text/plain": [
              "<IPython.core.display.HTML object>"
            ]
          },
          "metadata": {}
        },
        {
          "output_type": "stream",
          "name": "stderr",
          "text": [
            "/usr/local/lib/python3.7/dist-packages/pyproj/crs/crs.py:131: FutureWarning: '+init=<authority>:<code>' syntax is deprecated. '<authority>:<code>' is the preferred initialization method. When making the change, be mindful of axis order changes: https://pyproj4.github.io/pyproj/stable/gotchas.html#axis-order-changes-in-proj-6\n",
            "  in_crs_string = _prepare_from_proj_string(in_crs_string)\n",
            "/usr/local/lib/python3.7/dist-packages/pyproj/crs/crs.py:131: FutureWarning: '+init=<authority>:<code>' syntax is deprecated. '<authority>:<code>' is the preferred initialization method. When making the change, be mindful of axis order changes: https://pyproj4.github.io/pyproj/stable/gotchas.html#axis-order-changes-in-proj-6\n",
            "  in_crs_string = _prepare_from_proj_string(in_crs_string)\n",
            "/usr/local/lib/python3.7/dist-packages/ipykernel_launcher.py:18: DeprecationWarning: This function is deprecated. See: https://pyproj4.github.io/pyproj/stable/gotchas.html#upgrading-to-pyproj-2-from-pyproj-1\n",
            "/usr/local/lib/python3.7/dist-packages/ipykernel_launcher.py:19: DeprecationWarning: This function is deprecated. See: https://pyproj4.github.io/pyproj/stable/gotchas.html#upgrading-to-pyproj-2-from-pyproj-1\n"
          ]
        },
        {
          "output_type": "stream",
          "name": "stdout",
          "text": [
            "{   'fire_alert_date': '2020-09-08',\n",
            "    'fire_alert_date_a_few_days_before': '2020-08-09',\n",
            "    'fire_area': 63709.61,\n",
            "    'fire_cont_date': '2020-12-12',\n",
            "    'fire_cont_date_a_few_days_after': '2021-01-11',\n",
            "    'fire_name': 'CAL_database_Sentinel2_263',\n",
            "    'fire_perimeter': [   -123.77871995074976,\n",
            "                          41.740821138921035,\n",
            "                          -123.29792710765294,\n",
            "                          42.115150789497655]}\n"
          ]
        },
        {
          "output_type": "display_data",
          "data": {
            "text/html": [
              "<iframe srcdoc=\"<!DOCTYPE html>\n",
              "<head>    \n",
              "    <meta http-equiv=&quot;content-type&quot; content=&quot;text/html; charset=UTF-8&quot; />\n",
              "    <script>L_PREFER_CANVAS=false; L_NO_TOUCH=false; L_DISABLE_3D=false;</script>\n",
              "    <script src=&quot;https://cdn.jsdelivr.net/npm/leaflet@1.4.0/dist/leaflet.js&quot;></script>\n",
              "    <script src=&quot;https://code.jquery.com/jquery-1.12.4.min.js&quot;></script>\n",
              "    <script src=&quot;https://maxcdn.bootstrapcdn.com/bootstrap/3.2.0/js/bootstrap.min.js&quot;></script>\n",
              "    <script src=&quot;https://cdnjs.cloudflare.com/ajax/libs/Leaflet.awesome-markers/2.0.2/leaflet.awesome-markers.js&quot;></script>\n",
              "    <link rel=&quot;stylesheet&quot; href=&quot;https://cdn.jsdelivr.net/npm/leaflet@1.4.0/dist/leaflet.css&quot;/>\n",
              "    <link rel=&quot;stylesheet&quot; href=&quot;https://maxcdn.bootstrapcdn.com/bootstrap/3.2.0/css/bootstrap.min.css&quot;/>\n",
              "    <link rel=&quot;stylesheet&quot; href=&quot;https://maxcdn.bootstrapcdn.com/bootstrap/3.2.0/css/bootstrap-theme.min.css&quot;/>\n",
              "    <link rel=&quot;stylesheet&quot; href=&quot;https://maxcdn.bootstrapcdn.com/font-awesome/4.6.3/css/font-awesome.min.css&quot;/>\n",
              "    <link rel=&quot;stylesheet&quot; href=&quot;https://cdnjs.cloudflare.com/ajax/libs/Leaflet.awesome-markers/2.0.2/leaflet.awesome-markers.css&quot;/>\n",
              "    <link rel=&quot;stylesheet&quot; href=&quot;https://rawcdn.githack.com/python-visualization/folium/master/folium/templates/leaflet.awesome.rotate.css&quot;/>\n",
              "    <style>html, body {width: 100%;height: 100%;margin: 0;padding: 0;}</style>\n",
              "    <style>#map {position:absolute;top:0;bottom:0;right:0;left:0;}</style>\n",
              "    \n",
              "    <meta name=&quot;viewport&quot; content=&quot;width=device-width,\n",
              "        initial-scale=1.0, maximum-scale=1.0, user-scalable=no&quot; />\n",
              "    <style>#map_dfa2640e5fde4541b4c010dfde089599 {\n",
              "        position: relative;\n",
              "        width: 100.0%;\n",
              "        height: 100.0%;\n",
              "        left: 0.0%;\n",
              "        top: 0.0%;\n",
              "        }\n",
              "    </style>\n",
              "</head>\n",
              "<body>    \n",
              "    \n",
              "    <div class=&quot;folium-map&quot; id=&quot;map_dfa2640e5fde4541b4c010dfde089599&quot; ></div>\n",
              "</body>\n",
              "<script>    \n",
              "    \n",
              "    \n",
              "        var bounds = null;\n",
              "    \n",
              "\n",
              "    var map_dfa2640e5fde4541b4c010dfde089599 = L.map(\n",
              "        'map_dfa2640e5fde4541b4c010dfde089599', {\n",
              "        center: [41.9280536306218, -123.53832352920118],\n",
              "        zoom: 10,\n",
              "        maxBounds: bounds,\n",
              "        layers: [],\n",
              "        worldCopyJump: false,\n",
              "        crs: L.CRS.EPSG3857,\n",
              "        zoomControl: true,\n",
              "        });\n",
              "\n",
              "\n",
              "    \n",
              "    var tile_layer_c29f5a56bf174e3f967f3f7bb011529c = L.tileLayer(\n",
              "        'https://{s}.tile.openstreetmap.org/{z}/{x}/{y}.png',\n",
              "        {\n",
              "        &quot;attribution&quot;: null,\n",
              "        &quot;detectRetina&quot;: false,\n",
              "        &quot;maxNativeZoom&quot;: 18,\n",
              "        &quot;maxZoom&quot;: 18,\n",
              "        &quot;minZoom&quot;: 0,\n",
              "        &quot;noWrap&quot;: false,\n",
              "        &quot;opacity&quot;: 1,\n",
              "        &quot;subdomains&quot;: &quot;abc&quot;,\n",
              "        &quot;tms&quot;: false\n",
              "}).addTo(map_dfa2640e5fde4541b4c010dfde089599);\n",
              "    var tile_layer_42fdeb6aab0e49d4b2f3d5247a128315 = L.tileLayer(\n",
              "        'https://earthengine.googleapis.com/v1alpha/projects/earthengine-legacy/maps/a2a31017dd4cc8636e80fb15e853c419-614e3b605f1f8707322cc8e29fd33d0b/tiles/{z}/{x}/{y}',\n",
              "        {\n",
              "        &quot;attribution&quot;: &quot;Google Earth Engine&quot;,\n",
              "        &quot;detectRetina&quot;: false,\n",
              "        &quot;maxNativeZoom&quot;: 18,\n",
              "        &quot;maxZoom&quot;: 18,\n",
              "        &quot;minZoom&quot;: 0,\n",
              "        &quot;noWrap&quot;: false,\n",
              "        &quot;opacity&quot;: 1,\n",
              "        &quot;subdomains&quot;: &quot;abc&quot;,\n",
              "        &quot;tms&quot;: false\n",
              "}).addTo(map_dfa2640e5fde4541b4c010dfde089599);\n",
              "    \n",
              "        var geo_json_b291edb534f245269b79ae20c0be346d = L.geoJson(\n",
              "            {&quot;features&quot;: [{&quot;geometry&quot;: {&quot;coordinates&quot;: [[[-123.77871995074976, 41.740821138921035], [-123.29792710765294, 41.740821138921035], [-123.29792710765294, 42.115150789497655], [-123.77871995074976, 42.115150789497655], [-123.77871995074976, 41.740821138921035]]], &quot;type&quot;: &quot;Polygon&quot;}, &quot;properties&quot;: {&quot;highlight&quot;: {}, &quot;style&quot;: {&quot;color&quot;: &quot;red&quot;, &quot;fillColor&quot;: &quot;#00000000&quot;}}, &quot;type&quot;: &quot;Feature&quot;}], &quot;type&quot;: &quot;FeatureCollection&quot;},\n",
              "            {\n",
              "            }\n",
              "        ).addTo(map_dfa2640e5fde4541b4c010dfde089599 );\n",
              "        geo_json_b291edb534f245269b79ae20c0be346d.setStyle(function(feature) {return feature.properties.style;});\n",
              "        \n",
              "</script>\" style=\"float:left; width: 400px; height: 400px; display:inline-block; width: 30%; margin: 0 auto; border: 2px solid black\"></iframe><iframe srcdoc=\"<!DOCTYPE html>\n",
              "<head>    \n",
              "    <meta http-equiv=&quot;content-type&quot; content=&quot;text/html; charset=UTF-8&quot; />\n",
              "    <script>L_PREFER_CANVAS=false; L_NO_TOUCH=false; L_DISABLE_3D=false;</script>\n",
              "    <script src=&quot;https://cdn.jsdelivr.net/npm/leaflet@1.4.0/dist/leaflet.js&quot;></script>\n",
              "    <script src=&quot;https://code.jquery.com/jquery-1.12.4.min.js&quot;></script>\n",
              "    <script src=&quot;https://maxcdn.bootstrapcdn.com/bootstrap/3.2.0/js/bootstrap.min.js&quot;></script>\n",
              "    <script src=&quot;https://cdnjs.cloudflare.com/ajax/libs/Leaflet.awesome-markers/2.0.2/leaflet.awesome-markers.js&quot;></script>\n",
              "    <link rel=&quot;stylesheet&quot; href=&quot;https://cdn.jsdelivr.net/npm/leaflet@1.4.0/dist/leaflet.css&quot;/>\n",
              "    <link rel=&quot;stylesheet&quot; href=&quot;https://maxcdn.bootstrapcdn.com/bootstrap/3.2.0/css/bootstrap.min.css&quot;/>\n",
              "    <link rel=&quot;stylesheet&quot; href=&quot;https://maxcdn.bootstrapcdn.com/bootstrap/3.2.0/css/bootstrap-theme.min.css&quot;/>\n",
              "    <link rel=&quot;stylesheet&quot; href=&quot;https://maxcdn.bootstrapcdn.com/font-awesome/4.6.3/css/font-awesome.min.css&quot;/>\n",
              "    <link rel=&quot;stylesheet&quot; href=&quot;https://cdnjs.cloudflare.com/ajax/libs/Leaflet.awesome-markers/2.0.2/leaflet.awesome-markers.css&quot;/>\n",
              "    <link rel=&quot;stylesheet&quot; href=&quot;https://rawcdn.githack.com/python-visualization/folium/master/folium/templates/leaflet.awesome.rotate.css&quot;/>\n",
              "    <style>html, body {width: 100%;height: 100%;margin: 0;padding: 0;}</style>\n",
              "    <style>#map {position:absolute;top:0;bottom:0;right:0;left:0;}</style>\n",
              "    \n",
              "    <meta name=&quot;viewport&quot; content=&quot;width=device-width,\n",
              "        initial-scale=1.0, maximum-scale=1.0, user-scalable=no&quot; />\n",
              "    <style>#map_ec39c8408e634fd3840e7191f1622958 {\n",
              "        position: relative;\n",
              "        width: 100.0%;\n",
              "        height: 100.0%;\n",
              "        left: 0.0%;\n",
              "        top: 0.0%;\n",
              "        }\n",
              "    </style>\n",
              "</head>\n",
              "<body>    \n",
              "    \n",
              "    <div class=&quot;folium-map&quot; id=&quot;map_ec39c8408e634fd3840e7191f1622958&quot; ></div>\n",
              "</body>\n",
              "<script>    \n",
              "    \n",
              "    \n",
              "        var bounds = null;\n",
              "    \n",
              "\n",
              "    var map_ec39c8408e634fd3840e7191f1622958 = L.map(\n",
              "        'map_ec39c8408e634fd3840e7191f1622958', {\n",
              "        center: [41.9280536306218, -123.53832352920118],\n",
              "        zoom: 10,\n",
              "        maxBounds: bounds,\n",
              "        layers: [],\n",
              "        worldCopyJump: false,\n",
              "        crs: L.CRS.EPSG3857,\n",
              "        zoomControl: true,\n",
              "        });\n",
              "\n",
              "\n",
              "    \n",
              "    var tile_layer_09a15dde119a4c548d816c139320165b = L.tileLayer(\n",
              "        'https://{s}.tile.openstreetmap.org/{z}/{x}/{y}.png',\n",
              "        {\n",
              "        &quot;attribution&quot;: null,\n",
              "        &quot;detectRetina&quot;: false,\n",
              "        &quot;maxNativeZoom&quot;: 18,\n",
              "        &quot;maxZoom&quot;: 18,\n",
              "        &quot;minZoom&quot;: 0,\n",
              "        &quot;noWrap&quot;: false,\n",
              "        &quot;opacity&quot;: 1,\n",
              "        &quot;subdomains&quot;: &quot;abc&quot;,\n",
              "        &quot;tms&quot;: false\n",
              "}).addTo(map_ec39c8408e634fd3840e7191f1622958);\n",
              "    var tile_layer_b3e5a297d7c448d2bddf80438d4754f8 = L.tileLayer(\n",
              "        'https://earthengine.googleapis.com/v1alpha/projects/earthengine-legacy/maps/556c7b856ded174db892aa8cf78ca181-9d3baa562c3b089a0d6f48dd41479ade/tiles/{z}/{x}/{y}',\n",
              "        {\n",
              "        &quot;attribution&quot;: &quot;Google Earth Engine&quot;,\n",
              "        &quot;detectRetina&quot;: false,\n",
              "        &quot;maxNativeZoom&quot;: 18,\n",
              "        &quot;maxZoom&quot;: 18,\n",
              "        &quot;minZoom&quot;: 0,\n",
              "        &quot;noWrap&quot;: false,\n",
              "        &quot;opacity&quot;: 1,\n",
              "        &quot;subdomains&quot;: &quot;abc&quot;,\n",
              "        &quot;tms&quot;: false\n",
              "}).addTo(map_ec39c8408e634fd3840e7191f1622958);\n",
              "    \n",
              "        var geo_json_0b9a8c0c1dca4b3f8adee40600844b0d = L.geoJson(\n",
              "            {&quot;features&quot;: [{&quot;geometry&quot;: {&quot;coordinates&quot;: [[[-123.77871995074976, 41.740821138921035], [-123.29792710765294, 41.740821138921035], [-123.29792710765294, 42.115150789497655], [-123.77871995074976, 42.115150789497655], [-123.77871995074976, 41.740821138921035]]], &quot;type&quot;: &quot;Polygon&quot;}, &quot;properties&quot;: {&quot;highlight&quot;: {}, &quot;style&quot;: {&quot;color&quot;: &quot;red&quot;, &quot;fillColor&quot;: &quot;#00000000&quot;}}, &quot;type&quot;: &quot;Feature&quot;}], &quot;type&quot;: &quot;FeatureCollection&quot;},\n",
              "            {\n",
              "            }\n",
              "        ).addTo(map_ec39c8408e634fd3840e7191f1622958 );\n",
              "        geo_json_0b9a8c0c1dca4b3f8adee40600844b0d.setStyle(function(feature) {return feature.properties.style;});\n",
              "        \n",
              "</script>\" style=\"float:right; width: 400px; height: 400px; display:inline-block; width: 30%; margin: 0 auto; border: 2px solid black\"></iframe>"
            ],
            "text/plain": [
              "<IPython.core.display.HTML object>"
            ]
          },
          "metadata": {}
        }
      ]
    },
    {
      "cell_type": "markdown",
      "metadata": {
        "id": "wp9z0bp0MCYy"
      },
      "source": [
        "# Sentinel tiff generation"
      ]
    },
    {
      "cell_type": "code",
      "metadata": {
        "colab": {
          "base_uri": "https://localhost:8080/"
        },
        "id": "_DAhXa_uvYg5",
        "outputId": "26426d1d-ca73-49e4-cd3f-5465fc839cc5"
      },
      "source": [
        "# Choosing the fire indices to extract\n",
        "start_index = 0\n",
        "#finish_index = NUMBER_OF_FIRES\n",
        "finish_index = 108\n",
        "\n",
        "# Looping on every fire in the geodataframe\n",
        "for i in tqdm(range(start_index, finish_index)):\n",
        "\n",
        "  # Extractig the images from Google Earth Engine\n",
        "  fire_image_RGBIR_preFire, fire_image_RGBIR_postFire, bounding_box, fire_record = images_package_extraction(i, filtered_gdf)\n",
        "  pp.pprint(fire_record)\n",
        "  print(str(i) + ' / ' + str(filtered_gdf.shape[0] - 1))\n",
        "  \n",
        "  # Exporting the images in tif files\n",
        "  #image_export(fire_image_RGBIR_preFire, fire_record, True)\n",
        "  image_export(fire_image_RGBIR_postFire, fire_record, False)"
      ],
      "execution_count": null,
      "outputs": [
        {
          "output_type": "stream",
          "name": "stderr",
          "text": [
            "\r  0%|          | 0/108 [00:00<?, ?it/s]/usr/local/lib/python3.7/dist-packages/pyproj/crs/crs.py:131: FutureWarning: '+init=<authority>:<code>' syntax is deprecated. '<authority>:<code>' is the preferred initialization method. When making the change, be mindful of axis order changes: https://pyproj4.github.io/pyproj/stable/gotchas.html#axis-order-changes-in-proj-6\n",
            "  in_crs_string = _prepare_from_proj_string(in_crs_string)\n",
            "/usr/local/lib/python3.7/dist-packages/pyproj/crs/crs.py:131: FutureWarning: '+init=<authority>:<code>' syntax is deprecated. '<authority>:<code>' is the preferred initialization method. When making the change, be mindful of axis order changes: https://pyproj4.github.io/pyproj/stable/gotchas.html#axis-order-changes-in-proj-6\n",
            "  in_crs_string = _prepare_from_proj_string(in_crs_string)\n",
            "/usr/local/lib/python3.7/dist-packages/ipykernel_launcher.py:18: DeprecationWarning: This function is deprecated. See: https://pyproj4.github.io/pyproj/stable/gotchas.html#upgrading-to-pyproj-2-from-pyproj-1\n",
            "/usr/local/lib/python3.7/dist-packages/ipykernel_launcher.py:19: DeprecationWarning: This function is deprecated. See: https://pyproj4.github.io/pyproj/stable/gotchas.html#upgrading-to-pyproj-2-from-pyproj-1\n"
          ]
        },
        {
          "output_type": "stream",
          "name": "stdout",
          "text": [
            "{   'fire_alert_date': '2020-08-16',\n",
            "    'fire_alert_date_a_few_days_before': '2020-07-17',\n",
            "    'fire_area': 417918.7,\n",
            "    'fire_cont_date': '2020-11-11',\n",
            "    'fire_cont_date_a_few_days_after': '2020-12-11',\n",
            "    'fire_name': 'CAL_database_Sentinel2_291',\n",
            "    'fire_perimeter': [   -123.51082784298728,\n",
            "                          39.371227756473516,\n",
            "                          -122.53795635356124,\n",
            "                          40.441537128938315]}\n",
            "0 / 108\n",
            "Generating the Sentinel tif: CAL_database_Sentinel2_291_postFire_RGBIR\n",
            "Polling for task (id: 2SGRHFFGVBX5PBQCLD4T43FS).\n",
            "{'state': 'READY', 'description': 'export_task', 'creation_timestamp_ms': 1642071091203, 'update_timestamp_ms': 1642071091203, 'start_timestamp_ms': 0, 'task_type': 'EXPORT_IMAGE', 'id': '2SGRHFFGVBX5PBQCLD4T43FS', 'name': 'projects/earthengine-legacy/operations/2SGRHFFGVBX5PBQCLD4T43FS'}\n",
            "Polling for task (id: 2SGRHFFGVBX5PBQCLD4T43FS).\n",
            "{'state': 'RUNNING', 'description': 'export_task', 'creation_timestamp_ms': 1642071091203, 'update_timestamp_ms': 1642071119567, 'start_timestamp_ms': 1642071119425, 'task_type': 'EXPORT_IMAGE', 'attempt': 1, 'id': '2SGRHFFGVBX5PBQCLD4T43FS', 'name': 'projects/earthengine-legacy/operations/2SGRHFFGVBX5PBQCLD4T43FS'}\n",
            "Polling for task (id: 2SGRHFFGVBX5PBQCLD4T43FS).\n",
            "{'state': 'RUNNING', 'description': 'export_task', 'creation_timestamp_ms': 1642071091203, 'update_timestamp_ms': 1642071122269, 'start_timestamp_ms': 1642071119425, 'task_type': 'EXPORT_IMAGE', 'attempt': 1, 'id': '2SGRHFFGVBX5PBQCLD4T43FS', 'name': 'projects/earthengine-legacy/operations/2SGRHFFGVBX5PBQCLD4T43FS'}\n",
            "Polling for task (id: 2SGRHFFGVBX5PBQCLD4T43FS).\n",
            "{'state': 'RUNNING', 'description': 'export_task', 'creation_timestamp_ms': 1642071091203, 'update_timestamp_ms': 1642071180277, 'start_timestamp_ms': 1642071119425, 'task_type': 'EXPORT_IMAGE', 'attempt': 1, 'id': '2SGRHFFGVBX5PBQCLD4T43FS', 'name': 'projects/earthengine-legacy/operations/2SGRHFFGVBX5PBQCLD4T43FS'}\n",
            "Polling for task (id: 2SGRHFFGVBX5PBQCLD4T43FS).\n",
            "{'state': 'RUNNING', 'description': 'export_task', 'creation_timestamp_ms': 1642071091203, 'update_timestamp_ms': 1642071180277, 'start_timestamp_ms': 1642071119425, 'task_type': 'EXPORT_IMAGE', 'attempt': 1, 'id': '2SGRHFFGVBX5PBQCLD4T43FS', 'name': 'projects/earthengine-legacy/operations/2SGRHFFGVBX5PBQCLD4T43FS'}\n",
            "Polling for task (id: 2SGRHFFGVBX5PBQCLD4T43FS).\n",
            "{'state': 'RUNNING', 'description': 'export_task', 'creation_timestamp_ms': 1642071091203, 'update_timestamp_ms': 1642071240277, 'start_timestamp_ms': 1642071119425, 'task_type': 'EXPORT_IMAGE', 'attempt': 1, 'id': '2SGRHFFGVBX5PBQCLD4T43FS', 'name': 'projects/earthengine-legacy/operations/2SGRHFFGVBX5PBQCLD4T43FS'}\n",
            "Polling for task (id: 2SGRHFFGVBX5PBQCLD4T43FS).\n",
            "{'state': 'RUNNING', 'description': 'export_task', 'creation_timestamp_ms': 1642071091203, 'update_timestamp_ms': 1642071240277, 'start_timestamp_ms': 1642071119425, 'task_type': 'EXPORT_IMAGE', 'attempt': 1, 'id': '2SGRHFFGVBX5PBQCLD4T43FS', 'name': 'projects/earthengine-legacy/operations/2SGRHFFGVBX5PBQCLD4T43FS'}\n",
            "Polling for task (id: 2SGRHFFGVBX5PBQCLD4T43FS).\n",
            "{'state': 'RUNNING', 'description': 'export_task', 'creation_timestamp_ms': 1642071091203, 'update_timestamp_ms': 1642071300281, 'start_timestamp_ms': 1642071119425, 'task_type': 'EXPORT_IMAGE', 'attempt': 1, 'id': '2SGRHFFGVBX5PBQCLD4T43FS', 'name': 'projects/earthengine-legacy/operations/2SGRHFFGVBX5PBQCLD4T43FS'}\n",
            "Polling for task (id: 2SGRHFFGVBX5PBQCLD4T43FS).\n",
            "{'state': 'RUNNING', 'description': 'export_task', 'creation_timestamp_ms': 1642071091203, 'update_timestamp_ms': 1642071300281, 'start_timestamp_ms': 1642071119425, 'task_type': 'EXPORT_IMAGE', 'attempt': 1, 'id': '2SGRHFFGVBX5PBQCLD4T43FS', 'name': 'projects/earthengine-legacy/operations/2SGRHFFGVBX5PBQCLD4T43FS'}\n",
            "Polling for task (id: 2SGRHFFGVBX5PBQCLD4T43FS).\n",
            "{'state': 'RUNNING', 'description': 'export_task', 'creation_timestamp_ms': 1642071091203, 'update_timestamp_ms': 1642071360303, 'start_timestamp_ms': 1642071119425, 'task_type': 'EXPORT_IMAGE', 'attempt': 1, 'id': '2SGRHFFGVBX5PBQCLD4T43FS', 'name': 'projects/earthengine-legacy/operations/2SGRHFFGVBX5PBQCLD4T43FS'}\n",
            "Polling for task (id: 2SGRHFFGVBX5PBQCLD4T43FS).\n",
            "{'state': 'RUNNING', 'description': 'export_task', 'creation_timestamp_ms': 1642071091203, 'update_timestamp_ms': 1642071360303, 'start_timestamp_ms': 1642071119425, 'task_type': 'EXPORT_IMAGE', 'attempt': 1, 'id': '2SGRHFFGVBX5PBQCLD4T43FS', 'name': 'projects/earthengine-legacy/operations/2SGRHFFGVBX5PBQCLD4T43FS'}\n",
            "Polling for task (id: 2SGRHFFGVBX5PBQCLD4T43FS).\n",
            "{'state': 'RUNNING', 'description': 'export_task', 'creation_timestamp_ms': 1642071091203, 'update_timestamp_ms': 1642071420309, 'start_timestamp_ms': 1642071119425, 'task_type': 'EXPORT_IMAGE', 'attempt': 1, 'id': '2SGRHFFGVBX5PBQCLD4T43FS', 'name': 'projects/earthengine-legacy/operations/2SGRHFFGVBX5PBQCLD4T43FS'}\n"
          ]
        },
        {
          "output_type": "stream",
          "name": "stderr",
          "text": [
            "\r  1%|          | 1/108 [06:04<10:50:16, 364.64s/it]/usr/local/lib/python3.7/dist-packages/pyproj/crs/crs.py:131: FutureWarning: '+init=<authority>:<code>' syntax is deprecated. '<authority>:<code>' is the preferred initialization method. When making the change, be mindful of axis order changes: https://pyproj4.github.io/pyproj/stable/gotchas.html#axis-order-changes-in-proj-6\n",
            "  in_crs_string = _prepare_from_proj_string(in_crs_string)\n",
            "/usr/local/lib/python3.7/dist-packages/pyproj/crs/crs.py:131: FutureWarning: '+init=<authority>:<code>' syntax is deprecated. '<authority>:<code>' is the preferred initialization method. When making the change, be mindful of axis order changes: https://pyproj4.github.io/pyproj/stable/gotchas.html#axis-order-changes-in-proj-6\n",
            "  in_crs_string = _prepare_from_proj_string(in_crs_string)\n",
            "/usr/local/lib/python3.7/dist-packages/ipykernel_launcher.py:18: DeprecationWarning: This function is deprecated. See: https://pyproj4.github.io/pyproj/stable/gotchas.html#upgrading-to-pyproj-2-from-pyproj-1\n",
            "/usr/local/lib/python3.7/dist-packages/ipykernel_launcher.py:19: DeprecationWarning: This function is deprecated. See: https://pyproj4.github.io/pyproj/stable/gotchas.html#upgrading-to-pyproj-2-from-pyproj-1\n"
          ]
        },
        {
          "output_type": "stream",
          "name": "stdout",
          "text": [
            "{   'fire_alert_date': '2018-07-27',\n",
            "    'fire_alert_date_a_few_days_before': '2018-06-27',\n",
            "    'fire_area': 166003.05,\n",
            "    'fire_cont_date': '2018-09-19',\n",
            "    'fire_cont_date_a_few_days_after': '2018-10-19',\n",
            "    'fire_name': 'CAL_database_Sentinel2_8170',\n",
            "    'fire_perimeter': [   -123.1095883962178,\n",
            "                          39.045238703196624,\n",
            "                          -122.43667364733632,\n",
            "                          39.528976753305706]}\n",
            "1 / 108\n",
            "Generating the Sentinel tif: CAL_database_Sentinel2_8170_postFire_RGBIR\n",
            "Polling for task (id: IFFKJ5AAKRTXI7QOG7BR4RBJ).\n",
            "{'state': 'READY', 'description': 'export_task', 'creation_timestamp_ms': 1642071455881, 'update_timestamp_ms': 1642071455881, 'start_timestamp_ms': 0, 'task_type': 'EXPORT_IMAGE', 'id': 'IFFKJ5AAKRTXI7QOG7BR4RBJ', 'name': 'projects/earthengine-legacy/operations/IFFKJ5AAKRTXI7QOG7BR4RBJ'}\n",
            "Polling for task (id: IFFKJ5AAKRTXI7QOG7BR4RBJ).\n",
            "{'state': 'READY', 'description': 'export_task', 'creation_timestamp_ms': 1642071455881, 'update_timestamp_ms': 1642071455881, 'start_timestamp_ms': 0, 'task_type': 'EXPORT_IMAGE', 'id': 'IFFKJ5AAKRTXI7QOG7BR4RBJ', 'name': 'projects/earthengine-legacy/operations/IFFKJ5AAKRTXI7QOG7BR4RBJ'}\n"
          ]
        },
        {
          "output_type": "stream",
          "name": "stderr",
          "text": [
            "\r  2%|▏         | 2/108 [07:06<5:29:10, 186.33s/it] /usr/local/lib/python3.7/dist-packages/pyproj/crs/crs.py:131: FutureWarning: '+init=<authority>:<code>' syntax is deprecated. '<authority>:<code>' is the preferred initialization method. When making the change, be mindful of axis order changes: https://pyproj4.github.io/pyproj/stable/gotchas.html#axis-order-changes-in-proj-6\n",
            "  in_crs_string = _prepare_from_proj_string(in_crs_string)\n",
            "/usr/local/lib/python3.7/dist-packages/pyproj/crs/crs.py:131: FutureWarning: '+init=<authority>:<code>' syntax is deprecated. '<authority>:<code>' is the preferred initialization method. When making the change, be mindful of axis order changes: https://pyproj4.github.io/pyproj/stable/gotchas.html#axis-order-changes-in-proj-6\n",
            "  in_crs_string = _prepare_from_proj_string(in_crs_string)\n",
            "/usr/local/lib/python3.7/dist-packages/ipykernel_launcher.py:18: DeprecationWarning: This function is deprecated. See: https://pyproj4.github.io/pyproj/stable/gotchas.html#upgrading-to-pyproj-2-from-pyproj-1\n",
            "/usr/local/lib/python3.7/dist-packages/ipykernel_launcher.py:19: DeprecationWarning: This function is deprecated. See: https://pyproj4.github.io/pyproj/stable/gotchas.html#upgrading-to-pyproj-2-from-pyproj-1\n"
          ]
        },
        {
          "output_type": "stream",
          "name": "stdout",
          "text": [
            "{   'fire_alert_date': '2020-08-16',\n",
            "    'fire_alert_date_a_few_days_before': '2020-07-17',\n",
            "    'fire_area': 160589.16,\n",
            "    'fire_cont_date': '2020-09-11',\n",
            "    'fire_cont_date_a_few_days_after': '2020-10-11',\n",
            "    'fire_name': 'CAL_database_Sentinel2_176',\n",
            "    'fire_perimeter': [   -121.93715756868603,\n",
            "                          37.10849804709762,\n",
            "                          -121.11157695114096,\n",
            "                          37.88721509286988]}\n",
            "2 / 108\n",
            "Generating the Sentinel tif: CAL_database_Sentinel2_176_postFire_RGBIR\n",
            "Polling for task (id: FM7J2HEOGP2N74YYXCEBGLP3).\n",
            "{'state': 'READY', 'description': 'export_task', 'creation_timestamp_ms': 1642071517341, 'update_timestamp_ms': 1642071517341, 'start_timestamp_ms': 0, 'task_type': 'EXPORT_IMAGE', 'id': 'FM7J2HEOGP2N74YYXCEBGLP3', 'name': 'projects/earthengine-legacy/operations/FM7J2HEOGP2N74YYXCEBGLP3'}\n",
            "Polling for task (id: FM7J2HEOGP2N74YYXCEBGLP3).\n",
            "{'state': 'RUNNING', 'description': 'export_task', 'creation_timestamp_ms': 1642071517341, 'update_timestamp_ms': 1642071547362, 'start_timestamp_ms': 1642071547223, 'task_type': 'EXPORT_IMAGE', 'attempt': 1, 'id': 'FM7J2HEOGP2N74YYXCEBGLP3', 'name': 'projects/earthengine-legacy/operations/FM7J2HEOGP2N74YYXCEBGLP3'}\n",
            "Polling for task (id: FM7J2HEOGP2N74YYXCEBGLP3).\n",
            "{'state': 'RUNNING', 'description': 'export_task', 'creation_timestamp_ms': 1642071517341, 'update_timestamp_ms': 1642071550104, 'start_timestamp_ms': 1642071547223, 'task_type': 'EXPORT_IMAGE', 'attempt': 1, 'id': 'FM7J2HEOGP2N74YYXCEBGLP3', 'name': 'projects/earthengine-legacy/operations/FM7J2HEOGP2N74YYXCEBGLP3'}\n",
            "Polling for task (id: FM7J2HEOGP2N74YYXCEBGLP3).\n",
            "{'state': 'RUNNING', 'description': 'export_task', 'creation_timestamp_ms': 1642071517341, 'update_timestamp_ms': 1642071607949, 'start_timestamp_ms': 1642071547223, 'task_type': 'EXPORT_IMAGE', 'attempt': 1, 'id': 'FM7J2HEOGP2N74YYXCEBGLP3', 'name': 'projects/earthengine-legacy/operations/FM7J2HEOGP2N74YYXCEBGLP3'}\n",
            "Polling for task (id: FM7J2HEOGP2N74YYXCEBGLP3).\n",
            "{'state': 'RUNNING', 'description': 'export_task', 'creation_timestamp_ms': 1642071517341, 'update_timestamp_ms': 1642071607949, 'start_timestamp_ms': 1642071547223, 'task_type': 'EXPORT_IMAGE', 'attempt': 1, 'id': 'FM7J2HEOGP2N74YYXCEBGLP3', 'name': 'projects/earthengine-legacy/operations/FM7J2HEOGP2N74YYXCEBGLP3'}\n",
            "Polling for task (id: FM7J2HEOGP2N74YYXCEBGLP3).\n",
            "{'state': 'RUNNING', 'description': 'export_task', 'creation_timestamp_ms': 1642071517341, 'update_timestamp_ms': 1642071667943, 'start_timestamp_ms': 1642071547223, 'task_type': 'EXPORT_IMAGE', 'attempt': 1, 'id': 'FM7J2HEOGP2N74YYXCEBGLP3', 'name': 'projects/earthengine-legacy/operations/FM7J2HEOGP2N74YYXCEBGLP3'}\n",
            "Polling for task (id: FM7J2HEOGP2N74YYXCEBGLP3).\n",
            "{'state': 'RUNNING', 'description': 'export_task', 'creation_timestamp_ms': 1642071517341, 'update_timestamp_ms': 1642071667943, 'start_timestamp_ms': 1642071547223, 'task_type': 'EXPORT_IMAGE', 'attempt': 1, 'id': 'FM7J2HEOGP2N74YYXCEBGLP3', 'name': 'projects/earthengine-legacy/operations/FM7J2HEOGP2N74YYXCEBGLP3'}\n",
            "Polling for task (id: FM7J2HEOGP2N74YYXCEBGLP3).\n",
            "{'state': 'RUNNING', 'description': 'export_task', 'creation_timestamp_ms': 1642071517341, 'update_timestamp_ms': 1642071727945, 'start_timestamp_ms': 1642071547223, 'task_type': 'EXPORT_IMAGE', 'attempt': 1, 'id': 'FM7J2HEOGP2N74YYXCEBGLP3', 'name': 'projects/earthengine-legacy/operations/FM7J2HEOGP2N74YYXCEBGLP3'}\n",
            "Polling for task (id: FM7J2HEOGP2N74YYXCEBGLP3).\n",
            "{'state': 'RUNNING', 'description': 'export_task', 'creation_timestamp_ms': 1642071517341, 'update_timestamp_ms': 1642071727945, 'start_timestamp_ms': 1642071547223, 'task_type': 'EXPORT_IMAGE', 'attempt': 1, 'id': 'FM7J2HEOGP2N74YYXCEBGLP3', 'name': 'projects/earthengine-legacy/operations/FM7J2HEOGP2N74YYXCEBGLP3'}\n",
            "Polling for task (id: FM7J2HEOGP2N74YYXCEBGLP3).\n",
            "{'state': 'RUNNING', 'description': 'export_task', 'creation_timestamp_ms': 1642071517341, 'update_timestamp_ms': 1642071787948, 'start_timestamp_ms': 1642071547223, 'task_type': 'EXPORT_IMAGE', 'attempt': 1, 'id': 'FM7J2HEOGP2N74YYXCEBGLP3', 'name': 'projects/earthengine-legacy/operations/FM7J2HEOGP2N74YYXCEBGLP3'}\n",
            "Polling for task (id: FM7J2HEOGP2N74YYXCEBGLP3).\n",
            "{'state': 'RUNNING', 'description': 'export_task', 'creation_timestamp_ms': 1642071517341, 'update_timestamp_ms': 1642071787948, 'start_timestamp_ms': 1642071547223, 'task_type': 'EXPORT_IMAGE', 'attempt': 1, 'id': 'FM7J2HEOGP2N74YYXCEBGLP3', 'name': 'projects/earthengine-legacy/operations/FM7J2HEOGP2N74YYXCEBGLP3'}\n",
            "Polling for task (id: FM7J2HEOGP2N74YYXCEBGLP3).\n",
            "{'state': 'RUNNING', 'description': 'export_task', 'creation_timestamp_ms': 1642071517341, 'update_timestamp_ms': 1642071847945, 'start_timestamp_ms': 1642071547223, 'task_type': 'EXPORT_IMAGE', 'attempt': 1, 'id': 'FM7J2HEOGP2N74YYXCEBGLP3', 'name': 'projects/earthengine-legacy/operations/FM7J2HEOGP2N74YYXCEBGLP3'}\n",
            "Polling for task (id: FM7J2HEOGP2N74YYXCEBGLP3).\n",
            "{'state': 'RUNNING', 'description': 'export_task', 'creation_timestamp_ms': 1642071517341, 'update_timestamp_ms': 1642071847945, 'start_timestamp_ms': 1642071547223, 'task_type': 'EXPORT_IMAGE', 'attempt': 1, 'id': 'FM7J2HEOGP2N74YYXCEBGLP3', 'name': 'projects/earthengine-legacy/operations/FM7J2HEOGP2N74YYXCEBGLP3'}\n",
            "Polling for task (id: FM7J2HEOGP2N74YYXCEBGLP3).\n",
            "{'state': 'RUNNING', 'description': 'export_task', 'creation_timestamp_ms': 1642071517341, 'update_timestamp_ms': 1642071907949, 'start_timestamp_ms': 1642071547223, 'task_type': 'EXPORT_IMAGE', 'attempt': 1, 'id': 'FM7J2HEOGP2N74YYXCEBGLP3', 'name': 'projects/earthengine-legacy/operations/FM7J2HEOGP2N74YYXCEBGLP3'}\n",
            "Polling for task (id: FM7J2HEOGP2N74YYXCEBGLP3).\n",
            "{'state': 'RUNNING', 'description': 'export_task', 'creation_timestamp_ms': 1642071517341, 'update_timestamp_ms': 1642071907949, 'start_timestamp_ms': 1642071547223, 'task_type': 'EXPORT_IMAGE', 'attempt': 1, 'id': 'FM7J2HEOGP2N74YYXCEBGLP3', 'name': 'projects/earthengine-legacy/operations/FM7J2HEOGP2N74YYXCEBGLP3'}\n",
            "Polling for task (id: FM7J2HEOGP2N74YYXCEBGLP3).\n",
            "{'state': 'RUNNING', 'description': 'export_task', 'creation_timestamp_ms': 1642071517341, 'update_timestamp_ms': 1642071967958, 'start_timestamp_ms': 1642071547223, 'task_type': 'EXPORT_IMAGE', 'attempt': 1, 'id': 'FM7J2HEOGP2N74YYXCEBGLP3', 'name': 'projects/earthengine-legacy/operations/FM7J2HEOGP2N74YYXCEBGLP3'}\n",
            "Polling for task (id: FM7J2HEOGP2N74YYXCEBGLP3).\n",
            "{'state': 'RUNNING', 'description': 'export_task', 'creation_timestamp_ms': 1642071517341, 'update_timestamp_ms': 1642071967958, 'start_timestamp_ms': 1642071547223, 'task_type': 'EXPORT_IMAGE', 'attempt': 1, 'id': 'FM7J2HEOGP2N74YYXCEBGLP3', 'name': 'projects/earthengine-legacy/operations/FM7J2HEOGP2N74YYXCEBGLP3'}\n",
            "Polling for task (id: FM7J2HEOGP2N74YYXCEBGLP3).\n",
            "{'state': 'RUNNING', 'description': 'export_task', 'creation_timestamp_ms': 1642071517341, 'update_timestamp_ms': 1642072027965, 'start_timestamp_ms': 1642071547223, 'task_type': 'EXPORT_IMAGE', 'attempt': 1, 'id': 'FM7J2HEOGP2N74YYXCEBGLP3', 'name': 'projects/earthengine-legacy/operations/FM7J2HEOGP2N74YYXCEBGLP3'}\n",
            "Polling for task (id: FM7J2HEOGP2N74YYXCEBGLP3).\n",
            "{'state': 'RUNNING', 'description': 'export_task', 'creation_timestamp_ms': 1642071517341, 'update_timestamp_ms': 1642072027965, 'start_timestamp_ms': 1642071547223, 'task_type': 'EXPORT_IMAGE', 'attempt': 1, 'id': 'FM7J2HEOGP2N74YYXCEBGLP3', 'name': 'projects/earthengine-legacy/operations/FM7J2HEOGP2N74YYXCEBGLP3'}\n",
            "Polling for task (id: FM7J2HEOGP2N74YYXCEBGLP3).\n",
            "{'state': 'RUNNING', 'description': 'export_task', 'creation_timestamp_ms': 1642071517341, 'update_timestamp_ms': 1642072087965, 'start_timestamp_ms': 1642071547223, 'task_type': 'EXPORT_IMAGE', 'attempt': 1, 'id': 'FM7J2HEOGP2N74YYXCEBGLP3', 'name': 'projects/earthengine-legacy/operations/FM7J2HEOGP2N74YYXCEBGLP3'}\n",
            "Polling for task (id: FM7J2HEOGP2N74YYXCEBGLP3).\n",
            "{'state': 'RUNNING', 'description': 'export_task', 'creation_timestamp_ms': 1642071517341, 'update_timestamp_ms': 1642072087965, 'start_timestamp_ms': 1642071547223, 'task_type': 'EXPORT_IMAGE', 'attempt': 1, 'id': 'FM7J2HEOGP2N74YYXCEBGLP3', 'name': 'projects/earthengine-legacy/operations/FM7J2HEOGP2N74YYXCEBGLP3'}\n",
            "Polling for task (id: FM7J2HEOGP2N74YYXCEBGLP3).\n",
            "{'state': 'RUNNING', 'description': 'export_task', 'creation_timestamp_ms': 1642071517341, 'update_timestamp_ms': 1642072087965, 'start_timestamp_ms': 1642071547223, 'task_type': 'EXPORT_IMAGE', 'attempt': 1, 'id': 'FM7J2HEOGP2N74YYXCEBGLP3', 'name': 'projects/earthengine-legacy/operations/FM7J2HEOGP2N74YYXCEBGLP3'}\n"
          ]
        },
        {
          "output_type": "stream",
          "name": "stderr",
          "text": [
            "\r  3%|▎         | 3/108 [18:14<11:51:17, 406.46s/it]/usr/local/lib/python3.7/dist-packages/pyproj/crs/crs.py:131: FutureWarning: '+init=<authority>:<code>' syntax is deprecated. '<authority>:<code>' is the preferred initialization method. When making the change, be mindful of axis order changes: https://pyproj4.github.io/pyproj/stable/gotchas.html#axis-order-changes-in-proj-6\n",
            "  in_crs_string = _prepare_from_proj_string(in_crs_string)\n",
            "/usr/local/lib/python3.7/dist-packages/pyproj/crs/crs.py:131: FutureWarning: '+init=<authority>:<code>' syntax is deprecated. '<authority>:<code>' is the preferred initialization method. When making the change, be mindful of axis order changes: https://pyproj4.github.io/pyproj/stable/gotchas.html#axis-order-changes-in-proj-6\n",
            "  in_crs_string = _prepare_from_proj_string(in_crs_string)\n",
            "/usr/local/lib/python3.7/dist-packages/ipykernel_launcher.py:18: DeprecationWarning: This function is deprecated. See: https://pyproj4.github.io/pyproj/stable/gotchas.html#upgrading-to-pyproj-2-from-pyproj-1\n",
            "/usr/local/lib/python3.7/dist-packages/ipykernel_launcher.py:19: DeprecationWarning: This function is deprecated. See: https://pyproj4.github.io/pyproj/stable/gotchas.html#upgrading-to-pyproj-2-from-pyproj-1\n"
          ]
        },
        {
          "output_type": "stream",
          "name": "stdout",
          "text": [
            "{   'fire_alert_date': '2020-09-04',\n",
            "    'fire_alert_date_a_few_days_before': '2020-08-05',\n",
            "    'fire_area': 153716.77,\n",
            "    'fire_cont_date': '2020-12-24',\n",
            "    'fire_cont_date_a_few_days_after': '2021-01-23',\n",
            "    'fire_name': 'CAL_database_Sentinel2_248',\n",
            "    'fire_perimeter': [   -119.50170452441222,\n",
            "                          36.99692388442021,\n",
            "                          -118.93120856703038,\n",
            "                          37.636137935382365]}\n",
            "3 / 108\n",
            "Generating the Sentinel tif: CAL_database_Sentinel2_248_postFire_RGBIR\n",
            "Polling for task (id: 7HFHRMTXSYPJ3PF7WIOVLRL7).\n",
            "{'state': 'READY', 'description': 'export_task', 'creation_timestamp_ms': 1642072185762, 'update_timestamp_ms': 1642072185762, 'start_timestamp_ms': 0, 'task_type': 'EXPORT_IMAGE', 'id': '7HFHRMTXSYPJ3PF7WIOVLRL7', 'name': 'projects/earthengine-legacy/operations/7HFHRMTXSYPJ3PF7WIOVLRL7'}\n",
            "Polling for task (id: 7HFHRMTXSYPJ3PF7WIOVLRL7).\n",
            "{'state': 'RUNNING', 'description': 'export_task', 'creation_timestamp_ms': 1642072185762, 'update_timestamp_ms': 1642072214294, 'start_timestamp_ms': 1642072214155, 'task_type': 'EXPORT_IMAGE', 'attempt': 1, 'id': '7HFHRMTXSYPJ3PF7WIOVLRL7', 'name': 'projects/earthengine-legacy/operations/7HFHRMTXSYPJ3PF7WIOVLRL7'}\n",
            "Polling for task (id: 7HFHRMTXSYPJ3PF7WIOVLRL7).\n",
            "{'state': 'RUNNING', 'description': 'export_task', 'creation_timestamp_ms': 1642072185762, 'update_timestamp_ms': 1642072219674, 'start_timestamp_ms': 1642072214155, 'task_type': 'EXPORT_IMAGE', 'attempt': 1, 'id': '7HFHRMTXSYPJ3PF7WIOVLRL7', 'name': 'projects/earthengine-legacy/operations/7HFHRMTXSYPJ3PF7WIOVLRL7'}\n",
            "Polling for task (id: 7HFHRMTXSYPJ3PF7WIOVLRL7).\n",
            "{'state': 'RUNNING', 'description': 'export_task', 'creation_timestamp_ms': 1642072185762, 'update_timestamp_ms': 1642072274857, 'start_timestamp_ms': 1642072214155, 'task_type': 'EXPORT_IMAGE', 'attempt': 1, 'id': '7HFHRMTXSYPJ3PF7WIOVLRL7', 'name': 'projects/earthengine-legacy/operations/7HFHRMTXSYPJ3PF7WIOVLRL7'}\n",
            "Polling for task (id: 7HFHRMTXSYPJ3PF7WIOVLRL7).\n",
            "{'state': 'RUNNING', 'description': 'export_task', 'creation_timestamp_ms': 1642072185762, 'update_timestamp_ms': 1642072274857, 'start_timestamp_ms': 1642072214155, 'task_type': 'EXPORT_IMAGE', 'attempt': 1, 'id': '7HFHRMTXSYPJ3PF7WIOVLRL7', 'name': 'projects/earthengine-legacy/operations/7HFHRMTXSYPJ3PF7WIOVLRL7'}\n",
            "Polling for task (id: 7HFHRMTXSYPJ3PF7WIOVLRL7).\n",
            "{'state': 'RUNNING', 'description': 'export_task', 'creation_timestamp_ms': 1642072185762, 'update_timestamp_ms': 1642072334864, 'start_timestamp_ms': 1642072214155, 'task_type': 'EXPORT_IMAGE', 'attempt': 1, 'id': '7HFHRMTXSYPJ3PF7WIOVLRL7', 'name': 'projects/earthengine-legacy/operations/7HFHRMTXSYPJ3PF7WIOVLRL7'}\n",
            "Polling for task (id: 7HFHRMTXSYPJ3PF7WIOVLRL7).\n",
            "{'state': 'RUNNING', 'description': 'export_task', 'creation_timestamp_ms': 1642072185762, 'update_timestamp_ms': 1642072334864, 'start_timestamp_ms': 1642072214155, 'task_type': 'EXPORT_IMAGE', 'attempt': 1, 'id': '7HFHRMTXSYPJ3PF7WIOVLRL7', 'name': 'projects/earthengine-legacy/operations/7HFHRMTXSYPJ3PF7WIOVLRL7'}\n",
            "Polling for task (id: 7HFHRMTXSYPJ3PF7WIOVLRL7).\n",
            "{'state': 'RUNNING', 'description': 'export_task', 'creation_timestamp_ms': 1642072185762, 'update_timestamp_ms': 1642072394869, 'start_timestamp_ms': 1642072214155, 'task_type': 'EXPORT_IMAGE', 'attempt': 1, 'id': '7HFHRMTXSYPJ3PF7WIOVLRL7', 'name': 'projects/earthengine-legacy/operations/7HFHRMTXSYPJ3PF7WIOVLRL7'}\n",
            "Polling for task (id: 7HFHRMTXSYPJ3PF7WIOVLRL7).\n",
            "{'state': 'RUNNING', 'description': 'export_task', 'creation_timestamp_ms': 1642072185762, 'update_timestamp_ms': 1642072394869, 'start_timestamp_ms': 1642072214155, 'task_type': 'EXPORT_IMAGE', 'attempt': 1, 'id': '7HFHRMTXSYPJ3PF7WIOVLRL7', 'name': 'projects/earthengine-legacy/operations/7HFHRMTXSYPJ3PF7WIOVLRL7'}\n",
            "Polling for task (id: 7HFHRMTXSYPJ3PF7WIOVLRL7).\n",
            "{'state': 'RUNNING', 'description': 'export_task', 'creation_timestamp_ms': 1642072185762, 'update_timestamp_ms': 1642072454873, 'start_timestamp_ms': 1642072214155, 'task_type': 'EXPORT_IMAGE', 'attempt': 1, 'id': '7HFHRMTXSYPJ3PF7WIOVLRL7', 'name': 'projects/earthengine-legacy/operations/7HFHRMTXSYPJ3PF7WIOVLRL7'}\n"
          ]
        },
        {
          "output_type": "stream",
          "name": "stderr",
          "text": [
            "\r  4%|▎         | 4/108 [23:18<10:34:23, 366.00s/it]/usr/local/lib/python3.7/dist-packages/pyproj/crs/crs.py:131: FutureWarning: '+init=<authority>:<code>' syntax is deprecated. '<authority>:<code>' is the preferred initialization method. When making the change, be mindful of axis order changes: https://pyproj4.github.io/pyproj/stable/gotchas.html#axis-order-changes-in-proj-6\n",
            "  in_crs_string = _prepare_from_proj_string(in_crs_string)\n",
            "/usr/local/lib/python3.7/dist-packages/pyproj/crs/crs.py:131: FutureWarning: '+init=<authority>:<code>' syntax is deprecated. '<authority>:<code>' is the preferred initialization method. When making the change, be mindful of axis order changes: https://pyproj4.github.io/pyproj/stable/gotchas.html#axis-order-changes-in-proj-6\n",
            "  in_crs_string = _prepare_from_proj_string(in_crs_string)\n",
            "/usr/local/lib/python3.7/dist-packages/ipykernel_launcher.py:18: DeprecationWarning: This function is deprecated. See: https://pyproj4.github.io/pyproj/stable/gotchas.html#upgrading-to-pyproj-2-from-pyproj-1\n",
            "/usr/local/lib/python3.7/dist-packages/ipykernel_launcher.py:19: DeprecationWarning: This function is deprecated. See: https://pyproj4.github.io/pyproj/stable/gotchas.html#upgrading-to-pyproj-2-from-pyproj-1\n"
          ]
        },
        {
          "output_type": "stream",
          "name": "stdout",
          "text": [
            "{   'fire_alert_date': '2020-08-17',\n",
            "    'fire_alert_date_a_few_days_before': '2020-07-18',\n",
            "    'fire_area': 129012.67,\n",
            "    'fire_cont_date': '2020-12-03',\n",
            "    'fire_cont_date_a_few_days_after': '2021-01-02',\n",
            "    'fire_name': 'CAL_database_Sentinel2_243',\n",
            "    'fire_perimeter': [   -121.48887013240986,\n",
            "                          39.51712775969083,\n",
            "                          -120.7406153945249,\n",
            "                          40.0565075014461]}\n",
            "4 / 108\n",
            "Generating the Sentinel tif: CAL_database_Sentinel2_243_postFire_RGBIR\n",
            "Polling for task (id: E6TFGET6PVTXOA3YX4AQRTZZ).\n",
            "{'state': 'READY', 'description': 'export_task', 'creation_timestamp_ms': 1642072489703, 'update_timestamp_ms': 1642072489703, 'start_timestamp_ms': 0, 'task_type': 'EXPORT_IMAGE', 'id': 'E6TFGET6PVTXOA3YX4AQRTZZ', 'name': 'projects/earthengine-legacy/operations/E6TFGET6PVTXOA3YX4AQRTZZ'}\n",
            "Polling for task (id: E6TFGET6PVTXOA3YX4AQRTZZ).\n",
            "{'state': 'RUNNING', 'description': 'export_task', 'creation_timestamp_ms': 1642072489703, 'update_timestamp_ms': 1642072518087, 'start_timestamp_ms': 1642072517947, 'task_type': 'EXPORT_IMAGE', 'attempt': 1, 'id': 'E6TFGET6PVTXOA3YX4AQRTZZ', 'name': 'projects/earthengine-legacy/operations/E6TFGET6PVTXOA3YX4AQRTZZ'}\n",
            "Polling for task (id: E6TFGET6PVTXOA3YX4AQRTZZ).\n",
            "{'state': 'RUNNING', 'description': 'export_task', 'creation_timestamp_ms': 1642072489703, 'update_timestamp_ms': 1642072520877, 'start_timestamp_ms': 1642072517947, 'task_type': 'EXPORT_IMAGE', 'attempt': 1, 'id': 'E6TFGET6PVTXOA3YX4AQRTZZ', 'name': 'projects/earthengine-legacy/operations/E6TFGET6PVTXOA3YX4AQRTZZ'}\n",
            "Polling for task (id: E6TFGET6PVTXOA3YX4AQRTZZ).\n",
            "{'state': 'RUNNING', 'description': 'export_task', 'creation_timestamp_ms': 1642072489703, 'update_timestamp_ms': 1642072578570, 'start_timestamp_ms': 1642072517947, 'task_type': 'EXPORT_IMAGE', 'attempt': 1, 'id': 'E6TFGET6PVTXOA3YX4AQRTZZ', 'name': 'projects/earthengine-legacy/operations/E6TFGET6PVTXOA3YX4AQRTZZ'}\n",
            "Polling for task (id: E6TFGET6PVTXOA3YX4AQRTZZ).\n",
            "{'state': 'RUNNING', 'description': 'export_task', 'creation_timestamp_ms': 1642072489703, 'update_timestamp_ms': 1642072578570, 'start_timestamp_ms': 1642072517947, 'task_type': 'EXPORT_IMAGE', 'attempt': 1, 'id': 'E6TFGET6PVTXOA3YX4AQRTZZ', 'name': 'projects/earthengine-legacy/operations/E6TFGET6PVTXOA3YX4AQRTZZ'}\n",
            "Polling for task (id: E6TFGET6PVTXOA3YX4AQRTZZ).\n",
            "{'state': 'RUNNING', 'description': 'export_task', 'creation_timestamp_ms': 1642072489703, 'update_timestamp_ms': 1642072638576, 'start_timestamp_ms': 1642072517947, 'task_type': 'EXPORT_IMAGE', 'attempt': 1, 'id': 'E6TFGET6PVTXOA3YX4AQRTZZ', 'name': 'projects/earthengine-legacy/operations/E6TFGET6PVTXOA3YX4AQRTZZ'}\n",
            "Polling for task (id: E6TFGET6PVTXOA3YX4AQRTZZ).\n",
            "{'state': 'RUNNING', 'description': 'export_task', 'creation_timestamp_ms': 1642072489703, 'update_timestamp_ms': 1642072638576, 'start_timestamp_ms': 1642072517947, 'task_type': 'EXPORT_IMAGE', 'attempt': 1, 'id': 'E6TFGET6PVTXOA3YX4AQRTZZ', 'name': 'projects/earthengine-legacy/operations/E6TFGET6PVTXOA3YX4AQRTZZ'}\n",
            "Polling for task (id: E6TFGET6PVTXOA3YX4AQRTZZ).\n",
            "{'state': 'RUNNING', 'description': 'export_task', 'creation_timestamp_ms': 1642072489703, 'update_timestamp_ms': 1642072698587, 'start_timestamp_ms': 1642072517947, 'task_type': 'EXPORT_IMAGE', 'attempt': 1, 'id': 'E6TFGET6PVTXOA3YX4AQRTZZ', 'name': 'projects/earthengine-legacy/operations/E6TFGET6PVTXOA3YX4AQRTZZ'}\n"
          ]
        },
        {
          "output_type": "stream",
          "name": "stderr",
          "text": [
            "\r  5%|▍         | 5/108 [27:21<9:12:16, 321.71s/it] /usr/local/lib/python3.7/dist-packages/pyproj/crs/crs.py:131: FutureWarning: '+init=<authority>:<code>' syntax is deprecated. '<authority>:<code>' is the preferred initialization method. When making the change, be mindful of axis order changes: https://pyproj4.github.io/pyproj/stable/gotchas.html#axis-order-changes-in-proj-6\n",
            "  in_crs_string = _prepare_from_proj_string(in_crs_string)\n",
            "/usr/local/lib/python3.7/dist-packages/pyproj/crs/crs.py:131: FutureWarning: '+init=<authority>:<code>' syntax is deprecated. '<authority>:<code>' is the preferred initialization method. When making the change, be mindful of axis order changes: https://pyproj4.github.io/pyproj/stable/gotchas.html#axis-order-changes-in-proj-6\n",
            "  in_crs_string = _prepare_from_proj_string(in_crs_string)\n",
            "/usr/local/lib/python3.7/dist-packages/ipykernel_launcher.py:18: DeprecationWarning: This function is deprecated. See: https://pyproj4.github.io/pyproj/stable/gotchas.html#upgrading-to-pyproj-2-from-pyproj-1\n",
            "/usr/local/lib/python3.7/dist-packages/ipykernel_launcher.py:19: DeprecationWarning: This function is deprecated. See: https://pyproj4.github.io/pyproj/stable/gotchas.html#upgrading-to-pyproj-2-from-pyproj-1\n"
          ]
        },
        {
          "output_type": "stream",
          "name": "stdout",
          "text": [
            "{   'fire_alert_date': '2020-08-17',\n",
            "    'fire_alert_date_a_few_days_before': '2020-07-18',\n",
            "    'fire_area': 123571.52,\n",
            "    'fire_cont_date': '2020-09-16',\n",
            "    'fire_cont_date_a_few_days_after': '2020-10-16',\n",
            "    'fire_name': 'CAL_database_Sentinel2_226',\n",
            "    'fire_perimeter': [   -122.58222304378353,\n",
            "                          38.29811147134812,\n",
            "                          -121.97819219540715,\n",
            "                          38.94858846089029]}\n",
            "5 / 108\n",
            "Generating the Sentinel tif: CAL_database_Sentinel2_226_postFire_RGBIR\n",
            "Polling for task (id: U73J25PVZWUWIF5Y2UCLLBEV).\n",
            "{'state': 'READY', 'description': 'export_task', 'creation_timestamp_ms': 1642072732910, 'update_timestamp_ms': 1642072732910, 'start_timestamp_ms': 0, 'task_type': 'EXPORT_IMAGE', 'id': 'U73J25PVZWUWIF5Y2UCLLBEV', 'name': 'projects/earthengine-legacy/operations/U73J25PVZWUWIF5Y2UCLLBEV'}\n",
            "Polling for task (id: U73J25PVZWUWIF5Y2UCLLBEV).\n",
            "{'state': 'RUNNING', 'description': 'export_task', 'creation_timestamp_ms': 1642072732910, 'update_timestamp_ms': 1642072756869, 'start_timestamp_ms': 1642072753825, 'task_type': 'EXPORT_IMAGE', 'attempt': 1, 'id': 'U73J25PVZWUWIF5Y2UCLLBEV', 'name': 'projects/earthengine-legacy/operations/U73J25PVZWUWIF5Y2UCLLBEV'}\n",
            "Polling for task (id: U73J25PVZWUWIF5Y2UCLLBEV).\n",
            "{'state': 'RUNNING', 'description': 'export_task', 'creation_timestamp_ms': 1642072732910, 'update_timestamp_ms': 1642072756869, 'start_timestamp_ms': 1642072753825, 'task_type': 'EXPORT_IMAGE', 'attempt': 1, 'id': 'U73J25PVZWUWIF5Y2UCLLBEV', 'name': 'projects/earthengine-legacy/operations/U73J25PVZWUWIF5Y2UCLLBEV'}\n",
            "Polling for task (id: U73J25PVZWUWIF5Y2UCLLBEV).\n",
            "{'state': 'RUNNING', 'description': 'export_task', 'creation_timestamp_ms': 1642072732910, 'update_timestamp_ms': 1642072814514, 'start_timestamp_ms': 1642072753825, 'task_type': 'EXPORT_IMAGE', 'attempt': 1, 'id': 'U73J25PVZWUWIF5Y2UCLLBEV', 'name': 'projects/earthengine-legacy/operations/U73J25PVZWUWIF5Y2UCLLBEV'}\n",
            "Polling for task (id: U73J25PVZWUWIF5Y2UCLLBEV).\n",
            "{'state': 'RUNNING', 'description': 'export_task', 'creation_timestamp_ms': 1642072732910, 'update_timestamp_ms': 1642072814514, 'start_timestamp_ms': 1642072753825, 'task_type': 'EXPORT_IMAGE', 'attempt': 1, 'id': 'U73J25PVZWUWIF5Y2UCLLBEV', 'name': 'projects/earthengine-legacy/operations/U73J25PVZWUWIF5Y2UCLLBEV'}\n",
            "Polling for task (id: U73J25PVZWUWIF5Y2UCLLBEV).\n",
            "{'state': 'RUNNING', 'description': 'export_task', 'creation_timestamp_ms': 1642072732910, 'update_timestamp_ms': 1642072874518, 'start_timestamp_ms': 1642072753825, 'task_type': 'EXPORT_IMAGE', 'attempt': 1, 'id': 'U73J25PVZWUWIF5Y2UCLLBEV', 'name': 'projects/earthengine-legacy/operations/U73J25PVZWUWIF5Y2UCLLBEV'}\n",
            "Polling for task (id: U73J25PVZWUWIF5Y2UCLLBEV).\n",
            "{'state': 'RUNNING', 'description': 'export_task', 'creation_timestamp_ms': 1642072732910, 'update_timestamp_ms': 1642072874518, 'start_timestamp_ms': 1642072753825, 'task_type': 'EXPORT_IMAGE', 'attempt': 1, 'id': 'U73J25PVZWUWIF5Y2UCLLBEV', 'name': 'projects/earthengine-legacy/operations/U73J25PVZWUWIF5Y2UCLLBEV'}\n",
            "Polling for task (id: U73J25PVZWUWIF5Y2UCLLBEV).\n",
            "{'state': 'RUNNING', 'description': 'export_task', 'creation_timestamp_ms': 1642072732910, 'update_timestamp_ms': 1642072934531, 'start_timestamp_ms': 1642072753825, 'task_type': 'EXPORT_IMAGE', 'attempt': 1, 'id': 'U73J25PVZWUWIF5Y2UCLLBEV', 'name': 'projects/earthengine-legacy/operations/U73J25PVZWUWIF5Y2UCLLBEV'}\n",
            "Polling for task (id: U73J25PVZWUWIF5Y2UCLLBEV).\n",
            "{'state': 'RUNNING', 'description': 'export_task', 'creation_timestamp_ms': 1642072732910, 'update_timestamp_ms': 1642072934531, 'start_timestamp_ms': 1642072753825, 'task_type': 'EXPORT_IMAGE', 'attempt': 1, 'id': 'U73J25PVZWUWIF5Y2UCLLBEV', 'name': 'projects/earthengine-legacy/operations/U73J25PVZWUWIF5Y2UCLLBEV'}\n",
            "Polling for task (id: U73J25PVZWUWIF5Y2UCLLBEV).\n",
            "{'state': 'RUNNING', 'description': 'export_task', 'creation_timestamp_ms': 1642072732910, 'update_timestamp_ms': 1642072994525, 'start_timestamp_ms': 1642072753825, 'task_type': 'EXPORT_IMAGE', 'attempt': 1, 'id': 'U73J25PVZWUWIF5Y2UCLLBEV', 'name': 'projects/earthengine-legacy/operations/U73J25PVZWUWIF5Y2UCLLBEV'}\n",
            "Polling for task (id: U73J25PVZWUWIF5Y2UCLLBEV).\n",
            "{'state': 'RUNNING', 'description': 'export_task', 'creation_timestamp_ms': 1642072732910, 'update_timestamp_ms': 1642072994525, 'start_timestamp_ms': 1642072753825, 'task_type': 'EXPORT_IMAGE', 'attempt': 1, 'id': 'U73J25PVZWUWIF5Y2UCLLBEV', 'name': 'projects/earthengine-legacy/operations/U73J25PVZWUWIF5Y2UCLLBEV'}\n"
          ]
        },
        {
          "output_type": "stream",
          "name": "stderr",
          "text": [
            "\r  6%|▌         | 6/108 [32:56<9:14:21, 326.09s/it]/usr/local/lib/python3.7/dist-packages/pyproj/crs/crs.py:131: FutureWarning: '+init=<authority>:<code>' syntax is deprecated. '<authority>:<code>' is the preferred initialization method. When making the change, be mindful of axis order changes: https://pyproj4.github.io/pyproj/stable/gotchas.html#axis-order-changes-in-proj-6\n",
            "  in_crs_string = _prepare_from_proj_string(in_crs_string)\n",
            "/usr/local/lib/python3.7/dist-packages/pyproj/crs/crs.py:131: FutureWarning: '+init=<authority>:<code>' syntax is deprecated. '<authority>:<code>' is the preferred initialization method. When making the change, be mindful of axis order changes: https://pyproj4.github.io/pyproj/stable/gotchas.html#axis-order-changes-in-proj-6\n",
            "  in_crs_string = _prepare_from_proj_string(in_crs_string)\n",
            "/usr/local/lib/python3.7/dist-packages/ipykernel_launcher.py:18: DeprecationWarning: This function is deprecated. See: https://pyproj4.github.io/pyproj/stable/gotchas.html#upgrading-to-pyproj-2-from-pyproj-1\n",
            "/usr/local/lib/python3.7/dist-packages/ipykernel_launcher.py:19: DeprecationWarning: This function is deprecated. See: https://pyproj4.github.io/pyproj/stable/gotchas.html#upgrading-to-pyproj-2-from-pyproj-1\n"
          ]
        },
        {
          "output_type": "stream",
          "name": "stdout",
          "text": [
            "{   'fire_alert_date': '2017-12-04',\n",
            "    'fire_alert_date_a_few_days_before': '2017-11-04',\n",
            "    'fire_area': 114036.73,\n",
            "    'fire_cont_date': '2018-01-12',\n",
            "    'fire_cont_date_a_few_days_after': '2018-02-11',\n",
            "    'fire_name': 'CAL_database_Sentinel2_7753',\n",
            "    'fire_perimeter': [   -119.68901785859032,\n",
            "                          34.29280124649202,\n",
            "                          -118.91696285466172,\n",
            "                          34.621443808261944]}\n",
            "6 / 108\n",
            "Generating the Sentinel tif: CAL_database_Sentinel2_7753_postFire_RGBIR\n",
            "Polling for task (id: S72QQLYLDRRCPJE5EH3E7UDL).\n",
            "{'state': 'READY', 'description': 'export_task', 'creation_timestamp_ms': 1642073067533, 'update_timestamp_ms': 1642073067533, 'start_timestamp_ms': 0, 'task_type': 'EXPORT_IMAGE', 'id': 'S72QQLYLDRRCPJE5EH3E7UDL', 'name': 'projects/earthengine-legacy/operations/S72QQLYLDRRCPJE5EH3E7UDL'}\n"
          ]
        },
        {
          "output_type": "stream",
          "name": "stderr",
          "text": [
            "\r  6%|▋         | 7/108 [33:27<6:26:32, 229.63s/it]/usr/local/lib/python3.7/dist-packages/pyproj/crs/crs.py:131: FutureWarning: '+init=<authority>:<code>' syntax is deprecated. '<authority>:<code>' is the preferred initialization method. When making the change, be mindful of axis order changes: https://pyproj4.github.io/pyproj/stable/gotchas.html#axis-order-changes-in-proj-6\n",
            "  in_crs_string = _prepare_from_proj_string(in_crs_string)\n",
            "/usr/local/lib/python3.7/dist-packages/pyproj/crs/crs.py:131: FutureWarning: '+init=<authority>:<code>' syntax is deprecated. '<authority>:<code>' is the preferred initialization method. When making the change, be mindful of axis order changes: https://pyproj4.github.io/pyproj/stable/gotchas.html#axis-order-changes-in-proj-6\n",
            "  in_crs_string = _prepare_from_proj_string(in_crs_string)\n",
            "/usr/local/lib/python3.7/dist-packages/ipykernel_launcher.py:18: DeprecationWarning: This function is deprecated. See: https://pyproj4.github.io/pyproj/stable/gotchas.html#upgrading-to-pyproj-2-from-pyproj-1\n",
            "/usr/local/lib/python3.7/dist-packages/ipykernel_launcher.py:19: DeprecationWarning: This function is deprecated. See: https://pyproj4.github.io/pyproj/stable/gotchas.html#upgrading-to-pyproj-2-from-pyproj-1\n"
          ]
        },
        {
          "output_type": "stream",
          "name": "stdout",
          "text": [
            "{   'fire_alert_date': '2018-07-23',\n",
            "    'fire_alert_date_a_few_days_before': '2018-06-23',\n",
            "    'fire_area': 92936.62,\n",
            "    'fire_cont_date': '2018-09-01',\n",
            "    'fire_cont_date_a_few_days_after': '2018-10-01',\n",
            "    'fire_name': 'CAL_database_Sentinel2_7992',\n",
            "    'fire_perimeter': [   -122.78466999596687,\n",
            "                          40.493150200327776,\n",
            "                          -122.39251488996382,\n",
            "                          40.93670239595063]}\n",
            "7 / 108\n",
            "Generating the Sentinel tif: CAL_database_Sentinel2_7992_postFire_RGBIR\n",
            "Polling for task (id: 4KAYDOH3AYSXCPNC5V6IE7UJ).\n",
            "{'state': 'READY', 'description': 'export_task', 'creation_timestamp_ms': 1642073098528, 'update_timestamp_ms': 1642073098528, 'start_timestamp_ms': 0, 'task_type': 'EXPORT_IMAGE', 'id': '4KAYDOH3AYSXCPNC5V6IE7UJ', 'name': 'projects/earthengine-legacy/operations/4KAYDOH3AYSXCPNC5V6IE7UJ'}\n"
          ]
        },
        {
          "output_type": "stream",
          "name": "stderr",
          "text": [
            "\r  7%|▋         | 8/108 [33:58<4:37:17, 166.38s/it]/usr/local/lib/python3.7/dist-packages/pyproj/crs/crs.py:131: FutureWarning: '+init=<authority>:<code>' syntax is deprecated. '<authority>:<code>' is the preferred initialization method. When making the change, be mindful of axis order changes: https://pyproj4.github.io/pyproj/stable/gotchas.html#axis-order-changes-in-proj-6\n",
            "  in_crs_string = _prepare_from_proj_string(in_crs_string)\n",
            "/usr/local/lib/python3.7/dist-packages/pyproj/crs/crs.py:131: FutureWarning: '+init=<authority>:<code>' syntax is deprecated. '<authority>:<code>' is the preferred initialization method. When making the change, be mindful of axis order changes: https://pyproj4.github.io/pyproj/stable/gotchas.html#axis-order-changes-in-proj-6\n",
            "  in_crs_string = _prepare_from_proj_string(in_crs_string)\n",
            "/usr/local/lib/python3.7/dist-packages/ipykernel_launcher.py:18: DeprecationWarning: This function is deprecated. See: https://pyproj4.github.io/pyproj/stable/gotchas.html#upgrading-to-pyproj-2-from-pyproj-1\n",
            "/usr/local/lib/python3.7/dist-packages/ipykernel_launcher.py:19: DeprecationWarning: This function is deprecated. See: https://pyproj4.github.io/pyproj/stable/gotchas.html#upgrading-to-pyproj-2-from-pyproj-1\n"
          ]
        },
        {
          "output_type": "stream",
          "name": "stdout",
          "text": [
            "{   'fire_alert_date': '2020-08-19',\n",
            "    'fire_alert_date_a_few_days_before': '2020-07-20',\n",
            "    'fire_area': 69058.77,\n",
            "    'fire_cont_date': '2021-01-04',\n",
            "    'fire_cont_date_a_few_days_after': '2021-02-03',\n",
            "    'fire_name': 'CAL_database_Sentinel2_244',\n",
            "    'fire_perimeter': [   -118.86112682107117,\n",
            "                          36.09210291506932,\n",
            "                          -118.28569630471146,\n",
            "                          36.37464327131643]}\n",
            "8 / 108\n",
            "Generating the Sentinel tif: CAL_database_Sentinel2_244_postFire_RGBIR\n",
            "Polling for task (id: ZZQKFSPHML5OT3434ODUDR5S).\n",
            "{'state': 'READY', 'description': 'export_task', 'creation_timestamp_ms': 1642073129473, 'update_timestamp_ms': 1642073129473, 'start_timestamp_ms': 0, 'task_type': 'EXPORT_IMAGE', 'id': 'ZZQKFSPHML5OT3434ODUDR5S', 'name': 'projects/earthengine-legacy/operations/ZZQKFSPHML5OT3434ODUDR5S'}\n",
            "Polling for task (id: ZZQKFSPHML5OT3434ODUDR5S).\n",
            "{'state': 'READY', 'description': 'export_task', 'creation_timestamp_ms': 1642073129473, 'update_timestamp_ms': 1642073129473, 'start_timestamp_ms': 0, 'task_type': 'EXPORT_IMAGE', 'id': 'ZZQKFSPHML5OT3434ODUDR5S', 'name': 'projects/earthengine-legacy/operations/ZZQKFSPHML5OT3434ODUDR5S'}\n",
            "Polling for task (id: ZZQKFSPHML5OT3434ODUDR5S).\n",
            "{'state': 'RUNNING', 'description': 'export_task', 'creation_timestamp_ms': 1642073129473, 'update_timestamp_ms': 1642073170306, 'start_timestamp_ms': 1642073164017, 'task_type': 'EXPORT_IMAGE', 'attempt': 1, 'id': 'ZZQKFSPHML5OT3434ODUDR5S', 'name': 'projects/earthengine-legacy/operations/ZZQKFSPHML5OT3434ODUDR5S'}\n",
            "Polling for task (id: ZZQKFSPHML5OT3434ODUDR5S).\n",
            "{'state': 'RUNNING', 'description': 'export_task', 'creation_timestamp_ms': 1642073129473, 'update_timestamp_ms': 1642073170306, 'start_timestamp_ms': 1642073164017, 'task_type': 'EXPORT_IMAGE', 'attempt': 1, 'id': 'ZZQKFSPHML5OT3434ODUDR5S', 'name': 'projects/earthengine-legacy/operations/ZZQKFSPHML5OT3434ODUDR5S'}\n",
            "Polling for task (id: ZZQKFSPHML5OT3434ODUDR5S).\n",
            "{'state': 'RUNNING', 'description': 'export_task', 'creation_timestamp_ms': 1642073129473, 'update_timestamp_ms': 1642073227984, 'start_timestamp_ms': 1642073164017, 'task_type': 'EXPORT_IMAGE', 'attempt': 1, 'id': 'ZZQKFSPHML5OT3434ODUDR5S', 'name': 'projects/earthengine-legacy/operations/ZZQKFSPHML5OT3434ODUDR5S'}\n",
            "Polling for task (id: ZZQKFSPHML5OT3434ODUDR5S).\n",
            "{'state': 'RUNNING', 'description': 'export_task', 'creation_timestamp_ms': 1642073129473, 'update_timestamp_ms': 1642073227984, 'start_timestamp_ms': 1642073164017, 'task_type': 'EXPORT_IMAGE', 'attempt': 1, 'id': 'ZZQKFSPHML5OT3434ODUDR5S', 'name': 'projects/earthengine-legacy/operations/ZZQKFSPHML5OT3434ODUDR5S'}\n",
            "Polling for task (id: ZZQKFSPHML5OT3434ODUDR5S).\n",
            "{'state': 'RUNNING', 'description': 'export_task', 'creation_timestamp_ms': 1642073129473, 'update_timestamp_ms': 1642073287998, 'start_timestamp_ms': 1642073164017, 'task_type': 'EXPORT_IMAGE', 'attempt': 1, 'id': 'ZZQKFSPHML5OT3434ODUDR5S', 'name': 'projects/earthengine-legacy/operations/ZZQKFSPHML5OT3434ODUDR5S'}\n",
            "Polling for task (id: ZZQKFSPHML5OT3434ODUDR5S).\n",
            "{'state': 'RUNNING', 'description': 'export_task', 'creation_timestamp_ms': 1642073129473, 'update_timestamp_ms': 1642073287998, 'start_timestamp_ms': 1642073164017, 'task_type': 'EXPORT_IMAGE', 'attempt': 1, 'id': 'ZZQKFSPHML5OT3434ODUDR5S', 'name': 'projects/earthengine-legacy/operations/ZZQKFSPHML5OT3434ODUDR5S'}\n",
            "Polling for task (id: ZZQKFSPHML5OT3434ODUDR5S).\n",
            "{'state': 'RUNNING', 'description': 'export_task', 'creation_timestamp_ms': 1642073129473, 'update_timestamp_ms': 1642073347995, 'start_timestamp_ms': 1642073164017, 'task_type': 'EXPORT_IMAGE', 'attempt': 1, 'id': 'ZZQKFSPHML5OT3434ODUDR5S', 'name': 'projects/earthengine-legacy/operations/ZZQKFSPHML5OT3434ODUDR5S'}\n"
          ]
        },
        {
          "output_type": "stream",
          "name": "stderr",
          "text": [
            "\r  8%|▊         | 9/108 [38:31<5:29:50, 199.91s/it]/usr/local/lib/python3.7/dist-packages/pyproj/crs/crs.py:131: FutureWarning: '+init=<authority>:<code>' syntax is deprecated. '<authority>:<code>' is the preferred initialization method. When making the change, be mindful of axis order changes: https://pyproj4.github.io/pyproj/stable/gotchas.html#axis-order-changes-in-proj-6\n",
            "  in_crs_string = _prepare_from_proj_string(in_crs_string)\n",
            "/usr/local/lib/python3.7/dist-packages/pyproj/crs/crs.py:131: FutureWarning: '+init=<authority>:<code>' syntax is deprecated. '<authority>:<code>' is the preferred initialization method. When making the change, be mindful of axis order changes: https://pyproj4.github.io/pyproj/stable/gotchas.html#axis-order-changes-in-proj-6\n",
            "  in_crs_string = _prepare_from_proj_string(in_crs_string)\n",
            "/usr/local/lib/python3.7/dist-packages/ipykernel_launcher.py:18: DeprecationWarning: This function is deprecated. See: https://pyproj4.github.io/pyproj/stable/gotchas.html#upgrading-to-pyproj-2-from-pyproj-1\n",
            "/usr/local/lib/python3.7/dist-packages/ipykernel_launcher.py:19: DeprecationWarning: This function is deprecated. See: https://pyproj4.github.io/pyproj/stable/gotchas.html#upgrading-to-pyproj-2-from-pyproj-1\n"
          ]
        },
        {
          "output_type": "stream",
          "name": "stdout",
          "text": [
            "{   'fire_alert_date': '2020-09-08',\n",
            "    'fire_alert_date_a_few_days_before': '2020-08-09',\n",
            "    'fire_area': 63709.61,\n",
            "    'fire_cont_date': '2020-12-12',\n",
            "    'fire_cont_date_a_few_days_after': '2021-01-11',\n",
            "    'fire_name': 'CAL_database_Sentinel2_263',\n",
            "    'fire_perimeter': [   -123.77871995074976,\n",
            "                          41.740821138921035,\n",
            "                          -123.29792710765294,\n",
            "                          42.115150789497655]}\n",
            "9 / 108\n",
            "Generating the Sentinel tif: CAL_database_Sentinel2_263_postFire_RGBIR\n",
            "Polling for task (id: P44YOM26X3J2726KHFNHSH3B).\n",
            "{'state': 'READY', 'description': 'export_task', 'creation_timestamp_ms': 1642073403135, 'update_timestamp_ms': 1642073403135, 'start_timestamp_ms': 0, 'task_type': 'EXPORT_IMAGE', 'id': 'P44YOM26X3J2726KHFNHSH3B', 'name': 'projects/earthengine-legacy/operations/P44YOM26X3J2726KHFNHSH3B'}\n",
            "Polling for task (id: P44YOM26X3J2726KHFNHSH3B).\n",
            "{'state': 'READY', 'description': 'export_task', 'creation_timestamp_ms': 1642073403135, 'update_timestamp_ms': 1642073403135, 'start_timestamp_ms': 0, 'task_type': 'EXPORT_IMAGE', 'id': 'P44YOM26X3J2726KHFNHSH3B', 'name': 'projects/earthengine-legacy/operations/P44YOM26X3J2726KHFNHSH3B'}\n",
            "Polling for task (id: P44YOM26X3J2726KHFNHSH3B).\n",
            "{'state': 'RUNNING', 'description': 'export_task', 'creation_timestamp_ms': 1642073403135, 'update_timestamp_ms': 1642073457575, 'start_timestamp_ms': 1642073449835, 'task_type': 'EXPORT_IMAGE', 'attempt': 1, 'id': 'P44YOM26X3J2726KHFNHSH3B', 'name': 'projects/earthengine-legacy/operations/P44YOM26X3J2726KHFNHSH3B'}\n",
            "Polling for task (id: P44YOM26X3J2726KHFNHSH3B).\n",
            "{'state': 'RUNNING', 'description': 'export_task', 'creation_timestamp_ms': 1642073403135, 'update_timestamp_ms': 1642073457575, 'start_timestamp_ms': 1642073449835, 'task_type': 'EXPORT_IMAGE', 'attempt': 1, 'id': 'P44YOM26X3J2726KHFNHSH3B', 'name': 'projects/earthengine-legacy/operations/P44YOM26X3J2726KHFNHSH3B'}\n",
            "Polling for task (id: P44YOM26X3J2726KHFNHSH3B).\n",
            "{'state': 'RUNNING', 'description': 'export_task', 'creation_timestamp_ms': 1642073403135, 'update_timestamp_ms': 1642073515269, 'start_timestamp_ms': 1642073449835, 'task_type': 'EXPORT_IMAGE', 'attempt': 1, 'id': 'P44YOM26X3J2726KHFNHSH3B', 'name': 'projects/earthengine-legacy/operations/P44YOM26X3J2726KHFNHSH3B'}\n",
            "Polling for task (id: P44YOM26X3J2726KHFNHSH3B).\n",
            "{'state': 'RUNNING', 'description': 'export_task', 'creation_timestamp_ms': 1642073403135, 'update_timestamp_ms': 1642073515269, 'start_timestamp_ms': 1642073449835, 'task_type': 'EXPORT_IMAGE', 'attempt': 1, 'id': 'P44YOM26X3J2726KHFNHSH3B', 'name': 'projects/earthengine-legacy/operations/P44YOM26X3J2726KHFNHSH3B'}\n",
            "Polling for task (id: P44YOM26X3J2726KHFNHSH3B).\n",
            "{'state': 'RUNNING', 'description': 'export_task', 'creation_timestamp_ms': 1642073403135, 'update_timestamp_ms': 1642073575270, 'start_timestamp_ms': 1642073449835, 'task_type': 'EXPORT_IMAGE', 'attempt': 1, 'id': 'P44YOM26X3J2726KHFNHSH3B', 'name': 'projects/earthengine-legacy/operations/P44YOM26X3J2726KHFNHSH3B'}\n"
          ]
        },
        {
          "output_type": "stream",
          "name": "stderr",
          "text": [
            "\r  9%|▉         | 10/108 [42:04<5:33:07, 203.95s/it]/usr/local/lib/python3.7/dist-packages/pyproj/crs/crs.py:131: FutureWarning: '+init=<authority>:<code>' syntax is deprecated. '<authority>:<code>' is the preferred initialization method. When making the change, be mindful of axis order changes: https://pyproj4.github.io/pyproj/stable/gotchas.html#axis-order-changes-in-proj-6\n",
            "  in_crs_string = _prepare_from_proj_string(in_crs_string)\n",
            "/usr/local/lib/python3.7/dist-packages/pyproj/crs/crs.py:131: FutureWarning: '+init=<authority>:<code>' syntax is deprecated. '<authority>:<code>' is the preferred initialization method. When making the change, be mindful of axis order changes: https://pyproj4.github.io/pyproj/stable/gotchas.html#axis-order-changes-in-proj-6\n",
            "  in_crs_string = _prepare_from_proj_string(in_crs_string)\n",
            "/usr/local/lib/python3.7/dist-packages/ipykernel_launcher.py:18: DeprecationWarning: This function is deprecated. See: https://pyproj4.github.io/pyproj/stable/gotchas.html#upgrading-to-pyproj-2-from-pyproj-1\n",
            "/usr/local/lib/python3.7/dist-packages/ipykernel_launcher.py:19: DeprecationWarning: This function is deprecated. See: https://pyproj4.github.io/pyproj/stable/gotchas.html#upgrading-to-pyproj-2-from-pyproj-1\n"
          ]
        },
        {
          "output_type": "stream",
          "name": "stdout",
          "text": [
            "{   'fire_alert_date': '2018-11-08',\n",
            "    'fire_alert_date_a_few_days_before': '2018-10-09',\n",
            "    'fire_area': 62052.7,\n",
            "    'fire_cont_date': '2018-11-26',\n",
            "    'fire_cont_date_a_few_days_after': '2018-12-26',\n",
            "    'fire_name': 'CAL_database_Sentinel2_7934',\n",
            "    'fire_perimeter': [   -121.780036683334,\n",
            "                          39.59997895847042,\n",
            "                          -121.35120425525182,\n",
            "                          39.895144728938625]}\n",
            "10 / 108\n",
            "Generating the Sentinel tif: CAL_database_Sentinel2_7934_postFire_RGBIR\n",
            "Polling for task (id: 52XFHMN2RAJF2JIQ7KC4MVUZ).\n",
            "{'state': 'READY', 'description': 'export_task', 'creation_timestamp_ms': 1642073616159, 'update_timestamp_ms': 1642073616159, 'start_timestamp_ms': 0, 'task_type': 'EXPORT_IMAGE', 'id': '52XFHMN2RAJF2JIQ7KC4MVUZ', 'name': 'projects/earthengine-legacy/operations/52XFHMN2RAJF2JIQ7KC4MVUZ'}\n"
          ]
        },
        {
          "output_type": "stream",
          "name": "stderr",
          "text": [
            "\r 10%|█         | 11/108 [42:35<4:04:10, 151.03s/it]/usr/local/lib/python3.7/dist-packages/pyproj/crs/crs.py:131: FutureWarning: '+init=<authority>:<code>' syntax is deprecated. '<authority>:<code>' is the preferred initialization method. When making the change, be mindful of axis order changes: https://pyproj4.github.io/pyproj/stable/gotchas.html#axis-order-changes-in-proj-6\n",
            "  in_crs_string = _prepare_from_proj_string(in_crs_string)\n",
            "/usr/local/lib/python3.7/dist-packages/pyproj/crs/crs.py:131: FutureWarning: '+init=<authority>:<code>' syntax is deprecated. '<authority>:<code>' is the preferred initialization method. When making the change, be mindful of axis order changes: https://pyproj4.github.io/pyproj/stable/gotchas.html#axis-order-changes-in-proj-6\n",
            "  in_crs_string = _prepare_from_proj_string(in_crs_string)\n",
            "/usr/local/lib/python3.7/dist-packages/ipykernel_launcher.py:18: DeprecationWarning: This function is deprecated. See: https://pyproj4.github.io/pyproj/stable/gotchas.html#upgrading-to-pyproj-2-from-pyproj-1\n",
            "/usr/local/lib/python3.7/dist-packages/ipykernel_launcher.py:19: DeprecationWarning: This function is deprecated. See: https://pyproj4.github.io/pyproj/stable/gotchas.html#upgrading-to-pyproj-2-from-pyproj-1\n"
          ]
        },
        {
          "output_type": "stream",
          "name": "stdout",
          "text": [
            "{   'fire_alert_date': '2020-07-27',\n",
            "    'fire_alert_date_a_few_days_before': '2020-06-27',\n",
            "    'fire_area': 58208.53,\n",
            "    'fire_cont_date': '2020-11-19',\n",
            "    'fire_cont_date_a_few_days_after': '2020-12-19',\n",
            "    'fire_name': 'CAL_database_Sentinel2_295',\n",
            "    'fire_perimeter': [   -123.60892942689192,\n",
            "                          40.97278482466217,\n",
            "                          -123.20826408429195,\n",
            "                          41.253542357205795]}\n",
            "11 / 108\n",
            "Generating the Sentinel tif: CAL_database_Sentinel2_295_postFire_RGBIR\n",
            "Polling for task (id: MBXYSJHQOWCL6JYNGPUPVUKA).\n",
            "{'state': 'READY', 'description': 'export_task', 'creation_timestamp_ms': 1642073647151, 'update_timestamp_ms': 1642073647151, 'start_timestamp_ms': 0, 'task_type': 'EXPORT_IMAGE', 'id': 'MBXYSJHQOWCL6JYNGPUPVUKA', 'name': 'projects/earthengine-legacy/operations/MBXYSJHQOWCL6JYNGPUPVUKA'}\n",
            "Polling for task (id: MBXYSJHQOWCL6JYNGPUPVUKA).\n",
            "{'state': 'RUNNING', 'description': 'export_task', 'creation_timestamp_ms': 1642073647151, 'update_timestamp_ms': 1642073676916, 'start_timestamp_ms': 1642073673114, 'task_type': 'EXPORT_IMAGE', 'attempt': 1, 'id': 'MBXYSJHQOWCL6JYNGPUPVUKA', 'name': 'projects/earthengine-legacy/operations/MBXYSJHQOWCL6JYNGPUPVUKA'}\n",
            "Polling for task (id: MBXYSJHQOWCL6JYNGPUPVUKA).\n",
            "{'state': 'RUNNING', 'description': 'export_task', 'creation_timestamp_ms': 1642073647151, 'update_timestamp_ms': 1642073676916, 'start_timestamp_ms': 1642073673114, 'task_type': 'EXPORT_IMAGE', 'attempt': 1, 'id': 'MBXYSJHQOWCL6JYNGPUPVUKA', 'name': 'projects/earthengine-legacy/operations/MBXYSJHQOWCL6JYNGPUPVUKA'}\n",
            "Polling for task (id: MBXYSJHQOWCL6JYNGPUPVUKA).\n",
            "{'state': 'RUNNING', 'description': 'export_task', 'creation_timestamp_ms': 1642073647151, 'update_timestamp_ms': 1642073734802, 'start_timestamp_ms': 1642073673114, 'task_type': 'EXPORT_IMAGE', 'attempt': 1, 'id': 'MBXYSJHQOWCL6JYNGPUPVUKA', 'name': 'projects/earthengine-legacy/operations/MBXYSJHQOWCL6JYNGPUPVUKA'}\n"
          ]
        },
        {
          "output_type": "stream",
          "name": "stderr",
          "text": [
            "\r 11%|█         | 12/108 [44:37<3:47:29, 142.18s/it]/usr/local/lib/python3.7/dist-packages/pyproj/crs/crs.py:131: FutureWarning: '+init=<authority>:<code>' syntax is deprecated. '<authority>:<code>' is the preferred initialization method. When making the change, be mindful of axis order changes: https://pyproj4.github.io/pyproj/stable/gotchas.html#axis-order-changes-in-proj-6\n",
            "  in_crs_string = _prepare_from_proj_string(in_crs_string)\n",
            "/usr/local/lib/python3.7/dist-packages/pyproj/crs/crs.py:131: FutureWarning: '+init=<authority>:<code>' syntax is deprecated. '<authority>:<code>' is the preferred initialization method. When making the change, be mindful of axis order changes: https://pyproj4.github.io/pyproj/stable/gotchas.html#axis-order-changes-in-proj-6\n",
            "  in_crs_string = _prepare_from_proj_string(in_crs_string)\n",
            "/usr/local/lib/python3.7/dist-packages/ipykernel_launcher.py:18: DeprecationWarning: This function is deprecated. See: https://pyproj4.github.io/pyproj/stable/gotchas.html#upgrading-to-pyproj-2-from-pyproj-1\n",
            "/usr/local/lib/python3.7/dist-packages/ipykernel_launcher.py:19: DeprecationWarning: This function is deprecated. See: https://pyproj4.github.io/pyproj/stable/gotchas.html#upgrading-to-pyproj-2-from-pyproj-1\n"
          ]
        },
        {
          "output_type": "stream",
          "name": "stdout",
          "text": [
            "{   'fire_alert_date': '2016-07-22',\n",
            "    'fire_alert_date_a_few_days_before': '2016-06-22',\n",
            "    'fire_area': 53460.71,\n",
            "    'fire_cont_date': '2016-10-13',\n",
            "    'fire_cont_date_a_few_days_after': '2016-11-12',\n",
            "    'fire_name': 'CAL_database_Sentinel2_7122',\n",
            "    'fire_perimeter': [   -121.93556374717419,\n",
            "                          36.14969764480261,\n",
            "                          -121.46359438856723,\n",
            "                          36.49689112348686]}\n",
            "12 / 108\n",
            "Generating the Sentinel tif: CAL_database_Sentinel2_7122_postFire_RGBIR\n",
            "Polling for task (id: BL5IFLFQDNVUTTTKYKO5PYSD).\n",
            "{'state': 'READY', 'description': 'export_task', 'creation_timestamp_ms': 1642073769114, 'update_timestamp_ms': 1642073769114, 'start_timestamp_ms': 0, 'task_type': 'EXPORT_IMAGE', 'id': 'BL5IFLFQDNVUTTTKYKO5PYSD', 'name': 'projects/earthengine-legacy/operations/BL5IFLFQDNVUTTTKYKO5PYSD'}\n",
            "Polling for task (id: BL5IFLFQDNVUTTTKYKO5PYSD).\n",
            "{'state': 'READY', 'description': 'export_task', 'creation_timestamp_ms': 1642073769114, 'update_timestamp_ms': 1642073769114, 'start_timestamp_ms': 0, 'task_type': 'EXPORT_IMAGE', 'id': 'BL5IFLFQDNVUTTTKYKO5PYSD', 'name': 'projects/earthengine-legacy/operations/BL5IFLFQDNVUTTTKYKO5PYSD'}\n"
          ]
        },
        {
          "output_type": "stream",
          "name": "stderr",
          "text": [
            "\r 12%|█▏        | 13/108 [45:39<3:06:19, 117.68s/it]/usr/local/lib/python3.7/dist-packages/pyproj/crs/crs.py:131: FutureWarning: '+init=<authority>:<code>' syntax is deprecated. '<authority>:<code>' is the preferred initialization method. When making the change, be mindful of axis order changes: https://pyproj4.github.io/pyproj/stable/gotchas.html#axis-order-changes-in-proj-6\n",
            "  in_crs_string = _prepare_from_proj_string(in_crs_string)\n",
            "/usr/local/lib/python3.7/dist-packages/pyproj/crs/crs.py:131: FutureWarning: '+init=<authority>:<code>' syntax is deprecated. '<authority>:<code>' is the preferred initialization method. When making the change, be mindful of axis order changes: https://pyproj4.github.io/pyproj/stable/gotchas.html#axis-order-changes-in-proj-6\n",
            "  in_crs_string = _prepare_from_proj_string(in_crs_string)\n",
            "/usr/local/lib/python3.7/dist-packages/ipykernel_launcher.py:18: DeprecationWarning: This function is deprecated. See: https://pyproj4.github.io/pyproj/stable/gotchas.html#upgrading-to-pyproj-2-from-pyproj-1\n",
            "/usr/local/lib/python3.7/dist-packages/ipykernel_launcher.py:19: DeprecationWarning: This function is deprecated. See: https://pyproj4.github.io/pyproj/stable/gotchas.html#upgrading-to-pyproj-2-from-pyproj-1\n"
          ]
        },
        {
          "output_type": "stream",
          "name": "stdout",
          "text": [
            "{   'fire_alert_date': '2020-08-18',\n",
            "    'fire_alert_date_a_few_days_before': '2020-07-19',\n",
            "    'fire_area': 50394.44,\n",
            "    'fire_cont_date': '2020-12-31',\n",
            "    'fire_cont_date_a_few_days_after': '2021-01-30',\n",
            "    'fire_name': 'CAL_database_Sentinel2_240',\n",
            "    'fire_perimeter': [   -121.67955807672948,\n",
            "                          35.93892427818619,\n",
            "                          -121.25092379801124,\n",
            "                          36.20615523661705]}\n",
            "13 / 108\n",
            "Generating the Sentinel tif: CAL_database_Sentinel2_240_postFire_RGBIR\n",
            "Polling for task (id: IKZEPKYEWYZDC5G6HCR4XNH4).\n",
            "{'state': 'READY', 'description': 'export_task', 'creation_timestamp_ms': 1642073830402, 'update_timestamp_ms': 1642073830402, 'start_timestamp_ms': 0, 'task_type': 'EXPORT_IMAGE', 'id': 'IKZEPKYEWYZDC5G6HCR4XNH4', 'name': 'projects/earthengine-legacy/operations/IKZEPKYEWYZDC5G6HCR4XNH4'}\n",
            "Polling for task (id: IKZEPKYEWYZDC5G6HCR4XNH4).\n",
            "{'state': 'READY', 'description': 'export_task', 'creation_timestamp_ms': 1642073830402, 'update_timestamp_ms': 1642073830402, 'start_timestamp_ms': 0, 'task_type': 'EXPORT_IMAGE', 'id': 'IKZEPKYEWYZDC5G6HCR4XNH4', 'name': 'projects/earthengine-legacy/operations/IKZEPKYEWYZDC5G6HCR4XNH4'}\n",
            "Polling for task (id: IKZEPKYEWYZDC5G6HCR4XNH4).\n",
            "{'state': 'RUNNING', 'description': 'export_task', 'creation_timestamp_ms': 1642073830402, 'update_timestamp_ms': 1642073867549, 'start_timestamp_ms': 1642073861956, 'task_type': 'EXPORT_IMAGE', 'attempt': 1, 'id': 'IKZEPKYEWYZDC5G6HCR4XNH4', 'name': 'projects/earthengine-legacy/operations/IKZEPKYEWYZDC5G6HCR4XNH4'}\n",
            "Polling for task (id: IKZEPKYEWYZDC5G6HCR4XNH4).\n",
            "{'state': 'RUNNING', 'description': 'export_task', 'creation_timestamp_ms': 1642073830402, 'update_timestamp_ms': 1642073867549, 'start_timestamp_ms': 1642073861956, 'task_type': 'EXPORT_IMAGE', 'attempt': 1, 'id': 'IKZEPKYEWYZDC5G6HCR4XNH4', 'name': 'projects/earthengine-legacy/operations/IKZEPKYEWYZDC5G6HCR4XNH4'}\n",
            "Polling for task (id: IKZEPKYEWYZDC5G6HCR4XNH4).\n",
            "{'state': 'RUNNING', 'description': 'export_task', 'creation_timestamp_ms': 1642073830402, 'update_timestamp_ms': 1642073925423, 'start_timestamp_ms': 1642073861956, 'task_type': 'EXPORT_IMAGE', 'attempt': 1, 'id': 'IKZEPKYEWYZDC5G6HCR4XNH4', 'name': 'projects/earthengine-legacy/operations/IKZEPKYEWYZDC5G6HCR4XNH4'}\n",
            "Polling for task (id: IKZEPKYEWYZDC5G6HCR4XNH4).\n",
            "{'state': 'RUNNING', 'description': 'export_task', 'creation_timestamp_ms': 1642073830402, 'update_timestamp_ms': 1642073925423, 'start_timestamp_ms': 1642073861956, 'task_type': 'EXPORT_IMAGE', 'attempt': 1, 'id': 'IKZEPKYEWYZDC5G6HCR4XNH4', 'name': 'projects/earthengine-legacy/operations/IKZEPKYEWYZDC5G6HCR4XNH4'}\n",
            "Polling for task (id: IKZEPKYEWYZDC5G6HCR4XNH4).\n",
            "{'state': 'RUNNING', 'description': 'export_task', 'creation_timestamp_ms': 1642073830402, 'update_timestamp_ms': 1642073985422, 'start_timestamp_ms': 1642073861956, 'task_type': 'EXPORT_IMAGE', 'attempt': 1, 'id': 'IKZEPKYEWYZDC5G6HCR4XNH4', 'name': 'projects/earthengine-legacy/operations/IKZEPKYEWYZDC5G6HCR4XNH4'}\n"
          ]
        },
        {
          "output_type": "stream",
          "name": "stderr",
          "text": [
            "\r 13%|█▎        | 14/108 [49:12<3:49:27, 146.47s/it]/usr/local/lib/python3.7/dist-packages/pyproj/crs/crs.py:131: FutureWarning: '+init=<authority>:<code>' syntax is deprecated. '<authority>:<code>' is the preferred initialization method. When making the change, be mindful of axis order changes: https://pyproj4.github.io/pyproj/stable/gotchas.html#axis-order-changes-in-proj-6\n",
            "  in_crs_string = _prepare_from_proj_string(in_crs_string)\n",
            "/usr/local/lib/python3.7/dist-packages/pyproj/crs/crs.py:131: FutureWarning: '+init=<authority>:<code>' syntax is deprecated. '<authority>:<code>' is the preferred initialization method. When making the change, be mindful of axis order changes: https://pyproj4.github.io/pyproj/stable/gotchas.html#axis-order-changes-in-proj-6\n",
            "  in_crs_string = _prepare_from_proj_string(in_crs_string)\n",
            "/usr/local/lib/python3.7/dist-packages/ipykernel_launcher.py:18: DeprecationWarning: This function is deprecated. See: https://pyproj4.github.io/pyproj/stable/gotchas.html#upgrading-to-pyproj-2-from-pyproj-1\n",
            "/usr/local/lib/python3.7/dist-packages/ipykernel_launcher.py:19: DeprecationWarning: This function is deprecated. See: https://pyproj4.github.io/pyproj/stable/gotchas.html#upgrading-to-pyproj-2-from-pyproj-1\n"
          ]
        },
        {
          "output_type": "stream",
          "name": "stdout",
          "text": [
            "{   'fire_alert_date': '2020-09-06',\n",
            "    'fire_alert_date_a_few_days_before': '2020-08-07',\n",
            "    'fire_area': 46942.72,\n",
            "    'fire_cont_date': '2020-10-19',\n",
            "    'fire_cont_date_a_few_days_after': '2020-11-18',\n",
            "    'fire_name': 'CAL_database_Sentinel2_201',\n",
            "    'fire_perimeter': [   -118.1095443315961,\n",
            "                          34.17034714276769,\n",
            "                          -117.7628731085251,\n",
            "                          34.47477008367733]}\n",
            "14 / 108\n",
            "Generating the Sentinel tif: CAL_database_Sentinel2_201_postFire_RGBIR\n",
            "Polling for task (id: 5LNLCFGRX4KSMRTZZGDZJCWG).\n",
            "{'state': 'READY', 'description': 'export_task', 'creation_timestamp_ms': 1642074043425, 'update_timestamp_ms': 1642074043425, 'start_timestamp_ms': 0, 'task_type': 'EXPORT_IMAGE', 'id': '5LNLCFGRX4KSMRTZZGDZJCWG', 'name': 'projects/earthengine-legacy/operations/5LNLCFGRX4KSMRTZZGDZJCWG'}\n",
            "Polling for task (id: 5LNLCFGRX4KSMRTZZGDZJCWG).\n",
            "{'state': 'RUNNING', 'description': 'export_task', 'creation_timestamp_ms': 1642074043425, 'update_timestamp_ms': 1642074071659, 'start_timestamp_ms': 1642074071513, 'task_type': 'EXPORT_IMAGE', 'attempt': 1, 'id': '5LNLCFGRX4KSMRTZZGDZJCWG', 'name': 'projects/earthengine-legacy/operations/5LNLCFGRX4KSMRTZZGDZJCWG'}\n",
            "Polling for task (id: 5LNLCFGRX4KSMRTZZGDZJCWG).\n",
            "{'state': 'RUNNING', 'description': 'export_task', 'creation_timestamp_ms': 1642074043425, 'update_timestamp_ms': 1642074079872, 'start_timestamp_ms': 1642074071513, 'task_type': 'EXPORT_IMAGE', 'attempt': 1, 'id': '5LNLCFGRX4KSMRTZZGDZJCWG', 'name': 'projects/earthengine-legacy/operations/5LNLCFGRX4KSMRTZZGDZJCWG'}\n",
            "Polling for task (id: 5LNLCFGRX4KSMRTZZGDZJCWG).\n",
            "{'state': 'RUNNING', 'description': 'export_task', 'creation_timestamp_ms': 1642074043425, 'update_timestamp_ms': 1642074079872, 'start_timestamp_ms': 1642074071513, 'task_type': 'EXPORT_IMAGE', 'attempt': 1, 'id': '5LNLCFGRX4KSMRTZZGDZJCWG', 'name': 'projects/earthengine-legacy/operations/5LNLCFGRX4KSMRTZZGDZJCWG'}\n",
            "Polling for task (id: 5LNLCFGRX4KSMRTZZGDZJCWG).\n",
            "{'state': 'RUNNING', 'description': 'export_task', 'creation_timestamp_ms': 1642074043425, 'update_timestamp_ms': 1642074137667, 'start_timestamp_ms': 1642074071513, 'task_type': 'EXPORT_IMAGE', 'attempt': 1, 'id': '5LNLCFGRX4KSMRTZZGDZJCWG', 'name': 'projects/earthengine-legacy/operations/5LNLCFGRX4KSMRTZZGDZJCWG'}\n",
            "Polling for task (id: 5LNLCFGRX4KSMRTZZGDZJCWG).\n",
            "{'state': 'RUNNING', 'description': 'export_task', 'creation_timestamp_ms': 1642074043425, 'update_timestamp_ms': 1642074137667, 'start_timestamp_ms': 1642074071513, 'task_type': 'EXPORT_IMAGE', 'attempt': 1, 'id': '5LNLCFGRX4KSMRTZZGDZJCWG', 'name': 'projects/earthengine-legacy/operations/5LNLCFGRX4KSMRTZZGDZJCWG'}\n",
            "Polling for task (id: 5LNLCFGRX4KSMRTZZGDZJCWG).\n",
            "{'state': 'RUNNING', 'description': 'export_task', 'creation_timestamp_ms': 1642074043425, 'update_timestamp_ms': 1642074197670, 'start_timestamp_ms': 1642074071513, 'task_type': 'EXPORT_IMAGE', 'attempt': 1, 'id': '5LNLCFGRX4KSMRTZZGDZJCWG', 'name': 'projects/earthengine-legacy/operations/5LNLCFGRX4KSMRTZZGDZJCWG'}\n"
          ]
        },
        {
          "output_type": "stream",
          "name": "stderr",
          "text": [
            "\r 14%|█▍        | 15/108 [52:45<4:18:07, 166.53s/it]/usr/local/lib/python3.7/dist-packages/pyproj/crs/crs.py:131: FutureWarning: '+init=<authority>:<code>' syntax is deprecated. '<authority>:<code>' is the preferred initialization method. When making the change, be mindful of axis order changes: https://pyproj4.github.io/pyproj/stable/gotchas.html#axis-order-changes-in-proj-6\n",
            "  in_crs_string = _prepare_from_proj_string(in_crs_string)\n",
            "/usr/local/lib/python3.7/dist-packages/pyproj/crs/crs.py:131: FutureWarning: '+init=<authority>:<code>' syntax is deprecated. '<authority>:<code>' is the preferred initialization method. When making the change, be mindful of axis order changes: https://pyproj4.github.io/pyproj/stable/gotchas.html#axis-order-changes-in-proj-6\n",
            "  in_crs_string = _prepare_from_proj_string(in_crs_string)\n",
            "/usr/local/lib/python3.7/dist-packages/ipykernel_launcher.py:18: DeprecationWarning: This function is deprecated. See: https://pyproj4.github.io/pyproj/stable/gotchas.html#upgrading-to-pyproj-2-from-pyproj-1\n",
            "/usr/local/lib/python3.7/dist-packages/ipykernel_launcher.py:19: DeprecationWarning: This function is deprecated. See: https://pyproj4.github.io/pyproj/stable/gotchas.html#upgrading-to-pyproj-2-from-pyproj-1\n"
          ]
        },
        {
          "output_type": "stream",
          "name": "stdout",
          "text": [
            "{   'fire_alert_date': '2018-11-08',\n",
            "    'fire_alert_date_a_few_days_before': '2018-10-09',\n",
            "    'fire_area': 39233.89,\n",
            "    'fire_cont_date': '2018-11-08',\n",
            "    'fire_cont_date_a_few_days_after': '2018-12-08',\n",
            "    'fire_name': 'CAL_database_Sentinel2_8188',\n",
            "    'fire_perimeter': [   -118.99932620300736,\n",
            "                          34.01176363274061,\n",
            "                          -118.64647570462164,\n",
            "                          34.238209133488375]}\n",
            "15 / 108\n",
            "Generating the Sentinel tif: CAL_database_Sentinel2_8188_postFire_RGBIR\n",
            "Polling for task (id: MERIGVBLWGGRY6AWZO5RQDSO).\n",
            "{'state': 'READY', 'description': 'export_task', 'creation_timestamp_ms': 1642074256560, 'update_timestamp_ms': 1642074256560, 'start_timestamp_ms': 0, 'task_type': 'EXPORT_IMAGE', 'id': 'MERIGVBLWGGRY6AWZO5RQDSO', 'name': 'projects/earthengine-legacy/operations/MERIGVBLWGGRY6AWZO5RQDSO'}\n",
            "Polling for task (id: MERIGVBLWGGRY6AWZO5RQDSO).\n",
            "{'state': 'READY', 'description': 'export_task', 'creation_timestamp_ms': 1642074256560, 'update_timestamp_ms': 1642074256560, 'start_timestamp_ms': 0, 'task_type': 'EXPORT_IMAGE', 'id': 'MERIGVBLWGGRY6AWZO5RQDSO', 'name': 'projects/earthengine-legacy/operations/MERIGVBLWGGRY6AWZO5RQDSO'}\n"
          ]
        },
        {
          "output_type": "stream",
          "name": "stderr",
          "text": [
            "\r 15%|█▍        | 16/108 [53:46<3:26:55, 134.96s/it]/usr/local/lib/python3.7/dist-packages/pyproj/crs/crs.py:131: FutureWarning: '+init=<authority>:<code>' syntax is deprecated. '<authority>:<code>' is the preferred initialization method. When making the change, be mindful of axis order changes: https://pyproj4.github.io/pyproj/stable/gotchas.html#axis-order-changes-in-proj-6\n",
            "  in_crs_string = _prepare_from_proj_string(in_crs_string)\n",
            "/usr/local/lib/python3.7/dist-packages/pyproj/crs/crs.py:131: FutureWarning: '+init=<authority>:<code>' syntax is deprecated. '<authority>:<code>' is the preferred initialization method. When making the change, be mindful of axis order changes: https://pyproj4.github.io/pyproj/stable/gotchas.html#axis-order-changes-in-proj-6\n",
            "  in_crs_string = _prepare_from_proj_string(in_crs_string)\n",
            "/usr/local/lib/python3.7/dist-packages/ipykernel_launcher.py:18: DeprecationWarning: This function is deprecated. See: https://pyproj4.github.io/pyproj/stable/gotchas.html#upgrading-to-pyproj-2-from-pyproj-1\n",
            "/usr/local/lib/python3.7/dist-packages/ipykernel_launcher.py:19: DeprecationWarning: This function is deprecated. See: https://pyproj4.github.io/pyproj/stable/gotchas.html#upgrading-to-pyproj-2-from-pyproj-1\n"
          ]
        },
        {
          "output_type": "stream",
          "name": "stdout",
          "text": [
            "{   'fire_alert_date': '2018-07-13',\n",
            "    'fire_alert_date_a_few_days_before': '2018-06-13',\n",
            "    'fire_area': 39186.21,\n",
            "    'fire_cont_date': '2018-11-28',\n",
            "    'fire_cont_date_a_few_days_after': '2018-12-28',\n",
            "    'fire_name': 'CAL_database_Sentinel2_8261',\n",
            "    'fire_perimeter': [   -119.95304591854715,\n",
            "                          37.50600269380426,\n",
            "                          -119.65525378520684,\n",
            "                          37.76325383474027]}\n",
            "16 / 108\n",
            "Generating the Sentinel tif: CAL_database_Sentinel2_8261_postFire_RGBIR\n",
            "Polling for task (id: M42SPGB34QB6WX5NBQMSVCVA).\n",
            "{'state': 'READY', 'description': 'export_task', 'creation_timestamp_ms': 1642074318072, 'update_timestamp_ms': 1642074318072, 'start_timestamp_ms': 0, 'task_type': 'EXPORT_IMAGE', 'id': 'M42SPGB34QB6WX5NBQMSVCVA', 'name': 'projects/earthengine-legacy/operations/M42SPGB34QB6WX5NBQMSVCVA'}\n",
            "Polling for task (id: M42SPGB34QB6WX5NBQMSVCVA).\n",
            "{'state': 'RUNNING', 'description': 'export_task', 'creation_timestamp_ms': 1642074318072, 'update_timestamp_ms': 1642074347721, 'start_timestamp_ms': 1642074342423, 'task_type': 'EXPORT_IMAGE', 'attempt': 1, 'id': 'M42SPGB34QB6WX5NBQMSVCVA', 'name': 'projects/earthengine-legacy/operations/M42SPGB34QB6WX5NBQMSVCVA'}\n",
            "Polling for task (id: M42SPGB34QB6WX5NBQMSVCVA).\n",
            "{'state': 'RUNNING', 'description': 'export_task', 'creation_timestamp_ms': 1642074318072, 'update_timestamp_ms': 1642074347721, 'start_timestamp_ms': 1642074342423, 'task_type': 'EXPORT_IMAGE', 'attempt': 1, 'id': 'M42SPGB34QB6WX5NBQMSVCVA', 'name': 'projects/earthengine-legacy/operations/M42SPGB34QB6WX5NBQMSVCVA'}\n"
          ]
        },
        {
          "output_type": "stream",
          "name": "stderr",
          "text": [
            "\r 16%|█▌        | 17/108 [55:18<3:04:57, 121.95s/it]/usr/local/lib/python3.7/dist-packages/pyproj/crs/crs.py:131: FutureWarning: '+init=<authority>:<code>' syntax is deprecated. '<authority>:<code>' is the preferred initialization method. When making the change, be mindful of axis order changes: https://pyproj4.github.io/pyproj/stable/gotchas.html#axis-order-changes-in-proj-6\n",
            "  in_crs_string = _prepare_from_proj_string(in_crs_string)\n",
            "/usr/local/lib/python3.7/dist-packages/pyproj/crs/crs.py:131: FutureWarning: '+init=<authority>:<code>' syntax is deprecated. '<authority>:<code>' is the preferred initialization method. When making the change, be mindful of axis order changes: https://pyproj4.github.io/pyproj/stable/gotchas.html#axis-order-changes-in-proj-6\n",
            "  in_crs_string = _prepare_from_proj_string(in_crs_string)\n",
            "/usr/local/lib/python3.7/dist-packages/ipykernel_launcher.py:18: DeprecationWarning: This function is deprecated. See: https://pyproj4.github.io/pyproj/stable/gotchas.html#upgrading-to-pyproj-2-from-pyproj-1\n",
            "/usr/local/lib/python3.7/dist-packages/ipykernel_launcher.py:19: DeprecationWarning: This function is deprecated. See: https://pyproj4.github.io/pyproj/stable/gotchas.html#upgrading-to-pyproj-2-from-pyproj-1\n"
          ]
        },
        {
          "output_type": "stream",
          "name": "stdout",
          "text": [
            "{   'fire_alert_date': '2017-08-11',\n",
            "    'fire_alert_date_a_few_days_before': '2017-07-12',\n",
            "    'fire_area': 36877.11,\n",
            "    'fire_cont_date': '2017-10-10',\n",
            "    'fire_cont_date_a_few_days_after': '2017-11-09',\n",
            "    'fire_name': 'CAL_database_Sentinel2_7764',\n",
            "    'fire_perimeter': [   -123.7637873834835,\n",
            "                          41.63082605913683,\n",
            "                          -123.39575811900761,\n",
            "                          41.86721566359536]}\n",
            "17 / 108\n",
            "Generating the Sentinel tif: CAL_database_Sentinel2_7764_postFire_RGBIR\n",
            "Polling for task (id: HNYF3UG7FXVNNHHEQA23ZFTR).\n",
            "{'state': 'READY', 'description': 'export_task', 'creation_timestamp_ms': 1642074409734, 'update_timestamp_ms': 1642074409734, 'start_timestamp_ms': 0, 'task_type': 'EXPORT_IMAGE', 'id': 'HNYF3UG7FXVNNHHEQA23ZFTR', 'name': 'projects/earthengine-legacy/operations/HNYF3UG7FXVNNHHEQA23ZFTR'}\n"
          ]
        },
        {
          "output_type": "stream",
          "name": "stderr",
          "text": [
            "\r 17%|█▋        | 18/108 [55:49<2:21:54, 94.60s/it] /usr/local/lib/python3.7/dist-packages/pyproj/crs/crs.py:131: FutureWarning: '+init=<authority>:<code>' syntax is deprecated. '<authority>:<code>' is the preferred initialization method. When making the change, be mindful of axis order changes: https://pyproj4.github.io/pyproj/stable/gotchas.html#axis-order-changes-in-proj-6\n",
            "  in_crs_string = _prepare_from_proj_string(in_crs_string)\n",
            "/usr/local/lib/python3.7/dist-packages/pyproj/crs/crs.py:131: FutureWarning: '+init=<authority>:<code>' syntax is deprecated. '<authority>:<code>' is the preferred initialization method. When making the change, be mindful of axis order changes: https://pyproj4.github.io/pyproj/stable/gotchas.html#axis-order-changes-in-proj-6\n",
            "  in_crs_string = _prepare_from_proj_string(in_crs_string)\n",
            "/usr/local/lib/python3.7/dist-packages/ipykernel_launcher.py:18: DeprecationWarning: This function is deprecated. See: https://pyproj4.github.io/pyproj/stable/gotchas.html#upgrading-to-pyproj-2-from-pyproj-1\n",
            "/usr/local/lib/python3.7/dist-packages/ipykernel_launcher.py:19: DeprecationWarning: This function is deprecated. See: https://pyproj4.github.io/pyproj/stable/gotchas.html#upgrading-to-pyproj-2-from-pyproj-1\n"
          ]
        },
        {
          "output_type": "stream",
          "name": "stdout",
          "text": [
            "{   'fire_alert_date': '2018-06-30',\n",
            "    'fire_alert_date_a_few_days_before': '2018-05-31',\n",
            "    'fire_area': 36353.37,\n",
            "    'fire_cont_date': '2018-07-11',\n",
            "    'fire_cont_date_a_few_days_after': '2018-08-10',\n",
            "    'fire_name': 'CAL_database_Sentinel2_8156',\n",
            "    'fire_perimeter': [   -122.28660016542344,\n",
            "                          38.51479915506974,\n",
            "                          -122.0431071531537,\n",
            "                          38.85005345107413]}\n",
            "18 / 108\n",
            "Generating the Sentinel tif: CAL_database_Sentinel2_8156_postFire_RGBIR\n",
            "Polling for task (id: G4UVOF42LFIA5PQCOMQYYMG7).\n",
            "{'state': 'READY', 'description': 'export_task', 'creation_timestamp_ms': 1642074440735, 'update_timestamp_ms': 1642074440735, 'start_timestamp_ms': 0, 'task_type': 'EXPORT_IMAGE', 'id': 'G4UVOF42LFIA5PQCOMQYYMG7', 'name': 'projects/earthengine-legacy/operations/G4UVOF42LFIA5PQCOMQYYMG7'}\n",
            "Polling for task (id: G4UVOF42LFIA5PQCOMQYYMG7).\n",
            "{'state': 'READY', 'description': 'export_task', 'creation_timestamp_ms': 1642074440735, 'update_timestamp_ms': 1642074440735, 'start_timestamp_ms': 0, 'task_type': 'EXPORT_IMAGE', 'id': 'G4UVOF42LFIA5PQCOMQYYMG7', 'name': 'projects/earthengine-legacy/operations/G4UVOF42LFIA5PQCOMQYYMG7'}\n"
          ]
        },
        {
          "output_type": "stream",
          "name": "stderr",
          "text": [
            "\r 18%|█▊        | 19/108 [56:50<2:05:32, 84.63s/it]/usr/local/lib/python3.7/dist-packages/pyproj/crs/crs.py:131: FutureWarning: '+init=<authority>:<code>' syntax is deprecated. '<authority>:<code>' is the preferred initialization method. When making the change, be mindful of axis order changes: https://pyproj4.github.io/pyproj/stable/gotchas.html#axis-order-changes-in-proj-6\n",
            "  in_crs_string = _prepare_from_proj_string(in_crs_string)\n",
            "/usr/local/lib/python3.7/dist-packages/pyproj/crs/crs.py:131: FutureWarning: '+init=<authority>:<code>' syntax is deprecated. '<authority>:<code>' is the preferred initialization method. When making the change, be mindful of axis order changes: https://pyproj4.github.io/pyproj/stable/gotchas.html#axis-order-changes-in-proj-6\n",
            "  in_crs_string = _prepare_from_proj_string(in_crs_string)\n",
            "/usr/local/lib/python3.7/dist-packages/ipykernel_launcher.py:18: DeprecationWarning: This function is deprecated. See: https://pyproj4.github.io/pyproj/stable/gotchas.html#upgrading-to-pyproj-2-from-pyproj-1\n",
            "/usr/local/lib/python3.7/dist-packages/ipykernel_launcher.py:19: DeprecationWarning: This function is deprecated. See: https://pyproj4.github.io/pyproj/stable/gotchas.html#upgrading-to-pyproj-2-from-pyproj-1\n"
          ]
        },
        {
          "output_type": "stream",
          "name": "stdout",
          "text": [
            "{   'fire_alert_date': '2020-08-16',\n",
            "    'fire_alert_date_a_few_days_before': '2020-07-17',\n",
            "    'fire_area': 35026.94,\n",
            "    'fire_cont_date': '2020-09-24',\n",
            "    'fire_cont_date_a_few_days_after': '2020-10-24',\n",
            "    'fire_name': 'CAL_database_Sentinel2_22',\n",
            "    'fire_perimeter': [   -122.34775976602532,\n",
            "                          37.019529693648025,\n",
            "                          -122.08424421205471,\n",
            "                          37.270655974222855]}\n",
            "19 / 108\n",
            "Generating the Sentinel tif: CAL_database_Sentinel2_22_postFire_RGBIR\n",
            "Polling for task (id: KONJ734AVJTKEQQKF2ZTBOAE).\n",
            "{'state': 'READY', 'description': 'export_task', 'creation_timestamp_ms': 1642074502080, 'update_timestamp_ms': 1642074502080, 'start_timestamp_ms': 0, 'task_type': 'EXPORT_IMAGE', 'id': 'KONJ734AVJTKEQQKF2ZTBOAE', 'name': 'projects/earthengine-legacy/operations/KONJ734AVJTKEQQKF2ZTBOAE'}\n",
            "Polling for task (id: KONJ734AVJTKEQQKF2ZTBOAE).\n",
            "{'state': 'RUNNING', 'description': 'export_task', 'creation_timestamp_ms': 1642074502080, 'update_timestamp_ms': 1642074522670, 'start_timestamp_ms': 1642074519440, 'task_type': 'EXPORT_IMAGE', 'attempt': 1, 'id': 'KONJ734AVJTKEQQKF2ZTBOAE', 'name': 'projects/earthengine-legacy/operations/KONJ734AVJTKEQQKF2ZTBOAE'}\n",
            "Polling for task (id: KONJ734AVJTKEQQKF2ZTBOAE).\n",
            "{'state': 'RUNNING', 'description': 'export_task', 'creation_timestamp_ms': 1642074502080, 'update_timestamp_ms': 1642074562892, 'start_timestamp_ms': 1642074519440, 'task_type': 'EXPORT_IMAGE', 'attempt': 1, 'id': 'KONJ734AVJTKEQQKF2ZTBOAE', 'name': 'projects/earthengine-legacy/operations/KONJ734AVJTKEQQKF2ZTBOAE'}\n"
          ]
        },
        {
          "output_type": "stream",
          "name": "stderr",
          "text": [
            "\r 19%|█▊        | 20/108 [58:22<2:07:11, 86.73s/it]/usr/local/lib/python3.7/dist-packages/pyproj/crs/crs.py:131: FutureWarning: '+init=<authority>:<code>' syntax is deprecated. '<authority>:<code>' is the preferred initialization method. When making the change, be mindful of axis order changes: https://pyproj4.github.io/pyproj/stable/gotchas.html#axis-order-changes-in-proj-6\n",
            "  in_crs_string = _prepare_from_proj_string(in_crs_string)\n",
            "/usr/local/lib/python3.7/dist-packages/pyproj/crs/crs.py:131: FutureWarning: '+init=<authority>:<code>' syntax is deprecated. '<authority>:<code>' is the preferred initialization method. When making the change, be mindful of axis order changes: https://pyproj4.github.io/pyproj/stable/gotchas.html#axis-order-changes-in-proj-6\n",
            "  in_crs_string = _prepare_from_proj_string(in_crs_string)\n",
            "/usr/local/lib/python3.7/dist-packages/ipykernel_launcher.py:18: DeprecationWarning: This function is deprecated. See: https://pyproj4.github.io/pyproj/stable/gotchas.html#upgrading-to-pyproj-2-from-pyproj-1\n",
            "/usr/local/lib/python3.7/dist-packages/ipykernel_launcher.py:19: DeprecationWarning: This function is deprecated. See: https://pyproj4.github.io/pyproj/stable/gotchas.html#upgrading-to-pyproj-2-from-pyproj-1\n"
          ]
        },
        {
          "output_type": "stream",
          "name": "stdout",
          "text": [
            "{   'fire_alert_date': '2020-08-18',\n",
            "    'fire_alert_date_a_few_days_before': '2020-07-19',\n",
            "    'fire_area': 34324.47,\n",
            "    'fire_cont_date': '2020-09-13',\n",
            "    'fire_cont_date_a_few_days_after': '2020-10-13',\n",
            "    'fire_name': 'CAL_database_Sentinel2_336',\n",
            "    'fire_perimeter': [   -120.28523759072208,\n",
            "                          40.98310283463247,\n",
            "                          -119.91967605763833,\n",
            "                          41.240478716722684]}\n",
            "20 / 108\n",
            "Generating the Sentinel tif: CAL_database_Sentinel2_336_postFire_RGBIR\n",
            "Polling for task (id: XQNUFNIIGKGNDSDZA7WK5GAE).\n",
            "{'state': 'READY', 'description': 'export_task', 'creation_timestamp_ms': 1642074593706, 'update_timestamp_ms': 1642074593706, 'start_timestamp_ms': 0, 'task_type': 'EXPORT_IMAGE', 'id': 'XQNUFNIIGKGNDSDZA7WK5GAE', 'name': 'projects/earthengine-legacy/operations/XQNUFNIIGKGNDSDZA7WK5GAE'}\n",
            "Polling for task (id: XQNUFNIIGKGNDSDZA7WK5GAE).\n",
            "{'state': 'READY', 'description': 'export_task', 'creation_timestamp_ms': 1642074593706, 'update_timestamp_ms': 1642074593706, 'start_timestamp_ms': 0, 'task_type': 'EXPORT_IMAGE', 'id': 'XQNUFNIIGKGNDSDZA7WK5GAE', 'name': 'projects/earthengine-legacy/operations/XQNUFNIIGKGNDSDZA7WK5GAE'}\n",
            "Polling for task (id: XQNUFNIIGKGNDSDZA7WK5GAE).\n",
            "{'state': 'RUNNING', 'description': 'export_task', 'creation_timestamp_ms': 1642074593706, 'update_timestamp_ms': 1642074651381, 'start_timestamp_ms': 1642074643514, 'task_type': 'EXPORT_IMAGE', 'attempt': 1, 'id': 'XQNUFNIIGKGNDSDZA7WK5GAE', 'name': 'projects/earthengine-legacy/operations/XQNUFNIIGKGNDSDZA7WK5GAE'}\n",
            "Polling for task (id: XQNUFNIIGKGNDSDZA7WK5GAE).\n",
            "{'state': 'RUNNING', 'description': 'export_task', 'creation_timestamp_ms': 1642074593706, 'update_timestamp_ms': 1642074651381, 'start_timestamp_ms': 1642074643514, 'task_type': 'EXPORT_IMAGE', 'attempt': 1, 'id': 'XQNUFNIIGKGNDSDZA7WK5GAE', 'name': 'projects/earthengine-legacy/operations/XQNUFNIIGKGNDSDZA7WK5GAE'}\n",
            "Polling for task (id: XQNUFNIIGKGNDSDZA7WK5GAE).\n",
            "{'state': 'RUNNING', 'description': 'export_task', 'creation_timestamp_ms': 1642074593706, 'update_timestamp_ms': 1642074709036, 'start_timestamp_ms': 1642074643514, 'task_type': 'EXPORT_IMAGE', 'attempt': 1, 'id': 'XQNUFNIIGKGNDSDZA7WK5GAE', 'name': 'projects/earthengine-legacy/operations/XQNUFNIIGKGNDSDZA7WK5GAE'}\n",
            "Polling for task (id: XQNUFNIIGKGNDSDZA7WK5GAE).\n",
            "{'state': 'RUNNING', 'description': 'export_task', 'creation_timestamp_ms': 1642074593706, 'update_timestamp_ms': 1642074709036, 'start_timestamp_ms': 1642074643514, 'task_type': 'EXPORT_IMAGE', 'attempt': 1, 'id': 'XQNUFNIIGKGNDSDZA7WK5GAE', 'name': 'projects/earthengine-legacy/operations/XQNUFNIIGKGNDSDZA7WK5GAE'}\n"
          ]
        },
        {
          "output_type": "stream",
          "name": "stderr",
          "text": [
            "\r 19%|█▉        | 21/108 [1:01:25<2:47:29, 115.51s/it]/usr/local/lib/python3.7/dist-packages/pyproj/crs/crs.py:131: FutureWarning: '+init=<authority>:<code>' syntax is deprecated. '<authority>:<code>' is the preferred initialization method. When making the change, be mindful of axis order changes: https://pyproj4.github.io/pyproj/stable/gotchas.html#axis-order-changes-in-proj-6\n",
            "  in_crs_string = _prepare_from_proj_string(in_crs_string)\n",
            "/usr/local/lib/python3.7/dist-packages/pyproj/crs/crs.py:131: FutureWarning: '+init=<authority>:<code>' syntax is deprecated. '<authority>:<code>' is the preferred initialization method. When making the change, be mindful of axis order changes: https://pyproj4.github.io/pyproj/stable/gotchas.html#axis-order-changes-in-proj-6\n",
            "  in_crs_string = _prepare_from_proj_string(in_crs_string)\n",
            "/usr/local/lib/python3.7/dist-packages/ipykernel_launcher.py:18: DeprecationWarning: This function is deprecated. See: https://pyproj4.github.io/pyproj/stable/gotchas.html#upgrading-to-pyproj-2-from-pyproj-1\n",
            "/usr/local/lib/python3.7/dist-packages/ipykernel_launcher.py:19: DeprecationWarning: This function is deprecated. See: https://pyproj4.github.io/pyproj/stable/gotchas.html#upgrading-to-pyproj-2-from-pyproj-1\n"
          ]
        },
        {
          "output_type": "stream",
          "name": "stdout",
          "text": [
            "{   'fire_alert_date': '2017-07-11',\n",
            "    'fire_alert_date_a_few_days_before': '2017-06-11',\n",
            "    'fire_area': 33824.2,\n",
            "    'fire_cont_date': '2017-07-27',\n",
            "    'fire_cont_date_a_few_days_after': '2017-08-26',\n",
            "    'fire_name': 'CAL_database_Sentinel2_7626',\n",
            "    'fire_perimeter': [   -120.1616749156263,\n",
            "                          39.87353936504029,\n",
            "                          -119.67777653126632,\n",
            "                          40.123008586551194]}\n",
            "21 / 108\n",
            "Generating the Sentinel tif: CAL_database_Sentinel2_7626_postFire_RGBIR\n",
            "Polling for task (id: IJ722GJI6FU2DJEQPY6FA4F3).\n",
            "{'state': 'READY', 'description': 'export_task', 'creation_timestamp_ms': 1642074776392, 'update_timestamp_ms': 1642074776392, 'start_timestamp_ms': 0, 'task_type': 'EXPORT_IMAGE', 'id': 'IJ722GJI6FU2DJEQPY6FA4F3', 'name': 'projects/earthengine-legacy/operations/IJ722GJI6FU2DJEQPY6FA4F3'}\n",
            "Polling for task (id: IJ722GJI6FU2DJEQPY6FA4F3).\n",
            "{'state': 'READY', 'description': 'export_task', 'creation_timestamp_ms': 1642074776392, 'update_timestamp_ms': 1642074776392, 'start_timestamp_ms': 0, 'task_type': 'EXPORT_IMAGE', 'id': 'IJ722GJI6FU2DJEQPY6FA4F3', 'name': 'projects/earthengine-legacy/operations/IJ722GJI6FU2DJEQPY6FA4F3'}\n",
            "Polling for task (id: IJ722GJI6FU2DJEQPY6FA4F3).\n",
            "{'state': 'READY', 'description': 'export_task', 'creation_timestamp_ms': 1642074776392, 'update_timestamp_ms': 1642074776392, 'start_timestamp_ms': 0, 'task_type': 'EXPORT_IMAGE', 'id': 'IJ722GJI6FU2DJEQPY6FA4F3', 'name': 'projects/earthengine-legacy/operations/IJ722GJI6FU2DJEQPY6FA4F3'}\n"
          ]
        },
        {
          "output_type": "stream",
          "name": "stderr",
          "text": [
            "\r 20%|██        | 22/108 [1:02:56<2:35:19, 108.37s/it]/usr/local/lib/python3.7/dist-packages/pyproj/crs/crs.py:131: FutureWarning: '+init=<authority>:<code>' syntax is deprecated. '<authority>:<code>' is the preferred initialization method. When making the change, be mindful of axis order changes: https://pyproj4.github.io/pyproj/stable/gotchas.html#axis-order-changes-in-proj-6\n",
            "  in_crs_string = _prepare_from_proj_string(in_crs_string)\n",
            "/usr/local/lib/python3.7/dist-packages/pyproj/crs/crs.py:131: FutureWarning: '+init=<authority>:<code>' syntax is deprecated. '<authority>:<code>' is the preferred initialization method. When making the change, be mindful of axis order changes: https://pyproj4.github.io/pyproj/stable/gotchas.html#axis-order-changes-in-proj-6\n",
            "  in_crs_string = _prepare_from_proj_string(in_crs_string)\n",
            "/usr/local/lib/python3.7/dist-packages/ipykernel_launcher.py:18: DeprecationWarning: This function is deprecated. See: https://pyproj4.github.io/pyproj/stable/gotchas.html#upgrading-to-pyproj-2-from-pyproj-1\n",
            "/usr/local/lib/python3.7/dist-packages/ipykernel_launcher.py:19: DeprecationWarning: This function is deprecated. See: https://pyproj4.github.io/pyproj/stable/gotchas.html#upgrading-to-pyproj-2-from-pyproj-1\n"
          ]
        },
        {
          "output_type": "stream",
          "name": "stdout",
          "text": [
            "{   'fire_alert_date': '2017-07-16',\n",
            "    'fire_alert_date_a_few_days_before': '2017-06-16',\n",
            "    'fire_area': 33113.92,\n",
            "    'fire_cont_date': '2017-08-31',\n",
            "    'fire_cont_date_a_few_days_after': '2017-09-30',\n",
            "    'fire_name': 'CAL_database_Sentinel2_7506',\n",
            "    'fire_perimeter': [   -120.26708448394277,\n",
            "                          37.41021455451479,\n",
            "                          -119.97437772415843,\n",
            "                          37.6936341068943]}\n",
            "22 / 108\n",
            "Generating the Sentinel tif: CAL_database_Sentinel2_7506_postFire_RGBIR\n",
            "Polling for task (id: OHGZG53XJQB2FGAOTHR36HQU).\n",
            "{'state': 'READY', 'description': 'export_task', 'creation_timestamp_ms': 1642074868077, 'update_timestamp_ms': 1642074868077, 'start_timestamp_ms': 0, 'task_type': 'EXPORT_IMAGE', 'id': 'OHGZG53XJQB2FGAOTHR36HQU', 'name': 'projects/earthengine-legacy/operations/OHGZG53XJQB2FGAOTHR36HQU'}\n"
          ]
        },
        {
          "output_type": "stream",
          "name": "stderr",
          "text": [
            "\r 21%|██▏       | 23/108 [1:03:27<2:00:38, 85.16s/it] /usr/local/lib/python3.7/dist-packages/pyproj/crs/crs.py:131: FutureWarning: '+init=<authority>:<code>' syntax is deprecated. '<authority>:<code>' is the preferred initialization method. When making the change, be mindful of axis order changes: https://pyproj4.github.io/pyproj/stable/gotchas.html#axis-order-changes-in-proj-6\n",
            "  in_crs_string = _prepare_from_proj_string(in_crs_string)\n",
            "/usr/local/lib/python3.7/dist-packages/pyproj/crs/crs.py:131: FutureWarning: '+init=<authority>:<code>' syntax is deprecated. '<authority>:<code>' is the preferred initialization method. When making the change, be mindful of axis order changes: https://pyproj4.github.io/pyproj/stable/gotchas.html#axis-order-changes-in-proj-6\n",
            "  in_crs_string = _prepare_from_proj_string(in_crs_string)\n",
            "/usr/local/lib/python3.7/dist-packages/ipykernel_launcher.py:18: DeprecationWarning: This function is deprecated. See: https://pyproj4.github.io/pyproj/stable/gotchas.html#upgrading-to-pyproj-2-from-pyproj-1\n",
            "/usr/local/lib/python3.7/dist-packages/ipykernel_launcher.py:19: DeprecationWarning: This function is deprecated. See: https://pyproj4.github.io/pyproj/stable/gotchas.html#upgrading-to-pyproj-2-from-pyproj-1\n"
          ]
        },
        {
          "output_type": "stream",
          "name": "stdout",
          "text": [
            "{   'fire_alert_date': '2020-07-22',\n",
            "    'fire_alert_date_a_few_days_before': '2020-06-22',\n",
            "    'fire_area': 32870.46,\n",
            "    'fire_cont_date': '2020-09-01',\n",
            "    'fire_cont_date_a_few_days_after': '2020-10-01',\n",
            "    'fire_name': 'CAL_database_Sentinel2_302',\n",
            "    'fire_perimeter': [   -121.6105518943554,\n",
            "                          41.63167656019803,\n",
            "                          -121.30532959345129,\n",
            "                          41.842417906204915]}\n",
            "23 / 108\n",
            "Generating the Sentinel tif: CAL_database_Sentinel2_302_postFire_RGBIR\n",
            "Polling for task (id: 6YTSGXT6C6PTDNWJEX5OMUOI).\n",
            "{'state': 'READY', 'description': 'export_task', 'creation_timestamp_ms': 1642074899108, 'update_timestamp_ms': 1642074899108, 'start_timestamp_ms': 0, 'task_type': 'EXPORT_IMAGE', 'id': '6YTSGXT6C6PTDNWJEX5OMUOI', 'name': 'projects/earthengine-legacy/operations/6YTSGXT6C6PTDNWJEX5OMUOI'}\n",
            "Polling for task (id: 6YTSGXT6C6PTDNWJEX5OMUOI).\n",
            "{'state': 'READY', 'description': 'export_task', 'creation_timestamp_ms': 1642074899108, 'update_timestamp_ms': 1642074899108, 'start_timestamp_ms': 0, 'task_type': 'EXPORT_IMAGE', 'id': '6YTSGXT6C6PTDNWJEX5OMUOI', 'name': 'projects/earthengine-legacy/operations/6YTSGXT6C6PTDNWJEX5OMUOI'}\n",
            "Polling for task (id: 6YTSGXT6C6PTDNWJEX5OMUOI).\n",
            "{'state': 'RUNNING', 'description': 'export_task', 'creation_timestamp_ms': 1642074899108, 'update_timestamp_ms': 1642074939678, 'start_timestamp_ms': 1642074939538, 'task_type': 'EXPORT_IMAGE', 'attempt': 1, 'id': '6YTSGXT6C6PTDNWJEX5OMUOI', 'name': 'projects/earthengine-legacy/operations/6YTSGXT6C6PTDNWJEX5OMUOI'}\n",
            "Polling for task (id: 6YTSGXT6C6PTDNWJEX5OMUOI).\n",
            "{'state': 'RUNNING', 'description': 'export_task', 'creation_timestamp_ms': 1642074899108, 'update_timestamp_ms': 1642074939678, 'start_timestamp_ms': 1642074939538, 'task_type': 'EXPORT_IMAGE', 'attempt': 1, 'id': '6YTSGXT6C6PTDNWJEX5OMUOI', 'name': 'projects/earthengine-legacy/operations/6YTSGXT6C6PTDNWJEX5OMUOI'}\n",
            "Polling for task (id: 6YTSGXT6C6PTDNWJEX5OMUOI).\n",
            "{'state': 'RUNNING', 'description': 'export_task', 'creation_timestamp_ms': 1642074899108, 'update_timestamp_ms': 1642075004011, 'start_timestamp_ms': 1642074939538, 'task_type': 'EXPORT_IMAGE', 'attempt': 1, 'id': '6YTSGXT6C6PTDNWJEX5OMUOI', 'name': 'projects/earthengine-legacy/operations/6YTSGXT6C6PTDNWJEX5OMUOI'}\n",
            "Polling for task (id: 6YTSGXT6C6PTDNWJEX5OMUOI).\n",
            "{'state': 'RUNNING', 'description': 'export_task', 'creation_timestamp_ms': 1642074899108, 'update_timestamp_ms': 1642075004011, 'start_timestamp_ms': 1642074939538, 'task_type': 'EXPORT_IMAGE', 'attempt': 1, 'id': '6YTSGXT6C6PTDNWJEX5OMUOI', 'name': 'projects/earthengine-legacy/operations/6YTSGXT6C6PTDNWJEX5OMUOI'}\n",
            "Polling for task (id: 6YTSGXT6C6PTDNWJEX5OMUOI).\n",
            "{'state': 'RUNNING', 'description': 'export_task', 'creation_timestamp_ms': 1642074899108, 'update_timestamp_ms': 1642075059530, 'start_timestamp_ms': 1642074939538, 'task_type': 'EXPORT_IMAGE', 'attempt': 1, 'id': '6YTSGXT6C6PTDNWJEX5OMUOI', 'name': 'projects/earthengine-legacy/operations/6YTSGXT6C6PTDNWJEX5OMUOI'}\n",
            "Polling for task (id: 6YTSGXT6C6PTDNWJEX5OMUOI).\n",
            "{'state': 'RUNNING', 'description': 'export_task', 'creation_timestamp_ms': 1642074899108, 'update_timestamp_ms': 1642075059530, 'start_timestamp_ms': 1642074939538, 'task_type': 'EXPORT_IMAGE', 'attempt': 1, 'id': '6YTSGXT6C6PTDNWJEX5OMUOI', 'name': 'projects/earthengine-legacy/operations/6YTSGXT6C6PTDNWJEX5OMUOI'}\n"
          ]
        },
        {
          "output_type": "stream",
          "name": "stderr",
          "text": [
            "\r 22%|██▏       | 24/108 [1:07:31<3:05:39, 132.62s/it]/usr/local/lib/python3.7/dist-packages/pyproj/crs/crs.py:131: FutureWarning: '+init=<authority>:<code>' syntax is deprecated. '<authority>:<code>' is the preferred initialization method. When making the change, be mindful of axis order changes: https://pyproj4.github.io/pyproj/stable/gotchas.html#axis-order-changes-in-proj-6\n",
            "  in_crs_string = _prepare_from_proj_string(in_crs_string)\n",
            "/usr/local/lib/python3.7/dist-packages/pyproj/crs/crs.py:131: FutureWarning: '+init=<authority>:<code>' syntax is deprecated. '<authority>:<code>' is the preferred initialization method. When making the change, be mindful of axis order changes: https://pyproj4.github.io/pyproj/stable/gotchas.html#axis-order-changes-in-proj-6\n",
            "  in_crs_string = _prepare_from_proj_string(in_crs_string)\n",
            "/usr/local/lib/python3.7/dist-packages/ipykernel_launcher.py:18: DeprecationWarning: This function is deprecated. See: https://pyproj4.github.io/pyproj/stable/gotchas.html#upgrading-to-pyproj-2-from-pyproj-1\n",
            "/usr/local/lib/python3.7/dist-packages/ipykernel_launcher.py:19: DeprecationWarning: This function is deprecated. See: https://pyproj4.github.io/pyproj/stable/gotchas.html#upgrading-to-pyproj-2-from-pyproj-1\n"
          ]
        },
        {
          "output_type": "stream",
          "name": "stdout",
          "text": [
            "{   'fire_alert_date': '2019-10-23',\n",
            "    'fire_alert_date_a_few_days_before': '2019-09-23',\n",
            "    'fire_area': 31469.22,\n",
            "    'fire_cont_date': '2019-11-10',\n",
            "    'fire_cont_date_a_few_days_after': '2019-12-10',\n",
            "    'fire_name': 'CAL_database_Sentinel2_8351',\n",
            "    'fire_perimeter': [   -122.89741906972681,\n",
            "                          38.52807389670926,\n",
            "                          -122.65498469283526,\n",
            "                          38.81565066534667]}\n",
            "24 / 108\n",
            "Generating the Sentinel tif: CAL_database_Sentinel2_8351_postFire_RGBIR\n",
            "Polling for task (id: HQIZJQACOAD5ZF4KN6HEL6MH).\n",
            "{'state': 'READY', 'description': 'export_task', 'creation_timestamp_ms': 1642075142366, 'update_timestamp_ms': 1642075142366, 'start_timestamp_ms': 0, 'task_type': 'EXPORT_IMAGE', 'id': 'HQIZJQACOAD5ZF4KN6HEL6MH', 'name': 'projects/earthengine-legacy/operations/HQIZJQACOAD5ZF4KN6HEL6MH'}\n",
            "Polling for task (id: HQIZJQACOAD5ZF4KN6HEL6MH).\n",
            "{'state': 'RUNNING', 'description': 'export_task', 'creation_timestamp_ms': 1642075142366, 'update_timestamp_ms': 1642075170998, 'start_timestamp_ms': 1642075170856, 'task_type': 'EXPORT_IMAGE', 'attempt': 1, 'id': 'HQIZJQACOAD5ZF4KN6HEL6MH', 'name': 'projects/earthengine-legacy/operations/HQIZJQACOAD5ZF4KN6HEL6MH'}\n",
            "Polling for task (id: HQIZJQACOAD5ZF4KN6HEL6MH).\n",
            "{'state': 'RUNNING', 'description': 'export_task', 'creation_timestamp_ms': 1642075142366, 'update_timestamp_ms': 1642075176007, 'start_timestamp_ms': 1642075170856, 'task_type': 'EXPORT_IMAGE', 'attempt': 1, 'id': 'HQIZJQACOAD5ZF4KN6HEL6MH', 'name': 'projects/earthengine-legacy/operations/HQIZJQACOAD5ZF4KN6HEL6MH'}\n"
          ]
        },
        {
          "output_type": "stream",
          "name": "stderr",
          "text": [
            "\r 23%|██▎       | 25/108 [1:09:02<2:46:26, 120.31s/it]/usr/local/lib/python3.7/dist-packages/pyproj/crs/crs.py:131: FutureWarning: '+init=<authority>:<code>' syntax is deprecated. '<authority>:<code>' is the preferred initialization method. When making the change, be mindful of axis order changes: https://pyproj4.github.io/pyproj/stable/gotchas.html#axis-order-changes-in-proj-6\n",
            "  in_crs_string = _prepare_from_proj_string(in_crs_string)\n",
            "/usr/local/lib/python3.7/dist-packages/pyproj/crs/crs.py:131: FutureWarning: '+init=<authority>:<code>' syntax is deprecated. '<authority>:<code>' is the preferred initialization method. When making the change, be mindful of axis order changes: https://pyproj4.github.io/pyproj/stable/gotchas.html#axis-order-changes-in-proj-6\n",
            "  in_crs_string = _prepare_from_proj_string(in_crs_string)\n",
            "/usr/local/lib/python3.7/dist-packages/ipykernel_launcher.py:18: DeprecationWarning: This function is deprecated. See: https://pyproj4.github.io/pyproj/stable/gotchas.html#upgrading-to-pyproj-2-from-pyproj-1\n",
            "/usr/local/lib/python3.7/dist-packages/ipykernel_launcher.py:19: DeprecationWarning: This function is deprecated. See: https://pyproj4.github.io/pyproj/stable/gotchas.html#upgrading-to-pyproj-2-from-pyproj-1\n"
          ]
        },
        {
          "output_type": "stream",
          "name": "stdout",
          "text": [
            "{   'fire_alert_date': '2020-09-27',\n",
            "    'fire_alert_date_a_few_days_before': '2020-08-28',\n",
            "    'fire_area': 27309.97,\n",
            "    'fire_cont_date': '2020-10-20',\n",
            "    'fire_cont_date_a_few_days_after': '2020-11-19',\n",
            "    'fire_name': 'CAL_database_Sentinel2_227',\n",
            "    'fire_perimeter': [   -122.6604645831904,\n",
            "                          38.430403255412116,\n",
            "                          -122.43398108099892,\n",
            "                          38.672168158974245]}\n",
            "25 / 108\n",
            "Generating the Sentinel tif: CAL_database_Sentinel2_227_postFire_RGBIR\n",
            "Polling for task (id: ED6DRGDYFUEMXW2YYP4QCZWU).\n",
            "{'state': 'READY', 'description': 'export_task', 'creation_timestamp_ms': 1642075233980, 'update_timestamp_ms': 1642075233980, 'start_timestamp_ms': 0, 'task_type': 'EXPORT_IMAGE', 'id': 'ED6DRGDYFUEMXW2YYP4QCZWU', 'name': 'projects/earthengine-legacy/operations/ED6DRGDYFUEMXW2YYP4QCZWU'}\n",
            "Polling for task (id: ED6DRGDYFUEMXW2YYP4QCZWU).\n",
            "{'state': 'RUNNING', 'description': 'export_task', 'creation_timestamp_ms': 1642075233980, 'update_timestamp_ms': 1642075261402, 'start_timestamp_ms': 1642075258096, 'task_type': 'EXPORT_IMAGE', 'attempt': 1, 'id': 'ED6DRGDYFUEMXW2YYP4QCZWU', 'name': 'projects/earthengine-legacy/operations/ED6DRGDYFUEMXW2YYP4QCZWU'}\n",
            "Polling for task (id: ED6DRGDYFUEMXW2YYP4QCZWU).\n",
            "{'state': 'RUNNING', 'description': 'export_task', 'creation_timestamp_ms': 1642075233980, 'update_timestamp_ms': 1642075261402, 'start_timestamp_ms': 1642075258096, 'task_type': 'EXPORT_IMAGE', 'attempt': 1, 'id': 'ED6DRGDYFUEMXW2YYP4QCZWU', 'name': 'projects/earthengine-legacy/operations/ED6DRGDYFUEMXW2YYP4QCZWU'}\n"
          ]
        },
        {
          "output_type": "stream",
          "name": "stderr",
          "text": [
            "\r 24%|██▍       | 26/108 [1:10:34<2:32:40, 111.71s/it]/usr/local/lib/python3.7/dist-packages/pyproj/crs/crs.py:131: FutureWarning: '+init=<authority>:<code>' syntax is deprecated. '<authority>:<code>' is the preferred initialization method. When making the change, be mindful of axis order changes: https://pyproj4.github.io/pyproj/stable/gotchas.html#axis-order-changes-in-proj-6\n",
            "  in_crs_string = _prepare_from_proj_string(in_crs_string)\n",
            "/usr/local/lib/python3.7/dist-packages/pyproj/crs/crs.py:131: FutureWarning: '+init=<authority>:<code>' syntax is deprecated. '<authority>:<code>' is the preferred initialization method. When making the change, be mindful of axis order changes: https://pyproj4.github.io/pyproj/stable/gotchas.html#axis-order-changes-in-proj-6\n",
            "  in_crs_string = _prepare_from_proj_string(in_crs_string)\n",
            "/usr/local/lib/python3.7/dist-packages/ipykernel_launcher.py:18: DeprecationWarning: This function is deprecated. See: https://pyproj4.github.io/pyproj/stable/gotchas.html#upgrading-to-pyproj-2-from-pyproj-1\n",
            "/usr/local/lib/python3.7/dist-packages/ipykernel_launcher.py:19: DeprecationWarning: This function is deprecated. See: https://pyproj4.github.io/pyproj/stable/gotchas.html#upgrading-to-pyproj-2-from-pyproj-1\n"
          ]
        },
        {
          "output_type": "stream",
          "name": "stdout",
          "text": [
            "{   'fire_alert_date': '2017-08-11',\n",
            "    'fire_alert_date_a_few_days_before': '2017-07-12',\n",
            "    'fire_area': 25812.9,\n",
            "    'fire_cont_date': '2017-11-13',\n",
            "    'fire_cont_date_a_few_days_after': '2017-12-13',\n",
            "    'fire_name': 'CAL_database_Sentinel2_7765',\n",
            "    'fire_perimeter': [   -123.30707393678304,\n",
            "                          41.335811487873265,\n",
            "                          -122.95303904826733,\n",
            "                          41.50314157737071]}\n",
            "26 / 108\n",
            "Generating the Sentinel tif: CAL_database_Sentinel2_7765_postFire_RGBIR\n",
            "Polling for task (id: 742TUVFIQCNEOYTCNHTXOPEV).\n",
            "{'state': 'READY', 'description': 'export_task', 'creation_timestamp_ms': 1642075325691, 'update_timestamp_ms': 1642075325691, 'start_timestamp_ms': 0, 'task_type': 'EXPORT_IMAGE', 'id': '742TUVFIQCNEOYTCNHTXOPEV', 'name': 'projects/earthengine-legacy/operations/742TUVFIQCNEOYTCNHTXOPEV'}\n"
          ]
        },
        {
          "output_type": "stream",
          "name": "stderr",
          "text": [
            "\r 25%|██▌       | 27/108 [1:11:05<1:58:09, 87.52s/it] /usr/local/lib/python3.7/dist-packages/pyproj/crs/crs.py:131: FutureWarning: '+init=<authority>:<code>' syntax is deprecated. '<authority>:<code>' is the preferred initialization method. When making the change, be mindful of axis order changes: https://pyproj4.github.io/pyproj/stable/gotchas.html#axis-order-changes-in-proj-6\n",
            "  in_crs_string = _prepare_from_proj_string(in_crs_string)\n",
            "/usr/local/lib/python3.7/dist-packages/pyproj/crs/crs.py:131: FutureWarning: '+init=<authority>:<code>' syntax is deprecated. '<authority>:<code>' is the preferred initialization method. When making the change, be mindful of axis order changes: https://pyproj4.github.io/pyproj/stable/gotchas.html#axis-order-changes-in-proj-6\n",
            "  in_crs_string = _prepare_from_proj_string(in_crs_string)\n",
            "/usr/local/lib/python3.7/dist-packages/ipykernel_launcher.py:18: DeprecationWarning: This function is deprecated. See: https://pyproj4.github.io/pyproj/stable/gotchas.html#upgrading-to-pyproj-2-from-pyproj-1\n",
            "/usr/local/lib/python3.7/dist-packages/ipykernel_launcher.py:19: DeprecationWarning: This function is deprecated. See: https://pyproj4.github.io/pyproj/stable/gotchas.html#upgrading-to-pyproj-2-from-pyproj-1\n"
          ]
        },
        {
          "output_type": "stream",
          "name": "stdout",
          "text": [
            "{   'fire_alert_date': '2020-09-27',\n",
            "    'fire_alert_date_a_few_days_before': '2020-08-28',\n",
            "    'fire_area': 22799.2,\n",
            "    'fire_cont_date': '2020-10-13',\n",
            "    'fire_cont_date_a_few_days_after': '2020-11-12',\n",
            "    'fire_name': 'CAL_database_Sentinel2_120',\n",
            "    'fire_perimeter': [   -122.70878486457364,\n",
            "                          40.293539211178526,\n",
            "                          -122.53105632103477,\n",
            "                          40.55090363610434]}\n",
            "27 / 108\n",
            "Generating the Sentinel tif: CAL_database_Sentinel2_120_postFire_RGBIR\n",
            "Polling for task (id: DTW7Q3KW6KVSQI56U6BFXWHL).\n",
            "{'state': 'READY', 'description': 'export_task', 'creation_timestamp_ms': 1642075356709, 'update_timestamp_ms': 1642075356709, 'start_timestamp_ms': 0, 'task_type': 'EXPORT_IMAGE', 'id': 'DTW7Q3KW6KVSQI56U6BFXWHL', 'name': 'projects/earthengine-legacy/operations/DTW7Q3KW6KVSQI56U6BFXWHL'}\n",
            "Polling for task (id: DTW7Q3KW6KVSQI56U6BFXWHL).\n",
            "{'state': 'READY', 'description': 'export_task', 'creation_timestamp_ms': 1642075356709, 'update_timestamp_ms': 1642075356709, 'start_timestamp_ms': 0, 'task_type': 'EXPORT_IMAGE', 'id': 'DTW7Q3KW6KVSQI56U6BFXWHL', 'name': 'projects/earthengine-legacy/operations/DTW7Q3KW6KVSQI56U6BFXWHL'}\n",
            "Polling for task (id: DTW7Q3KW6KVSQI56U6BFXWHL).\n",
            "{'state': 'RUNNING', 'description': 'export_task', 'creation_timestamp_ms': 1642075356709, 'update_timestamp_ms': 1642075395876, 'start_timestamp_ms': 1642075389716, 'task_type': 'EXPORT_IMAGE', 'attempt': 1, 'id': 'DTW7Q3KW6KVSQI56U6BFXWHL', 'name': 'projects/earthengine-legacy/operations/DTW7Q3KW6KVSQI56U6BFXWHL'}\n"
          ]
        },
        {
          "output_type": "stream",
          "name": "stderr",
          "text": [
            "\r 26%|██▌       | 28/108 [1:12:37<1:58:21, 88.77s/it]/usr/local/lib/python3.7/dist-packages/pyproj/crs/crs.py:131: FutureWarning: '+init=<authority>:<code>' syntax is deprecated. '<authority>:<code>' is the preferred initialization method. When making the change, be mindful of axis order changes: https://pyproj4.github.io/pyproj/stable/gotchas.html#axis-order-changes-in-proj-6\n",
            "  in_crs_string = _prepare_from_proj_string(in_crs_string)\n",
            "/usr/local/lib/python3.7/dist-packages/pyproj/crs/crs.py:131: FutureWarning: '+init=<authority>:<code>' syntax is deprecated. '<authority>:<code>' is the preferred initialization method. When making the change, be mindful of axis order changes: https://pyproj4.github.io/pyproj/stable/gotchas.html#axis-order-changes-in-proj-6\n",
            "  in_crs_string = _prepare_from_proj_string(in_crs_string)\n",
            "/usr/local/lib/python3.7/dist-packages/ipykernel_launcher.py:18: DeprecationWarning: This function is deprecated. See: https://pyproj4.github.io/pyproj/stable/gotchas.html#upgrading-to-pyproj-2-from-pyproj-1\n",
            "/usr/local/lib/python3.7/dist-packages/ipykernel_launcher.py:19: DeprecationWarning: This function is deprecated. See: https://pyproj4.github.io/pyproj/stable/gotchas.html#upgrading-to-pyproj-2-from-pyproj-1\n"
          ]
        },
        {
          "output_type": "stream",
          "name": "stdout",
          "text": [
            "{   'fire_alert_date': '2017-10-08',\n",
            "    'fire_alert_date_a_few_days_before': '2017-09-08',\n",
            "    'fire_area': 22580.73,\n",
            "    'fire_cont_date': '2017-10-31',\n",
            "    'fire_cont_date_a_few_days_after': '2017-11-30',\n",
            "    'fire_name': 'CAL_database_Sentinel2_7535',\n",
            "    'fire_perimeter': [   -122.64977759262631,\n",
            "                          38.22600460511223,\n",
            "                          -122.34846696506936,\n",
            "                          38.469979806116605]}\n",
            "28 / 108\n",
            "Generating the Sentinel tif: CAL_database_Sentinel2_7535_postFire_RGBIR\n",
            "Polling for task (id: 3TXGJ7BKMLSJYOG77SHV43J7).\n",
            "{'state': 'READY', 'description': 'export_task', 'creation_timestamp_ms': 1642075448380, 'update_timestamp_ms': 1642075448380, 'start_timestamp_ms': 0, 'task_type': 'EXPORT_IMAGE', 'id': '3TXGJ7BKMLSJYOG77SHV43J7', 'name': 'projects/earthengine-legacy/operations/3TXGJ7BKMLSJYOG77SHV43J7'}\n",
            "Polling for task (id: 3TXGJ7BKMLSJYOG77SHV43J7).\n",
            "{'state': 'READY', 'description': 'export_task', 'creation_timestamp_ms': 1642075448380, 'update_timestamp_ms': 1642075448380, 'start_timestamp_ms': 0, 'task_type': 'EXPORT_IMAGE', 'id': '3TXGJ7BKMLSJYOG77SHV43J7', 'name': 'projects/earthengine-legacy/operations/3TXGJ7BKMLSJYOG77SHV43J7'}\n"
          ]
        },
        {
          "output_type": "stream",
          "name": "stderr",
          "text": [
            "\r 27%|██▋       | 29/108 [1:13:38<1:46:02, 80.53s/it]/usr/local/lib/python3.7/dist-packages/pyproj/crs/crs.py:131: FutureWarning: '+init=<authority>:<code>' syntax is deprecated. '<authority>:<code>' is the preferred initialization method. When making the change, be mindful of axis order changes: https://pyproj4.github.io/pyproj/stable/gotchas.html#axis-order-changes-in-proj-6\n",
            "  in_crs_string = _prepare_from_proj_string(in_crs_string)\n",
            "/usr/local/lib/python3.7/dist-packages/pyproj/crs/crs.py:131: FutureWarning: '+init=<authority>:<code>' syntax is deprecated. '<authority>:<code>' is the preferred initialization method. When making the change, be mindful of axis order changes: https://pyproj4.github.io/pyproj/stable/gotchas.html#axis-order-changes-in-proj-6\n",
            "  in_crs_string = _prepare_from_proj_string(in_crs_string)\n",
            "/usr/local/lib/python3.7/dist-packages/ipykernel_launcher.py:18: DeprecationWarning: This function is deprecated. See: https://pyproj4.github.io/pyproj/stable/gotchas.html#upgrading-to-pyproj-2-from-pyproj-1\n",
            "/usr/local/lib/python3.7/dist-packages/ipykernel_launcher.py:19: DeprecationWarning: This function is deprecated. See: https://pyproj4.github.io/pyproj/stable/gotchas.html#upgrading-to-pyproj-2-from-pyproj-1\n"
          ]
        },
        {
          "output_type": "stream",
          "name": "stdout",
          "text": [
            "{   'fire_alert_date': '2020-08-17',\n",
            "    'fire_alert_date_a_few_days_before': '2020-07-18',\n",
            "    'fire_area': 22342.26,\n",
            "    'fire_cont_date': '2020-09-02',\n",
            "    'fire_cont_date_a_few_days_after': '2020-10-02',\n",
            "    'fire_name': 'CAL_database_Sentinel2_225',\n",
            "    'fire_perimeter': [   -123.12416778216225,\n",
            "                          38.529779181638446,\n",
            "                          -122.88838735407795,\n",
            "                          38.70919007822555]}\n",
            "29 / 108\n",
            "Generating the Sentinel tif: CAL_database_Sentinel2_225_postFire_RGBIR\n",
            "Polling for task (id: XQZPP53IKIINDA4EKMDUBS6U).\n",
            "{'state': 'READY', 'description': 'export_task', 'creation_timestamp_ms': 1642075509777, 'update_timestamp_ms': 1642075509777, 'start_timestamp_ms': 0, 'task_type': 'EXPORT_IMAGE', 'id': 'XQZPP53IKIINDA4EKMDUBS6U', 'name': 'projects/earthengine-legacy/operations/XQZPP53IKIINDA4EKMDUBS6U'}\n",
            "Polling for task (id: XQZPP53IKIINDA4EKMDUBS6U).\n",
            "{'state': 'RUNNING', 'description': 'export_task', 'creation_timestamp_ms': 1642075509777, 'update_timestamp_ms': 1642075534942, 'start_timestamp_ms': 1642075534799, 'task_type': 'EXPORT_IMAGE', 'attempt': 1, 'id': 'XQZPP53IKIINDA4EKMDUBS6U', 'name': 'projects/earthengine-legacy/operations/XQZPP53IKIINDA4EKMDUBS6U'}\n",
            "Polling for task (id: XQZPP53IKIINDA4EKMDUBS6U).\n",
            "{'state': 'RUNNING', 'description': 'export_task', 'creation_timestamp_ms': 1642075509777, 'update_timestamp_ms': 1642075543629, 'start_timestamp_ms': 1642075534799, 'task_type': 'EXPORT_IMAGE', 'attempt': 1, 'id': 'XQZPP53IKIINDA4EKMDUBS6U', 'name': 'projects/earthengine-legacy/operations/XQZPP53IKIINDA4EKMDUBS6U'}\n"
          ]
        },
        {
          "output_type": "stream",
          "name": "stderr",
          "text": [
            "\r 28%|██▊       | 30/108 [1:15:10<1:49:02, 83.88s/it]/usr/local/lib/python3.7/dist-packages/pyproj/crs/crs.py:131: FutureWarning: '+init=<authority>:<code>' syntax is deprecated. '<authority>:<code>' is the preferred initialization method. When making the change, be mindful of axis order changes: https://pyproj4.github.io/pyproj/stable/gotchas.html#axis-order-changes-in-proj-6\n",
            "  in_crs_string = _prepare_from_proj_string(in_crs_string)\n",
            "/usr/local/lib/python3.7/dist-packages/pyproj/crs/crs.py:131: FutureWarning: '+init=<authority>:<code>' syntax is deprecated. '<authority>:<code>' is the preferred initialization method. When making the change, be mindful of axis order changes: https://pyproj4.github.io/pyproj/stable/gotchas.html#axis-order-changes-in-proj-6\n",
            "  in_crs_string = _prepare_from_proj_string(in_crs_string)\n",
            "/usr/local/lib/python3.7/dist-packages/ipykernel_launcher.py:18: DeprecationWarning: This function is deprecated. See: https://pyproj4.github.io/pyproj/stable/gotchas.html#upgrading-to-pyproj-2-from-pyproj-1\n",
            "/usr/local/lib/python3.7/dist-packages/ipykernel_launcher.py:19: DeprecationWarning: This function is deprecated. See: https://pyproj4.github.io/pyproj/stable/gotchas.html#upgrading-to-pyproj-2-from-pyproj-1\n"
          ]
        },
        {
          "output_type": "stream",
          "name": "stdout",
          "text": [
            "{   'fire_alert_date': '2019-09-04',\n",
            "    'fire_alert_date_a_few_days_before': '2019-08-05',\n",
            "    'fire_area': 22101.87,\n",
            "    'fire_cont_date': '2020-01-15',\n",
            "    'fire_cont_date_a_few_days_after': '2020-02-14',\n",
            "    'fire_name': 'CAL_database_Sentinel2_8612',\n",
            "    'fire_perimeter': [   -120.70972118703477,\n",
            "                          40.00585353741398,\n",
            "                          -120.45878301137739,\n",
            "                          40.17353610562398]}\n",
            "30 / 108\n",
            "Generating the Sentinel tif: CAL_database_Sentinel2_8612_postFire_RGBIR\n",
            "Polling for task (id: 7A5LPJB353MD3GWRMNH3RPJO).\n",
            "{'state': 'READY', 'description': 'export_task', 'creation_timestamp_ms': 1642075601456, 'update_timestamp_ms': 1642075601456, 'start_timestamp_ms': 0, 'task_type': 'EXPORT_IMAGE', 'id': '7A5LPJB353MD3GWRMNH3RPJO', 'name': 'projects/earthengine-legacy/operations/7A5LPJB353MD3GWRMNH3RPJO'}\n",
            "Polling for task (id: 7A5LPJB353MD3GWRMNH3RPJO).\n",
            "{'state': 'RUNNING', 'description': 'export_task', 'creation_timestamp_ms': 1642075601456, 'update_timestamp_ms': 1642075624793, 'start_timestamp_ms': 1642075624654, 'task_type': 'EXPORT_IMAGE', 'attempt': 1, 'id': '7A5LPJB353MD3GWRMNH3RPJO', 'name': 'projects/earthengine-legacy/operations/7A5LPJB353MD3GWRMNH3RPJO'}\n"
          ]
        },
        {
          "output_type": "stream",
          "name": "stderr",
          "text": [
            "\r 29%|██▊       | 31/108 [1:16:11<1:38:58, 77.12s/it]/usr/local/lib/python3.7/dist-packages/pyproj/crs/crs.py:131: FutureWarning: '+init=<authority>:<code>' syntax is deprecated. '<authority>:<code>' is the preferred initialization method. When making the change, be mindful of axis order changes: https://pyproj4.github.io/pyproj/stable/gotchas.html#axis-order-changes-in-proj-6\n",
            "  in_crs_string = _prepare_from_proj_string(in_crs_string)\n",
            "/usr/local/lib/python3.7/dist-packages/pyproj/crs/crs.py:131: FutureWarning: '+init=<authority>:<code>' syntax is deprecated. '<authority>:<code>' is the preferred initialization method. When making the change, be mindful of axis order changes: https://pyproj4.github.io/pyproj/stable/gotchas.html#axis-order-changes-in-proj-6\n",
            "  in_crs_string = _prepare_from_proj_string(in_crs_string)\n",
            "/usr/local/lib/python3.7/dist-packages/ipykernel_launcher.py:18: DeprecationWarning: This function is deprecated. See: https://pyproj4.github.io/pyproj/stable/gotchas.html#upgrading-to-pyproj-2-from-pyproj-1\n",
            "/usr/local/lib/python3.7/dist-packages/ipykernel_launcher.py:19: DeprecationWarning: This function is deprecated. See: https://pyproj4.github.io/pyproj/stable/gotchas.html#upgrading-to-pyproj-2-from-pyproj-1\n"
          ]
        },
        {
          "output_type": "stream",
          "name": "stdout",
          "text": [
            "{   'fire_alert_date': '2017-10-08',\n",
            "    'fire_alert_date_a_few_days_before': '2017-09-08',\n",
            "    'fire_area': 20891.76,\n",
            "    'fire_cont_date': '2017-11-01',\n",
            "    'fire_cont_date_a_few_days_after': '2017-12-01',\n",
            "    'fire_name': 'CAL_database_Sentinel2_7541',\n",
            "    'fire_perimeter': [   -122.35095449994313,\n",
            "                          38.23498698165007,\n",
            "                          -122.12436336652205,\n",
            "                          38.492545694243034]}\n",
            "31 / 108\n",
            "Generating the Sentinel tif: CAL_database_Sentinel2_7541_postFire_RGBIR\n",
            "Polling for task (id: 3NQNPLEJ75XRNRYUJBA2RJ6V).\n",
            "{'state': 'READY', 'description': 'export_task', 'creation_timestamp_ms': 1642075662781, 'update_timestamp_ms': 1642075662781, 'start_timestamp_ms': 0, 'task_type': 'EXPORT_IMAGE', 'id': '3NQNPLEJ75XRNRYUJBA2RJ6V', 'name': 'projects/earthengine-legacy/operations/3NQNPLEJ75XRNRYUJBA2RJ6V'}\n",
            "Polling for task (id: 3NQNPLEJ75XRNRYUJBA2RJ6V).\n",
            "{'state': 'READY', 'description': 'export_task', 'creation_timestamp_ms': 1642075662781, 'update_timestamp_ms': 1642075662781, 'start_timestamp_ms': 0, 'task_type': 'EXPORT_IMAGE', 'id': '3NQNPLEJ75XRNRYUJBA2RJ6V', 'name': 'projects/earthengine-legacy/operations/3NQNPLEJ75XRNRYUJBA2RJ6V'}\n"
          ]
        },
        {
          "output_type": "stream",
          "name": "stderr",
          "text": [
            "\r 30%|██▉       | 32/108 [1:17:12<1:31:40, 72.37s/it]/usr/local/lib/python3.7/dist-packages/pyproj/crs/crs.py:131: FutureWarning: '+init=<authority>:<code>' syntax is deprecated. '<authority>:<code>' is the preferred initialization method. When making the change, be mindful of axis order changes: https://pyproj4.github.io/pyproj/stable/gotchas.html#axis-order-changes-in-proj-6\n",
            "  in_crs_string = _prepare_from_proj_string(in_crs_string)\n",
            "/usr/local/lib/python3.7/dist-packages/pyproj/crs/crs.py:131: FutureWarning: '+init=<authority>:<code>' syntax is deprecated. '<authority>:<code>' is the preferred initialization method. When making the change, be mindful of axis order changes: https://pyproj4.github.io/pyproj/stable/gotchas.html#axis-order-changes-in-proj-6\n",
            "  in_crs_string = _prepare_from_proj_string(in_crs_string)\n",
            "/usr/local/lib/python3.7/dist-packages/ipykernel_launcher.py:18: DeprecationWarning: This function is deprecated. See: https://pyproj4.github.io/pyproj/stable/gotchas.html#upgrading-to-pyproj-2-from-pyproj-1\n",
            "/usr/local/lib/python3.7/dist-packages/ipykernel_launcher.py:19: DeprecationWarning: This function is deprecated. See: https://pyproj4.github.io/pyproj/stable/gotchas.html#upgrading-to-pyproj-2-from-pyproj-1\n"
          ]
        },
        {
          "output_type": "stream",
          "name": "stdout",
          "text": [
            "{   'fire_alert_date': '2020-08-16',\n",
            "    'fire_alert_date_a_few_days_before': '2020-07-17',\n",
            "    'fire_area': 20320.81,\n",
            "    'fire_cont_date': '2020-09-04',\n",
            "    'fire_cont_date_a_few_days_after': '2020-10-04',\n",
            "    'fire_name': 'CAL_database_Sentinel2_164',\n",
            "    'fire_perimeter': [   -121.69883914901914,\n",
            "                          36.370877829730155,\n",
            "                          -121.43662155521368,\n",
            "                          36.60144960609739]}\n",
            "32 / 108\n",
            "Generating the Sentinel tif: CAL_database_Sentinel2_164_postFire_RGBIR\n",
            "Polling for task (id: AWF7QZMN5G43QXWC3ULLUBPZ).\n",
            "{'state': 'READY', 'description': 'export_task', 'creation_timestamp_ms': 1642075724074, 'update_timestamp_ms': 1642075724074, 'start_timestamp_ms': 0, 'task_type': 'EXPORT_IMAGE', 'id': 'AWF7QZMN5G43QXWC3ULLUBPZ', 'name': 'projects/earthengine-legacy/operations/AWF7QZMN5G43QXWC3ULLUBPZ'}\n",
            "Polling for task (id: AWF7QZMN5G43QXWC3ULLUBPZ).\n",
            "{'state': 'RUNNING', 'description': 'export_task', 'creation_timestamp_ms': 1642075724074, 'update_timestamp_ms': 1642075746822, 'start_timestamp_ms': 1642075743411, 'task_type': 'EXPORT_IMAGE', 'attempt': 1, 'id': 'AWF7QZMN5G43QXWC3ULLUBPZ', 'name': 'projects/earthengine-legacy/operations/AWF7QZMN5G43QXWC3ULLUBPZ'}\n"
          ]
        },
        {
          "output_type": "stream",
          "name": "stderr",
          "text": [
            "\r 31%|███       | 33/108 [1:18:14<1:26:19, 69.06s/it]/usr/local/lib/python3.7/dist-packages/pyproj/crs/crs.py:131: FutureWarning: '+init=<authority>:<code>' syntax is deprecated. '<authority>:<code>' is the preferred initialization method. When making the change, be mindful of axis order changes: https://pyproj4.github.io/pyproj/stable/gotchas.html#axis-order-changes-in-proj-6\n",
            "  in_crs_string = _prepare_from_proj_string(in_crs_string)\n",
            "/usr/local/lib/python3.7/dist-packages/pyproj/crs/crs.py:131: FutureWarning: '+init=<authority>:<code>' syntax is deprecated. '<authority>:<code>' is the preferred initialization method. When making the change, be mindful of axis order changes: https://pyproj4.github.io/pyproj/stable/gotchas.html#axis-order-changes-in-proj-6\n",
            "  in_crs_string = _prepare_from_proj_string(in_crs_string)\n",
            "/usr/local/lib/python3.7/dist-packages/ipykernel_launcher.py:18: DeprecationWarning: This function is deprecated. See: https://pyproj4.github.io/pyproj/stable/gotchas.html#upgrading-to-pyproj-2-from-pyproj-1\n",
            "/usr/local/lib/python3.7/dist-packages/ipykernel_launcher.py:19: DeprecationWarning: This function is deprecated. See: https://pyproj4.github.io/pyproj/stable/gotchas.html#upgrading-to-pyproj-2-from-pyproj-1\n"
          ]
        },
        {
          "output_type": "stream",
          "name": "stdout",
          "text": [
            "{   'fire_alert_date': '2018-07-27',\n",
            "    'fire_alert_date_a_few_days_before': '2018-06-27',\n",
            "    'fire_area': 19797.38,\n",
            "    'fire_cont_date': '2018-08-10',\n",
            "    'fire_cont_date_a_few_days_after': '2018-09-09',\n",
            "    'fire_name': 'CAL_database_Sentinel2_8169',\n",
            "    'fire_perimeter': [   -123.14131502967182,\n",
            "                          38.962749949975404,\n",
            "                          -122.89539829316118,\n",
            "                          39.14658533511505]}\n",
            "33 / 108\n",
            "Generating the Sentinel tif: CAL_database_Sentinel2_8169_postFire_RGBIR\n",
            "Polling for task (id: VTXPVGS6NRYP34VZX6YRXGMJ).\n",
            "{'state': 'READY', 'description': 'export_task', 'creation_timestamp_ms': 1642075785402, 'update_timestamp_ms': 1642075785402, 'start_timestamp_ms': 0, 'task_type': 'EXPORT_IMAGE', 'id': 'VTXPVGS6NRYP34VZX6YRXGMJ', 'name': 'projects/earthengine-legacy/operations/VTXPVGS6NRYP34VZX6YRXGMJ'}\n",
            "Polling for task (id: VTXPVGS6NRYP34VZX6YRXGMJ).\n",
            "{'state': 'READY', 'description': 'export_task', 'creation_timestamp_ms': 1642075785402, 'update_timestamp_ms': 1642075785402, 'start_timestamp_ms': 0, 'task_type': 'EXPORT_IMAGE', 'id': 'VTXPVGS6NRYP34VZX6YRXGMJ', 'name': 'projects/earthengine-legacy/operations/VTXPVGS6NRYP34VZX6YRXGMJ'}\n",
            "Polling for task (id: VTXPVGS6NRYP34VZX6YRXGMJ).\n",
            "{'state': 'RUNNING', 'description': 'export_task', 'creation_timestamp_ms': 1642075785402, 'update_timestamp_ms': 1642075833675, 'start_timestamp_ms': 1642075833534, 'task_type': 'EXPORT_IMAGE', 'attempt': 1, 'id': 'VTXPVGS6NRYP34VZX6YRXGMJ', 'name': 'projects/earthengine-legacy/operations/VTXPVGS6NRYP34VZX6YRXGMJ'}\n"
          ]
        },
        {
          "output_type": "stream",
          "name": "stderr",
          "text": [
            "\r 31%|███▏      | 34/108 [1:19:46<1:33:36, 75.90s/it]/usr/local/lib/python3.7/dist-packages/pyproj/crs/crs.py:131: FutureWarning: '+init=<authority>:<code>' syntax is deprecated. '<authority>:<code>' is the preferred initialization method. When making the change, be mindful of axis order changes: https://pyproj4.github.io/pyproj/stable/gotchas.html#axis-order-changes-in-proj-6\n",
            "  in_crs_string = _prepare_from_proj_string(in_crs_string)\n",
            "/usr/local/lib/python3.7/dist-packages/pyproj/crs/crs.py:131: FutureWarning: '+init=<authority>:<code>' syntax is deprecated. '<authority>:<code>' is the preferred initialization method. When making the change, be mindful of axis order changes: https://pyproj4.github.io/pyproj/stable/gotchas.html#axis-order-changes-in-proj-6\n",
            "  in_crs_string = _prepare_from_proj_string(in_crs_string)\n",
            "/usr/local/lib/python3.7/dist-packages/ipykernel_launcher.py:18: DeprecationWarning: This function is deprecated. See: https://pyproj4.github.io/pyproj/stable/gotchas.html#upgrading-to-pyproj-2-from-pyproj-1\n",
            "/usr/local/lib/python3.7/dist-packages/ipykernel_launcher.py:19: DeprecationWarning: This function is deprecated. See: https://pyproj4.github.io/pyproj/stable/gotchas.html#upgrading-to-pyproj-2-from-pyproj-1\n"
          ]
        },
        {
          "output_type": "stream",
          "name": "stdout",
          "text": [
            "{   'fire_alert_date': '2017-07-09',\n",
            "    'fire_alert_date_a_few_days_before': '2017-06-09',\n",
            "    'fire_area': 19783.73,\n",
            "    'fire_cont_date': '2017-07-25',\n",
            "    'fire_cont_date_a_few_days_after': '2017-08-24',\n",
            "    'fire_name': 'CAL_database_Sentinel2_7674',\n",
            "    'fire_perimeter': [   -120.43753306335006,\n",
            "                          35.87262041496572,\n",
            "                          -120.1607725831718,\n",
            "                          36.04055890149083]}\n",
            "34 / 108\n",
            "Generating the Sentinel tif: CAL_database_Sentinel2_7674_postFire_RGBIR\n",
            "Polling for task (id: R556AKGPDX723YU66NSVGCGM).\n",
            "{'state': 'READY', 'description': 'export_task', 'creation_timestamp_ms': 1642075877230, 'update_timestamp_ms': 1642075877230, 'start_timestamp_ms': 0, 'task_type': 'EXPORT_IMAGE', 'id': 'R556AKGPDX723YU66NSVGCGM', 'name': 'projects/earthengine-legacy/operations/R556AKGPDX723YU66NSVGCGM'}\n",
            "Polling for task (id: R556AKGPDX723YU66NSVGCGM).\n",
            "{'state': 'READY', 'description': 'export_task', 'creation_timestamp_ms': 1642075877230, 'update_timestamp_ms': 1642075877230, 'start_timestamp_ms': 0, 'task_type': 'EXPORT_IMAGE', 'id': 'R556AKGPDX723YU66NSVGCGM', 'name': 'projects/earthengine-legacy/operations/R556AKGPDX723YU66NSVGCGM'}\n"
          ]
        },
        {
          "output_type": "stream",
          "name": "stderr",
          "text": [
            "\r 32%|███▏      | 35/108 [1:20:47<1:27:00, 71.51s/it]/usr/local/lib/python3.7/dist-packages/pyproj/crs/crs.py:131: FutureWarning: '+init=<authority>:<code>' syntax is deprecated. '<authority>:<code>' is the preferred initialization method. When making the change, be mindful of axis order changes: https://pyproj4.github.io/pyproj/stable/gotchas.html#axis-order-changes-in-proj-6\n",
            "  in_crs_string = _prepare_from_proj_string(in_crs_string)\n",
            "/usr/local/lib/python3.7/dist-packages/pyproj/crs/crs.py:131: FutureWarning: '+init=<authority>:<code>' syntax is deprecated. '<authority>:<code>' is the preferred initialization method. When making the change, be mindful of axis order changes: https://pyproj4.github.io/pyproj/stable/gotchas.html#axis-order-changes-in-proj-6\n",
            "  in_crs_string = _prepare_from_proj_string(in_crs_string)\n",
            "/usr/local/lib/python3.7/dist-packages/ipykernel_launcher.py:18: DeprecationWarning: This function is deprecated. See: https://pyproj4.github.io/pyproj/stable/gotchas.html#upgrading-to-pyproj-2-from-pyproj-1\n",
            "/usr/local/lib/python3.7/dist-packages/ipykernel_launcher.py:19: DeprecationWarning: This function is deprecated. See: https://pyproj4.github.io/pyproj/stable/gotchas.html#upgrading-to-pyproj-2-from-pyproj-1\n"
          ]
        },
        {
          "output_type": "stream",
          "name": "stdout",
          "text": [
            "{   'fire_alert_date': '2016-06-23',\n",
            "    'fire_alert_date_a_few_days_before': '2016-05-24',\n",
            "    'fire_area': 19428.29,\n",
            "    'fire_cont_date': '2016-06-30',\n",
            "    'fire_cont_date_a_few_days_after': '2016-07-30',\n",
            "    'fire_name': 'CAL_database_Sentinel2_7190',\n",
            "    'fire_perimeter': [   -118.47333456863426,\n",
            "                          35.48846584673232,\n",
            "                          -118.1954190425847,\n",
            "                          35.64903349591805]}\n",
            "35 / 108\n",
            "Generating the Sentinel tif: CAL_database_Sentinel2_7190_postFire_RGBIR\n",
            "Polling for task (id: QMYE2LNZLFSEIWPUHBKBSG3M).\n",
            "{'state': 'READY', 'description': 'export_task', 'creation_timestamp_ms': 1642075938553, 'update_timestamp_ms': 1642075938553, 'start_timestamp_ms': 0, 'task_type': 'EXPORT_IMAGE', 'id': 'QMYE2LNZLFSEIWPUHBKBSG3M', 'name': 'projects/earthengine-legacy/operations/QMYE2LNZLFSEIWPUHBKBSG3M'}\n",
            "Polling for task (id: QMYE2LNZLFSEIWPUHBKBSG3M).\n",
            "{'state': 'READY', 'description': 'export_task', 'creation_timestamp_ms': 1642075938553, 'update_timestamp_ms': 1642075938553, 'start_timestamp_ms': 0, 'task_type': 'EXPORT_IMAGE', 'id': 'QMYE2LNZLFSEIWPUHBKBSG3M', 'name': 'projects/earthengine-legacy/operations/QMYE2LNZLFSEIWPUHBKBSG3M'}\n"
          ]
        },
        {
          "output_type": "stream",
          "name": "stderr",
          "text": [
            "\r 33%|███▎      | 36/108 [1:21:48<1:22:09, 68.47s/it]/usr/local/lib/python3.7/dist-packages/pyproj/crs/crs.py:131: FutureWarning: '+init=<authority>:<code>' syntax is deprecated. '<authority>:<code>' is the preferred initialization method. When making the change, be mindful of axis order changes: https://pyproj4.github.io/pyproj/stable/gotchas.html#axis-order-changes-in-proj-6\n",
            "  in_crs_string = _prepare_from_proj_string(in_crs_string)\n",
            "/usr/local/lib/python3.7/dist-packages/pyproj/crs/crs.py:131: FutureWarning: '+init=<authority>:<code>' syntax is deprecated. '<authority>:<code>' is the preferred initialization method. When making the change, be mindful of axis order changes: https://pyproj4.github.io/pyproj/stable/gotchas.html#axis-order-changes-in-proj-6\n",
            "  in_crs_string = _prepare_from_proj_string(in_crs_string)\n",
            "/usr/local/lib/python3.7/dist-packages/ipykernel_launcher.py:18: DeprecationWarning: This function is deprecated. See: https://pyproj4.github.io/pyproj/stable/gotchas.html#upgrading-to-pyproj-2-from-pyproj-1\n",
            "/usr/local/lib/python3.7/dist-packages/ipykernel_launcher.py:19: DeprecationWarning: This function is deprecated. See: https://pyproj4.github.io/pyproj/stable/gotchas.html#upgrading-to-pyproj-2-from-pyproj-1\n"
          ]
        },
        {
          "output_type": "stream",
          "name": "stdout",
          "text": [
            "{   'fire_alert_date': '2020-08-14',\n",
            "    'fire_alert_date_a_few_days_before': '2020-07-15',\n",
            "    'fire_area': 18907.28,\n",
            "    'fire_cont_date': '2020-08-27',\n",
            "    'fire_cont_date_a_few_days_after': '2020-09-26',\n",
            "    'fire_name': 'CAL_database_Sentinel2_238',\n",
            "    'fire_perimeter': [   -120.22477219367501,\n",
            "                          39.618677302762734,\n",
            "                          -120.0063111201377,\n",
            "                          39.78958466108548]}\n",
            "36 / 108\n",
            "Generating the Sentinel tif: CAL_database_Sentinel2_238_postFire_RGBIR\n",
            "Polling for task (id: W33LMEDII7NIVHBMJAVQZT6Z).\n",
            "{'state': 'READY', 'description': 'export_task', 'creation_timestamp_ms': 1642075999860, 'update_timestamp_ms': 1642075999860, 'start_timestamp_ms': 0, 'task_type': 'EXPORT_IMAGE', 'id': 'W33LMEDII7NIVHBMJAVQZT6Z', 'name': 'projects/earthengine-legacy/operations/W33LMEDII7NIVHBMJAVQZT6Z'}\n",
            "Polling for task (id: W33LMEDII7NIVHBMJAVQZT6Z).\n",
            "{'state': 'READY', 'description': 'export_task', 'creation_timestamp_ms': 1642075999860, 'update_timestamp_ms': 1642075999860, 'start_timestamp_ms': 0, 'task_type': 'EXPORT_IMAGE', 'id': 'W33LMEDII7NIVHBMJAVQZT6Z', 'name': 'projects/earthengine-legacy/operations/W33LMEDII7NIVHBMJAVQZT6Z'}\n",
            "Polling for task (id: W33LMEDII7NIVHBMJAVQZT6Z).\n",
            "{'state': 'RUNNING', 'description': 'export_task', 'creation_timestamp_ms': 1642075999860, 'update_timestamp_ms': 1642076037427, 'start_timestamp_ms': 1642076033514, 'task_type': 'EXPORT_IMAGE', 'attempt': 1, 'id': 'W33LMEDII7NIVHBMJAVQZT6Z', 'name': 'projects/earthengine-legacy/operations/W33LMEDII7NIVHBMJAVQZT6Z'}\n"
          ]
        },
        {
          "output_type": "stream",
          "name": "stderr",
          "text": [
            "\r 34%|███▍      | 37/108 [1:23:20<1:29:14, 75.41s/it]/usr/local/lib/python3.7/dist-packages/pyproj/crs/crs.py:131: FutureWarning: '+init=<authority>:<code>' syntax is deprecated. '<authority>:<code>' is the preferred initialization method. When making the change, be mindful of axis order changes: https://pyproj4.github.io/pyproj/stable/gotchas.html#axis-order-changes-in-proj-6\n",
            "  in_crs_string = _prepare_from_proj_string(in_crs_string)\n",
            "/usr/local/lib/python3.7/dist-packages/pyproj/crs/crs.py:131: FutureWarning: '+init=<authority>:<code>' syntax is deprecated. '<authority>:<code>' is the preferred initialization method. When making the change, be mindful of axis order changes: https://pyproj4.github.io/pyproj/stable/gotchas.html#axis-order-changes-in-proj-6\n",
            "  in_crs_string = _prepare_from_proj_string(in_crs_string)\n",
            "/usr/local/lib/python3.7/dist-packages/ipykernel_launcher.py:18: DeprecationWarning: This function is deprecated. See: https://pyproj4.github.io/pyproj/stable/gotchas.html#upgrading-to-pyproj-2-from-pyproj-1\n",
            "/usr/local/lib/python3.7/dist-packages/ipykernel_launcher.py:19: DeprecationWarning: This function is deprecated. See: https://pyproj4.github.io/pyproj/stable/gotchas.html#upgrading-to-pyproj-2-from-pyproj-1\n"
          ]
        },
        {
          "output_type": "stream",
          "name": "stdout",
          "text": [
            "{   'fire_alert_date': '2016-08-13',\n",
            "    'fire_alert_date_a_few_days_before': '2016-07-14',\n",
            "    'fire_area': 18710.2,\n",
            "    'fire_cont_date': '2016-09-09',\n",
            "    'fire_cont_date_a_few_days_after': '2016-10-09',\n",
            "    'fire_name': 'CAL_database_Sentinel2_7083',\n",
            "    'fire_perimeter': [   -121.1869090694106,\n",
            "                          35.664980721510126,\n",
            "                          -120.9622660183612,\n",
            "                          35.81169708227215]}\n",
            "37 / 108\n",
            "Generating the Sentinel tif: CAL_database_Sentinel2_7083_postFire_RGBIR\n",
            "Polling for task (id: W5HZPYYLGPNKX4LGMCBNQK53).\n",
            "{'state': 'READY', 'description': 'export_task', 'creation_timestamp_ms': 1642076091496, 'update_timestamp_ms': 1642076091496, 'start_timestamp_ms': 0, 'task_type': 'EXPORT_IMAGE', 'id': 'W5HZPYYLGPNKX4LGMCBNQK53', 'name': 'projects/earthengine-legacy/operations/W5HZPYYLGPNKX4LGMCBNQK53'}\n",
            "Polling for task (id: W5HZPYYLGPNKX4LGMCBNQK53).\n",
            "{'state': 'READY', 'description': 'export_task', 'creation_timestamp_ms': 1642076091496, 'update_timestamp_ms': 1642076091496, 'start_timestamp_ms': 0, 'task_type': 'EXPORT_IMAGE', 'id': 'W5HZPYYLGPNKX4LGMCBNQK53', 'name': 'projects/earthengine-legacy/operations/W5HZPYYLGPNKX4LGMCBNQK53'}\n"
          ]
        },
        {
          "output_type": "stream",
          "name": "stderr",
          "text": [
            "\r 35%|███▌      | 38/108 [1:24:21<1:23:02, 71.18s/it]/usr/local/lib/python3.7/dist-packages/pyproj/crs/crs.py:131: FutureWarning: '+init=<authority>:<code>' syntax is deprecated. '<authority>:<code>' is the preferred initialization method. When making the change, be mindful of axis order changes: https://pyproj4.github.io/pyproj/stable/gotchas.html#axis-order-changes-in-proj-6\n",
            "  in_crs_string = _prepare_from_proj_string(in_crs_string)\n",
            "/usr/local/lib/python3.7/dist-packages/pyproj/crs/crs.py:131: FutureWarning: '+init=<authority>:<code>' syntax is deprecated. '<authority>:<code>' is the preferred initialization method. When making the change, be mindful of axis order changes: https://pyproj4.github.io/pyproj/stable/gotchas.html#axis-order-changes-in-proj-6\n",
            "  in_crs_string = _prepare_from_proj_string(in_crs_string)\n",
            "/usr/local/lib/python3.7/dist-packages/ipykernel_launcher.py:18: DeprecationWarning: This function is deprecated. See: https://pyproj4.github.io/pyproj/stable/gotchas.html#upgrading-to-pyproj-2-from-pyproj-1\n",
            "/usr/local/lib/python3.7/dist-packages/ipykernel_launcher.py:19: DeprecationWarning: This function is deprecated. See: https://pyproj4.github.io/pyproj/stable/gotchas.html#upgrading-to-pyproj-2-from-pyproj-1\n"
          ]
        },
        {
          "output_type": "stream",
          "name": "stdout",
          "text": [
            "{   'fire_alert_date': '2017-07-26',\n",
            "    'fire_alert_date_a_few_days_before': '2017-06-26',\n",
            "    'fire_area': 18495.76,\n",
            "    'fire_cont_date': '2017-08-13',\n",
            "    'fire_cont_date_a_few_days_after': '2017-09-12',\n",
            "    'fire_name': 'CAL_database_Sentinel2_7806',\n",
            "    'fire_perimeter': [   -121.03157727775594,\n",
            "                          41.81069769779255,\n",
            "                          -120.75962302999874,\n",
            "                          41.945643051440975]}\n",
            "38 / 108\n",
            "Generating the Sentinel tif: CAL_database_Sentinel2_7806_postFire_RGBIR\n",
            "Polling for task (id: UV7LXDIVBL3DM3SMINBKHDN3).\n",
            "{'state': 'READY', 'description': 'export_task', 'creation_timestamp_ms': 1642076152831, 'update_timestamp_ms': 1642076152831, 'start_timestamp_ms': 0, 'task_type': 'EXPORT_IMAGE', 'id': 'UV7LXDIVBL3DM3SMINBKHDN3', 'name': 'projects/earthengine-legacy/operations/UV7LXDIVBL3DM3SMINBKHDN3'}\n",
            "Polling for task (id: UV7LXDIVBL3DM3SMINBKHDN3).\n",
            "{'state': 'READY', 'description': 'export_task', 'creation_timestamp_ms': 1642076152831, 'update_timestamp_ms': 1642076152831, 'start_timestamp_ms': 0, 'task_type': 'EXPORT_IMAGE', 'id': 'UV7LXDIVBL3DM3SMINBKHDN3', 'name': 'projects/earthengine-legacy/operations/UV7LXDIVBL3DM3SMINBKHDN3'}\n",
            "Polling for task (id: UV7LXDIVBL3DM3SMINBKHDN3).\n",
            "{'state': 'READY', 'description': 'export_task', 'creation_timestamp_ms': 1642076152831, 'update_timestamp_ms': 1642076152831, 'start_timestamp_ms': 0, 'task_type': 'EXPORT_IMAGE', 'id': 'UV7LXDIVBL3DM3SMINBKHDN3', 'name': 'projects/earthengine-legacy/operations/UV7LXDIVBL3DM3SMINBKHDN3'}\n"
          ]
        },
        {
          "output_type": "stream",
          "name": "stderr",
          "text": [
            "\r 36%|███▌      | 39/108 [1:25:53<1:28:55, 77.32s/it]/usr/local/lib/python3.7/dist-packages/pyproj/crs/crs.py:131: FutureWarning: '+init=<authority>:<code>' syntax is deprecated. '<authority>:<code>' is the preferred initialization method. When making the change, be mindful of axis order changes: https://pyproj4.github.io/pyproj/stable/gotchas.html#axis-order-changes-in-proj-6\n",
            "  in_crs_string = _prepare_from_proj_string(in_crs_string)\n",
            "/usr/local/lib/python3.7/dist-packages/pyproj/crs/crs.py:131: FutureWarning: '+init=<authority>:<code>' syntax is deprecated. '<authority>:<code>' is the preferred initialization method. When making the change, be mindful of axis order changes: https://pyproj4.github.io/pyproj/stable/gotchas.html#axis-order-changes-in-proj-6\n",
            "  in_crs_string = _prepare_from_proj_string(in_crs_string)\n",
            "/usr/local/lib/python3.7/dist-packages/ipykernel_launcher.py:18: DeprecationWarning: This function is deprecated. See: https://pyproj4.github.io/pyproj/stable/gotchas.html#upgrading-to-pyproj-2-from-pyproj-1\n",
            "/usr/local/lib/python3.7/dist-packages/ipykernel_launcher.py:19: DeprecationWarning: This function is deprecated. See: https://pyproj4.github.io/pyproj/stable/gotchas.html#upgrading-to-pyproj-2-from-pyproj-1\n"
          ]
        },
        {
          "output_type": "stream",
          "name": "stdout",
          "text": [
            "{   'fire_alert_date': '2020-08-15',\n",
            "    'fire_alert_date_a_few_days_before': '2020-07-16',\n",
            "    'fire_area': 17891.66,\n",
            "    'fire_cont_date': '2020-09-12',\n",
            "    'fire_cont_date_a_few_days_after': '2020-10-12',\n",
            "    'fire_name': 'CAL_database_Sentinel2_303',\n",
            "    'fire_perimeter': [   -115.69037618568007,\n",
            "                          35.228344162731055,\n",
            "                          -115.48573097008114,\n",
            "                          35.37821949223695]}\n",
            "39 / 108\n",
            "Generating the Sentinel tif: CAL_database_Sentinel2_303_postFire_RGBIR\n",
            "Polling for task (id: 7DU7W66JSASDU2BXVA4E7Q6P).\n",
            "{'state': 'READY', 'description': 'export_task', 'creation_timestamp_ms': 1642076244441, 'update_timestamp_ms': 1642076244441, 'start_timestamp_ms': 0, 'task_type': 'EXPORT_IMAGE', 'id': '7DU7W66JSASDU2BXVA4E7Q6P', 'name': 'projects/earthengine-legacy/operations/7DU7W66JSASDU2BXVA4E7Q6P'}\n",
            "Polling for task (id: 7DU7W66JSASDU2BXVA4E7Q6P).\n",
            "{'state': 'RUNNING', 'description': 'export_task', 'creation_timestamp_ms': 1642076244441, 'update_timestamp_ms': 1642076271353, 'start_timestamp_ms': 1642076267234, 'task_type': 'EXPORT_IMAGE', 'attempt': 1, 'id': '7DU7W66JSASDU2BXVA4E7Q6P', 'name': 'projects/earthengine-legacy/operations/7DU7W66JSASDU2BXVA4E7Q6P'}\n",
            "Polling for task (id: 7DU7W66JSASDU2BXVA4E7Q6P).\n",
            "{'state': 'RUNNING', 'description': 'export_task', 'creation_timestamp_ms': 1642076244441, 'update_timestamp_ms': 1642076271353, 'start_timestamp_ms': 1642076267234, 'task_type': 'EXPORT_IMAGE', 'attempt': 1, 'id': '7DU7W66JSASDU2BXVA4E7Q6P', 'name': 'projects/earthengine-legacy/operations/7DU7W66JSASDU2BXVA4E7Q6P'}\n"
          ]
        },
        {
          "output_type": "stream",
          "name": "stderr",
          "text": [
            "\r 37%|███▋      | 40/108 [1:27:24<1:32:29, 81.61s/it]/usr/local/lib/python3.7/dist-packages/pyproj/crs/crs.py:131: FutureWarning: '+init=<authority>:<code>' syntax is deprecated. '<authority>:<code>' is the preferred initialization method. When making the change, be mindful of axis order changes: https://pyproj4.github.io/pyproj/stable/gotchas.html#axis-order-changes-in-proj-6\n",
            "  in_crs_string = _prepare_from_proj_string(in_crs_string)\n",
            "/usr/local/lib/python3.7/dist-packages/pyproj/crs/crs.py:131: FutureWarning: '+init=<authority>:<code>' syntax is deprecated. '<authority>:<code>' is the preferred initialization method. When making the change, be mindful of axis order changes: https://pyproj4.github.io/pyproj/stable/gotchas.html#axis-order-changes-in-proj-6\n",
            "  in_crs_string = _prepare_from_proj_string(in_crs_string)\n",
            "/usr/local/lib/python3.7/dist-packages/ipykernel_launcher.py:18: DeprecationWarning: This function is deprecated. See: https://pyproj4.github.io/pyproj/stable/gotchas.html#upgrading-to-pyproj-2-from-pyproj-1\n",
            "/usr/local/lib/python3.7/dist-packages/ipykernel_launcher.py:19: DeprecationWarning: This function is deprecated. See: https://pyproj4.github.io/pyproj/stable/gotchas.html#upgrading-to-pyproj-2-from-pyproj-1\n"
          ]
        },
        {
          "output_type": "stream",
          "name": "stdout",
          "text": [
            "{   'fire_alert_date': '2016-07-22',\n",
            "    'fire_alert_date_a_few_days_before': '2016-06-22',\n",
            "    'fire_area': 16747.05,\n",
            "    'fire_cont_date': '2016-08-07',\n",
            "    'fire_cont_date_a_few_days_after': '2016-09-06',\n",
            "    'fire_name': 'CAL_database_Sentinel2_7248',\n",
            "    'fire_perimeter': [   -118.4652691883239,\n",
            "                          34.33261213075504,\n",
            "                          -118.23294539216279,\n",
            "                          34.45435993934711]}\n",
            "40 / 108\n",
            "Generating the Sentinel tif: CAL_database_Sentinel2_7248_postFire_RGBIR\n",
            "Polling for task (id: WOJIAJZNY5V3VODRREOGRZNA).\n",
            "{'state': 'READY', 'description': 'export_task', 'creation_timestamp_ms': 1642076336087, 'update_timestamp_ms': 1642076336087, 'start_timestamp_ms': 0, 'task_type': 'EXPORT_IMAGE', 'id': 'WOJIAJZNY5V3VODRREOGRZNA', 'name': 'projects/earthengine-legacy/operations/WOJIAJZNY5V3VODRREOGRZNA'}\n"
          ]
        },
        {
          "output_type": "stream",
          "name": "stderr",
          "text": [
            "\r 38%|███▊      | 41/108 [1:27:55<1:14:10, 66.42s/it]/usr/local/lib/python3.7/dist-packages/pyproj/crs/crs.py:131: FutureWarning: '+init=<authority>:<code>' syntax is deprecated. '<authority>:<code>' is the preferred initialization method. When making the change, be mindful of axis order changes: https://pyproj4.github.io/pyproj/stable/gotchas.html#axis-order-changes-in-proj-6\n",
            "  in_crs_string = _prepare_from_proj_string(in_crs_string)\n",
            "/usr/local/lib/python3.7/dist-packages/pyproj/crs/crs.py:131: FutureWarning: '+init=<authority>:<code>' syntax is deprecated. '<authority>:<code>' is the preferred initialization method. When making the change, be mindful of axis order changes: https://pyproj4.github.io/pyproj/stable/gotchas.html#axis-order-changes-in-proj-6\n",
            "  in_crs_string = _prepare_from_proj_string(in_crs_string)\n",
            "/usr/local/lib/python3.7/dist-packages/ipykernel_launcher.py:18: DeprecationWarning: This function is deprecated. See: https://pyproj4.github.io/pyproj/stable/gotchas.html#upgrading-to-pyproj-2-from-pyproj-1\n",
            "/usr/local/lib/python3.7/dist-packages/ipykernel_launcher.py:19: DeprecationWarning: This function is deprecated. See: https://pyproj4.github.io/pyproj/stable/gotchas.html#upgrading-to-pyproj-2-from-pyproj-1\n"
          ]
        },
        {
          "output_type": "stream",
          "name": "stdout",
          "text": [
            "{   'fire_alert_date': '2018-08-09',\n",
            "    'fire_alert_date_a_few_days_before': '2018-07-10',\n",
            "    'fire_area': 16433.65,\n",
            "    'fire_cont_date': '2018-09-15',\n",
            "    'fire_cont_date_a_few_days_after': '2018-10-15',\n",
            "    'fire_name': 'CAL_database_Sentinel2_8228',\n",
            "    'fire_perimeter': [   -122.36454880191192,\n",
            "                          40.872787735023195,\n",
            "                          -122.19473418881101,\n",
            "                          41.09543869896897]}\n",
            "41 / 108\n",
            "Generating the Sentinel tif: CAL_database_Sentinel2_8228_postFire_RGBIR\n",
            "Polling for task (id: 7WSXDQPA3LGYVKRMWHMD35UA).\n",
            "{'state': 'READY', 'description': 'export_task', 'creation_timestamp_ms': 1642076367052, 'update_timestamp_ms': 1642076367052, 'start_timestamp_ms': 0, 'task_type': 'EXPORT_IMAGE', 'id': '7WSXDQPA3LGYVKRMWHMD35UA', 'name': 'projects/earthengine-legacy/operations/7WSXDQPA3LGYVKRMWHMD35UA'}\n"
          ]
        },
        {
          "output_type": "stream",
          "name": "stderr",
          "text": [
            "\r 39%|███▉      | 42/108 [1:28:26<1:01:22, 55.79s/it]/usr/local/lib/python3.7/dist-packages/pyproj/crs/crs.py:131: FutureWarning: '+init=<authority>:<code>' syntax is deprecated. '<authority>:<code>' is the preferred initialization method. When making the change, be mindful of axis order changes: https://pyproj4.github.io/pyproj/stable/gotchas.html#axis-order-changes-in-proj-6\n",
            "  in_crs_string = _prepare_from_proj_string(in_crs_string)\n",
            "/usr/local/lib/python3.7/dist-packages/pyproj/crs/crs.py:131: FutureWarning: '+init=<authority>:<code>' syntax is deprecated. '<authority>:<code>' is the preferred initialization method. When making the change, be mindful of axis order changes: https://pyproj4.github.io/pyproj/stable/gotchas.html#axis-order-changes-in-proj-6\n",
            "  in_crs_string = _prepare_from_proj_string(in_crs_string)\n",
            "/usr/local/lib/python3.7/dist-packages/ipykernel_launcher.py:18: DeprecationWarning: This function is deprecated. See: https://pyproj4.github.io/pyproj/stable/gotchas.html#upgrading-to-pyproj-2-from-pyproj-1\n",
            "/usr/local/lib/python3.7/dist-packages/ipykernel_launcher.py:19: DeprecationWarning: This function is deprecated. See: https://pyproj4.github.io/pyproj/stable/gotchas.html#upgrading-to-pyproj-2-from-pyproj-1\n"
          ]
        },
        {
          "output_type": "stream",
          "name": "stdout",
          "text": [
            "{   'fire_alert_date': '2018-08-15',\n",
            "    'fire_alert_date_a_few_days_before': '2018-07-16',\n",
            "    'fire_area': 16019.19,\n",
            "    'fire_cont_date': '2018-08-29',\n",
            "    'fire_cont_date_a_few_days_after': '2018-09-28',\n",
            "    'fire_name': 'CAL_database_Sentinel2_8254',\n",
            "    'fire_perimeter': [   -121.12884537781368,\n",
            "                          41.35567609149118,\n",
            "                          -120.89591399231156,\n",
            "                          41.49604861989228]}\n",
            "42 / 108\n",
            "Generating the Sentinel tif: CAL_database_Sentinel2_8254_postFire_RGBIR\n",
            "Polling for task (id: THK6BKZT72LVPFY7K5JUTEYD).\n",
            "{'state': 'READY', 'description': 'export_task', 'creation_timestamp_ms': 1642076398012, 'update_timestamp_ms': 1642076398012, 'start_timestamp_ms': 0, 'task_type': 'EXPORT_IMAGE', 'id': 'THK6BKZT72LVPFY7K5JUTEYD', 'name': 'projects/earthengine-legacy/operations/THK6BKZT72LVPFY7K5JUTEYD'}\n",
            "Polling for task (id: THK6BKZT72LVPFY7K5JUTEYD).\n",
            "{'state': 'READY', 'description': 'export_task', 'creation_timestamp_ms': 1642076398012, 'update_timestamp_ms': 1642076398012, 'start_timestamp_ms': 0, 'task_type': 'EXPORT_IMAGE', 'id': 'THK6BKZT72LVPFY7K5JUTEYD', 'name': 'projects/earthengine-legacy/operations/THK6BKZT72LVPFY7K5JUTEYD'}\n"
          ]
        },
        {
          "output_type": "stream",
          "name": "stderr",
          "text": [
            "\r 40%|███▉      | 43/108 [1:29:28<1:02:13, 57.43s/it]/usr/local/lib/python3.7/dist-packages/pyproj/crs/crs.py:131: FutureWarning: '+init=<authority>:<code>' syntax is deprecated. '<authority>:<code>' is the preferred initialization method. When making the change, be mindful of axis order changes: https://pyproj4.github.io/pyproj/stable/gotchas.html#axis-order-changes-in-proj-6\n",
            "  in_crs_string = _prepare_from_proj_string(in_crs_string)\n",
            "/usr/local/lib/python3.7/dist-packages/pyproj/crs/crs.py:131: FutureWarning: '+init=<authority>:<code>' syntax is deprecated. '<authority>:<code>' is the preferred initialization method. When making the change, be mindful of axis order changes: https://pyproj4.github.io/pyproj/stable/gotchas.html#axis-order-changes-in-proj-6\n",
            "  in_crs_string = _prepare_from_proj_string(in_crs_string)\n",
            "/usr/local/lib/python3.7/dist-packages/ipykernel_launcher.py:18: DeprecationWarning: This function is deprecated. See: https://pyproj4.github.io/pyproj/stable/gotchas.html#upgrading-to-pyproj-2-from-pyproj-1\n",
            "/usr/local/lib/python3.7/dist-packages/ipykernel_launcher.py:19: DeprecationWarning: This function is deprecated. See: https://pyproj4.github.io/pyproj/stable/gotchas.html#upgrading-to-pyproj-2-from-pyproj-1\n"
          ]
        },
        {
          "output_type": "stream",
          "name": "stdout",
          "text": [
            "{   'fire_alert_date': '2018-10-19',\n",
            "    'fire_alert_date_a_few_days_before': '2018-09-19',\n",
            "    'fire_area': 15425.75,\n",
            "    'fire_cont_date': '2018-12-18',\n",
            "    'fire_cont_date_a_few_days_after': '2019-01-17',\n",
            "    'fire_name': 'CAL_database_Sentinel2_8278',\n",
            "    'fire_perimeter': [   -123.66239984136578,\n",
            "                          41.789176086594566,\n",
            "                          -123.46941665150402,\n",
            "                          41.9997465026238]}\n",
            "43 / 108\n",
            "Generating the Sentinel tif: CAL_database_Sentinel2_8278_postFire_RGBIR\n",
            "Polling for task (id: 6Q7C4NB4LXXYZW6Q7M42NN3U).\n",
            "{'state': 'READY', 'description': 'export_task', 'creation_timestamp_ms': 1642076459328, 'update_timestamp_ms': 1642076459328, 'start_timestamp_ms': 0, 'task_type': 'EXPORT_IMAGE', 'id': '6Q7C4NB4LXXYZW6Q7M42NN3U', 'name': 'projects/earthengine-legacy/operations/6Q7C4NB4LXXYZW6Q7M42NN3U'}\n",
            "Polling for task (id: 6Q7C4NB4LXXYZW6Q7M42NN3U).\n",
            "{'state': 'READY', 'description': 'export_task', 'creation_timestamp_ms': 1642076459328, 'update_timestamp_ms': 1642076459328, 'start_timestamp_ms': 0, 'task_type': 'EXPORT_IMAGE', 'id': '6Q7C4NB4LXXYZW6Q7M42NN3U', 'name': 'projects/earthengine-legacy/operations/6Q7C4NB4LXXYZW6Q7M42NN3U'}\n",
            "Polling for task (id: 6Q7C4NB4LXXYZW6Q7M42NN3U).\n",
            "{'state': 'RUNNING', 'description': 'export_task', 'creation_timestamp_ms': 1642076459328, 'update_timestamp_ms': 1642076517781, 'start_timestamp_ms': 1642076514524, 'task_type': 'EXPORT_IMAGE', 'attempt': 1, 'id': '6Q7C4NB4LXXYZW6Q7M42NN3U', 'name': 'projects/earthengine-legacy/operations/6Q7C4NB4LXXYZW6Q7M42NN3U'}\n"
          ]
        },
        {
          "output_type": "stream",
          "name": "stderr",
          "text": [
            "\r 41%|████      | 44/108 [1:30:59<1:12:12, 67.69s/it]/usr/local/lib/python3.7/dist-packages/pyproj/crs/crs.py:131: FutureWarning: '+init=<authority>:<code>' syntax is deprecated. '<authority>:<code>' is the preferred initialization method. When making the change, be mindful of axis order changes: https://pyproj4.github.io/pyproj/stable/gotchas.html#axis-order-changes-in-proj-6\n",
            "  in_crs_string = _prepare_from_proj_string(in_crs_string)\n",
            "/usr/local/lib/python3.7/dist-packages/pyproj/crs/crs.py:131: FutureWarning: '+init=<authority>:<code>' syntax is deprecated. '<authority>:<code>' is the preferred initialization method. When making the change, be mindful of axis order changes: https://pyproj4.github.io/pyproj/stable/gotchas.html#axis-order-changes-in-proj-6\n",
            "  in_crs_string = _prepare_from_proj_string(in_crs_string)\n",
            "/usr/local/lib/python3.7/dist-packages/ipykernel_launcher.py:18: DeprecationWarning: This function is deprecated. See: https://pyproj4.github.io/pyproj/stable/gotchas.html#upgrading-to-pyproj-2-from-pyproj-1\n",
            "/usr/local/lib/python3.7/dist-packages/ipykernel_launcher.py:19: DeprecationWarning: This function is deprecated. See: https://pyproj4.github.io/pyproj/stable/gotchas.html#upgrading-to-pyproj-2-from-pyproj-1\n"
          ]
        },
        {
          "output_type": "stream",
          "name": "stdout",
          "text": [
            "{   'fire_alert_date': '2018-07-05',\n",
            "    'fire_alert_date_a_few_days_before': '2018-06-05',\n",
            "    'fire_area': 15381.61,\n",
            "    'fire_cont_date': '2018-07-21',\n",
            "    'fire_cont_date_a_few_days_after': '2018-08-20',\n",
            "    'fire_name': 'CAL_database_Sentinel2_8209',\n",
            "    'fire_perimeter': [   -122.63538238619485,\n",
            "                          41.871998558423286,\n",
            "                          -122.43222931940227,\n",
            "                          42.020889821142696]}\n",
            "44 / 108\n",
            "Generating the Sentinel tif: CAL_database_Sentinel2_8209_postFire_RGBIR\n",
            "Polling for task (id: 2VJWCKXQNRBYJYWPJNKDR54D).\n",
            "{'state': 'READY', 'description': 'export_task', 'creation_timestamp_ms': 1642076550916, 'update_timestamp_ms': 1642076550916, 'start_timestamp_ms': 0, 'task_type': 'EXPORT_IMAGE', 'id': '2VJWCKXQNRBYJYWPJNKDR54D', 'name': 'projects/earthengine-legacy/operations/2VJWCKXQNRBYJYWPJNKDR54D'}\n",
            "Polling for task (id: 2VJWCKXQNRBYJYWPJNKDR54D).\n",
            "{'state': 'READY', 'description': 'export_task', 'creation_timestamp_ms': 1642076550916, 'update_timestamp_ms': 1642076550916, 'start_timestamp_ms': 0, 'task_type': 'EXPORT_IMAGE', 'id': '2VJWCKXQNRBYJYWPJNKDR54D', 'name': 'projects/earthengine-legacy/operations/2VJWCKXQNRBYJYWPJNKDR54D'}\n",
            "Polling for task (id: 2VJWCKXQNRBYJYWPJNKDR54D).\n",
            "{'state': 'READY', 'description': 'export_task', 'creation_timestamp_ms': 1642076550916, 'update_timestamp_ms': 1642076550916, 'start_timestamp_ms': 0, 'task_type': 'EXPORT_IMAGE', 'id': '2VJWCKXQNRBYJYWPJNKDR54D', 'name': 'projects/earthengine-legacy/operations/2VJWCKXQNRBYJYWPJNKDR54D'}\n"
          ]
        },
        {
          "output_type": "stream",
          "name": "stderr",
          "text": [
            "\r 42%|████▏     | 45/108 [1:32:31<1:18:36, 74.87s/it]/usr/local/lib/python3.7/dist-packages/pyproj/crs/crs.py:131: FutureWarning: '+init=<authority>:<code>' syntax is deprecated. '<authority>:<code>' is the preferred initialization method. When making the change, be mindful of axis order changes: https://pyproj4.github.io/pyproj/stable/gotchas.html#axis-order-changes-in-proj-6\n",
            "  in_crs_string = _prepare_from_proj_string(in_crs_string)\n",
            "/usr/local/lib/python3.7/dist-packages/pyproj/crs/crs.py:131: FutureWarning: '+init=<authority>:<code>' syntax is deprecated. '<authority>:<code>' is the preferred initialization method. When making the change, be mindful of axis order changes: https://pyproj4.github.io/pyproj/stable/gotchas.html#axis-order-changes-in-proj-6\n",
            "  in_crs_string = _prepare_from_proj_string(in_crs_string)\n",
            "/usr/local/lib/python3.7/dist-packages/ipykernel_launcher.py:18: DeprecationWarning: This function is deprecated. See: https://pyproj4.github.io/pyproj/stable/gotchas.html#upgrading-to-pyproj-2-from-pyproj-1\n",
            "/usr/local/lib/python3.7/dist-packages/ipykernel_launcher.py:19: DeprecationWarning: This function is deprecated. See: https://pyproj4.github.io/pyproj/stable/gotchas.html#upgrading-to-pyproj-2-from-pyproj-1\n"
          ]
        },
        {
          "output_type": "stream",
          "name": "stdout",
          "text": [
            "{   'fire_alert_date': '2017-10-08',\n",
            "    'fire_alert_date_a_few_days_before': '2017-09-08',\n",
            "    'fire_area': 14852.77,\n",
            "    'fire_cont_date': '2017-11-01',\n",
            "    'fire_cont_date_a_few_days_after': '2017-12-01',\n",
            "    'fire_name': 'CAL_database_Sentinel2_7539',\n",
            "    'fire_perimeter': [   -122.7639294591822,\n",
            "                          38.468704414370805,\n",
            "                          -122.58995884720811,\n",
            "                          38.66686553198655]}\n",
            "45 / 108\n",
            "Generating the Sentinel tif: CAL_database_Sentinel2_7539_postFire_RGBIR\n",
            "Polling for task (id: B5NOYAA5FR7NDCK4HSLFWBUN).\n",
            "{'state': 'READY', 'description': 'export_task', 'creation_timestamp_ms': 1642076642576, 'update_timestamp_ms': 1642076642576, 'start_timestamp_ms': 0, 'task_type': 'EXPORT_IMAGE', 'id': 'B5NOYAA5FR7NDCK4HSLFWBUN', 'name': 'projects/earthengine-legacy/operations/B5NOYAA5FR7NDCK4HSLFWBUN'}\n"
          ]
        },
        {
          "output_type": "stream",
          "name": "stderr",
          "text": [
            "\r 43%|████▎     | 46/108 [1:33:02<1:03:45, 61.71s/it]/usr/local/lib/python3.7/dist-packages/pyproj/crs/crs.py:131: FutureWarning: '+init=<authority>:<code>' syntax is deprecated. '<authority>:<code>' is the preferred initialization method. When making the change, be mindful of axis order changes: https://pyproj4.github.io/pyproj/stable/gotchas.html#axis-order-changes-in-proj-6\n",
            "  in_crs_string = _prepare_from_proj_string(in_crs_string)\n",
            "/usr/local/lib/python3.7/dist-packages/pyproj/crs/crs.py:131: FutureWarning: '+init=<authority>:<code>' syntax is deprecated. '<authority>:<code>' is the preferred initialization method. When making the change, be mindful of axis order changes: https://pyproj4.github.io/pyproj/stable/gotchas.html#axis-order-changes-in-proj-6\n",
            "  in_crs_string = _prepare_from_proj_string(in_crs_string)\n",
            "/usr/local/lib/python3.7/dist-packages/ipykernel_launcher.py:18: DeprecationWarning: This function is deprecated. See: https://pyproj4.github.io/pyproj/stable/gotchas.html#upgrading-to-pyproj-2-from-pyproj-1\n",
            "/usr/local/lib/python3.7/dist-packages/ipykernel_launcher.py:19: DeprecationWarning: This function is deprecated. See: https://pyproj4.github.io/pyproj/stable/gotchas.html#upgrading-to-pyproj-2-from-pyproj-1\n"
          ]
        },
        {
          "output_type": "stream",
          "name": "stdout",
          "text": [
            "{   'fire_alert_date': '2017-08-29',\n",
            "    'fire_alert_date_a_few_days_before': '2017-07-30',\n",
            "    'fire_area': 14819.36,\n",
            "    'fire_cont_date': '2017-08-30',\n",
            "    'fire_cont_date_a_few_days_after': '2017-09-29',\n",
            "    'fire_name': 'CAL_database_Sentinel2_7716',\n",
            "    'fire_perimeter': [   -118.80270178609499,\n",
            "                          36.05293135677856,\n",
            "                          -118.61371841269897,\n",
            "                          36.19001658995767]}\n",
            "46 / 108\n",
            "Generating the Sentinel tif: CAL_database_Sentinel2_7716_postFire_RGBIR\n",
            "Polling for task (id: 54DSKPOMKTTDWBZV5L7OT4FN).\n",
            "{'state': 'READY', 'description': 'export_task', 'creation_timestamp_ms': 1642076673517, 'update_timestamp_ms': 1642076673517, 'start_timestamp_ms': 0, 'task_type': 'EXPORT_IMAGE', 'id': '54DSKPOMKTTDWBZV5L7OT4FN', 'name': 'projects/earthengine-legacy/operations/54DSKPOMKTTDWBZV5L7OT4FN'}\n",
            "Polling for task (id: 54DSKPOMKTTDWBZV5L7OT4FN).\n",
            "{'state': 'RUNNING', 'description': 'export_task', 'creation_timestamp_ms': 1642076673517, 'update_timestamp_ms': 1642076703634, 'start_timestamp_ms': 1642076703486, 'task_type': 'EXPORT_IMAGE', 'attempt': 1, 'id': '54DSKPOMKTTDWBZV5L7OT4FN', 'name': 'projects/earthengine-legacy/operations/54DSKPOMKTTDWBZV5L7OT4FN'}\n"
          ]
        },
        {
          "output_type": "stream",
          "name": "stderr",
          "text": [
            "\r 44%|████▎     | 47/108 [1:34:03<1:02:36, 61.58s/it]/usr/local/lib/python3.7/dist-packages/pyproj/crs/crs.py:131: FutureWarning: '+init=<authority>:<code>' syntax is deprecated. '<authority>:<code>' is the preferred initialization method. When making the change, be mindful of axis order changes: https://pyproj4.github.io/pyproj/stable/gotchas.html#axis-order-changes-in-proj-6\n",
            "  in_crs_string = _prepare_from_proj_string(in_crs_string)\n",
            "/usr/local/lib/python3.7/dist-packages/pyproj/crs/crs.py:131: FutureWarning: '+init=<authority>:<code>' syntax is deprecated. '<authority>:<code>' is the preferred initialization method. When making the change, be mindful of axis order changes: https://pyproj4.github.io/pyproj/stable/gotchas.html#axis-order-changes-in-proj-6\n",
            "  in_crs_string = _prepare_from_proj_string(in_crs_string)\n",
            "/usr/local/lib/python3.7/dist-packages/ipykernel_launcher.py:18: DeprecationWarning: This function is deprecated. See: https://pyproj4.github.io/pyproj/stable/gotchas.html#upgrading-to-pyproj-2-from-pyproj-1\n",
            "/usr/local/lib/python3.7/dist-packages/ipykernel_launcher.py:19: DeprecationWarning: This function is deprecated. See: https://pyproj4.github.io/pyproj/stable/gotchas.html#upgrading-to-pyproj-2-from-pyproj-1\n"
          ]
        },
        {
          "output_type": "stream",
          "name": "stdout",
          "text": [
            "{   'fire_alert_date': '2017-10-08',\n",
            "    'fire_alert_date_a_few_days_before': '2017-09-08',\n",
            "    'fire_area': 14780.31,\n",
            "    'fire_cont_date': '2017-10-25',\n",
            "    'fire_cont_date_a_few_days_after': '2017-11-24',\n",
            "    'fire_name': 'CAL_database_Sentinel2_7911',\n",
            "    'fire_perimeter': [   -123.32053560898616,\n",
            "                          39.276201446838435,\n",
            "                          -123.10516019792249,\n",
            "                          39.40065194286277]}\n",
            "47 / 108\n",
            "Generating the Sentinel tif: CAL_database_Sentinel2_7911_postFire_RGBIR\n",
            "Polling for task (id: WUKK4A7WTE2X7E5CU6OSOLVM).\n",
            "{'state': 'READY', 'description': 'export_task', 'creation_timestamp_ms': 1642076734817, 'update_timestamp_ms': 1642076734817, 'start_timestamp_ms': 0, 'task_type': 'EXPORT_IMAGE', 'id': 'WUKK4A7WTE2X7E5CU6OSOLVM', 'name': 'projects/earthengine-legacy/operations/WUKK4A7WTE2X7E5CU6OSOLVM'}\n"
          ]
        },
        {
          "output_type": "stream",
          "name": "stderr",
          "text": [
            "\r 44%|████▍     | 48/108 [1:34:34<52:23, 52.39s/it]  /usr/local/lib/python3.7/dist-packages/pyproj/crs/crs.py:131: FutureWarning: '+init=<authority>:<code>' syntax is deprecated. '<authority>:<code>' is the preferred initialization method. When making the change, be mindful of axis order changes: https://pyproj4.github.io/pyproj/stable/gotchas.html#axis-order-changes-in-proj-6\n",
            "  in_crs_string = _prepare_from_proj_string(in_crs_string)\n",
            "/usr/local/lib/python3.7/dist-packages/pyproj/crs/crs.py:131: FutureWarning: '+init=<authority>:<code>' syntax is deprecated. '<authority>:<code>' is the preferred initialization method. When making the change, be mindful of axis order changes: https://pyproj4.github.io/pyproj/stable/gotchas.html#axis-order-changes-in-proj-6\n",
            "  in_crs_string = _prepare_from_proj_string(in_crs_string)\n",
            "/usr/local/lib/python3.7/dist-packages/ipykernel_launcher.py:18: DeprecationWarning: This function is deprecated. See: https://pyproj4.github.io/pyproj/stable/gotchas.html#upgrading-to-pyproj-2-from-pyproj-1\n",
            "/usr/local/lib/python3.7/dist-packages/ipykernel_launcher.py:19: DeprecationWarning: This function is deprecated. See: https://pyproj4.github.io/pyproj/stable/gotchas.html#upgrading-to-pyproj-2-from-pyproj-1\n"
          ]
        },
        {
          "output_type": "stream",
          "name": "stdout",
          "text": [
            "{   'fire_alert_date': '2016-08-16',\n",
            "    'fire_alert_date_a_few_days_before': '2016-07-17',\n",
            "    'fire_area': 14676.61,\n",
            "    'fire_cont_date': '2016-08-26',\n",
            "    'fire_cont_date_a_few_days_after': '2016-09-25',\n",
            "    'fire_name': 'CAL_database_Sentinel2_7220',\n",
            "    'fire_perimeter': [   -117.61518664299527,\n",
            "                          34.246108630257694,\n",
            "                          -117.40020799853603,\n",
            "                          34.40419746070957]}\n",
            "48 / 108\n",
            "Generating the Sentinel tif: CAL_database_Sentinel2_7220_postFire_RGBIR\n",
            "Polling for task (id: DW5LCXSCMDBZVUDNWUQYTIKK).\n",
            "{'state': 'READY', 'description': 'export_task', 'creation_timestamp_ms': 1642076765824, 'update_timestamp_ms': 1642076765824, 'start_timestamp_ms': 0, 'task_type': 'EXPORT_IMAGE', 'id': 'DW5LCXSCMDBZVUDNWUQYTIKK', 'name': 'projects/earthengine-legacy/operations/DW5LCXSCMDBZVUDNWUQYTIKK'}\n",
            "Polling for task (id: DW5LCXSCMDBZVUDNWUQYTIKK).\n",
            "{'state': 'RUNNING', 'description': 'export_task', 'creation_timestamp_ms': 1642076765824, 'update_timestamp_ms': 1642076796239, 'start_timestamp_ms': 1642076796097, 'task_type': 'EXPORT_IMAGE', 'attempt': 1, 'id': 'DW5LCXSCMDBZVUDNWUQYTIKK', 'name': 'projects/earthengine-legacy/operations/DW5LCXSCMDBZVUDNWUQYTIKK'}\n"
          ]
        },
        {
          "output_type": "stream",
          "name": "stderr",
          "text": [
            "\r 45%|████▌     | 49/108 [1:35:35<54:09, 55.08s/it]/usr/local/lib/python3.7/dist-packages/pyproj/crs/crs.py:131: FutureWarning: '+init=<authority>:<code>' syntax is deprecated. '<authority>:<code>' is the preferred initialization method. When making the change, be mindful of axis order changes: https://pyproj4.github.io/pyproj/stable/gotchas.html#axis-order-changes-in-proj-6\n",
            "  in_crs_string = _prepare_from_proj_string(in_crs_string)\n",
            "/usr/local/lib/python3.7/dist-packages/pyproj/crs/crs.py:131: FutureWarning: '+init=<authority>:<code>' syntax is deprecated. '<authority>:<code>' is the preferred initialization method. When making the change, be mindful of axis order changes: https://pyproj4.github.io/pyproj/stable/gotchas.html#axis-order-changes-in-proj-6\n",
            "  in_crs_string = _prepare_from_proj_string(in_crs_string)\n",
            "/usr/local/lib/python3.7/dist-packages/ipykernel_launcher.py:18: DeprecationWarning: This function is deprecated. See: https://pyproj4.github.io/pyproj/stable/gotchas.html#upgrading-to-pyproj-2-from-pyproj-1\n",
            "/usr/local/lib/python3.7/dist-packages/ipykernel_launcher.py:19: DeprecationWarning: This function is deprecated. See: https://pyproj4.github.io/pyproj/stable/gotchas.html#upgrading-to-pyproj-2-from-pyproj-1\n"
          ]
        },
        {
          "output_type": "stream",
          "name": "stdout",
          "text": [
            "{   'fire_alert_date': '2020-07-31',\n",
            "    'fire_alert_date_a_few_days_before': '2020-07-01',\n",
            "    'fire_area': 13439.33,\n",
            "    'fire_cont_date': '2020-08-09',\n",
            "    'fire_cont_date_a_few_days_after': '2020-09-08',\n",
            "    'fire_name': 'CAL_database_Sentinel2_185',\n",
            "    'fire_perimeter': [   -116.96446921594988,\n",
            "                          33.97641462555921,\n",
            "                          -116.76522048741973,\n",
            "                          34.08746865217603]}\n",
            "49 / 108\n",
            "Generating the Sentinel tif: CAL_database_Sentinel2_185_postFire_RGBIR\n",
            "Polling for task (id: YYV3X73UJO7JH4NSS6ORJPUM).\n",
            "{'state': 'READY', 'description': 'export_task', 'creation_timestamp_ms': 1642076827157, 'update_timestamp_ms': 1642076827157, 'start_timestamp_ms': 0, 'task_type': 'EXPORT_IMAGE', 'id': 'YYV3X73UJO7JH4NSS6ORJPUM', 'name': 'projects/earthengine-legacy/operations/YYV3X73UJO7JH4NSS6ORJPUM'}\n",
            "Polling for task (id: YYV3X73UJO7JH4NSS6ORJPUM).\n",
            "{'state': 'RUNNING', 'description': 'export_task', 'creation_timestamp_ms': 1642076827157, 'update_timestamp_ms': 1642076849601, 'start_timestamp_ms': 1642076846226, 'task_type': 'EXPORT_IMAGE', 'attempt': 1, 'id': 'YYV3X73UJO7JH4NSS6ORJPUM', 'name': 'projects/earthengine-legacy/operations/YYV3X73UJO7JH4NSS6ORJPUM'}\n"
          ]
        },
        {
          "output_type": "stream",
          "name": "stderr",
          "text": [
            "\r 46%|████▋     | 50/108 [1:36:37<55:04, 56.97s/it]/usr/local/lib/python3.7/dist-packages/pyproj/crs/crs.py:131: FutureWarning: '+init=<authority>:<code>' syntax is deprecated. '<authority>:<code>' is the preferred initialization method. When making the change, be mindful of axis order changes: https://pyproj4.github.io/pyproj/stable/gotchas.html#axis-order-changes-in-proj-6\n",
            "  in_crs_string = _prepare_from_proj_string(in_crs_string)\n",
            "/usr/local/lib/python3.7/dist-packages/pyproj/crs/crs.py:131: FutureWarning: '+init=<authority>:<code>' syntax is deprecated. '<authority>:<code>' is the preferred initialization method. When making the change, be mindful of axis order changes: https://pyproj4.github.io/pyproj/stable/gotchas.html#axis-order-changes-in-proj-6\n",
            "  in_crs_string = _prepare_from_proj_string(in_crs_string)\n",
            "/usr/local/lib/python3.7/dist-packages/ipykernel_launcher.py:18: DeprecationWarning: This function is deprecated. See: https://pyproj4.github.io/pyproj/stable/gotchas.html#upgrading-to-pyproj-2-from-pyproj-1\n",
            "/usr/local/lib/python3.7/dist-packages/ipykernel_launcher.py:19: DeprecationWarning: This function is deprecated. See: https://pyproj4.github.io/pyproj/stable/gotchas.html#upgrading-to-pyproj-2-from-pyproj-1\n"
          ]
        },
        {
          "output_type": "stream",
          "name": "stdout",
          "text": [
            "{   'fire_alert_date': '2017-08-10',\n",
            "    'fire_alert_date_a_few_days_before': '2017-07-11',\n",
            "    'fire_area': 13311.43,\n",
            "    'fire_cont_date': '2018-01-10',\n",
            "    'fire_cont_date_a_few_days_after': '2018-02-09',\n",
            "    'fire_name': 'CAL_database_Sentinel2_7912',\n",
            "    'fire_perimeter': [   -123.26038316586649,\n",
            "                          41.873730005364976,\n",
            "                          -123.01172268873883,\n",
            "                          42.02590252591771]}\n",
            "50 / 108\n",
            "Generating the Sentinel tif: CAL_database_Sentinel2_7912_postFire_RGBIR\n",
            "Polling for task (id: GDPQH4BW7P2LN7PLCWCICSPN).\n",
            "{'state': 'READY', 'description': 'export_task', 'creation_timestamp_ms': 1642076888480, 'update_timestamp_ms': 1642076888480, 'start_timestamp_ms': 0, 'task_type': 'EXPORT_IMAGE', 'id': 'GDPQH4BW7P2LN7PLCWCICSPN', 'name': 'projects/earthengine-legacy/operations/GDPQH4BW7P2LN7PLCWCICSPN'}\n",
            "Polling for task (id: GDPQH4BW7P2LN7PLCWCICSPN).\n",
            "{'state': 'READY', 'description': 'export_task', 'creation_timestamp_ms': 1642076888480, 'update_timestamp_ms': 1642076888480, 'start_timestamp_ms': 0, 'task_type': 'EXPORT_IMAGE', 'id': 'GDPQH4BW7P2LN7PLCWCICSPN', 'name': 'projects/earthengine-legacy/operations/GDPQH4BW7P2LN7PLCWCICSPN'}\n"
          ]
        },
        {
          "output_type": "stream",
          "name": "stderr",
          "text": [
            "\r 47%|████▋     | 51/108 [1:37:38<55:20, 58.26s/it]/usr/local/lib/python3.7/dist-packages/pyproj/crs/crs.py:131: FutureWarning: '+init=<authority>:<code>' syntax is deprecated. '<authority>:<code>' is the preferred initialization method. When making the change, be mindful of axis order changes: https://pyproj4.github.io/pyproj/stable/gotchas.html#axis-order-changes-in-proj-6\n",
            "  in_crs_string = _prepare_from_proj_string(in_crs_string)\n",
            "/usr/local/lib/python3.7/dist-packages/pyproj/crs/crs.py:131: FutureWarning: '+init=<authority>:<code>' syntax is deprecated. '<authority>:<code>' is the preferred initialization method. When making the change, be mindful of axis order changes: https://pyproj4.github.io/pyproj/stable/gotchas.html#axis-order-changes-in-proj-6\n",
            "  in_crs_string = _prepare_from_proj_string(in_crs_string)\n",
            "/usr/local/lib/python3.7/dist-packages/ipykernel_launcher.py:18: DeprecationWarning: This function is deprecated. See: https://pyproj4.github.io/pyproj/stable/gotchas.html#upgrading-to-pyproj-2-from-pyproj-1\n",
            "/usr/local/lib/python3.7/dist-packages/ipykernel_launcher.py:19: DeprecationWarning: This function is deprecated. See: https://pyproj4.github.io/pyproj/stable/gotchas.html#upgrading-to-pyproj-2-from-pyproj-1\n"
          ]
        },
        {
          "output_type": "stream",
          "name": "stdout",
          "text": [
            "{   'fire_alert_date': '2016-08-18',\n",
            "    'fire_alert_date_a_few_days_before': '2016-07-19',\n",
            "    'fire_area': 13184.83,\n",
            "    'fire_cont_date': '2016-09-15',\n",
            "    'fire_cont_date_a_few_days_after': '2016-10-15',\n",
            "    'fire_name': 'CAL_database_Sentinel2_7256',\n",
            "    'fire_perimeter': [   -119.86472635254906,\n",
            "                          34.54541019374453,\n",
            "                          -119.58538479360102,\n",
            "                          34.6216160997433]}\n",
            "51 / 108\n",
            "Generating the Sentinel tif: CAL_database_Sentinel2_7256_postFire_RGBIR\n",
            "Polling for task (id: BKJNKPNVPILPAOVLDPYCDLKS).\n",
            "{'state': 'READY', 'description': 'export_task', 'creation_timestamp_ms': 1642076949748, 'update_timestamp_ms': 1642076949748, 'start_timestamp_ms': 0, 'task_type': 'EXPORT_IMAGE', 'id': 'BKJNKPNVPILPAOVLDPYCDLKS', 'name': 'projects/earthengine-legacy/operations/BKJNKPNVPILPAOVLDPYCDLKS'}\n",
            "Polling for task (id: BKJNKPNVPILPAOVLDPYCDLKS).\n",
            "{'state': 'READY', 'description': 'export_task', 'creation_timestamp_ms': 1642076949748, 'update_timestamp_ms': 1642076949748, 'start_timestamp_ms': 0, 'task_type': 'EXPORT_IMAGE', 'id': 'BKJNKPNVPILPAOVLDPYCDLKS', 'name': 'projects/earthengine-legacy/operations/BKJNKPNVPILPAOVLDPYCDLKS'}\n"
          ]
        },
        {
          "output_type": "stream",
          "name": "stderr",
          "text": [
            "\r 48%|████▊     | 52/108 [1:38:39<55:15, 59.20s/it]/usr/local/lib/python3.7/dist-packages/pyproj/crs/crs.py:131: FutureWarning: '+init=<authority>:<code>' syntax is deprecated. '<authority>:<code>' is the preferred initialization method. When making the change, be mindful of axis order changes: https://pyproj4.github.io/pyproj/stable/gotchas.html#axis-order-changes-in-proj-6\n",
            "  in_crs_string = _prepare_from_proj_string(in_crs_string)\n",
            "/usr/local/lib/python3.7/dist-packages/pyproj/crs/crs.py:131: FutureWarning: '+init=<authority>:<code>' syntax is deprecated. '<authority>:<code>' is the preferred initialization method. When making the change, be mindful of axis order changes: https://pyproj4.github.io/pyproj/stable/gotchas.html#axis-order-changes-in-proj-6\n",
            "  in_crs_string = _prepare_from_proj_string(in_crs_string)\n",
            "/usr/local/lib/python3.7/dist-packages/ipykernel_launcher.py:18: DeprecationWarning: This function is deprecated. See: https://pyproj4.github.io/pyproj/stable/gotchas.html#upgrading-to-pyproj-2-from-pyproj-1\n",
            "/usr/local/lib/python3.7/dist-packages/ipykernel_launcher.py:19: DeprecationWarning: This function is deprecated. See: https://pyproj4.github.io/pyproj/stable/gotchas.html#upgrading-to-pyproj-2-from-pyproj-1\n"
          ]
        },
        {
          "output_type": "stream",
          "name": "stdout",
          "text": [
            "{   'fire_alert_date': '2020-08-12',\n",
            "    'fire_alert_date_a_few_days_before': '2020-07-13',\n",
            "    'fire_area': 12545.01,\n",
            "    'fire_cont_date': '2020-08-30',\n",
            "    'fire_cont_date_a_few_days_after': '2020-09-29',\n",
            "    'fire_name': 'CAL_database_Sentinel2_270',\n",
            "    'fire_perimeter': [   -118.66537430240109,\n",
            "                          34.623694680801115,\n",
            "                          -118.45986011656663,\n",
            "                          34.750637930305054]}\n",
            "52 / 108\n",
            "Generating the Sentinel tif: CAL_database_Sentinel2_270_postFire_RGBIR\n",
            "Polling for task (id: XIQJGIH2LT57DJ7S4HCVRGPW).\n",
            "{'state': 'READY', 'description': 'export_task', 'creation_timestamp_ms': 1642077011195, 'update_timestamp_ms': 1642077011195, 'start_timestamp_ms': 0, 'task_type': 'EXPORT_IMAGE', 'id': 'XIQJGIH2LT57DJ7S4HCVRGPW', 'name': 'projects/earthengine-legacy/operations/XIQJGIH2LT57DJ7S4HCVRGPW'}\n",
            "Polling for task (id: XIQJGIH2LT57DJ7S4HCVRGPW).\n",
            "{'state': 'RUNNING', 'description': 'export_task', 'creation_timestamp_ms': 1642077011195, 'update_timestamp_ms': 1642077036059, 'start_timestamp_ms': 1642077024223, 'task_type': 'EXPORT_IMAGE', 'attempt': 1, 'id': 'XIQJGIH2LT57DJ7S4HCVRGPW', 'name': 'projects/earthengine-legacy/operations/XIQJGIH2LT57DJ7S4HCVRGPW'}\n",
            "Polling for task (id: XIQJGIH2LT57DJ7S4HCVRGPW).\n",
            "{'state': 'RUNNING', 'description': 'export_task', 'creation_timestamp_ms': 1642077011195, 'update_timestamp_ms': 1642077036059, 'start_timestamp_ms': 1642077024223, 'task_type': 'EXPORT_IMAGE', 'attempt': 1, 'id': 'XIQJGIH2LT57DJ7S4HCVRGPW', 'name': 'projects/earthengine-legacy/operations/XIQJGIH2LT57DJ7S4HCVRGPW'}\n"
          ]
        },
        {
          "output_type": "stream",
          "name": "stderr",
          "text": [
            "\r 49%|████▉     | 53/108 [1:40:11<1:03:11, 68.94s/it]/usr/local/lib/python3.7/dist-packages/pyproj/crs/crs.py:131: FutureWarning: '+init=<authority>:<code>' syntax is deprecated. '<authority>:<code>' is the preferred initialization method. When making the change, be mindful of axis order changes: https://pyproj4.github.io/pyproj/stable/gotchas.html#axis-order-changes-in-proj-6\n",
            "  in_crs_string = _prepare_from_proj_string(in_crs_string)\n",
            "/usr/local/lib/python3.7/dist-packages/pyproj/crs/crs.py:131: FutureWarning: '+init=<authority>:<code>' syntax is deprecated. '<authority>:<code>' is the preferred initialization method. When making the change, be mindful of axis order changes: https://pyproj4.github.io/pyproj/stable/gotchas.html#axis-order-changes-in-proj-6\n",
            "  in_crs_string = _prepare_from_proj_string(in_crs_string)\n",
            "/usr/local/lib/python3.7/dist-packages/ipykernel_launcher.py:18: DeprecationWarning: This function is deprecated. See: https://pyproj4.github.io/pyproj/stable/gotchas.html#upgrading-to-pyproj-2-from-pyproj-1\n",
            "/usr/local/lib/python3.7/dist-packages/ipykernel_launcher.py:19: DeprecationWarning: This function is deprecated. See: https://pyproj4.github.io/pyproj/stable/gotchas.html#upgrading-to-pyproj-2-from-pyproj-1\n"
          ]
        },
        {
          "output_type": "stream",
          "name": "stdout",
          "text": [
            "{   'fire_alert_date': '2017-07-25',\n",
            "    'fire_alert_date_a_few_days_before': '2017-06-25',\n",
            "    'fire_area': 12501.09,\n",
            "    'fire_cont_date': '2017-09-06',\n",
            "    'fire_cont_date_a_few_days_after': '2017-10-06',\n",
            "    'fire_name': 'CAL_database_Sentinel2_7804',\n",
            "    'fire_perimeter': [   -121.1039927184908,\n",
            "                          41.227336854695075,\n",
            "                          -120.91142922812148,\n",
            "                          41.336714579325886]}\n",
            "53 / 108\n",
            "Generating the Sentinel tif: CAL_database_Sentinel2_7804_postFire_RGBIR\n",
            "Polling for task (id: ZQQHDO72YKRBRPPCYTIO3RLS).\n",
            "{'state': 'READY', 'description': 'export_task', 'creation_timestamp_ms': 1642077102820, 'update_timestamp_ms': 1642077102820, 'start_timestamp_ms': 0, 'task_type': 'EXPORT_IMAGE', 'id': 'ZQQHDO72YKRBRPPCYTIO3RLS', 'name': 'projects/earthengine-legacy/operations/ZQQHDO72YKRBRPPCYTIO3RLS'}\n"
          ]
        },
        {
          "output_type": "stream",
          "name": "stderr",
          "text": [
            "\r 50%|█████     | 54/108 [1:40:42<51:48, 57.56s/it]  /usr/local/lib/python3.7/dist-packages/pyproj/crs/crs.py:131: FutureWarning: '+init=<authority>:<code>' syntax is deprecated. '<authority>:<code>' is the preferred initialization method. When making the change, be mindful of axis order changes: https://pyproj4.github.io/pyproj/stable/gotchas.html#axis-order-changes-in-proj-6\n",
            "  in_crs_string = _prepare_from_proj_string(in_crs_string)\n",
            "/usr/local/lib/python3.7/dist-packages/pyproj/crs/crs.py:131: FutureWarning: '+init=<authority>:<code>' syntax is deprecated. '<authority>:<code>' is the preferred initialization method. When making the change, be mindful of axis order changes: https://pyproj4.github.io/pyproj/stable/gotchas.html#axis-order-changes-in-proj-6\n",
            "  in_crs_string = _prepare_from_proj_string(in_crs_string)\n",
            "/usr/local/lib/python3.7/dist-packages/ipykernel_launcher.py:18: DeprecationWarning: This function is deprecated. See: https://pyproj4.github.io/pyproj/stable/gotchas.html#upgrading-to-pyproj-2-from-pyproj-1\n",
            "/usr/local/lib/python3.7/dist-packages/ipykernel_launcher.py:19: DeprecationWarning: This function is deprecated. See: https://pyproj4.github.io/pyproj/stable/gotchas.html#upgrading-to-pyproj-2-from-pyproj-1\n"
          ]
        },
        {
          "output_type": "stream",
          "name": "stdout",
          "text": [
            "{   'fire_alert_date': '2020-07-13',\n",
            "    'fire_alert_date_a_few_days_before': '2020-06-13',\n",
            "    'fire_area': 12005.79,\n",
            "    'fire_cont_date': '2020-07-26',\n",
            "    'fire_cont_date_a_few_days_after': '2020-08-25',\n",
            "    'fire_name': 'CAL_database_Sentinel2_140',\n",
            "    'fire_perimeter': [   -120.67489641665716,\n",
            "                          36.08578882318993,\n",
            "                          -120.42843041855808,\n",
            "                          36.243225476288075]}\n",
            "54 / 108\n",
            "Generating the Sentinel tif: CAL_database_Sentinel2_140_postFire_RGBIR\n",
            "Polling for task (id: ECF6NQLV53MC3QN6QVL52NWP).\n",
            "{'state': 'READY', 'description': 'export_task', 'creation_timestamp_ms': 1642077133847, 'update_timestamp_ms': 1642077133847, 'start_timestamp_ms': 0, 'task_type': 'EXPORT_IMAGE', 'id': 'ECF6NQLV53MC3QN6QVL52NWP', 'name': 'projects/earthengine-legacy/operations/ECF6NQLV53MC3QN6QVL52NWP'}\n",
            "Polling for task (id: ECF6NQLV53MC3QN6QVL52NWP).\n",
            "{'state': 'RUNNING', 'description': 'export_task', 'creation_timestamp_ms': 1642077133847, 'update_timestamp_ms': 1642077164533, 'start_timestamp_ms': 1642077164395, 'task_type': 'EXPORT_IMAGE', 'attempt': 1, 'id': 'ECF6NQLV53MC3QN6QVL52NWP', 'name': 'projects/earthengine-legacy/operations/ECF6NQLV53MC3QN6QVL52NWP'}\n",
            "Polling for task (id: ECF6NQLV53MC3QN6QVL52NWP).\n",
            "{'state': 'RUNNING', 'description': 'export_task', 'creation_timestamp_ms': 1642077133847, 'update_timestamp_ms': 1642077176438, 'start_timestamp_ms': 1642077164395, 'task_type': 'EXPORT_IMAGE', 'attempt': 1, 'id': 'ECF6NQLV53MC3QN6QVL52NWP', 'name': 'projects/earthengine-legacy/operations/ECF6NQLV53MC3QN6QVL52NWP'}\n",
            "Polling for task (id: ECF6NQLV53MC3QN6QVL52NWP).\n",
            "{'state': 'RUNNING', 'description': 'export_task', 'creation_timestamp_ms': 1642077133847, 'update_timestamp_ms': 1642077176438, 'start_timestamp_ms': 1642077164395, 'task_type': 'EXPORT_IMAGE', 'attempt': 1, 'id': 'ECF6NQLV53MC3QN6QVL52NWP', 'name': 'projects/earthengine-legacy/operations/ECF6NQLV53MC3QN6QVL52NWP'}\n"
          ]
        },
        {
          "output_type": "stream",
          "name": "stderr",
          "text": [
            "\r 51%|█████     | 55/108 [1:42:44<1:07:56, 76.91s/it]/usr/local/lib/python3.7/dist-packages/pyproj/crs/crs.py:131: FutureWarning: '+init=<authority>:<code>' syntax is deprecated. '<authority>:<code>' is the preferred initialization method. When making the change, be mindful of axis order changes: https://pyproj4.github.io/pyproj/stable/gotchas.html#axis-order-changes-in-proj-6\n",
            "  in_crs_string = _prepare_from_proj_string(in_crs_string)\n",
            "/usr/local/lib/python3.7/dist-packages/pyproj/crs/crs.py:131: FutureWarning: '+init=<authority>:<code>' syntax is deprecated. '<authority>:<code>' is the preferred initialization method. When making the change, be mindful of axis order changes: https://pyproj4.github.io/pyproj/stable/gotchas.html#axis-order-changes-in-proj-6\n",
            "  in_crs_string = _prepare_from_proj_string(in_crs_string)\n",
            "/usr/local/lib/python3.7/dist-packages/ipykernel_launcher.py:18: DeprecationWarning: This function is deprecated. See: https://pyproj4.github.io/pyproj/stable/gotchas.html#upgrading-to-pyproj-2-from-pyproj-1\n",
            "/usr/local/lib/python3.7/dist-packages/ipykernel_launcher.py:19: DeprecationWarning: This function is deprecated. See: https://pyproj4.github.io/pyproj/stable/gotchas.html#upgrading-to-pyproj-2-from-pyproj-1\n"
          ]
        },
        {
          "output_type": "stream",
          "name": "stdout",
          "text": [
            "{   'fire_alert_date': '2020-08-17',\n",
            "    'fire_alert_date_a_few_days_before': '2020-07-18',\n",
            "    'fire_area': 11954.87,\n",
            "    'fire_cont_date': '2020-09-07',\n",
            "    'fire_cont_date_a_few_days_after': '2020-10-07',\n",
            "    'fire_name': 'CAL_database_Sentinel2_239',\n",
            "    'fire_perimeter': [   -120.8093030609158,\n",
            "                          40.247456773801694,\n",
            "                          -120.56901361759995,\n",
            "                          40.38352310378562]}\n",
            "55 / 108\n",
            "Generating the Sentinel tif: CAL_database_Sentinel2_239_postFire_RGBIR\n",
            "Polling for task (id: ZIXEKWW6ZJ73BB5DO3ETOXHI).\n",
            "{'state': 'READY', 'description': 'export_task', 'creation_timestamp_ms': 1642077255885, 'update_timestamp_ms': 1642077255885, 'start_timestamp_ms': 0, 'task_type': 'EXPORT_IMAGE', 'id': 'ZIXEKWW6ZJ73BB5DO3ETOXHI', 'name': 'projects/earthengine-legacy/operations/ZIXEKWW6ZJ73BB5DO3ETOXHI'}\n",
            "Polling for task (id: ZIXEKWW6ZJ73BB5DO3ETOXHI).\n",
            "{'state': 'RUNNING', 'description': 'export_task', 'creation_timestamp_ms': 1642077255885, 'update_timestamp_ms': 1642077283952, 'start_timestamp_ms': 1642077280699, 'task_type': 'EXPORT_IMAGE', 'attempt': 1, 'id': 'ZIXEKWW6ZJ73BB5DO3ETOXHI', 'name': 'projects/earthengine-legacy/operations/ZIXEKWW6ZJ73BB5DO3ETOXHI'}\n"
          ]
        },
        {
          "output_type": "stream",
          "name": "stderr",
          "text": [
            "\r 52%|█████▏    | 56/108 [1:43:45<1:02:35, 72.21s/it]/usr/local/lib/python3.7/dist-packages/pyproj/crs/crs.py:131: FutureWarning: '+init=<authority>:<code>' syntax is deprecated. '<authority>:<code>' is the preferred initialization method. When making the change, be mindful of axis order changes: https://pyproj4.github.io/pyproj/stable/gotchas.html#axis-order-changes-in-proj-6\n",
            "  in_crs_string = _prepare_from_proj_string(in_crs_string)\n",
            "/usr/local/lib/python3.7/dist-packages/pyproj/crs/crs.py:131: FutureWarning: '+init=<authority>:<code>' syntax is deprecated. '<authority>:<code>' is the preferred initialization method. When making the change, be mindful of axis order changes: https://pyproj4.github.io/pyproj/stable/gotchas.html#axis-order-changes-in-proj-6\n",
            "  in_crs_string = _prepare_from_proj_string(in_crs_string)\n",
            "/usr/local/lib/python3.7/dist-packages/ipykernel_launcher.py:18: DeprecationWarning: This function is deprecated. See: https://pyproj4.github.io/pyproj/stable/gotchas.html#upgrading-to-pyproj-2-from-pyproj-1\n",
            "/usr/local/lib/python3.7/dist-packages/ipykernel_launcher.py:19: DeprecationWarning: This function is deprecated. See: https://pyproj4.github.io/pyproj/stable/gotchas.html#upgrading-to-pyproj-2-from-pyproj-1\n"
          ]
        },
        {
          "output_type": "stream",
          "name": "stdout",
          "text": [
            "{   'fire_alert_date': '2016-08-16',\n",
            "    'fire_alert_date_a_few_days_before': '2016-07-17',\n",
            "    'fire_area': 11776.58,\n",
            "    'fire_cont_date': '2016-08-16',\n",
            "    'fire_cont_date_a_few_days_after': '2016-09-15',\n",
            "    'fire_name': 'CAL_database_Sentinel2_7231',\n",
            "    'fire_perimeter': [   -118.66196000357913,\n",
            "                          35.72688604773895,\n",
            "                          -118.45139620707353,\n",
            "                          35.8585054595941]}\n",
            "56 / 108\n",
            "Generating the Sentinel tif: CAL_database_Sentinel2_7231_postFire_RGBIR\n",
            "Polling for task (id: 2H2ISKKRO3ULBBQZDKYULPHQ).\n",
            "{'state': 'READY', 'description': 'export_task', 'creation_timestamp_ms': 1642077317147, 'update_timestamp_ms': 1642077317147, 'start_timestamp_ms': 0, 'task_type': 'EXPORT_IMAGE', 'id': '2H2ISKKRO3ULBBQZDKYULPHQ', 'name': 'projects/earthengine-legacy/operations/2H2ISKKRO3ULBBQZDKYULPHQ'}\n",
            "Polling for task (id: 2H2ISKKRO3ULBBQZDKYULPHQ).\n",
            "{'state': 'READY', 'description': 'export_task', 'creation_timestamp_ms': 1642077317147, 'update_timestamp_ms': 1642077317147, 'start_timestamp_ms': 0, 'task_type': 'EXPORT_IMAGE', 'id': '2H2ISKKRO3ULBBQZDKYULPHQ', 'name': 'projects/earthengine-legacy/operations/2H2ISKKRO3ULBBQZDKYULPHQ'}\n"
          ]
        },
        {
          "output_type": "stream",
          "name": "stderr",
          "text": [
            "\r 53%|█████▎    | 57/108 [1:44:47<58:36, 68.95s/it]  /usr/local/lib/python3.7/dist-packages/pyproj/crs/crs.py:131: FutureWarning: '+init=<authority>:<code>' syntax is deprecated. '<authority>:<code>' is the preferred initialization method. When making the change, be mindful of axis order changes: https://pyproj4.github.io/pyproj/stable/gotchas.html#axis-order-changes-in-proj-6\n",
            "  in_crs_string = _prepare_from_proj_string(in_crs_string)\n",
            "/usr/local/lib/python3.7/dist-packages/pyproj/crs/crs.py:131: FutureWarning: '+init=<authority>:<code>' syntax is deprecated. '<authority>:<code>' is the preferred initialization method. When making the change, be mindful of axis order changes: https://pyproj4.github.io/pyproj/stable/gotchas.html#axis-order-changes-in-proj-6\n",
            "  in_crs_string = _prepare_from_proj_string(in_crs_string)\n",
            "/usr/local/lib/python3.7/dist-packages/ipykernel_launcher.py:18: DeprecationWarning: This function is deprecated. See: https://pyproj4.github.io/pyproj/stable/gotchas.html#upgrading-to-pyproj-2-from-pyproj-1\n",
            "/usr/local/lib/python3.7/dist-packages/ipykernel_launcher.py:19: DeprecationWarning: This function is deprecated. See: https://pyproj4.github.io/pyproj/stable/gotchas.html#upgrading-to-pyproj-2-from-pyproj-1\n"
          ]
        },
        {
          "output_type": "stream",
          "name": "stdout",
          "text": [
            "{   'fire_alert_date': '2017-07-06',\n",
            "    'fire_alert_date_a_few_days_before': '2017-06-06',\n",
            "    'fire_area': 11668.78,\n",
            "    'fire_cont_date': '2017-07-20',\n",
            "    'fire_cont_date_a_few_days_after': '2017-08-19',\n",
            "    'fire_name': 'CAL_database_Sentinel2_7357',\n",
            "    'fire_perimeter': [   -120.36790093041253,\n",
            "                          34.8944411334893,\n",
            "                          -120.20907296583647,\n",
            "                          35.02741701259577]}\n",
            "57 / 108\n",
            "Generating the Sentinel tif: CAL_database_Sentinel2_7357_postFire_RGBIR\n",
            "Polling for task (id: FPIBQEWZQBR2EHTQELXGTZBA).\n",
            "{'state': 'READY', 'description': 'export_task', 'creation_timestamp_ms': 1642077378526, 'update_timestamp_ms': 1642077378526, 'start_timestamp_ms': 0, 'task_type': 'EXPORT_IMAGE', 'id': 'FPIBQEWZQBR2EHTQELXGTZBA', 'name': 'projects/earthengine-legacy/operations/FPIBQEWZQBR2EHTQELXGTZBA'}\n",
            "Polling for task (id: FPIBQEWZQBR2EHTQELXGTZBA).\n",
            "{'state': 'READY', 'description': 'export_task', 'creation_timestamp_ms': 1642077378526, 'update_timestamp_ms': 1642077378526, 'start_timestamp_ms': 0, 'task_type': 'EXPORT_IMAGE', 'id': 'FPIBQEWZQBR2EHTQELXGTZBA', 'name': 'projects/earthengine-legacy/operations/FPIBQEWZQBR2EHTQELXGTZBA'}\n"
          ]
        },
        {
          "output_type": "stream",
          "name": "stderr",
          "text": [
            "\r 54%|█████▎    | 58/108 [1:45:48<55:34, 66.69s/it]/usr/local/lib/python3.7/dist-packages/pyproj/crs/crs.py:131: FutureWarning: '+init=<authority>:<code>' syntax is deprecated. '<authority>:<code>' is the preferred initialization method. When making the change, be mindful of axis order changes: https://pyproj4.github.io/pyproj/stable/gotchas.html#axis-order-changes-in-proj-6\n",
            "  in_crs_string = _prepare_from_proj_string(in_crs_string)\n",
            "/usr/local/lib/python3.7/dist-packages/pyproj/crs/crs.py:131: FutureWarning: '+init=<authority>:<code>' syntax is deprecated. '<authority>:<code>' is the preferred initialization method. When making the change, be mindful of axis order changes: https://pyproj4.github.io/pyproj/stable/gotchas.html#axis-order-changes-in-proj-6\n",
            "  in_crs_string = _prepare_from_proj_string(in_crs_string)\n",
            "/usr/local/lib/python3.7/dist-packages/ipykernel_launcher.py:18: DeprecationWarning: This function is deprecated. See: https://pyproj4.github.io/pyproj/stable/gotchas.html#upgrading-to-pyproj-2-from-pyproj-1\n",
            "/usr/local/lib/python3.7/dist-packages/ipykernel_launcher.py:19: DeprecationWarning: This function is deprecated. See: https://pyproj4.github.io/pyproj/stable/gotchas.html#upgrading-to-pyproj-2-from-pyproj-1\n"
          ]
        },
        {
          "output_type": "stream",
          "name": "stdout",
          "text": [
            "{   'fire_alert_date': '2020-08-29',\n",
            "    'fire_alert_date_a_few_days_before': '2020-07-30',\n",
            "    'fire_area': 10826.06,\n",
            "    'fire_cont_date': '2020-11-13',\n",
            "    'fire_cont_date_a_few_days_after': '2020-12-13',\n",
            "    'fire_name': 'CAL_database_Sentinel2_332',\n",
            "    'fire_perimeter': [   -119.65785855704542,\n",
            "                          38.45977272425494,\n",
            "                          -119.4810596208666,\n",
            "                          38.58428534038474]}\n",
            "58 / 108\n",
            "Generating the Sentinel tif: CAL_database_Sentinel2_332_postFire_RGBIR\n",
            "Polling for task (id: CGSA26YIZHTHGDKQDZKREBKL).\n",
            "{'state': 'READY', 'description': 'export_task', 'creation_timestamp_ms': 1642077439923, 'update_timestamp_ms': 1642077439923, 'start_timestamp_ms': 0, 'task_type': 'EXPORT_IMAGE', 'id': 'CGSA26YIZHTHGDKQDZKREBKL', 'name': 'projects/earthengine-legacy/operations/CGSA26YIZHTHGDKQDZKREBKL'}\n",
            "Polling for task (id: CGSA26YIZHTHGDKQDZKREBKL).\n",
            "{'state': 'RUNNING', 'description': 'export_task', 'creation_timestamp_ms': 1642077439923, 'update_timestamp_ms': 1642077461248, 'start_timestamp_ms': 1642077458092, 'task_type': 'EXPORT_IMAGE', 'attempt': 1, 'id': 'CGSA26YIZHTHGDKQDZKREBKL', 'name': 'projects/earthengine-legacy/operations/CGSA26YIZHTHGDKQDZKREBKL'}\n"
          ]
        },
        {
          "output_type": "stream",
          "name": "stderr",
          "text": [
            "\r 55%|█████▍    | 59/108 [1:46:50<53:08, 65.08s/it]/usr/local/lib/python3.7/dist-packages/pyproj/crs/crs.py:131: FutureWarning: '+init=<authority>:<code>' syntax is deprecated. '<authority>:<code>' is the preferred initialization method. When making the change, be mindful of axis order changes: https://pyproj4.github.io/pyproj/stable/gotchas.html#axis-order-changes-in-proj-6\n",
            "  in_crs_string = _prepare_from_proj_string(in_crs_string)\n",
            "/usr/local/lib/python3.7/dist-packages/pyproj/crs/crs.py:131: FutureWarning: '+init=<authority>:<code>' syntax is deprecated. '<authority>:<code>' is the preferred initialization method. When making the change, be mindful of axis order changes: https://pyproj4.github.io/pyproj/stable/gotchas.html#axis-order-changes-in-proj-6\n",
            "  in_crs_string = _prepare_from_proj_string(in_crs_string)\n",
            "/usr/local/lib/python3.7/dist-packages/ipykernel_launcher.py:18: DeprecationWarning: This function is deprecated. See: https://pyproj4.github.io/pyproj/stable/gotchas.html#upgrading-to-pyproj-2-from-pyproj-1\n",
            "/usr/local/lib/python3.7/dist-packages/ipykernel_launcher.py:19: DeprecationWarning: This function is deprecated. See: https://pyproj4.github.io/pyproj/stable/gotchas.html#upgrading-to-pyproj-2-from-pyproj-1\n"
          ]
        },
        {
          "output_type": "stream",
          "name": "stdout",
          "text": [
            "{   'fire_alert_date': '2018-08-06',\n",
            "    'fire_alert_date_a_few_days_before': '2018-07-07',\n",
            "    'fire_area': 9318.05,\n",
            "    'fire_cont_date': '2018-10-17',\n",
            "    'fire_cont_date_a_few_days_after': '2018-11-16',\n",
            "    'fire_name': 'CAL_database_Sentinel2_8250',\n",
            "    'fire_perimeter': [   -117.55245056873147,\n",
            "                          33.65509259637621,\n",
            "                          -117.38123706659546,\n",
            "                          33.74939544730813]}\n",
            "59 / 108\n",
            "Generating the Sentinel tif: CAL_database_Sentinel2_8250_postFire_RGBIR\n",
            "Polling for task (id: JU43CGGNHH3DJTSEYPNZS6UV).\n",
            "{'state': 'READY', 'description': 'export_task', 'creation_timestamp_ms': 1642077501222, 'update_timestamp_ms': 1642077501222, 'start_timestamp_ms': 0, 'task_type': 'EXPORT_IMAGE', 'id': 'JU43CGGNHH3DJTSEYPNZS6UV', 'name': 'projects/earthengine-legacy/operations/JU43CGGNHH3DJTSEYPNZS6UV'}\n",
            "Polling for task (id: JU43CGGNHH3DJTSEYPNZS6UV).\n",
            "{'state': 'READY', 'description': 'export_task', 'creation_timestamp_ms': 1642077501222, 'update_timestamp_ms': 1642077501222, 'start_timestamp_ms': 0, 'task_type': 'EXPORT_IMAGE', 'id': 'JU43CGGNHH3DJTSEYPNZS6UV', 'name': 'projects/earthengine-legacy/operations/JU43CGGNHH3DJTSEYPNZS6UV'}\n"
          ]
        },
        {
          "output_type": "stream",
          "name": "stderr",
          "text": [
            "\r 56%|█████▌    | 60/108 [1:47:51<51:09, 63.95s/it]/usr/local/lib/python3.7/dist-packages/pyproj/crs/crs.py:131: FutureWarning: '+init=<authority>:<code>' syntax is deprecated. '<authority>:<code>' is the preferred initialization method. When making the change, be mindful of axis order changes: https://pyproj4.github.io/pyproj/stable/gotchas.html#axis-order-changes-in-proj-6\n",
            "  in_crs_string = _prepare_from_proj_string(in_crs_string)\n",
            "/usr/local/lib/python3.7/dist-packages/pyproj/crs/crs.py:131: FutureWarning: '+init=<authority>:<code>' syntax is deprecated. '<authority>:<code>' is the preferred initialization method. When making the change, be mindful of axis order changes: https://pyproj4.github.io/pyproj/stable/gotchas.html#axis-order-changes-in-proj-6\n",
            "  in_crs_string = _prepare_from_proj_string(in_crs_string)\n",
            "/usr/local/lib/python3.7/dist-packages/ipykernel_launcher.py:18: DeprecationWarning: This function is deprecated. See: https://pyproj4.github.io/pyproj/stable/gotchas.html#upgrading-to-pyproj-2-from-pyproj-1\n",
            "/usr/local/lib/python3.7/dist-packages/ipykernel_launcher.py:19: DeprecationWarning: This function is deprecated. See: https://pyproj4.github.io/pyproj/stable/gotchas.html#upgrading-to-pyproj-2-from-pyproj-1\n"
          ]
        },
        {
          "output_type": "stream",
          "name": "stdout",
          "text": [
            "{   'fire_alert_date': '2020-07-20',\n",
            "    'fire_alert_date_a_few_days_before': '2020-06-20',\n",
            "    'fire_area': 9167.17,\n",
            "    'fire_cont_date': '2020-10-29',\n",
            "    'fire_cont_date_a_few_days_after': '2020-11-28',\n",
            "    'fire_name': 'CAL_database_Sentinel2_420',\n",
            "    'fire_perimeter': [   -120.92432213153978,\n",
            "                          41.001589967976315,\n",
            "                          -120.70398042927128,\n",
            "                          41.12110455723078]}\n",
            "60 / 108\n",
            "Generating the Sentinel tif: CAL_database_Sentinel2_420_postFire_RGBIR\n",
            "Polling for task (id: XORZQ25PUBU5LUDSGSJDYASB).\n",
            "{'state': 'READY', 'description': 'export_task', 'creation_timestamp_ms': 1642077562599, 'update_timestamp_ms': 1642077562599, 'start_timestamp_ms': 0, 'task_type': 'EXPORT_IMAGE', 'id': 'XORZQ25PUBU5LUDSGSJDYASB', 'name': 'projects/earthengine-legacy/operations/XORZQ25PUBU5LUDSGSJDYASB'}\n",
            "Polling for task (id: XORZQ25PUBU5LUDSGSJDYASB).\n",
            "{'state': 'READY', 'description': 'export_task', 'creation_timestamp_ms': 1642077562599, 'update_timestamp_ms': 1642077562599, 'start_timestamp_ms': 0, 'task_type': 'EXPORT_IMAGE', 'id': 'XORZQ25PUBU5LUDSGSJDYASB', 'name': 'projects/earthengine-legacy/operations/XORZQ25PUBU5LUDSGSJDYASB'}\n",
            "Polling for task (id: XORZQ25PUBU5LUDSGSJDYASB).\n",
            "{'state': 'RUNNING', 'description': 'export_task', 'creation_timestamp_ms': 1642077562599, 'update_timestamp_ms': 1642077615781, 'start_timestamp_ms': 1642077615639, 'task_type': 'EXPORT_IMAGE', 'attempt': 1, 'id': 'XORZQ25PUBU5LUDSGSJDYASB', 'name': 'projects/earthengine-legacy/operations/XORZQ25PUBU5LUDSGSJDYASB'}\n",
            "Polling for task (id: XORZQ25PUBU5LUDSGSJDYASB).\n",
            "{'state': 'RUNNING', 'description': 'export_task', 'creation_timestamp_ms': 1642077562599, 'update_timestamp_ms': 1642077650752, 'start_timestamp_ms': 1642077615639, 'task_type': 'EXPORT_IMAGE', 'attempt': 1, 'id': 'XORZQ25PUBU5LUDSGSJDYASB', 'name': 'projects/earthengine-legacy/operations/XORZQ25PUBU5LUDSGSJDYASB'}\n",
            "Polling for task (id: XORZQ25PUBU5LUDSGSJDYASB).\n",
            "{'state': 'RUNNING', 'description': 'export_task', 'creation_timestamp_ms': 1642077562599, 'update_timestamp_ms': 1642077650752, 'start_timestamp_ms': 1642077615639, 'task_type': 'EXPORT_IMAGE', 'attempt': 1, 'id': 'XORZQ25PUBU5LUDSGSJDYASB', 'name': 'projects/earthengine-legacy/operations/XORZQ25PUBU5LUDSGSJDYASB'}\n",
            "Polling for task (id: XORZQ25PUBU5LUDSGSJDYASB).\n",
            "{'state': 'RUNNING', 'description': 'export_task', 'creation_timestamp_ms': 1642077562599, 'update_timestamp_ms': 1642077699957, 'start_timestamp_ms': 1642077615639, 'task_type': 'EXPORT_IMAGE', 'attempt': 1, 'id': 'XORZQ25PUBU5LUDSGSJDYASB', 'name': 'projects/earthengine-legacy/operations/XORZQ25PUBU5LUDSGSJDYASB'}\n",
            "Polling for task (id: XORZQ25PUBU5LUDSGSJDYASB).\n",
            "{'state': 'RUNNING', 'description': 'export_task', 'creation_timestamp_ms': 1642077562599, 'update_timestamp_ms': 1642077699957, 'start_timestamp_ms': 1642077615639, 'task_type': 'EXPORT_IMAGE', 'attempt': 1, 'id': 'XORZQ25PUBU5LUDSGSJDYASB', 'name': 'projects/earthengine-legacy/operations/XORZQ25PUBU5LUDSGSJDYASB'}\n",
            "Polling for task (id: XORZQ25PUBU5LUDSGSJDYASB).\n",
            "{'state': 'RUNNING', 'description': 'export_task', 'creation_timestamp_ms': 1642077562599, 'update_timestamp_ms': 1642077759864, 'start_timestamp_ms': 1642077615639, 'task_type': 'EXPORT_IMAGE', 'attempt': 1, 'id': 'XORZQ25PUBU5LUDSGSJDYASB', 'name': 'projects/earthengine-legacy/operations/XORZQ25PUBU5LUDSGSJDYASB'}\n"
          ]
        },
        {
          "output_type": "stream",
          "name": "stderr",
          "text": [
            "\r 56%|█████▋    | 61/108 [1:51:54<1:32:16, 117.81s/it]/usr/local/lib/python3.7/dist-packages/pyproj/crs/crs.py:131: FutureWarning: '+init=<authority>:<code>' syntax is deprecated. '<authority>:<code>' is the preferred initialization method. When making the change, be mindful of axis order changes: https://pyproj4.github.io/pyproj/stable/gotchas.html#axis-order-changes-in-proj-6\n",
            "  in_crs_string = _prepare_from_proj_string(in_crs_string)\n",
            "/usr/local/lib/python3.7/dist-packages/pyproj/crs/crs.py:131: FutureWarning: '+init=<authority>:<code>' syntax is deprecated. '<authority>:<code>' is the preferred initialization method. When making the change, be mindful of axis order changes: https://pyproj4.github.io/pyproj/stable/gotchas.html#axis-order-changes-in-proj-6\n",
            "  in_crs_string = _prepare_from_proj_string(in_crs_string)\n",
            "/usr/local/lib/python3.7/dist-packages/ipykernel_launcher.py:18: DeprecationWarning: This function is deprecated. See: https://pyproj4.github.io/pyproj/stable/gotchas.html#upgrading-to-pyproj-2-from-pyproj-1\n",
            "/usr/local/lib/python3.7/dist-packages/ipykernel_launcher.py:19: DeprecationWarning: This function is deprecated. See: https://pyproj4.github.io/pyproj/stable/gotchas.html#upgrading-to-pyproj-2-from-pyproj-1\n"
          ]
        },
        {
          "output_type": "stream",
          "name": "stdout",
          "text": [
            "{   'fire_alert_date': '2020-09-05',\n",
            "    'fire_alert_date_a_few_days_before': '2020-08-06',\n",
            "    'fire_area': 9106.93,\n",
            "    'fire_cont_date': '2020-11-16',\n",
            "    'fire_cont_date_a_few_days_after': '2020-12-16',\n",
            "    'fire_name': 'CAL_database_Sentinel2_350',\n",
            "    'fire_perimeter': [   -117.03334127921815,\n",
            "                          34.00633863190382,\n",
            "                          -116.88680856666878,\n",
            "                          34.16224130524366]}\n",
            "61 / 108\n",
            "Generating the Sentinel tif: CAL_database_Sentinel2_350_postFire_RGBIR\n",
            "Polling for task (id: AD2HT5GWX76DQV5JOO6NMFYH).\n",
            "{'state': 'READY', 'description': 'export_task', 'creation_timestamp_ms': 1642077806049, 'update_timestamp_ms': 1642077806049, 'start_timestamp_ms': 0, 'task_type': 'EXPORT_IMAGE', 'id': 'AD2HT5GWX76DQV5JOO6NMFYH', 'name': 'projects/earthengine-legacy/operations/AD2HT5GWX76DQV5JOO6NMFYH'}\n",
            "Polling for task (id: AD2HT5GWX76DQV5JOO6NMFYH).\n",
            "{'state': 'RUNNING', 'description': 'export_task', 'creation_timestamp_ms': 1642077806049, 'update_timestamp_ms': 1642077829055, 'start_timestamp_ms': 1642077825878, 'task_type': 'EXPORT_IMAGE', 'attempt': 1, 'id': 'AD2HT5GWX76DQV5JOO6NMFYH', 'name': 'projects/earthengine-legacy/operations/AD2HT5GWX76DQV5JOO6NMFYH'}\n"
          ]
        },
        {
          "output_type": "stream",
          "name": "stderr",
          "text": [
            "\r 57%|█████▋    | 62/108 [1:52:56<1:17:19, 100.87s/it]/usr/local/lib/python3.7/dist-packages/pyproj/crs/crs.py:131: FutureWarning: '+init=<authority>:<code>' syntax is deprecated. '<authority>:<code>' is the preferred initialization method. When making the change, be mindful of axis order changes: https://pyproj4.github.io/pyproj/stable/gotchas.html#axis-order-changes-in-proj-6\n",
            "  in_crs_string = _prepare_from_proj_string(in_crs_string)\n",
            "/usr/local/lib/python3.7/dist-packages/pyproj/crs/crs.py:131: FutureWarning: '+init=<authority>:<code>' syntax is deprecated. '<authority>:<code>' is the preferred initialization method. When making the change, be mindful of axis order changes: https://pyproj4.github.io/pyproj/stable/gotchas.html#axis-order-changes-in-proj-6\n",
            "  in_crs_string = _prepare_from_proj_string(in_crs_string)\n",
            "/usr/local/lib/python3.7/dist-packages/ipykernel_launcher.py:18: DeprecationWarning: This function is deprecated. See: https://pyproj4.github.io/pyproj/stable/gotchas.html#upgrading-to-pyproj-2-from-pyproj-1\n",
            "/usr/local/lib/python3.7/dist-packages/ipykernel_launcher.py:19: DeprecationWarning: This function is deprecated. See: https://pyproj4.github.io/pyproj/stable/gotchas.html#upgrading-to-pyproj-2-from-pyproj-1\n"
          ]
        },
        {
          "output_type": "stream",
          "name": "stdout",
          "text": [
            "{   'fire_alert_date': '2017-08-10',\n",
            "    'fire_alert_date_a_few_days_before': '2017-07-11',\n",
            "    'fire_area': 8627.06,\n",
            "    'fire_cont_date': '2017-10-16',\n",
            "    'fire_cont_date_a_few_days_after': '2017-11-15',\n",
            "    'fire_name': 'CAL_database_Sentinel2_7707',\n",
            "    'fire_perimeter': [   -123.48468556369315,\n",
            "                          41.39781515667945,\n",
            "                          -123.34542300041574,\n",
            "                          41.53330976093006]}\n",
            "62 / 108\n",
            "Generating the Sentinel tif: CAL_database_Sentinel2_7707_postFire_RGBIR\n",
            "Polling for task (id: HUIZVKAR5DZ2RI4IYD7MGYJP).\n",
            "{'state': 'READY', 'description': 'export_task', 'creation_timestamp_ms': 1642077867508, 'update_timestamp_ms': 1642077867508, 'start_timestamp_ms': 0, 'task_type': 'EXPORT_IMAGE', 'id': 'HUIZVKAR5DZ2RI4IYD7MGYJP', 'name': 'projects/earthengine-legacy/operations/HUIZVKAR5DZ2RI4IYD7MGYJP'}\n",
            "Polling for task (id: HUIZVKAR5DZ2RI4IYD7MGYJP).\n",
            "{'state': 'FAILED', 'description': 'export_task', 'creation_timestamp_ms': 1642077867508, 'update_timestamp_ms': 1642077898376, 'start_timestamp_ms': 1642077897557, 'task_type': 'EXPORT_IMAGE', 'attempt': 1, 'error_message': 'Image.clipToBoundsAndScale: The image must have at least one band.', 'id': 'HUIZVKAR5DZ2RI4IYD7MGYJP', 'name': 'projects/earthengine-legacy/operations/HUIZVKAR5DZ2RI4IYD7MGYJP'}\n"
          ]
        },
        {
          "output_type": "stream",
          "name": "stderr",
          "text": [
            "\r 58%|█████▊    | 63/108 [1:53:57<1:06:51, 89.13s/it] /usr/local/lib/python3.7/dist-packages/pyproj/crs/crs.py:131: FutureWarning: '+init=<authority>:<code>' syntax is deprecated. '<authority>:<code>' is the preferred initialization method. When making the change, be mindful of axis order changes: https://pyproj4.github.io/pyproj/stable/gotchas.html#axis-order-changes-in-proj-6\n",
            "  in_crs_string = _prepare_from_proj_string(in_crs_string)\n",
            "/usr/local/lib/python3.7/dist-packages/pyproj/crs/crs.py:131: FutureWarning: '+init=<authority>:<code>' syntax is deprecated. '<authority>:<code>' is the preferred initialization method. When making the change, be mindful of axis order changes: https://pyproj4.github.io/pyproj/stable/gotchas.html#axis-order-changes-in-proj-6\n",
            "  in_crs_string = _prepare_from_proj_string(in_crs_string)\n",
            "/usr/local/lib/python3.7/dist-packages/ipykernel_launcher.py:18: DeprecationWarning: This function is deprecated. See: https://pyproj4.github.io/pyproj/stable/gotchas.html#upgrading-to-pyproj-2-from-pyproj-1\n",
            "/usr/local/lib/python3.7/dist-packages/ipykernel_launcher.py:19: DeprecationWarning: This function is deprecated. See: https://pyproj4.github.io/pyproj/stable/gotchas.html#upgrading-to-pyproj-2-from-pyproj-1\n"
          ]
        },
        {
          "output_type": "stream",
          "name": "stdout",
          "text": [
            "{   'fire_alert_date': '2020-11-17',\n",
            "    'fire_alert_date_a_few_days_before': '2020-10-18',\n",
            "    'fire_area': 8245.29,\n",
            "    'fire_cont_date': '2020-11-30',\n",
            "    'fire_cont_date_a_few_days_after': '2020-12-30',\n",
            "    'fire_name': 'CAL_database_Sentinel2_321',\n",
            "    'fire_perimeter': [   -119.47896126825168,\n",
            "                          38.506865549829506,\n",
            "                          -119.31661835567967,\n",
            "                          38.60928772788404]}\n",
            "63 / 108\n",
            "Generating the Sentinel tif: CAL_database_Sentinel2_321_postFire_RGBIR\n",
            "Polling for task (id: OZU3NFWISPM74QR5DMMOU4PO).\n",
            "{'state': 'READY', 'description': 'export_task', 'creation_timestamp_ms': 1642077929153, 'update_timestamp_ms': 1642077929153, 'start_timestamp_ms': 0, 'task_type': 'EXPORT_IMAGE', 'id': 'OZU3NFWISPM74QR5DMMOU4PO', 'name': 'projects/earthengine-legacy/operations/OZU3NFWISPM74QR5DMMOU4PO'}\n",
            "Polling for task (id: OZU3NFWISPM74QR5DMMOU4PO).\n",
            "{'state': 'READY', 'description': 'export_task', 'creation_timestamp_ms': 1642077929153, 'update_timestamp_ms': 1642077929153, 'start_timestamp_ms': 0, 'task_type': 'EXPORT_IMAGE', 'id': 'OZU3NFWISPM74QR5DMMOU4PO', 'name': 'projects/earthengine-legacy/operations/OZU3NFWISPM74QR5DMMOU4PO'}\n",
            "Polling for task (id: OZU3NFWISPM74QR5DMMOU4PO).\n",
            "{'state': 'RUNNING', 'description': 'export_task', 'creation_timestamp_ms': 1642077929153, 'update_timestamp_ms': 1642077977554, 'start_timestamp_ms': 1642077974862, 'task_type': 'EXPORT_IMAGE', 'attempt': 1, 'id': 'OZU3NFWISPM74QR5DMMOU4PO', 'name': 'projects/earthengine-legacy/operations/OZU3NFWISPM74QR5DMMOU4PO'}\n"
          ]
        },
        {
          "output_type": "stream",
          "name": "stderr",
          "text": [
            "\r 59%|█████▉    | 64/108 [1:55:29<1:05:55, 89.89s/it]/usr/local/lib/python3.7/dist-packages/pyproj/crs/crs.py:131: FutureWarning: '+init=<authority>:<code>' syntax is deprecated. '<authority>:<code>' is the preferred initialization method. When making the change, be mindful of axis order changes: https://pyproj4.github.io/pyproj/stable/gotchas.html#axis-order-changes-in-proj-6\n",
            "  in_crs_string = _prepare_from_proj_string(in_crs_string)\n",
            "/usr/local/lib/python3.7/dist-packages/pyproj/crs/crs.py:131: FutureWarning: '+init=<authority>:<code>' syntax is deprecated. '<authority>:<code>' is the preferred initialization method. When making the change, be mindful of axis order changes: https://pyproj4.github.io/pyproj/stable/gotchas.html#axis-order-changes-in-proj-6\n",
            "  in_crs_string = _prepare_from_proj_string(in_crs_string)\n",
            "/usr/local/lib/python3.7/dist-packages/ipykernel_launcher.py:18: DeprecationWarning: This function is deprecated. See: https://pyproj4.github.io/pyproj/stable/gotchas.html#upgrading-to-pyproj-2-from-pyproj-1\n",
            "/usr/local/lib/python3.7/dist-packages/ipykernel_launcher.py:19: DeprecationWarning: This function is deprecated. See: https://pyproj4.github.io/pyproj/stable/gotchas.html#upgrading-to-pyproj-2-from-pyproj-1\n"
          ]
        },
        {
          "output_type": "stream",
          "name": "stdout",
          "text": [
            "{   'fire_alert_date': '2017-09-25',\n",
            "    'fire_alert_date_a_few_days_before': '2017-08-26',\n",
            "    'fire_area': 7654.05,\n",
            "    'fire_cont_date': '2017-11-02',\n",
            "    'fire_cont_date_a_few_days_after': '2017-12-02',\n",
            "    'fire_name': 'CAL_database_Sentinel2_7718',\n",
            "    'fire_perimeter': [   -118.54794162092045,\n",
            "                          36.21885941193245,\n",
            "                          -118.39622060383472,\n",
            "                          36.34799181767641]}\n",
            "64 / 108\n",
            "Generating the Sentinel tif: CAL_database_Sentinel2_7718_postFire_RGBIR\n",
            "Polling for task (id: 6DLZXVVWDI2SYX7CB5PO2GQG).\n",
            "{'state': 'READY', 'description': 'export_task', 'creation_timestamp_ms': 1642078020817, 'update_timestamp_ms': 1642078020817, 'start_timestamp_ms': 0, 'task_type': 'EXPORT_IMAGE', 'id': '6DLZXVVWDI2SYX7CB5PO2GQG', 'name': 'projects/earthengine-legacy/operations/6DLZXVVWDI2SYX7CB5PO2GQG'}\n",
            "Polling for task (id: 6DLZXVVWDI2SYX7CB5PO2GQG).\n",
            "{'state': 'READY', 'description': 'export_task', 'creation_timestamp_ms': 1642078020817, 'update_timestamp_ms': 1642078020817, 'start_timestamp_ms': 0, 'task_type': 'EXPORT_IMAGE', 'id': '6DLZXVVWDI2SYX7CB5PO2GQG', 'name': 'projects/earthengine-legacy/operations/6DLZXVVWDI2SYX7CB5PO2GQG'}\n"
          ]
        },
        {
          "output_type": "stream",
          "name": "stderr",
          "text": [
            "\r 60%|██████    | 65/108 [1:56:30<58:17, 81.33s/it]  /usr/local/lib/python3.7/dist-packages/pyproj/crs/crs.py:131: FutureWarning: '+init=<authority>:<code>' syntax is deprecated. '<authority>:<code>' is the preferred initialization method. When making the change, be mindful of axis order changes: https://pyproj4.github.io/pyproj/stable/gotchas.html#axis-order-changes-in-proj-6\n",
            "  in_crs_string = _prepare_from_proj_string(in_crs_string)\n",
            "/usr/local/lib/python3.7/dist-packages/pyproj/crs/crs.py:131: FutureWarning: '+init=<authority>:<code>' syntax is deprecated. '<authority>:<code>' is the preferred initialization method. When making the change, be mindful of axis order changes: https://pyproj4.github.io/pyproj/stable/gotchas.html#axis-order-changes-in-proj-6\n",
            "  in_crs_string = _prepare_from_proj_string(in_crs_string)\n",
            "/usr/local/lib/python3.7/dist-packages/ipykernel_launcher.py:18: DeprecationWarning: This function is deprecated. See: https://pyproj4.github.io/pyproj/stable/gotchas.html#upgrading-to-pyproj-2-from-pyproj-1\n",
            "/usr/local/lib/python3.7/dist-packages/ipykernel_launcher.py:19: DeprecationWarning: This function is deprecated. See: https://pyproj4.github.io/pyproj/stable/gotchas.html#upgrading-to-pyproj-2-from-pyproj-1\n"
          ]
        },
        {
          "output_type": "stream",
          "name": "stdout",
          "text": [
            "{   'fire_alert_date': '2018-08-05',\n",
            "    'fire_alert_date_a_few_days_before': '2018-07-06',\n",
            "    'fire_area': 7568.39,\n",
            "    'fire_cont_date': '2018-08-06',\n",
            "    'fire_cont_date_a_few_days_after': '2018-09-05',\n",
            "    'fire_name': 'CAL_database_Sentinel2_8282',\n",
            "    'fire_perimeter': [   -120.89093365032085,\n",
            "                          40.57639674279916,\n",
            "                          -120.75828309047073,\n",
            "                          40.67949600392988]}\n",
            "65 / 108\n",
            "Generating the Sentinel tif: CAL_database_Sentinel2_8282_postFire_RGBIR\n",
            "Polling for task (id: QKHPHLB7VBYM7CC426UQMXE5).\n",
            "{'state': 'READY', 'description': 'export_task', 'creation_timestamp_ms': 1642078082200, 'update_timestamp_ms': 1642078082200, 'start_timestamp_ms': 0, 'task_type': 'EXPORT_IMAGE', 'id': 'QKHPHLB7VBYM7CC426UQMXE5', 'name': 'projects/earthengine-legacy/operations/QKHPHLB7VBYM7CC426UQMXE5'}\n",
            "Polling for task (id: QKHPHLB7VBYM7CC426UQMXE5).\n",
            "{'state': 'READY', 'description': 'export_task', 'creation_timestamp_ms': 1642078082200, 'update_timestamp_ms': 1642078082200, 'start_timestamp_ms': 0, 'task_type': 'EXPORT_IMAGE', 'id': 'QKHPHLB7VBYM7CC426UQMXE5', 'name': 'projects/earthengine-legacy/operations/QKHPHLB7VBYM7CC426UQMXE5'}\n"
          ]
        },
        {
          "output_type": "stream",
          "name": "stderr",
          "text": [
            "\r 61%|██████    | 66/108 [1:57:32<52:45, 75.37s/it]/usr/local/lib/python3.7/dist-packages/pyproj/crs/crs.py:131: FutureWarning: '+init=<authority>:<code>' syntax is deprecated. '<authority>:<code>' is the preferred initialization method. When making the change, be mindful of axis order changes: https://pyproj4.github.io/pyproj/stable/gotchas.html#axis-order-changes-in-proj-6\n",
            "  in_crs_string = _prepare_from_proj_string(in_crs_string)\n",
            "/usr/local/lib/python3.7/dist-packages/pyproj/crs/crs.py:131: FutureWarning: '+init=<authority>:<code>' syntax is deprecated. '<authority>:<code>' is the preferred initialization method. When making the change, be mindful of axis order changes: https://pyproj4.github.io/pyproj/stable/gotchas.html#axis-order-changes-in-proj-6\n",
            "  in_crs_string = _prepare_from_proj_string(in_crs_string)\n",
            "/usr/local/lib/python3.7/dist-packages/ipykernel_launcher.py:18: DeprecationWarning: This function is deprecated. See: https://pyproj4.github.io/pyproj/stable/gotchas.html#upgrading-to-pyproj-2-from-pyproj-1\n",
            "/usr/local/lib/python3.7/dist-packages/ipykernel_launcher.py:19: DeprecationWarning: This function is deprecated. See: https://pyproj4.github.io/pyproj/stable/gotchas.html#upgrading-to-pyproj-2-from-pyproj-1\n"
          ]
        },
        {
          "output_type": "stream",
          "name": "stdout",
          "text": [
            "{   'fire_alert_date': '2017-08-30',\n",
            "    'fire_alert_date_a_few_days_before': '2017-07-31',\n",
            "    'fire_area': 7527.95,\n",
            "    'fire_cont_date': '2017-09-15',\n",
            "    'fire_cont_date_a_few_days_after': '2017-10-15',\n",
            "    'fire_name': 'CAL_database_Sentinel2_7620',\n",
            "    'fire_perimeter': [   -120.01610036097706,\n",
            "                          40.67481660477587,\n",
            "                          -119.8190566468679,\n",
            "                          40.768830980404616]}\n",
            "66 / 108\n",
            "Generating the Sentinel tif: CAL_database_Sentinel2_7620_postFire_RGBIR\n",
            "Polling for task (id: D5WE6ZF7NC4CYJRM7FOVX5QA).\n",
            "{'state': 'READY', 'description': 'export_task', 'creation_timestamp_ms': 1642078143560, 'update_timestamp_ms': 1642078143560, 'start_timestamp_ms': 0, 'task_type': 'EXPORT_IMAGE', 'id': 'D5WE6ZF7NC4CYJRM7FOVX5QA', 'name': 'projects/earthengine-legacy/operations/D5WE6ZF7NC4CYJRM7FOVX5QA'}\n"
          ]
        },
        {
          "output_type": "stream",
          "name": "stderr",
          "text": [
            "\r 62%|██████▏   | 67/108 [1:58:04<42:43, 62.51s/it]/usr/local/lib/python3.7/dist-packages/pyproj/crs/crs.py:131: FutureWarning: '+init=<authority>:<code>' syntax is deprecated. '<authority>:<code>' is the preferred initialization method. When making the change, be mindful of axis order changes: https://pyproj4.github.io/pyproj/stable/gotchas.html#axis-order-changes-in-proj-6\n",
            "  in_crs_string = _prepare_from_proj_string(in_crs_string)\n",
            "/usr/local/lib/python3.7/dist-packages/pyproj/crs/crs.py:131: FutureWarning: '+init=<authority>:<code>' syntax is deprecated. '<authority>:<code>' is the preferred initialization method. When making the change, be mindful of axis order changes: https://pyproj4.github.io/pyproj/stable/gotchas.html#axis-order-changes-in-proj-6\n",
            "  in_crs_string = _prepare_from_proj_string(in_crs_string)\n",
            "/usr/local/lib/python3.7/dist-packages/ipykernel_launcher.py:18: DeprecationWarning: This function is deprecated. See: https://pyproj4.github.io/pyproj/stable/gotchas.html#upgrading-to-pyproj-2-from-pyproj-1\n",
            "/usr/local/lib/python3.7/dist-packages/ipykernel_launcher.py:19: DeprecationWarning: This function is deprecated. See: https://pyproj4.github.io/pyproj/stable/gotchas.html#upgrading-to-pyproj-2-from-pyproj-1\n"
          ]
        },
        {
          "output_type": "stream",
          "name": "stdout",
          "text": [
            "{   'fire_alert_date': '2017-08-30',\n",
            "    'fire_alert_date_a_few_days_before': '2017-07-31',\n",
            "    'fire_area': 7484.14,\n",
            "    'fire_cont_date': '2017-11-14',\n",
            "    'fire_cont_date_a_few_days_after': '2017-12-14',\n",
            "    'fire_name': 'CAL_database_Sentinel2_7690',\n",
            "    'fire_perimeter': [   -123.15156932289001,\n",
            "                          40.7247411876083,\n",
            "                          -122.97280480345448,\n",
            "                          40.824802511319234]}\n",
            "67 / 108\n",
            "Generating the Sentinel tif: CAL_database_Sentinel2_7690_postFire_RGBIR\n",
            "Polling for task (id: IZQX7GYEV7BB2WPATIG4FIE6).\n",
            "{'state': 'READY', 'description': 'export_task', 'creation_timestamp_ms': 1642078176121, 'update_timestamp_ms': 1642078176121, 'start_timestamp_ms': 0, 'task_type': 'EXPORT_IMAGE', 'id': 'IZQX7GYEV7BB2WPATIG4FIE6', 'name': 'projects/earthengine-legacy/operations/IZQX7GYEV7BB2WPATIG4FIE6'}\n"
          ]
        },
        {
          "output_type": "stream",
          "name": "stderr",
          "text": [
            "\r 63%|██████▎   | 68/108 [1:58:36<35:29, 53.23s/it]/usr/local/lib/python3.7/dist-packages/pyproj/crs/crs.py:131: FutureWarning: '+init=<authority>:<code>' syntax is deprecated. '<authority>:<code>' is the preferred initialization method. When making the change, be mindful of axis order changes: https://pyproj4.github.io/pyproj/stable/gotchas.html#axis-order-changes-in-proj-6\n",
            "  in_crs_string = _prepare_from_proj_string(in_crs_string)\n",
            "/usr/local/lib/python3.7/dist-packages/pyproj/crs/crs.py:131: FutureWarning: '+init=<authority>:<code>' syntax is deprecated. '<authority>:<code>' is the preferred initialization method. When making the change, be mindful of axis order changes: https://pyproj4.github.io/pyproj/stable/gotchas.html#axis-order-changes-in-proj-6\n",
            "  in_crs_string = _prepare_from_proj_string(in_crs_string)\n",
            "/usr/local/lib/python3.7/dist-packages/ipykernel_launcher.py:18: DeprecationWarning: This function is deprecated. See: https://pyproj4.github.io/pyproj/stable/gotchas.html#upgrading-to-pyproj-2-from-pyproj-1\n",
            "/usr/local/lib/python3.7/dist-packages/ipykernel_launcher.py:19: DeprecationWarning: This function is deprecated. See: https://pyproj4.github.io/pyproj/stable/gotchas.html#upgrading-to-pyproj-2-from-pyproj-1\n"
          ]
        },
        {
          "output_type": "stream",
          "name": "stdout",
          "text": [
            "{   'fire_alert_date': '2017-07-08',\n",
            "    'fire_alert_date_a_few_days_before': '2017-06-08',\n",
            "    'fire_area': 7451.24,\n",
            "    'fire_cont_date': '2017-12-21',\n",
            "    'fire_cont_date_a_few_days_after': '2018-01-20',\n",
            "    'fire_name': 'CAL_database_Sentinel2_7750',\n",
            "    'fire_perimeter': [   -120.03615891201916,\n",
            "                          34.49851254509817,\n",
            "                          -119.86721304340139,\n",
            "                          34.57039548022011]}\n",
            "68 / 108\n",
            "Generating the Sentinel tif: CAL_database_Sentinel2_7750_postFire_RGBIR\n",
            "Polling for task (id: IJA24VNOIQGZ4LEQATBNKNLI).\n",
            "{'state': 'READY', 'description': 'export_task', 'creation_timestamp_ms': 1642078207674, 'update_timestamp_ms': 1642078207674, 'start_timestamp_ms': 0, 'task_type': 'EXPORT_IMAGE', 'id': 'IJA24VNOIQGZ4LEQATBNKNLI', 'name': 'projects/earthengine-legacy/operations/IJA24VNOIQGZ4LEQATBNKNLI'}\n",
            "Polling for task (id: IJA24VNOIQGZ4LEQATBNKNLI).\n",
            "{'state': 'READY', 'description': 'export_task', 'creation_timestamp_ms': 1642078207674, 'update_timestamp_ms': 1642078207674, 'start_timestamp_ms': 0, 'task_type': 'EXPORT_IMAGE', 'id': 'IJA24VNOIQGZ4LEQATBNKNLI', 'name': 'projects/earthengine-legacy/operations/IJA24VNOIQGZ4LEQATBNKNLI'}\n"
          ]
        },
        {
          "output_type": "stream",
          "name": "stderr",
          "text": [
            "\r 64%|██████▍   | 69/108 [1:59:37<36:10, 55.66s/it]/usr/local/lib/python3.7/dist-packages/pyproj/crs/crs.py:131: FutureWarning: '+init=<authority>:<code>' syntax is deprecated. '<authority>:<code>' is the preferred initialization method. When making the change, be mindful of axis order changes: https://pyproj4.github.io/pyproj/stable/gotchas.html#axis-order-changes-in-proj-6\n",
            "  in_crs_string = _prepare_from_proj_string(in_crs_string)\n",
            "/usr/local/lib/python3.7/dist-packages/pyproj/crs/crs.py:131: FutureWarning: '+init=<authority>:<code>' syntax is deprecated. '<authority>:<code>' is the preferred initialization method. When making the change, be mindful of axis order changes: https://pyproj4.github.io/pyproj/stable/gotchas.html#axis-order-changes-in-proj-6\n",
            "  in_crs_string = _prepare_from_proj_string(in_crs_string)\n",
            "/usr/local/lib/python3.7/dist-packages/ipykernel_launcher.py:18: DeprecationWarning: This function is deprecated. See: https://pyproj4.github.io/pyproj/stable/gotchas.html#upgrading-to-pyproj-2-from-pyproj-1\n",
            "/usr/local/lib/python3.7/dist-packages/ipykernel_launcher.py:19: DeprecationWarning: This function is deprecated. See: https://pyproj4.github.io/pyproj/stable/gotchas.html#upgrading-to-pyproj-2-from-pyproj-1\n"
          ]
        },
        {
          "output_type": "stream",
          "name": "stdout",
          "text": [
            "{   'fire_alert_date': '2017-10-08',\n",
            "    'fire_alert_date_a_few_days_before': '2017-09-08',\n",
            "    'fire_area': 7025.07,\n",
            "    'fire_cont_date': '2017-11-01',\n",
            "    'fire_cont_date_a_few_days_after': '2017-12-01',\n",
            "    'fire_name': 'CAL_database_Sentinel2_7540',\n",
            "    'fire_perimeter': [   -122.9509225042732,\n",
            "                          38.72112091461105,\n",
            "                          -122.81276106222325,\n",
            "                          38.817536834222594]}\n",
            "69 / 108\n",
            "Generating the Sentinel tif: CAL_database_Sentinel2_7540_postFire_RGBIR\n",
            "Polling for task (id: CPF5VN2MP32AU5X3R223P7EH).\n",
            "{'state': 'READY', 'description': 'export_task', 'creation_timestamp_ms': 1642078268992, 'update_timestamp_ms': 1642078268992, 'start_timestamp_ms': 0, 'task_type': 'EXPORT_IMAGE', 'id': 'CPF5VN2MP32AU5X3R223P7EH', 'name': 'projects/earthengine-legacy/operations/CPF5VN2MP32AU5X3R223P7EH'}\n",
            "Polling for task (id: CPF5VN2MP32AU5X3R223P7EH).\n",
            "{'state': 'READY', 'description': 'export_task', 'creation_timestamp_ms': 1642078268992, 'update_timestamp_ms': 1642078268992, 'start_timestamp_ms': 0, 'task_type': 'EXPORT_IMAGE', 'id': 'CPF5VN2MP32AU5X3R223P7EH', 'name': 'projects/earthengine-legacy/operations/CPF5VN2MP32AU5X3R223P7EH'}\n"
          ]
        },
        {
          "output_type": "stream",
          "name": "stderr",
          "text": [
            "\r 65%|██████▍   | 70/108 [2:00:39<36:18, 57.34s/it]/usr/local/lib/python3.7/dist-packages/pyproj/crs/crs.py:131: FutureWarning: '+init=<authority>:<code>' syntax is deprecated. '<authority>:<code>' is the preferred initialization method. When making the change, be mindful of axis order changes: https://pyproj4.github.io/pyproj/stable/gotchas.html#axis-order-changes-in-proj-6\n",
            "  in_crs_string = _prepare_from_proj_string(in_crs_string)\n",
            "/usr/local/lib/python3.7/dist-packages/pyproj/crs/crs.py:131: FutureWarning: '+init=<authority>:<code>' syntax is deprecated. '<authority>:<code>' is the preferred initialization method. When making the change, be mindful of axis order changes: https://pyproj4.github.io/pyproj/stable/gotchas.html#axis-order-changes-in-proj-6\n",
            "  in_crs_string = _prepare_from_proj_string(in_crs_string)\n",
            "/usr/local/lib/python3.7/dist-packages/ipykernel_launcher.py:18: DeprecationWarning: This function is deprecated. See: https://pyproj4.github.io/pyproj/stable/gotchas.html#upgrading-to-pyproj-2-from-pyproj-1\n",
            "/usr/local/lib/python3.7/dist-packages/ipykernel_launcher.py:19: DeprecationWarning: This function is deprecated. See: https://pyproj4.github.io/pyproj/stable/gotchas.html#upgrading-to-pyproj-2-from-pyproj-1\n"
          ]
        },
        {
          "output_type": "stream",
          "name": "stdout",
          "text": [
            "{   'fire_alert_date': '2020-09-05',\n",
            "    'fire_alert_date_a_few_days_before': '2020-08-06',\n",
            "    'fire_area': 6632.61,\n",
            "    'fire_cont_date': '2020-09-24',\n",
            "    'fire_cont_date_a_few_days_after': '2020-10-24',\n",
            "    'fire_name': 'CAL_database_Sentinel2_272',\n",
            "    'fire_perimeter': [   -116.78168123646975,\n",
            "                          32.69678221429287,\n",
            "                          -116.60078874212405,\n",
            "                          32.77771862165166]}\n",
            "70 / 108\n",
            "Generating the Sentinel tif: CAL_database_Sentinel2_272_postFire_RGBIR\n",
            "Polling for task (id: CMAC3L4T3BXMFXKEB4KWKQ3X).\n",
            "{'state': 'READY', 'description': 'export_task', 'creation_timestamp_ms': 1642078330316, 'update_timestamp_ms': 1642078330316, 'start_timestamp_ms': 0, 'task_type': 'EXPORT_IMAGE', 'id': 'CMAC3L4T3BXMFXKEB4KWKQ3X', 'name': 'projects/earthengine-legacy/operations/CMAC3L4T3BXMFXKEB4KWKQ3X'}\n",
            "Polling for task (id: CMAC3L4T3BXMFXKEB4KWKQ3X).\n",
            "{'state': 'READY', 'description': 'export_task', 'creation_timestamp_ms': 1642078330316, 'update_timestamp_ms': 1642078330316, 'start_timestamp_ms': 0, 'task_type': 'EXPORT_IMAGE', 'id': 'CMAC3L4T3BXMFXKEB4KWKQ3X', 'name': 'projects/earthengine-legacy/operations/CMAC3L4T3BXMFXKEB4KWKQ3X'}\n"
          ]
        },
        {
          "output_type": "stream",
          "name": "stderr",
          "text": [
            "\r 66%|██████▌   | 71/108 [2:01:40<36:06, 58.55s/it]/usr/local/lib/python3.7/dist-packages/pyproj/crs/crs.py:131: FutureWarning: '+init=<authority>:<code>' syntax is deprecated. '<authority>:<code>' is the preferred initialization method. When making the change, be mindful of axis order changes: https://pyproj4.github.io/pyproj/stable/gotchas.html#axis-order-changes-in-proj-6\n",
            "  in_crs_string = _prepare_from_proj_string(in_crs_string)\n",
            "/usr/local/lib/python3.7/dist-packages/pyproj/crs/crs.py:131: FutureWarning: '+init=<authority>:<code>' syntax is deprecated. '<authority>:<code>' is the preferred initialization method. When making the change, be mindful of axis order changes: https://pyproj4.github.io/pyproj/stable/gotchas.html#axis-order-changes-in-proj-6\n",
            "  in_crs_string = _prepare_from_proj_string(in_crs_string)\n",
            "/usr/local/lib/python3.7/dist-packages/ipykernel_launcher.py:18: DeprecationWarning: This function is deprecated. See: https://pyproj4.github.io/pyproj/stable/gotchas.html#upgrading-to-pyproj-2-from-pyproj-1\n",
            "/usr/local/lib/python3.7/dist-packages/ipykernel_launcher.py:19: DeprecationWarning: This function is deprecated. See: https://pyproj4.github.io/pyproj/stable/gotchas.html#upgrading-to-pyproj-2-from-pyproj-1\n"
          ]
        },
        {
          "output_type": "stream",
          "name": "stdout",
          "text": [
            "{   'fire_alert_date': '2017-10-08',\n",
            "    'fire_alert_date_a_few_days_before': '2017-09-08',\n",
            "    'fire_area': 6531.95,\n",
            "    'fire_cont_date': '2017-10-26',\n",
            "    'fire_cont_date_a_few_days_after': '2017-11-25',\n",
            "    'fire_name': 'CAL_database_Sentinel2_7867',\n",
            "    'fire_perimeter': [   -121.4268511766066,\n",
            "                          39.294710497817654,\n",
            "                          -121.32279163365743,\n",
            "                          39.423773464856794]}\n",
            "71 / 108\n",
            "Generating the Sentinel tif: CAL_database_Sentinel2_7867_postFire_RGBIR\n",
            "Polling for task (id: 6CL3LJXJI2A2JMJJHKSOPPZU).\n",
            "{'state': 'READY', 'description': 'export_task', 'creation_timestamp_ms': 1642078391600, 'update_timestamp_ms': 1642078391600, 'start_timestamp_ms': 0, 'task_type': 'EXPORT_IMAGE', 'id': '6CL3LJXJI2A2JMJJHKSOPPZU', 'name': 'projects/earthengine-legacy/operations/6CL3LJXJI2A2JMJJHKSOPPZU'}\n",
            "Polling for task (id: 6CL3LJXJI2A2JMJJHKSOPPZU).\n",
            "{'state': 'READY', 'description': 'export_task', 'creation_timestamp_ms': 1642078391600, 'update_timestamp_ms': 1642078391600, 'start_timestamp_ms': 0, 'task_type': 'EXPORT_IMAGE', 'id': '6CL3LJXJI2A2JMJJHKSOPPZU', 'name': 'projects/earthengine-legacy/operations/6CL3LJXJI2A2JMJJHKSOPPZU'}\n"
          ]
        },
        {
          "output_type": "stream",
          "name": "stderr",
          "text": [
            "\r 67%|██████▋   | 72/108 [2:02:41<35:37, 59.38s/it]/usr/local/lib/python3.7/dist-packages/pyproj/crs/crs.py:131: FutureWarning: '+init=<authority>:<code>' syntax is deprecated. '<authority>:<code>' is the preferred initialization method. When making the change, be mindful of axis order changes: https://pyproj4.github.io/pyproj/stable/gotchas.html#axis-order-changes-in-proj-6\n",
            "  in_crs_string = _prepare_from_proj_string(in_crs_string)\n",
            "/usr/local/lib/python3.7/dist-packages/pyproj/crs/crs.py:131: FutureWarning: '+init=<authority>:<code>' syntax is deprecated. '<authority>:<code>' is the preferred initialization method. When making the change, be mindful of axis order changes: https://pyproj4.github.io/pyproj/stable/gotchas.html#axis-order-changes-in-proj-6\n",
            "  in_crs_string = _prepare_from_proj_string(in_crs_string)\n",
            "/usr/local/lib/python3.7/dist-packages/ipykernel_launcher.py:18: DeprecationWarning: This function is deprecated. See: https://pyproj4.github.io/pyproj/stable/gotchas.html#upgrading-to-pyproj-2-from-pyproj-1\n",
            "/usr/local/lib/python3.7/dist-packages/ipykernel_launcher.py:19: DeprecationWarning: This function is deprecated. See: https://pyproj4.github.io/pyproj/stable/gotchas.html#upgrading-to-pyproj-2-from-pyproj-1\n"
          ]
        },
        {
          "output_type": "stream",
          "name": "stdout",
          "text": [
            "{   'fire_alert_date': '2017-06-24',\n",
            "    'fire_alert_date_a_few_days_before': '2017-05-25',\n",
            "    'fire_area': 6407.47,\n",
            "    'fire_cont_date': '2017-11-15',\n",
            "    'fire_cont_date_a_few_days_after': '2017-12-15',\n",
            "    'fire_name': 'CAL_database_Sentinel2_7715',\n",
            "    'fire_perimeter': [   -118.44013403464108,\n",
            "                          36.04114621336747,\n",
            "                          -118.28739712980247,\n",
            "                          36.15029286918365]}\n",
            "72 / 108\n",
            "Generating the Sentinel tif: CAL_database_Sentinel2_7715_postFire_RGBIR\n",
            "Polling for task (id: L4ZO6EOMHFHYRTVWZ2UHKMKL).\n",
            "{'state': 'READY', 'description': 'export_task', 'creation_timestamp_ms': 1642078453064, 'update_timestamp_ms': 1642078453064, 'start_timestamp_ms': 0, 'task_type': 'EXPORT_IMAGE', 'id': 'L4ZO6EOMHFHYRTVWZ2UHKMKL', 'name': 'projects/earthengine-legacy/operations/L4ZO6EOMHFHYRTVWZ2UHKMKL'}\n",
            "Polling for task (id: L4ZO6EOMHFHYRTVWZ2UHKMKL).\n",
            "{'state': 'READY', 'description': 'export_task', 'creation_timestamp_ms': 1642078453064, 'update_timestamp_ms': 1642078453064, 'start_timestamp_ms': 0, 'task_type': 'EXPORT_IMAGE', 'id': 'L4ZO6EOMHFHYRTVWZ2UHKMKL', 'name': 'projects/earthengine-legacy/operations/L4ZO6EOMHFHYRTVWZ2UHKMKL'}\n"
          ]
        },
        {
          "output_type": "stream",
          "name": "stderr",
          "text": [
            "\r 68%|██████▊   | 73/108 [2:03:43<35:00, 60.00s/it]/usr/local/lib/python3.7/dist-packages/pyproj/crs/crs.py:131: FutureWarning: '+init=<authority>:<code>' syntax is deprecated. '<authority>:<code>' is the preferred initialization method. When making the change, be mindful of axis order changes: https://pyproj4.github.io/pyproj/stable/gotchas.html#axis-order-changes-in-proj-6\n",
            "  in_crs_string = _prepare_from_proj_string(in_crs_string)\n",
            "/usr/local/lib/python3.7/dist-packages/pyproj/crs/crs.py:131: FutureWarning: '+init=<authority>:<code>' syntax is deprecated. '<authority>:<code>' is the preferred initialization method. When making the change, be mindful of axis order changes: https://pyproj4.github.io/pyproj/stable/gotchas.html#axis-order-changes-in-proj-6\n",
            "  in_crs_string = _prepare_from_proj_string(in_crs_string)\n",
            "/usr/local/lib/python3.7/dist-packages/ipykernel_launcher.py:18: DeprecationWarning: This function is deprecated. See: https://pyproj4.github.io/pyproj/stable/gotchas.html#upgrading-to-pyproj-2-from-pyproj-1\n",
            "/usr/local/lib/python3.7/dist-packages/ipykernel_launcher.py:19: DeprecationWarning: This function is deprecated. See: https://pyproj4.github.io/pyproj/stable/gotchas.html#upgrading-to-pyproj-2-from-pyproj-1\n"
          ]
        },
        {
          "output_type": "stream",
          "name": "stdout",
          "text": [
            "{   'fire_alert_date': '2017-12-05',\n",
            "    'fire_alert_date_a_few_days_before': '2017-11-05',\n",
            "    'fire_area': 6320.85,\n",
            "    'fire_cont_date': '2017-12-05',\n",
            "    'fire_cont_date_a_few_days_after': '2018-01-04',\n",
            "    'fire_name': 'CAL_database_Sentinel2_7583',\n",
            "    'fire_perimeter': [   -118.41772740600135,\n",
            "                          34.24879534852683,\n",
            "                          -118.28917104184237,\n",
            "                          34.335932706249565]}\n",
            "73 / 108\n",
            "Generating the Sentinel tif: CAL_database_Sentinel2_7583_postFire_RGBIR\n",
            "Polling for task (id: DU2JDMGESRZ6X4CVWPTDSQGF).\n",
            "{'state': 'READY', 'description': 'export_task', 'creation_timestamp_ms': 1642078514408, 'update_timestamp_ms': 1642078514408, 'start_timestamp_ms': 0, 'task_type': 'EXPORT_IMAGE', 'id': 'DU2JDMGESRZ6X4CVWPTDSQGF', 'name': 'projects/earthengine-legacy/operations/DU2JDMGESRZ6X4CVWPTDSQGF'}\n",
            "Polling for task (id: DU2JDMGESRZ6X4CVWPTDSQGF).\n",
            "{'state': 'READY', 'description': 'export_task', 'creation_timestamp_ms': 1642078514408, 'update_timestamp_ms': 1642078514408, 'start_timestamp_ms': 0, 'task_type': 'EXPORT_IMAGE', 'id': 'DU2JDMGESRZ6X4CVWPTDSQGF', 'name': 'projects/earthengine-legacy/operations/DU2JDMGESRZ6X4CVWPTDSQGF'}\n"
          ]
        },
        {
          "output_type": "stream",
          "name": "stderr",
          "text": [
            "\r 69%|██████▊   | 74/108 [2:04:44<34:13, 60.39s/it]/usr/local/lib/python3.7/dist-packages/pyproj/crs/crs.py:131: FutureWarning: '+init=<authority>:<code>' syntax is deprecated. '<authority>:<code>' is the preferred initialization method. When making the change, be mindful of axis order changes: https://pyproj4.github.io/pyproj/stable/gotchas.html#axis-order-changes-in-proj-6\n",
            "  in_crs_string = _prepare_from_proj_string(in_crs_string)\n",
            "/usr/local/lib/python3.7/dist-packages/pyproj/crs/crs.py:131: FutureWarning: '+init=<authority>:<code>' syntax is deprecated. '<authority>:<code>' is the preferred initialization method. When making the change, be mindful of axis order changes: https://pyproj4.github.io/pyproj/stable/gotchas.html#axis-order-changes-in-proj-6\n",
            "  in_crs_string = _prepare_from_proj_string(in_crs_string)\n",
            "/usr/local/lib/python3.7/dist-packages/ipykernel_launcher.py:18: DeprecationWarning: This function is deprecated. See: https://pyproj4.github.io/pyproj/stable/gotchas.html#upgrading-to-pyproj-2-from-pyproj-1\n",
            "/usr/local/lib/python3.7/dist-packages/ipykernel_launcher.py:19: DeprecationWarning: This function is deprecated. See: https://pyproj4.github.io/pyproj/stable/gotchas.html#upgrading-to-pyproj-2-from-pyproj-1\n"
          ]
        },
        {
          "output_type": "stream",
          "name": "stdout",
          "text": [
            "{   'fire_alert_date': '2018-06-23',\n",
            "    'fire_alert_date_a_few_days_before': '2018-05-24',\n",
            "    'fire_area': 6149.98,\n",
            "    'fire_cont_date': '2018-07-05',\n",
            "    'fire_cont_date_a_few_days_after': '2018-08-04',\n",
            "    'fire_name': 'CAL_database_Sentinel2_8307',\n",
            "    'fire_perimeter': [   -122.61977060186915,\n",
            "                          39.00804212344722,\n",
            "                          -122.48153045883357,\n",
            "                          39.1389219621069]}\n",
            "74 / 108\n",
            "Generating the Sentinel tif: CAL_database_Sentinel2_8307_postFire_RGBIR\n",
            "Polling for task (id: MZ3HV74PHNMVRY5INBXRMMZZ).\n",
            "{'state': 'READY', 'description': 'export_task', 'creation_timestamp_ms': 1642078575687, 'update_timestamp_ms': 1642078575687, 'start_timestamp_ms': 0, 'task_type': 'EXPORT_IMAGE', 'id': 'MZ3HV74PHNMVRY5INBXRMMZZ', 'name': 'projects/earthengine-legacy/operations/MZ3HV74PHNMVRY5INBXRMMZZ'}\n"
          ]
        },
        {
          "output_type": "stream",
          "name": "stderr",
          "text": [
            "\r 69%|██████▉   | 75/108 [2:05:15<28:21, 51.56s/it]/usr/local/lib/python3.7/dist-packages/pyproj/crs/crs.py:131: FutureWarning: '+init=<authority>:<code>' syntax is deprecated. '<authority>:<code>' is the preferred initialization method. When making the change, be mindful of axis order changes: https://pyproj4.github.io/pyproj/stable/gotchas.html#axis-order-changes-in-proj-6\n",
            "  in_crs_string = _prepare_from_proj_string(in_crs_string)\n",
            "/usr/local/lib/python3.7/dist-packages/pyproj/crs/crs.py:131: FutureWarning: '+init=<authority>:<code>' syntax is deprecated. '<authority>:<code>' is the preferred initialization method. When making the change, be mindful of axis order changes: https://pyproj4.github.io/pyproj/stable/gotchas.html#axis-order-changes-in-proj-6\n",
            "  in_crs_string = _prepare_from_proj_string(in_crs_string)\n",
            "/usr/local/lib/python3.7/dist-packages/ipykernel_launcher.py:18: DeprecationWarning: This function is deprecated. See: https://pyproj4.github.io/pyproj/stable/gotchas.html#upgrading-to-pyproj-2-from-pyproj-1\n",
            "/usr/local/lib/python3.7/dist-packages/ipykernel_launcher.py:19: DeprecationWarning: This function is deprecated. See: https://pyproj4.github.io/pyproj/stable/gotchas.html#upgrading-to-pyproj-2-from-pyproj-1\n"
          ]
        },
        {
          "output_type": "stream",
          "name": "stdout",
          "text": [
            "{   'fire_alert_date': '2019-07-28',\n",
            "    'fire_alert_date_a_few_days_before': '2019-06-28',\n",
            "    'fire_area': 5740.33,\n",
            "    'fire_cont_date': '2019-09-17',\n",
            "    'fire_cont_date_a_few_days_after': '2019-10-17',\n",
            "    'fire_name': 'CAL_database_Sentinel2_8578',\n",
            "    'fire_perimeter': [   -121.30505580684726,\n",
            "                          41.732789209692065,\n",
            "                          -121.16240384573395,\n",
            "                          41.865677315749586]}\n",
            "75 / 108\n",
            "Generating the Sentinel tif: CAL_database_Sentinel2_8578_postFire_RGBIR\n",
            "Polling for task (id: Y2WGQELRXJLFWRT42IO6W3HR).\n",
            "{'state': 'READY', 'description': 'export_task', 'creation_timestamp_ms': 1642078606676, 'update_timestamp_ms': 1642078606676, 'start_timestamp_ms': 0, 'task_type': 'EXPORT_IMAGE', 'id': 'Y2WGQELRXJLFWRT42IO6W3HR', 'name': 'projects/earthengine-legacy/operations/Y2WGQELRXJLFWRT42IO6W3HR'}\n",
            "Polling for task (id: Y2WGQELRXJLFWRT42IO6W3HR).\n",
            "{'state': 'RUNNING', 'description': 'export_task', 'creation_timestamp_ms': 1642078606676, 'update_timestamp_ms': 1642078624920, 'start_timestamp_ms': 1642078622051, 'task_type': 'EXPORT_IMAGE', 'attempt': 1, 'id': 'Y2WGQELRXJLFWRT42IO6W3HR', 'name': 'projects/earthengine-legacy/operations/Y2WGQELRXJLFWRT42IO6W3HR'}\n"
          ]
        },
        {
          "output_type": "stream",
          "name": "stderr",
          "text": [
            "\r 70%|███████   | 76/108 [2:06:16<29:03, 54.49s/it]/usr/local/lib/python3.7/dist-packages/pyproj/crs/crs.py:131: FutureWarning: '+init=<authority>:<code>' syntax is deprecated. '<authority>:<code>' is the preferred initialization method. When making the change, be mindful of axis order changes: https://pyproj4.github.io/pyproj/stable/gotchas.html#axis-order-changes-in-proj-6\n",
            "  in_crs_string = _prepare_from_proj_string(in_crs_string)\n",
            "/usr/local/lib/python3.7/dist-packages/pyproj/crs/crs.py:131: FutureWarning: '+init=<authority>:<code>' syntax is deprecated. '<authority>:<code>' is the preferred initialization method. When making the change, be mindful of axis order changes: https://pyproj4.github.io/pyproj/stable/gotchas.html#axis-order-changes-in-proj-6\n",
            "  in_crs_string = _prepare_from_proj_string(in_crs_string)\n",
            "/usr/local/lib/python3.7/dist-packages/ipykernel_launcher.py:18: DeprecationWarning: This function is deprecated. See: https://pyproj4.github.io/pyproj/stable/gotchas.html#upgrading-to-pyproj-2-from-pyproj-1\n",
            "/usr/local/lib/python3.7/dist-packages/ipykernel_launcher.py:19: DeprecationWarning: This function is deprecated. See: https://pyproj4.github.io/pyproj/stable/gotchas.html#upgrading-to-pyproj-2-from-pyproj-1\n"
          ]
        },
        {
          "output_type": "stream",
          "name": "stdout",
          "text": [
            "{   'fire_alert_date': '2020-10-26',\n",
            "    'fire_alert_date_a_few_days_before': '2020-09-26',\n",
            "    'fire_area': 5541.98,\n",
            "    'fire_cont_date': '2020-11-02',\n",
            "    'fire_cont_date_a_few_days_after': '2020-12-02',\n",
            "    'fire_name': 'CAL_database_Sentinel2_41',\n",
            "    'fire_perimeter': [   -117.76321078680883,\n",
            "                          33.87571308920627,\n",
            "                          -117.64313115888476,\n",
            "                          33.95391477371847]}\n",
            "76 / 108\n",
            "Generating the Sentinel tif: CAL_database_Sentinel2_41_postFire_RGBIR\n",
            "Polling for task (id: PE6VR35UT3ZNVBWI6SXULMKS).\n",
            "{'state': 'READY', 'description': 'export_task', 'creation_timestamp_ms': 1642078668029, 'update_timestamp_ms': 1642078668029, 'start_timestamp_ms': 0, 'task_type': 'EXPORT_IMAGE', 'id': 'PE6VR35UT3ZNVBWI6SXULMKS', 'name': 'projects/earthengine-legacy/operations/PE6VR35UT3ZNVBWI6SXULMKS'}\n",
            "Polling for task (id: PE6VR35UT3ZNVBWI6SXULMKS).\n",
            "{'state': 'RUNNING', 'description': 'export_task', 'creation_timestamp_ms': 1642078668029, 'update_timestamp_ms': 1642078698520, 'start_timestamp_ms': 1642078698377, 'task_type': 'EXPORT_IMAGE', 'attempt': 1, 'id': 'PE6VR35UT3ZNVBWI6SXULMKS', 'name': 'projects/earthengine-legacy/operations/PE6VR35UT3ZNVBWI6SXULMKS'}\n",
            "Polling for task (id: PE6VR35UT3ZNVBWI6SXULMKS).\n",
            "{'state': 'RUNNING', 'description': 'export_task', 'creation_timestamp_ms': 1642078668029, 'update_timestamp_ms': 1642078701078, 'start_timestamp_ms': 1642078698377, 'task_type': 'EXPORT_IMAGE', 'attempt': 1, 'id': 'PE6VR35UT3ZNVBWI6SXULMKS', 'name': 'projects/earthengine-legacy/operations/PE6VR35UT3ZNVBWI6SXULMKS'}\n"
          ]
        },
        {
          "output_type": "stream",
          "name": "stderr",
          "text": [
            "\r 71%|███████▏  | 77/108 [2:07:48<33:55, 65.65s/it]/usr/local/lib/python3.7/dist-packages/pyproj/crs/crs.py:131: FutureWarning: '+init=<authority>:<code>' syntax is deprecated. '<authority>:<code>' is the preferred initialization method. When making the change, be mindful of axis order changes: https://pyproj4.github.io/pyproj/stable/gotchas.html#axis-order-changes-in-proj-6\n",
            "  in_crs_string = _prepare_from_proj_string(in_crs_string)\n",
            "/usr/local/lib/python3.7/dist-packages/pyproj/crs/crs.py:131: FutureWarning: '+init=<authority>:<code>' syntax is deprecated. '<authority>:<code>' is the preferred initialization method. When making the change, be mindful of axis order changes: https://pyproj4.github.io/pyproj/stable/gotchas.html#axis-order-changes-in-proj-6\n",
            "  in_crs_string = _prepare_from_proj_string(in_crs_string)\n",
            "/usr/local/lib/python3.7/dist-packages/ipykernel_launcher.py:18: DeprecationWarning: This function is deprecated. See: https://pyproj4.github.io/pyproj/stable/gotchas.html#upgrading-to-pyproj-2-from-pyproj-1\n",
            "/usr/local/lib/python3.7/dist-packages/ipykernel_launcher.py:19: DeprecationWarning: This function is deprecated. See: https://pyproj4.github.io/pyproj/stable/gotchas.html#upgrading-to-pyproj-2-from-pyproj-1\n"
          ]
        },
        {
          "output_type": "stream",
          "name": "stdout",
          "text": [
            "{   'fire_alert_date': '2018-06-19',\n",
            "    'fire_alert_date_a_few_days_before': '2018-05-20',\n",
            "    'fire_area': 5447.62,\n",
            "    'fire_cont_date': '2018-11-28',\n",
            "    'fire_cont_date_a_few_days_after': '2018-12-28',\n",
            "    'fire_name': 'CAL_database_Sentinel2_8262',\n",
            "    'fire_perimeter': [   -119.22536152849848,\n",
            "                          37.53771862075447,\n",
            "                          -119.09907307373719,\n",
            "                          37.63194816667784]}\n",
            "77 / 108\n",
            "Generating the Sentinel tif: CAL_database_Sentinel2_8262_postFire_RGBIR\n",
            "Polling for task (id: EESAY7MM23ENHWCAYTJVXKGV).\n",
            "{'state': 'READY', 'description': 'export_task', 'creation_timestamp_ms': 1642078759674, 'update_timestamp_ms': 1642078759674, 'start_timestamp_ms': 0, 'task_type': 'EXPORT_IMAGE', 'id': 'EESAY7MM23ENHWCAYTJVXKGV', 'name': 'projects/earthengine-legacy/operations/EESAY7MM23ENHWCAYTJVXKGV'}\n",
            "Polling for task (id: EESAY7MM23ENHWCAYTJVXKGV).\n",
            "{'state': 'READY', 'description': 'export_task', 'creation_timestamp_ms': 1642078759674, 'update_timestamp_ms': 1642078759674, 'start_timestamp_ms': 0, 'task_type': 'EXPORT_IMAGE', 'id': 'EESAY7MM23ENHWCAYTJVXKGV', 'name': 'projects/earthengine-legacy/operations/EESAY7MM23ENHWCAYTJVXKGV'}\n"
          ]
        },
        {
          "output_type": "stream",
          "name": "stderr",
          "text": [
            "\r 72%|███████▏  | 78/108 [2:08:49<32:10, 64.36s/it]/usr/local/lib/python3.7/dist-packages/pyproj/crs/crs.py:131: FutureWarning: '+init=<authority>:<code>' syntax is deprecated. '<authority>:<code>' is the preferred initialization method. When making the change, be mindful of axis order changes: https://pyproj4.github.io/pyproj/stable/gotchas.html#axis-order-changes-in-proj-6\n",
            "  in_crs_string = _prepare_from_proj_string(in_crs_string)\n",
            "/usr/local/lib/python3.7/dist-packages/pyproj/crs/crs.py:131: FutureWarning: '+init=<authority>:<code>' syntax is deprecated. '<authority>:<code>' is the preferred initialization method. When making the change, be mindful of axis order changes: https://pyproj4.github.io/pyproj/stable/gotchas.html#axis-order-changes-in-proj-6\n",
            "  in_crs_string = _prepare_from_proj_string(in_crs_string)\n",
            "/usr/local/lib/python3.7/dist-packages/ipykernel_launcher.py:18: DeprecationWarning: This function is deprecated. See: https://pyproj4.github.io/pyproj/stable/gotchas.html#upgrading-to-pyproj-2-from-pyproj-1\n",
            "/usr/local/lib/python3.7/dist-packages/ipykernel_launcher.py:19: DeprecationWarning: This function is deprecated. See: https://pyproj4.github.io/pyproj/stable/gotchas.html#upgrading-to-pyproj-2-from-pyproj-1\n"
          ]
        },
        {
          "output_type": "stream",
          "name": "stdout",
          "text": [
            "{   'fire_alert_date': '2017-09-12',\n",
            "    'fire_alert_date_a_few_days_before': '2017-08-13',\n",
            "    'fire_area': 5405.5,\n",
            "    'fire_cont_date': '2017-10-30',\n",
            "    'fire_cont_date_a_few_days_after': '2017-11-29',\n",
            "    'fire_name': 'CAL_database_Sentinel2_7733',\n",
            "    'fire_perimeter': [   -123.08210054671613,\n",
            "                          40.17116614434298,\n",
            "                          -122.96947696874406,\n",
            "                          40.25403655500386]}\n",
            "78 / 108\n",
            "Generating the Sentinel tif: CAL_database_Sentinel2_7733_postFire_RGBIR\n",
            "Polling for task (id: R772HZA2JVU6K2TM5KWPDROU).\n",
            "{'state': 'READY', 'description': 'export_task', 'creation_timestamp_ms': 1642078821011, 'update_timestamp_ms': 1642078821011, 'start_timestamp_ms': 0, 'task_type': 'EXPORT_IMAGE', 'id': 'R772HZA2JVU6K2TM5KWPDROU', 'name': 'projects/earthengine-legacy/operations/R772HZA2JVU6K2TM5KWPDROU'}\n",
            "Polling for task (id: R772HZA2JVU6K2TM5KWPDROU).\n",
            "{'state': 'READY', 'description': 'export_task', 'creation_timestamp_ms': 1642078821011, 'update_timestamp_ms': 1642078821011, 'start_timestamp_ms': 0, 'task_type': 'EXPORT_IMAGE', 'id': 'R772HZA2JVU6K2TM5KWPDROU', 'name': 'projects/earthengine-legacy/operations/R772HZA2JVU6K2TM5KWPDROU'}\n"
          ]
        },
        {
          "output_type": "stream",
          "name": "stderr",
          "text": [
            "\r 73%|███████▎  | 79/108 [2:09:51<30:39, 63.45s/it]/usr/local/lib/python3.7/dist-packages/pyproj/crs/crs.py:131: FutureWarning: '+init=<authority>:<code>' syntax is deprecated. '<authority>:<code>' is the preferred initialization method. When making the change, be mindful of axis order changes: https://pyproj4.github.io/pyproj/stable/gotchas.html#axis-order-changes-in-proj-6\n",
            "  in_crs_string = _prepare_from_proj_string(in_crs_string)\n",
            "/usr/local/lib/python3.7/dist-packages/pyproj/crs/crs.py:131: FutureWarning: '+init=<authority>:<code>' syntax is deprecated. '<authority>:<code>' is the preferred initialization method. When making the change, be mindful of axis order changes: https://pyproj4.github.io/pyproj/stable/gotchas.html#axis-order-changes-in-proj-6\n",
            "  in_crs_string = _prepare_from_proj_string(in_crs_string)\n",
            "/usr/local/lib/python3.7/dist-packages/ipykernel_launcher.py:18: DeprecationWarning: This function is deprecated. See: https://pyproj4.github.io/pyproj/stable/gotchas.html#upgrading-to-pyproj-2-from-pyproj-1\n",
            "/usr/local/lib/python3.7/dist-packages/ipykernel_launcher.py:19: DeprecationWarning: This function is deprecated. See: https://pyproj4.github.io/pyproj/stable/gotchas.html#upgrading-to-pyproj-2-from-pyproj-1\n"
          ]
        },
        {
          "output_type": "stream",
          "name": "stdout",
          "text": [
            "{   'fire_alert_date': '2020-10-26',\n",
            "    'fire_alert_date_a_few_days_before': '2020-09-26',\n",
            "    'fire_area': 5046.11,\n",
            "    'fire_cont_date': '2020-11-02',\n",
            "    'fire_cont_date_a_few_days_after': '2020-12-02',\n",
            "    'fire_name': 'CAL_database_Sentinel2_40',\n",
            "    'fire_perimeter': [   -117.76122847449018,\n",
            "                          33.667644460903325,\n",
            "                          -117.64390823679649,\n",
            "                          33.76077139287881]}\n",
            "79 / 108\n",
            "Generating the Sentinel tif: CAL_database_Sentinel2_40_postFire_RGBIR\n",
            "Polling for task (id: 5GRD4TNILFBRSISGNVDI62HC).\n",
            "{'state': 'READY', 'description': 'export_task', 'creation_timestamp_ms': 1642078882334, 'update_timestamp_ms': 1642078882334, 'start_timestamp_ms': 0, 'task_type': 'EXPORT_IMAGE', 'id': '5GRD4TNILFBRSISGNVDI62HC', 'name': 'projects/earthengine-legacy/operations/5GRD4TNILFBRSISGNVDI62HC'}\n",
            "Polling for task (id: 5GRD4TNILFBRSISGNVDI62HC).\n",
            "{'state': 'RUNNING', 'description': 'export_task', 'creation_timestamp_ms': 1642078882334, 'update_timestamp_ms': 1642078912208, 'start_timestamp_ms': 1642078909443, 'task_type': 'EXPORT_IMAGE', 'attempt': 1, 'id': '5GRD4TNILFBRSISGNVDI62HC', 'name': 'projects/earthengine-legacy/operations/5GRD4TNILFBRSISGNVDI62HC'}\n"
          ]
        },
        {
          "output_type": "stream",
          "name": "stderr",
          "text": [
            "\r 74%|███████▍  | 80/108 [2:10:52<29:18, 62.80s/it]/usr/local/lib/python3.7/dist-packages/pyproj/crs/crs.py:131: FutureWarning: '+init=<authority>:<code>' syntax is deprecated. '<authority>:<code>' is the preferred initialization method. When making the change, be mindful of axis order changes: https://pyproj4.github.io/pyproj/stable/gotchas.html#axis-order-changes-in-proj-6\n",
            "  in_crs_string = _prepare_from_proj_string(in_crs_string)\n",
            "/usr/local/lib/python3.7/dist-packages/pyproj/crs/crs.py:131: FutureWarning: '+init=<authority>:<code>' syntax is deprecated. '<authority>:<code>' is the preferred initialization method. When making the change, be mindful of axis order changes: https://pyproj4.github.io/pyproj/stable/gotchas.html#axis-order-changes-in-proj-6\n",
            "  in_crs_string = _prepare_from_proj_string(in_crs_string)\n",
            "/usr/local/lib/python3.7/dist-packages/ipykernel_launcher.py:18: DeprecationWarning: This function is deprecated. See: https://pyproj4.github.io/pyproj/stable/gotchas.html#upgrading-to-pyproj-2-from-pyproj-1\n",
            "/usr/local/lib/python3.7/dist-packages/ipykernel_launcher.py:19: DeprecationWarning: This function is deprecated. See: https://pyproj4.github.io/pyproj/stable/gotchas.html#upgrading-to-pyproj-2-from-pyproj-1\n"
          ]
        },
        {
          "output_type": "stream",
          "name": "stdout",
          "text": [
            "{   'fire_alert_date': '2017-08-29',\n",
            "    'fire_alert_date_a_few_days_before': '2017-07-30',\n",
            "    'fire_area': 5006.43,\n",
            "    'fire_cont_date': '2017-11-18',\n",
            "    'fire_cont_date_a_few_days_after': '2017-12-18',\n",
            "    'fire_name': 'CAL_database_Sentinel2_7728',\n",
            "    'fire_perimeter': [   -119.67283375173717,\n",
            "                          37.39630098644626,\n",
            "                          -119.55360938786184,\n",
            "                          37.489475274315275]}\n",
            "80 / 108\n",
            "Generating the Sentinel tif: CAL_database_Sentinel2_7728_postFire_RGBIR\n",
            "Polling for task (id: C3G3COXT4WHX5IM53HJIVHJL).\n",
            "{'state': 'READY', 'description': 'export_task', 'creation_timestamp_ms': 1642078943632, 'update_timestamp_ms': 1642078943632, 'start_timestamp_ms': 0, 'task_type': 'EXPORT_IMAGE', 'id': 'C3G3COXT4WHX5IM53HJIVHJL', 'name': 'projects/earthengine-legacy/operations/C3G3COXT4WHX5IM53HJIVHJL'}\n",
            "Polling for task (id: C3G3COXT4WHX5IM53HJIVHJL).\n",
            "{'state': 'READY', 'description': 'export_task', 'creation_timestamp_ms': 1642078943632, 'update_timestamp_ms': 1642078943632, 'start_timestamp_ms': 0, 'task_type': 'EXPORT_IMAGE', 'id': 'C3G3COXT4WHX5IM53HJIVHJL', 'name': 'projects/earthengine-legacy/operations/C3G3COXT4WHX5IM53HJIVHJL'}\n"
          ]
        },
        {
          "output_type": "stream",
          "name": "stderr",
          "text": [
            "\r 75%|███████▌  | 81/108 [2:11:53<28:03, 62.35s/it]/usr/local/lib/python3.7/dist-packages/pyproj/crs/crs.py:131: FutureWarning: '+init=<authority>:<code>' syntax is deprecated. '<authority>:<code>' is the preferred initialization method. When making the change, be mindful of axis order changes: https://pyproj4.github.io/pyproj/stable/gotchas.html#axis-order-changes-in-proj-6\n",
            "  in_crs_string = _prepare_from_proj_string(in_crs_string)\n",
            "/usr/local/lib/python3.7/dist-packages/pyproj/crs/crs.py:131: FutureWarning: '+init=<authority>:<code>' syntax is deprecated. '<authority>:<code>' is the preferred initialization method. When making the change, be mindful of axis order changes: https://pyproj4.github.io/pyproj/stable/gotchas.html#axis-order-changes-in-proj-6\n",
            "  in_crs_string = _prepare_from_proj_string(in_crs_string)\n",
            "/usr/local/lib/python3.7/dist-packages/ipykernel_launcher.py:18: DeprecationWarning: This function is deprecated. See: https://pyproj4.github.io/pyproj/stable/gotchas.html#upgrading-to-pyproj-2-from-pyproj-1\n",
            "/usr/local/lib/python3.7/dist-packages/ipykernel_launcher.py:19: DeprecationWarning: This function is deprecated. See: https://pyproj4.github.io/pyproj/stable/gotchas.html#upgrading-to-pyproj-2-from-pyproj-1\n"
          ]
        },
        {
          "output_type": "stream",
          "name": "stdout",
          "text": [
            "{   'fire_alert_date': '2018-06-29',\n",
            "    'fire_alert_date_a_few_days_before': '2018-05-30',\n",
            "    'fire_area': 4758.95,\n",
            "    'fire_cont_date': '2018-08-09',\n",
            "    'fire_cont_date_a_few_days_after': '2018-09-08',\n",
            "    'fire_name': 'CAL_database_Sentinel2_8124',\n",
            "    'fire_perimeter': [   -120.94279088370973,\n",
            "                          37.94952986119185,\n",
            "                          -120.75019325592358,\n",
            "                          38.050557932380045]}\n",
            "81 / 108\n",
            "Generating the Sentinel tif: CAL_database_Sentinel2_8124_postFire_RGBIR\n",
            "Polling for task (id: TFCPN2XTUMFA6ENOFK7RQYSW).\n",
            "{'state': 'READY', 'description': 'export_task', 'creation_timestamp_ms': 1642079004911, 'update_timestamp_ms': 1642079004911, 'start_timestamp_ms': 0, 'task_type': 'EXPORT_IMAGE', 'id': 'TFCPN2XTUMFA6ENOFK7RQYSW', 'name': 'projects/earthengine-legacy/operations/TFCPN2XTUMFA6ENOFK7RQYSW'}\n"
          ]
        },
        {
          "output_type": "stream",
          "name": "stderr",
          "text": [
            "\r 76%|███████▌  | 82/108 [2:12:24<22:56, 52.93s/it]/usr/local/lib/python3.7/dist-packages/pyproj/crs/crs.py:131: FutureWarning: '+init=<authority>:<code>' syntax is deprecated. '<authority>:<code>' is the preferred initialization method. When making the change, be mindful of axis order changes: https://pyproj4.github.io/pyproj/stable/gotchas.html#axis-order-changes-in-proj-6\n",
            "  in_crs_string = _prepare_from_proj_string(in_crs_string)\n",
            "/usr/local/lib/python3.7/dist-packages/pyproj/crs/crs.py:131: FutureWarning: '+init=<authority>:<code>' syntax is deprecated. '<authority>:<code>' is the preferred initialization method. When making the change, be mindful of axis order changes: https://pyproj4.github.io/pyproj/stable/gotchas.html#axis-order-changes-in-proj-6\n",
            "  in_crs_string = _prepare_from_proj_string(in_crs_string)\n",
            "/usr/local/lib/python3.7/dist-packages/ipykernel_launcher.py:18: DeprecationWarning: This function is deprecated. See: https://pyproj4.github.io/pyproj/stable/gotchas.html#upgrading-to-pyproj-2-from-pyproj-1\n",
            "/usr/local/lib/python3.7/dist-packages/ipykernel_launcher.py:19: DeprecationWarning: This function is deprecated. See: https://pyproj4.github.io/pyproj/stable/gotchas.html#upgrading-to-pyproj-2-from-pyproj-1\n"
          ]
        },
        {
          "output_type": "stream",
          "name": "stdout",
          "text": [
            "{   'fire_alert_date': '2017-05-18',\n",
            "    'fire_alert_date_a_few_days_before': '2017-04-18',\n",
            "    'fire_area': 4510.93,\n",
            "    'fire_cont_date': '2017-05-23',\n",
            "    'fire_cont_date_a_few_days_after': '2017-06-22',\n",
            "    'fire_name': 'CAL_database_Sentinel2_7680',\n",
            "    'fire_perimeter': [   -120.45521445533097,\n",
            "                          36.03522403588973,\n",
            "                          -120.35356920078975,\n",
            "                          36.115447171379905]}\n",
            "82 / 108\n",
            "Generating the Sentinel tif: CAL_database_Sentinel2_7680_postFire_RGBIR\n",
            "Polling for task (id: VU67FQJQDUJIZYR7RFZ6Y3DI).\n",
            "{'state': 'READY', 'description': 'export_task', 'creation_timestamp_ms': 1642079035876, 'update_timestamp_ms': 1642079035876, 'start_timestamp_ms': 0, 'task_type': 'EXPORT_IMAGE', 'id': 'VU67FQJQDUJIZYR7RFZ6Y3DI', 'name': 'projects/earthengine-legacy/operations/VU67FQJQDUJIZYR7RFZ6Y3DI'}\n",
            "Polling for task (id: VU67FQJQDUJIZYR7RFZ6Y3DI).\n",
            "{'state': 'READY', 'description': 'export_task', 'creation_timestamp_ms': 1642079035876, 'update_timestamp_ms': 1642079035876, 'start_timestamp_ms': 0, 'task_type': 'EXPORT_IMAGE', 'id': 'VU67FQJQDUJIZYR7RFZ6Y3DI', 'name': 'projects/earthengine-legacy/operations/VU67FQJQDUJIZYR7RFZ6Y3DI'}\n"
          ]
        },
        {
          "output_type": "stream",
          "name": "stderr",
          "text": [
            "\r 77%|███████▋  | 83/108 [2:13:26<23:06, 55.45s/it]/usr/local/lib/python3.7/dist-packages/pyproj/crs/crs.py:131: FutureWarning: '+init=<authority>:<code>' syntax is deprecated. '<authority>:<code>' is the preferred initialization method. When making the change, be mindful of axis order changes: https://pyproj4.github.io/pyproj/stable/gotchas.html#axis-order-changes-in-proj-6\n",
            "  in_crs_string = _prepare_from_proj_string(in_crs_string)\n",
            "/usr/local/lib/python3.7/dist-packages/pyproj/crs/crs.py:131: FutureWarning: '+init=<authority>:<code>' syntax is deprecated. '<authority>:<code>' is the preferred initialization method. When making the change, be mindful of axis order changes: https://pyproj4.github.io/pyproj/stable/gotchas.html#axis-order-changes-in-proj-6\n",
            "  in_crs_string = _prepare_from_proj_string(in_crs_string)\n",
            "/usr/local/lib/python3.7/dist-packages/ipykernel_launcher.py:18: DeprecationWarning: This function is deprecated. See: https://pyproj4.github.io/pyproj/stable/gotchas.html#upgrading-to-pyproj-2-from-pyproj-1\n",
            "/usr/local/lib/python3.7/dist-packages/ipykernel_launcher.py:19: DeprecationWarning: This function is deprecated. See: https://pyproj4.github.io/pyproj/stable/gotchas.html#upgrading-to-pyproj-2-from-pyproj-1\n"
          ]
        },
        {
          "output_type": "stream",
          "name": "stdout",
          "text": [
            "{   'fire_alert_date': '2020-10-04',\n",
            "    'fire_alert_date_a_few_days_before': '2020-09-04',\n",
            "    'fire_area': 4231.56,\n",
            "    'fire_cont_date': '2020-10-11',\n",
            "    'fire_cont_date_a_few_days_after': '2020-11-10',\n",
            "    'fire_name': 'CAL_database_Sentinel2_314',\n",
            "    'fire_perimeter': [   -120.00474827814901,\n",
            "                          39.72925870229054,\n",
            "                          -119.90856226652976,\n",
            "                          39.81588735908036]}\n",
            "83 / 108\n",
            "Generating the Sentinel tif: CAL_database_Sentinel2_314_postFire_RGBIR\n",
            "Polling for task (id: MEOIDLQNXMQA5OIFGZT7GD5T).\n",
            "{'state': 'READY', 'description': 'export_task', 'creation_timestamp_ms': 1642079097204, 'update_timestamp_ms': 1642079097204, 'start_timestamp_ms': 0, 'task_type': 'EXPORT_IMAGE', 'id': 'MEOIDLQNXMQA5OIFGZT7GD5T', 'name': 'projects/earthengine-legacy/operations/MEOIDLQNXMQA5OIFGZT7GD5T'}\n",
            "Polling for task (id: MEOIDLQNXMQA5OIFGZT7GD5T).\n",
            "{'state': 'RUNNING', 'description': 'export_task', 'creation_timestamp_ms': 1642079097204, 'update_timestamp_ms': 1642079117963, 'start_timestamp_ms': 1642079115078, 'task_type': 'EXPORT_IMAGE', 'attempt': 1, 'id': 'MEOIDLQNXMQA5OIFGZT7GD5T', 'name': 'projects/earthengine-legacy/operations/MEOIDLQNXMQA5OIFGZT7GD5T'}\n"
          ]
        },
        {
          "output_type": "stream",
          "name": "stderr",
          "text": [
            "\r 78%|███████▊  | 84/108 [2:14:27<22:53, 57.25s/it]/usr/local/lib/python3.7/dist-packages/pyproj/crs/crs.py:131: FutureWarning: '+init=<authority>:<code>' syntax is deprecated. '<authority>:<code>' is the preferred initialization method. When making the change, be mindful of axis order changes: https://pyproj4.github.io/pyproj/stable/gotchas.html#axis-order-changes-in-proj-6\n",
            "  in_crs_string = _prepare_from_proj_string(in_crs_string)\n",
            "/usr/local/lib/python3.7/dist-packages/pyproj/crs/crs.py:131: FutureWarning: '+init=<authority>:<code>' syntax is deprecated. '<authority>:<code>' is the preferred initialization method. When making the change, be mindful of axis order changes: https://pyproj4.github.io/pyproj/stable/gotchas.html#axis-order-changes-in-proj-6\n",
            "  in_crs_string = _prepare_from_proj_string(in_crs_string)\n",
            "/usr/local/lib/python3.7/dist-packages/ipykernel_launcher.py:18: DeprecationWarning: This function is deprecated. See: https://pyproj4.github.io/pyproj/stable/gotchas.html#upgrading-to-pyproj-2-from-pyproj-1\n",
            "/usr/local/lib/python3.7/dist-packages/ipykernel_launcher.py:19: DeprecationWarning: This function is deprecated. See: https://pyproj4.github.io/pyproj/stable/gotchas.html#upgrading-to-pyproj-2-from-pyproj-1\n"
          ]
        },
        {
          "output_type": "stream",
          "name": "stdout",
          "text": [
            "{   'fire_alert_date': '2019-09-04',\n",
            "    'fire_alert_date_a_few_days_before': '2019-08-05',\n",
            "    'fire_area': 4155.16,\n",
            "    'fire_cont_date': '2019-11-23',\n",
            "    'fire_cont_date_a_few_days_after': '2019-12-23',\n",
            "    'fire_name': 'CAL_database_Sentinel2_8556',\n",
            "    'fire_perimeter': [   -118.39443055195811,\n",
            "                          36.978119369439014,\n",
            "                          -118.29455866511807,\n",
            "                          37.05872836827467]}\n",
            "84 / 108\n",
            "Generating the Sentinel tif: CAL_database_Sentinel2_8556_postFire_RGBIR\n",
            "Polling for task (id: GSKHTEAIVPUBDM4CP7CIGJ4G).\n",
            "{'state': 'READY', 'description': 'export_task', 'creation_timestamp_ms': 1642079158690, 'update_timestamp_ms': 1642079158690, 'start_timestamp_ms': 0, 'task_type': 'EXPORT_IMAGE', 'id': 'GSKHTEAIVPUBDM4CP7CIGJ4G', 'name': 'projects/earthengine-legacy/operations/GSKHTEAIVPUBDM4CP7CIGJ4G'}\n",
            "Polling for task (id: GSKHTEAIVPUBDM4CP7CIGJ4G).\n",
            "{'state': 'READY', 'description': 'export_task', 'creation_timestamp_ms': 1642079158690, 'update_timestamp_ms': 1642079158690, 'start_timestamp_ms': 0, 'task_type': 'EXPORT_IMAGE', 'id': 'GSKHTEAIVPUBDM4CP7CIGJ4G', 'name': 'projects/earthengine-legacy/operations/GSKHTEAIVPUBDM4CP7CIGJ4G'}\n"
          ]
        },
        {
          "output_type": "stream",
          "name": "stderr",
          "text": [
            "\r 79%|███████▊  | 85/108 [2:15:28<22:25, 58.50s/it]/usr/local/lib/python3.7/dist-packages/pyproj/crs/crs.py:131: FutureWarning: '+init=<authority>:<code>' syntax is deprecated. '<authority>:<code>' is the preferred initialization method. When making the change, be mindful of axis order changes: https://pyproj4.github.io/pyproj/stable/gotchas.html#axis-order-changes-in-proj-6\n",
            "  in_crs_string = _prepare_from_proj_string(in_crs_string)\n",
            "/usr/local/lib/python3.7/dist-packages/pyproj/crs/crs.py:131: FutureWarning: '+init=<authority>:<code>' syntax is deprecated. '<authority>:<code>' is the preferred initialization method. When making the change, be mindful of axis order changes: https://pyproj4.github.io/pyproj/stable/gotchas.html#axis-order-changes-in-proj-6\n",
            "  in_crs_string = _prepare_from_proj_string(in_crs_string)\n",
            "/usr/local/lib/python3.7/dist-packages/ipykernel_launcher.py:18: DeprecationWarning: This function is deprecated. See: https://pyproj4.github.io/pyproj/stable/gotchas.html#upgrading-to-pyproj-2-from-pyproj-1\n",
            "/usr/local/lib/python3.7/dist-packages/ipykernel_launcher.py:19: DeprecationWarning: This function is deprecated. See: https://pyproj4.github.io/pyproj/stable/gotchas.html#upgrading-to-pyproj-2-from-pyproj-1\n"
          ]
        },
        {
          "output_type": "stream",
          "name": "stdout",
          "text": [
            "{   'fire_alert_date': '2019-10-31',\n",
            "    'fire_alert_date_a_few_days_before': '2019-10-01',\n",
            "    'fire_area': 4064.04,\n",
            "    'fire_cont_date': '2019-11-05',\n",
            "    'fire_cont_date_a_few_days_after': '2019-12-05',\n",
            "    'fire_name': 'CAL_database_Sentinel2_8326',\n",
            "    'fire_perimeter': [   -119.1228426189946,\n",
            "                          34.28058530473055,\n",
            "                          -119.00699511697952,\n",
            "                          34.35265959017167]}\n",
            "85 / 108\n",
            "Generating the Sentinel tif: CAL_database_Sentinel2_8326_postFire_RGBIR\n",
            "Polling for task (id: RJPVWU6GB6TDL23OCKM3DJX2).\n",
            "{'state': 'READY', 'description': 'export_task', 'creation_timestamp_ms': 1642079220064, 'update_timestamp_ms': 1642079220064, 'start_timestamp_ms': 0, 'task_type': 'EXPORT_IMAGE', 'id': 'RJPVWU6GB6TDL23OCKM3DJX2', 'name': 'projects/earthengine-legacy/operations/RJPVWU6GB6TDL23OCKM3DJX2'}\n",
            "Polling for task (id: RJPVWU6GB6TDL23OCKM3DJX2).\n",
            "{'state': 'READY', 'description': 'export_task', 'creation_timestamp_ms': 1642079220064, 'update_timestamp_ms': 1642079220064, 'start_timestamp_ms': 0, 'task_type': 'EXPORT_IMAGE', 'id': 'RJPVWU6GB6TDL23OCKM3DJX2', 'name': 'projects/earthengine-legacy/operations/RJPVWU6GB6TDL23OCKM3DJX2'}\n",
            "Polling for task (id: RJPVWU6GB6TDL23OCKM3DJX2).\n",
            "{'state': 'RUNNING', 'description': 'export_task', 'creation_timestamp_ms': 1642079220064, 'update_timestamp_ms': 1642079275390, 'start_timestamp_ms': 1642079272773, 'task_type': 'EXPORT_IMAGE', 'attempt': 1, 'id': 'RJPVWU6GB6TDL23OCKM3DJX2', 'name': 'projects/earthengine-legacy/operations/RJPVWU6GB6TDL23OCKM3DJX2'}\n",
            "Polling for task (id: RJPVWU6GB6TDL23OCKM3DJX2).\n",
            "{'state': 'RUNNING', 'description': 'export_task', 'creation_timestamp_ms': 1642079220064, 'update_timestamp_ms': 1642079275390, 'start_timestamp_ms': 1642079272773, 'task_type': 'EXPORT_IMAGE', 'attempt': 1, 'id': 'RJPVWU6GB6TDL23OCKM3DJX2', 'name': 'projects/earthengine-legacy/operations/RJPVWU6GB6TDL23OCKM3DJX2'}\n"
          ]
        },
        {
          "output_type": "stream",
          "name": "stderr",
          "text": [
            "\r 80%|███████▉  | 86/108 [2:17:30<28:25, 77.54s/it]/usr/local/lib/python3.7/dist-packages/pyproj/crs/crs.py:131: FutureWarning: '+init=<authority>:<code>' syntax is deprecated. '<authority>:<code>' is the preferred initialization method. When making the change, be mindful of axis order changes: https://pyproj4.github.io/pyproj/stable/gotchas.html#axis-order-changes-in-proj-6\n",
            "  in_crs_string = _prepare_from_proj_string(in_crs_string)\n",
            "/usr/local/lib/python3.7/dist-packages/pyproj/crs/crs.py:131: FutureWarning: '+init=<authority>:<code>' syntax is deprecated. '<authority>:<code>' is the preferred initialization method. When making the change, be mindful of axis order changes: https://pyproj4.github.io/pyproj/stable/gotchas.html#axis-order-changes-in-proj-6\n",
            "  in_crs_string = _prepare_from_proj_string(in_crs_string)\n",
            "/usr/local/lib/python3.7/dist-packages/ipykernel_launcher.py:18: DeprecationWarning: This function is deprecated. See: https://pyproj4.github.io/pyproj/stable/gotchas.html#upgrading-to-pyproj-2-from-pyproj-1\n",
            "/usr/local/lib/python3.7/dist-packages/ipykernel_launcher.py:19: DeprecationWarning: This function is deprecated. See: https://pyproj4.github.io/pyproj/stable/gotchas.html#upgrading-to-pyproj-2-from-pyproj-1\n"
          ]
        },
        {
          "output_type": "stream",
          "name": "stdout",
          "text": [
            "{   'fire_alert_date': '2020-07-18',\n",
            "    'fire_alert_date_a_few_days_before': '2020-06-18',\n",
            "    'fire_area': 3871.37,\n",
            "    'fire_cont_date': '2020-08-28',\n",
            "    'fire_cont_date_a_few_days_after': '2020-09-27',\n",
            "    'fire_name': 'CAL_database_Sentinel2_293',\n",
            "    'fire_perimeter': [   -120.86483227173609,\n",
            "                          40.38353883379232,\n",
            "                          -120.75992148321384,\n",
            "                          40.46915979779831]}\n",
            "86 / 108\n",
            "Generating the Sentinel tif: CAL_database_Sentinel2_293_postFire_RGBIR\n",
            "Polling for task (id: XOBPCZ72TYB2L57Z4XTHBFIT).\n",
            "{'state': 'READY', 'description': 'export_task', 'creation_timestamp_ms': 1642079342068, 'update_timestamp_ms': 1642079342068, 'start_timestamp_ms': 0, 'task_type': 'EXPORT_IMAGE', 'id': 'XOBPCZ72TYB2L57Z4XTHBFIT', 'name': 'projects/earthengine-legacy/operations/XOBPCZ72TYB2L57Z4XTHBFIT'}\n",
            "Polling for task (id: XOBPCZ72TYB2L57Z4XTHBFIT).\n",
            "{'state': 'READY', 'description': 'export_task', 'creation_timestamp_ms': 1642079342068, 'update_timestamp_ms': 1642079342068, 'start_timestamp_ms': 0, 'task_type': 'EXPORT_IMAGE', 'id': 'XOBPCZ72TYB2L57Z4XTHBFIT', 'name': 'projects/earthengine-legacy/operations/XOBPCZ72TYB2L57Z4XTHBFIT'}\n"
          ]
        },
        {
          "output_type": "stream",
          "name": "stderr",
          "text": [
            "\r 81%|████████  | 87/108 [2:18:32<25:26, 72.68s/it]/usr/local/lib/python3.7/dist-packages/pyproj/crs/crs.py:131: FutureWarning: '+init=<authority>:<code>' syntax is deprecated. '<authority>:<code>' is the preferred initialization method. When making the change, be mindful of axis order changes: https://pyproj4.github.io/pyproj/stable/gotchas.html#axis-order-changes-in-proj-6\n",
            "  in_crs_string = _prepare_from_proj_string(in_crs_string)\n",
            "/usr/local/lib/python3.7/dist-packages/pyproj/crs/crs.py:131: FutureWarning: '+init=<authority>:<code>' syntax is deprecated. '<authority>:<code>' is the preferred initialization method. When making the change, be mindful of axis order changes: https://pyproj4.github.io/pyproj/stable/gotchas.html#axis-order-changes-in-proj-6\n",
            "  in_crs_string = _prepare_from_proj_string(in_crs_string)\n",
            "/usr/local/lib/python3.7/dist-packages/ipykernel_launcher.py:18: DeprecationWarning: This function is deprecated. See: https://pyproj4.github.io/pyproj/stable/gotchas.html#upgrading-to-pyproj-2-from-pyproj-1\n",
            "/usr/local/lib/python3.7/dist-packages/ipykernel_launcher.py:19: DeprecationWarning: This function is deprecated. See: https://pyproj4.github.io/pyproj/stable/gotchas.html#upgrading-to-pyproj-2-from-pyproj-1\n"
          ]
        },
        {
          "output_type": "stream",
          "name": "stdout",
          "text": [
            "{   'fire_alert_date': '2017-10-09',\n",
            "    'fire_alert_date_a_few_days_before': '2017-09-09',\n",
            "    'fire_area': 3722.31,\n",
            "    'fire_cont_date': '2017-10-17',\n",
            "    'fire_cont_date_a_few_days_after': '2017-11-16',\n",
            "    'fire_name': 'CAL_database_Sentinel2_7456',\n",
            "    'fire_perimeter': [   -117.7842242927764,\n",
            "                          33.7729597433318,\n",
            "                          -117.68689518618659,\n",
            "                          33.87324421516844]}\n",
            "87 / 108\n",
            "Generating the Sentinel tif: CAL_database_Sentinel2_7456_postFire_RGBIR\n",
            "Polling for task (id: VRO2KB6VPYPS4K4HQGOTCMGC).\n",
            "{'state': 'READY', 'description': 'export_task', 'creation_timestamp_ms': 1642079403388, 'update_timestamp_ms': 1642079403388, 'start_timestamp_ms': 0, 'task_type': 'EXPORT_IMAGE', 'id': 'VRO2KB6VPYPS4K4HQGOTCMGC', 'name': 'projects/earthengine-legacy/operations/VRO2KB6VPYPS4K4HQGOTCMGC'}\n"
          ]
        },
        {
          "output_type": "stream",
          "name": "stderr",
          "text": [
            "\r 81%|████████▏ | 88/108 [2:19:03<20:03, 60.17s/it]/usr/local/lib/python3.7/dist-packages/pyproj/crs/crs.py:131: FutureWarning: '+init=<authority>:<code>' syntax is deprecated. '<authority>:<code>' is the preferred initialization method. When making the change, be mindful of axis order changes: https://pyproj4.github.io/pyproj/stable/gotchas.html#axis-order-changes-in-proj-6\n",
            "  in_crs_string = _prepare_from_proj_string(in_crs_string)\n",
            "/usr/local/lib/python3.7/dist-packages/pyproj/crs/crs.py:131: FutureWarning: '+init=<authority>:<code>' syntax is deprecated. '<authority>:<code>' is the preferred initialization method. When making the change, be mindful of axis order changes: https://pyproj4.github.io/pyproj/stable/gotchas.html#axis-order-changes-in-proj-6\n",
            "  in_crs_string = _prepare_from_proj_string(in_crs_string)\n",
            "/usr/local/lib/python3.7/dist-packages/ipykernel_launcher.py:18: DeprecationWarning: This function is deprecated. See: https://pyproj4.github.io/pyproj/stable/gotchas.html#upgrading-to-pyproj-2-from-pyproj-1\n",
            "/usr/local/lib/python3.7/dist-packages/ipykernel_launcher.py:19: DeprecationWarning: This function is deprecated. See: https://pyproj4.github.io/pyproj/stable/gotchas.html#upgrading-to-pyproj-2-from-pyproj-1\n"
          ]
        },
        {
          "output_type": "stream",
          "name": "stdout",
          "text": [
            "{   'fire_alert_date': '2020-07-29',\n",
            "    'fire_alert_date_a_few_days_before': '2020-06-29',\n",
            "    'fire_area': 3703.04,\n",
            "    'fire_cont_date': '2020-08-04',\n",
            "    'fire_cont_date_a_few_days_after': '2020-09-03',\n",
            "    'fire_name': 'CAL_database_Sentinel2_322',\n",
            "    'fire_perimeter': [   -117.50576048851421,\n",
            "                          35.97007361310671,\n",
            "                          -117.40595463253801,\n",
            "                          36.074025631784075]}\n",
            "88 / 108\n",
            "Generating the Sentinel tif: CAL_database_Sentinel2_322_postFire_RGBIR\n",
            "Polling for task (id: ZZ33PHVYCVTDKVVTVAALXZVJ).\n",
            "{'state': 'READY', 'description': 'export_task', 'creation_timestamp_ms': 1642079434289, 'update_timestamp_ms': 1642079434289, 'start_timestamp_ms': 0, 'task_type': 'EXPORT_IMAGE', 'id': 'ZZ33PHVYCVTDKVVTVAALXZVJ', 'name': 'projects/earthengine-legacy/operations/ZZ33PHVYCVTDKVVTVAALXZVJ'}\n",
            "Polling for task (id: ZZ33PHVYCVTDKVVTVAALXZVJ).\n",
            "{'state': 'RUNNING', 'description': 'export_task', 'creation_timestamp_ms': 1642079434289, 'update_timestamp_ms': 1642079462254, 'start_timestamp_ms': 1642079459793, 'task_type': 'EXPORT_IMAGE', 'attempt': 1, 'id': 'ZZ33PHVYCVTDKVVTVAALXZVJ', 'name': 'projects/earthengine-legacy/operations/ZZ33PHVYCVTDKVVTVAALXZVJ'}\n"
          ]
        },
        {
          "output_type": "stream",
          "name": "stderr",
          "text": [
            "\r 82%|████████▏ | 89/108 [2:20:04<19:09, 60.49s/it]/usr/local/lib/python3.7/dist-packages/pyproj/crs/crs.py:131: FutureWarning: '+init=<authority>:<code>' syntax is deprecated. '<authority>:<code>' is the preferred initialization method. When making the change, be mindful of axis order changes: https://pyproj4.github.io/pyproj/stable/gotchas.html#axis-order-changes-in-proj-6\n",
            "  in_crs_string = _prepare_from_proj_string(in_crs_string)\n",
            "/usr/local/lib/python3.7/dist-packages/pyproj/crs/crs.py:131: FutureWarning: '+init=<authority>:<code>' syntax is deprecated. '<authority>:<code>' is the preferred initialization method. When making the change, be mindful of axis order changes: https://pyproj4.github.io/pyproj/stable/gotchas.html#axis-order-changes-in-proj-6\n",
            "  in_crs_string = _prepare_from_proj_string(in_crs_string)\n",
            "/usr/local/lib/python3.7/dist-packages/ipykernel_launcher.py:18: DeprecationWarning: This function is deprecated. See: https://pyproj4.github.io/pyproj/stable/gotchas.html#upgrading-to-pyproj-2-from-pyproj-1\n",
            "/usr/local/lib/python3.7/dist-packages/ipykernel_launcher.py:19: DeprecationWarning: This function is deprecated. See: https://pyproj4.github.io/pyproj/stable/gotchas.html#upgrading-to-pyproj-2-from-pyproj-1\n"
          ]
        },
        {
          "output_type": "stream",
          "name": "stdout",
          "text": [
            "{   'fire_alert_date': '2017-08-08',\n",
            "    'fire_alert_date_a_few_days_before': '2017-07-09',\n",
            "    'fire_area': 3694.53,\n",
            "    'fire_cont_date': '2017-10-10',\n",
            "    'fire_cont_date_a_few_days_after': '2017-11-09',\n",
            "    'fire_name': 'CAL_database_Sentinel2_7755',\n",
            "    'fire_perimeter': [   -123.37599144567747,\n",
            "                          41.87843845339774,\n",
            "                          -123.30065414744469,\n",
            "                          41.99241283775076]}\n",
            "89 / 108\n",
            "Generating the Sentinel tif: CAL_database_Sentinel2_7755_postFire_RGBIR\n",
            "Polling for task (id: 7IFCAJ3RZNV7GFJRZSCMQLE6).\n",
            "{'state': 'READY', 'description': 'export_task', 'creation_timestamp_ms': 1642079495624, 'update_timestamp_ms': 1642079495624, 'start_timestamp_ms': 0, 'task_type': 'EXPORT_IMAGE', 'id': '7IFCAJ3RZNV7GFJRZSCMQLE6', 'name': 'projects/earthengine-legacy/operations/7IFCAJ3RZNV7GFJRZSCMQLE6'}\n",
            "Polling for task (id: 7IFCAJ3RZNV7GFJRZSCMQLE6).\n",
            "{'state': 'READY', 'description': 'export_task', 'creation_timestamp_ms': 1642079495624, 'update_timestamp_ms': 1642079495624, 'start_timestamp_ms': 0, 'task_type': 'EXPORT_IMAGE', 'id': '7IFCAJ3RZNV7GFJRZSCMQLE6', 'name': 'projects/earthengine-legacy/operations/7IFCAJ3RZNV7GFJRZSCMQLE6'}\n"
          ]
        },
        {
          "output_type": "stream",
          "name": "stderr",
          "text": [
            "\r 83%|████████▎ | 90/108 [2:21:05<18:13, 60.75s/it]/usr/local/lib/python3.7/dist-packages/pyproj/crs/crs.py:131: FutureWarning: '+init=<authority>:<code>' syntax is deprecated. '<authority>:<code>' is the preferred initialization method. When making the change, be mindful of axis order changes: https://pyproj4.github.io/pyproj/stable/gotchas.html#axis-order-changes-in-proj-6\n",
            "  in_crs_string = _prepare_from_proj_string(in_crs_string)\n",
            "/usr/local/lib/python3.7/dist-packages/pyproj/crs/crs.py:131: FutureWarning: '+init=<authority>:<code>' syntax is deprecated. '<authority>:<code>' is the preferred initialization method. When making the change, be mindful of axis order changes: https://pyproj4.github.io/pyproj/stable/gotchas.html#axis-order-changes-in-proj-6\n",
            "  in_crs_string = _prepare_from_proj_string(in_crs_string)\n",
            "/usr/local/lib/python3.7/dist-packages/ipykernel_launcher.py:18: DeprecationWarning: This function is deprecated. See: https://pyproj4.github.io/pyproj/stable/gotchas.html#upgrading-to-pyproj-2-from-pyproj-1\n",
            "/usr/local/lib/python3.7/dist-packages/ipykernel_launcher.py:19: DeprecationWarning: This function is deprecated. See: https://pyproj4.github.io/pyproj/stable/gotchas.html#upgrading-to-pyproj-2-from-pyproj-1\n"
          ]
        },
        {
          "output_type": "stream",
          "name": "stdout",
          "text": [
            "{   'fire_alert_date': '2017-08-29',\n",
            "    'fire_alert_date_a_few_days_before': '2017-07-30',\n",
            "    'fire_area': 3611.21,\n",
            "    'fire_cont_date': '2017-09-21',\n",
            "    'fire_cont_date_a_few_days_after': '2017-10-21',\n",
            "    'fire_name': 'CAL_database_Sentinel2_7657',\n",
            "    'fire_perimeter': [   -119.61771714409821,\n",
            "                          38.616361973268866,\n",
            "                          -119.52179531949147,\n",
            "                          38.701768546565695]}\n",
            "90 / 108\n",
            "Generating the Sentinel tif: CAL_database_Sentinel2_7657_postFire_RGBIR\n",
            "Polling for task (id: BX7HOZ2TQFODA54TTKGJYXS2).\n",
            "{'state': 'READY', 'description': 'export_task', 'creation_timestamp_ms': 1642079556978, 'update_timestamp_ms': 1642079556978, 'start_timestamp_ms': 0, 'task_type': 'EXPORT_IMAGE', 'id': 'BX7HOZ2TQFODA54TTKGJYXS2', 'name': 'projects/earthengine-legacy/operations/BX7HOZ2TQFODA54TTKGJYXS2'}\n",
            "Polling for task (id: BX7HOZ2TQFODA54TTKGJYXS2).\n",
            "{'state': 'READY', 'description': 'export_task', 'creation_timestamp_ms': 1642079556978, 'update_timestamp_ms': 1642079556978, 'start_timestamp_ms': 0, 'task_type': 'EXPORT_IMAGE', 'id': 'BX7HOZ2TQFODA54TTKGJYXS2', 'name': 'projects/earthengine-legacy/operations/BX7HOZ2TQFODA54TTKGJYXS2'}\n"
          ]
        },
        {
          "output_type": "stream",
          "name": "stderr",
          "text": [
            "\r 84%|████████▍ | 91/108 [2:22:07<17:15, 60.92s/it]/usr/local/lib/python3.7/dist-packages/pyproj/crs/crs.py:131: FutureWarning: '+init=<authority>:<code>' syntax is deprecated. '<authority>:<code>' is the preferred initialization method. When making the change, be mindful of axis order changes: https://pyproj4.github.io/pyproj/stable/gotchas.html#axis-order-changes-in-proj-6\n",
            "  in_crs_string = _prepare_from_proj_string(in_crs_string)\n",
            "/usr/local/lib/python3.7/dist-packages/pyproj/crs/crs.py:131: FutureWarning: '+init=<authority>:<code>' syntax is deprecated. '<authority>:<code>' is the preferred initialization method. When making the change, be mindful of axis order changes: https://pyproj4.github.io/pyproj/stable/gotchas.html#axis-order-changes-in-proj-6\n",
            "  in_crs_string = _prepare_from_proj_string(in_crs_string)\n",
            "/usr/local/lib/python3.7/dist-packages/ipykernel_launcher.py:18: DeprecationWarning: This function is deprecated. See: https://pyproj4.github.io/pyproj/stable/gotchas.html#upgrading-to-pyproj-2-from-pyproj-1\n",
            "/usr/local/lib/python3.7/dist-packages/ipykernel_launcher.py:19: DeprecationWarning: This function is deprecated. See: https://pyproj4.github.io/pyproj/stable/gotchas.html#upgrading-to-pyproj-2-from-pyproj-1\n"
          ]
        },
        {
          "output_type": "stream",
          "name": "stdout",
          "text": [
            "{   'fire_alert_date': '2019-09-05',\n",
            "    'fire_alert_date_a_few_days_before': '2019-08-06',\n",
            "    'fire_area': 3570.15,\n",
            "    'fire_cont_date': '2019-09-15',\n",
            "    'fire_cont_date_a_few_days_after': '2019-10-15',\n",
            "    'fire_name': 'CAL_database_Sentinel2_8438',\n",
            "    'fire_perimeter': [   -122.7248328262566,\n",
            "                          40.11404152139914,\n",
            "                          -122.62824296069306,\n",
            "                          40.20270347985578]}\n",
            "91 / 108\n",
            "Generating the Sentinel tif: CAL_database_Sentinel2_8438_postFire_RGBIR\n",
            "Polling for task (id: X5YIRC7WSNINJXDMVZ2QJFAD).\n",
            "{'state': 'READY', 'description': 'export_task', 'creation_timestamp_ms': 1642079618277, 'update_timestamp_ms': 1642079618277, 'start_timestamp_ms': 0, 'task_type': 'EXPORT_IMAGE', 'id': 'X5YIRC7WSNINJXDMVZ2QJFAD', 'name': 'projects/earthengine-legacy/operations/X5YIRC7WSNINJXDMVZ2QJFAD'}\n",
            "Polling for task (id: X5YIRC7WSNINJXDMVZ2QJFAD).\n",
            "{'state': 'READY', 'description': 'export_task', 'creation_timestamp_ms': 1642079618277, 'update_timestamp_ms': 1642079618277, 'start_timestamp_ms': 0, 'task_type': 'EXPORT_IMAGE', 'id': 'X5YIRC7WSNINJXDMVZ2QJFAD', 'name': 'projects/earthengine-legacy/operations/X5YIRC7WSNINJXDMVZ2QJFAD'}\n"
          ]
        },
        {
          "output_type": "stream",
          "name": "stderr",
          "text": [
            "\r 85%|████████▌ | 92/108 [2:23:08<16:16, 61.05s/it]/usr/local/lib/python3.7/dist-packages/pyproj/crs/crs.py:131: FutureWarning: '+init=<authority>:<code>' syntax is deprecated. '<authority>:<code>' is the preferred initialization method. When making the change, be mindful of axis order changes: https://pyproj4.github.io/pyproj/stable/gotchas.html#axis-order-changes-in-proj-6\n",
            "  in_crs_string = _prepare_from_proj_string(in_crs_string)\n",
            "/usr/local/lib/python3.7/dist-packages/pyproj/crs/crs.py:131: FutureWarning: '+init=<authority>:<code>' syntax is deprecated. '<authority>:<code>' is the preferred initialization method. When making the change, be mindful of axis order changes: https://pyproj4.github.io/pyproj/stable/gotchas.html#axis-order-changes-in-proj-6\n",
            "  in_crs_string = _prepare_from_proj_string(in_crs_string)\n",
            "/usr/local/lib/python3.7/dist-packages/ipykernel_launcher.py:18: DeprecationWarning: This function is deprecated. See: https://pyproj4.github.io/pyproj/stable/gotchas.html#upgrading-to-pyproj-2-from-pyproj-1\n",
            "/usr/local/lib/python3.7/dist-packages/ipykernel_launcher.py:19: DeprecationWarning: This function is deprecated. See: https://pyproj4.github.io/pyproj/stable/gotchas.html#upgrading-to-pyproj-2-from-pyproj-1\n"
          ]
        },
        {
          "output_type": "stream",
          "name": "stdout",
          "text": [
            "{   'fire_alert_date': '2019-10-10',\n",
            "    'fire_alert_date_a_few_days_before': '2019-09-10',\n",
            "    'fire_area': 3560.96,\n",
            "    'fire_cont_date': '2019-10-31',\n",
            "    'fire_cont_date_a_few_days_after': '2019-11-30',\n",
            "    'fire_name': 'CAL_database_Sentinel2_8630',\n",
            "    'fire_perimeter': [   -118.57649644717058,\n",
            "                          34.27637595632432,\n",
            "                          -118.4493760852555,\n",
            "                          34.35851810633714]}\n",
            "92 / 108\n",
            "Generating the Sentinel tif: CAL_database_Sentinel2_8630_postFire_RGBIR\n",
            "Polling for task (id: SGJ4UIF5XAK6BJKTLYIHRBQX).\n",
            "{'state': 'READY', 'description': 'export_task', 'creation_timestamp_ms': 1642079679649, 'update_timestamp_ms': 1642079679649, 'start_timestamp_ms': 0, 'task_type': 'EXPORT_IMAGE', 'id': 'SGJ4UIF5XAK6BJKTLYIHRBQX', 'name': 'projects/earthengine-legacy/operations/SGJ4UIF5XAK6BJKTLYIHRBQX'}\n",
            "Polling for task (id: SGJ4UIF5XAK6BJKTLYIHRBQX).\n",
            "{'state': 'READY', 'description': 'export_task', 'creation_timestamp_ms': 1642079679649, 'update_timestamp_ms': 1642079679649, 'start_timestamp_ms': 0, 'task_type': 'EXPORT_IMAGE', 'id': 'SGJ4UIF5XAK6BJKTLYIHRBQX', 'name': 'projects/earthengine-legacy/operations/SGJ4UIF5XAK6BJKTLYIHRBQX'}\n",
            "Polling for task (id: SGJ4UIF5XAK6BJKTLYIHRBQX).\n",
            "{'state': 'RUNNING', 'description': 'export_task', 'creation_timestamp_ms': 1642079679649, 'update_timestamp_ms': 1642079726752, 'start_timestamp_ms': 1642079723753, 'task_type': 'EXPORT_IMAGE', 'attempt': 1, 'id': 'SGJ4UIF5XAK6BJKTLYIHRBQX', 'name': 'projects/earthengine-legacy/operations/SGJ4UIF5XAK6BJKTLYIHRBQX'}\n"
          ]
        },
        {
          "output_type": "stream",
          "name": "stderr",
          "text": [
            "\r 86%|████████▌ | 93/108 [2:24:40<17:36, 70.43s/it]/usr/local/lib/python3.7/dist-packages/pyproj/crs/crs.py:131: FutureWarning: '+init=<authority>:<code>' syntax is deprecated. '<authority>:<code>' is the preferred initialization method. When making the change, be mindful of axis order changes: https://pyproj4.github.io/pyproj/stable/gotchas.html#axis-order-changes-in-proj-6\n",
            "  in_crs_string = _prepare_from_proj_string(in_crs_string)\n",
            "/usr/local/lib/python3.7/dist-packages/pyproj/crs/crs.py:131: FutureWarning: '+init=<authority>:<code>' syntax is deprecated. '<authority>:<code>' is the preferred initialization method. When making the change, be mindful of axis order changes: https://pyproj4.github.io/pyproj/stable/gotchas.html#axis-order-changes-in-proj-6\n",
            "  in_crs_string = _prepare_from_proj_string(in_crs_string)\n",
            "/usr/local/lib/python3.7/dist-packages/ipykernel_launcher.py:18: DeprecationWarning: This function is deprecated. See: https://pyproj4.github.io/pyproj/stable/gotchas.html#upgrading-to-pyproj-2-from-pyproj-1\n",
            "/usr/local/lib/python3.7/dist-packages/ipykernel_launcher.py:19: DeprecationWarning: This function is deprecated. See: https://pyproj4.github.io/pyproj/stable/gotchas.html#upgrading-to-pyproj-2-from-pyproj-1\n"
          ]
        },
        {
          "output_type": "stream",
          "name": "stdout",
          "text": [
            "{   'fire_alert_date': '2017-07-31',\n",
            "    'fire_alert_date_a_few_days_before': '2017-07-01',\n",
            "    'fire_area': 3471.21,\n",
            "    'fire_cont_date': '2017-11-27',\n",
            "    'fire_cont_date_a_few_days_after': '2017-12-27',\n",
            "    'fire_name': 'CAL_database_Sentinel2_7875',\n",
            "    'fire_perimeter': [   -119.6393092196596,\n",
            "                          37.60954307194616,\n",
            "                          -119.53566237900748,\n",
            "                          37.697175258236406]}\n",
            "93 / 108\n",
            "Generating the Sentinel tif: CAL_database_Sentinel2_7875_postFire_RGBIR\n",
            "Polling for task (id: U6FDHGAYOE5FZMD4R7SQ57V5).\n",
            "{'state': 'READY', 'description': 'export_task', 'creation_timestamp_ms': 1642079771949, 'update_timestamp_ms': 1642079771949, 'start_timestamp_ms': 0, 'task_type': 'EXPORT_IMAGE', 'id': 'U6FDHGAYOE5FZMD4R7SQ57V5', 'name': 'projects/earthengine-legacy/operations/U6FDHGAYOE5FZMD4R7SQ57V5'}\n",
            "Polling for task (id: U6FDHGAYOE5FZMD4R7SQ57V5).\n",
            "{'state': 'READY', 'description': 'export_task', 'creation_timestamp_ms': 1642079771949, 'update_timestamp_ms': 1642079771949, 'start_timestamp_ms': 0, 'task_type': 'EXPORT_IMAGE', 'id': 'U6FDHGAYOE5FZMD4R7SQ57V5', 'name': 'projects/earthengine-legacy/operations/U6FDHGAYOE5FZMD4R7SQ57V5'}\n"
          ]
        },
        {
          "output_type": "stream",
          "name": "stderr",
          "text": [
            "\r 87%|████████▋ | 94/108 [2:25:42<15:47, 67.69s/it]/usr/local/lib/python3.7/dist-packages/pyproj/crs/crs.py:131: FutureWarning: '+init=<authority>:<code>' syntax is deprecated. '<authority>:<code>' is the preferred initialization method. When making the change, be mindful of axis order changes: https://pyproj4.github.io/pyproj/stable/gotchas.html#axis-order-changes-in-proj-6\n",
            "  in_crs_string = _prepare_from_proj_string(in_crs_string)\n",
            "/usr/local/lib/python3.7/dist-packages/pyproj/crs/crs.py:131: FutureWarning: '+init=<authority>:<code>' syntax is deprecated. '<authority>:<code>' is the preferred initialization method. When making the change, be mindful of axis order changes: https://pyproj4.github.io/pyproj/stable/gotchas.html#axis-order-changes-in-proj-6\n",
            "  in_crs_string = _prepare_from_proj_string(in_crs_string)\n",
            "/usr/local/lib/python3.7/dist-packages/ipykernel_launcher.py:18: DeprecationWarning: This function is deprecated. See: https://pyproj4.github.io/pyproj/stable/gotchas.html#upgrading-to-pyproj-2-from-pyproj-1\n",
            "/usr/local/lib/python3.7/dist-packages/ipykernel_launcher.py:19: DeprecationWarning: This function is deprecated. See: https://pyproj4.github.io/pyproj/stable/gotchas.html#upgrading-to-pyproj-2-from-pyproj-1\n"
          ]
        },
        {
          "output_type": "stream",
          "name": "stdout",
          "text": [
            "{   'fire_alert_date': '2020-08-16',\n",
            "    'fire_alert_date_a_few_days_before': '2020-07-17',\n",
            "    'fire_area': 3408.61,\n",
            "    'fire_cont_date': '2020-12-28',\n",
            "    'fire_cont_date_a_few_days_after': '2021-01-27',\n",
            "    'fire_name': 'CAL_database_Sentinel2_308',\n",
            "    'fire_perimeter': [   -118.4613544443869,\n",
            "                          36.35667905352233,\n",
            "                          -118.36958694803519,\n",
            "                          36.522914047539665]}\n",
            "94 / 108\n",
            "Generating the Sentinel tif: CAL_database_Sentinel2_308_postFire_RGBIR\n",
            "Polling for task (id: 6JK2B63TKZ54V36GOMN2KA4D).\n",
            "{'state': 'READY', 'description': 'export_task', 'creation_timestamp_ms': 1642079833258, 'update_timestamp_ms': 1642079833258, 'start_timestamp_ms': 0, 'task_type': 'EXPORT_IMAGE', 'id': '6JK2B63TKZ54V36GOMN2KA4D', 'name': 'projects/earthengine-legacy/operations/6JK2B63TKZ54V36GOMN2KA4D'}\n",
            "Polling for task (id: 6JK2B63TKZ54V36GOMN2KA4D).\n",
            "{'state': 'RUNNING', 'description': 'export_task', 'creation_timestamp_ms': 1642079833258, 'update_timestamp_ms': 1642079858749, 'start_timestamp_ms': 1642079856048, 'task_type': 'EXPORT_IMAGE', 'attempt': 1, 'id': '6JK2B63TKZ54V36GOMN2KA4D', 'name': 'projects/earthengine-legacy/operations/6JK2B63TKZ54V36GOMN2KA4D'}\n"
          ]
        },
        {
          "output_type": "stream",
          "name": "stderr",
          "text": [
            "\r 88%|████████▊ | 95/108 [2:26:43<14:14, 65.77s/it]/usr/local/lib/python3.7/dist-packages/pyproj/crs/crs.py:131: FutureWarning: '+init=<authority>:<code>' syntax is deprecated. '<authority>:<code>' is the preferred initialization method. When making the change, be mindful of axis order changes: https://pyproj4.github.io/pyproj/stable/gotchas.html#axis-order-changes-in-proj-6\n",
            "  in_crs_string = _prepare_from_proj_string(in_crs_string)\n",
            "/usr/local/lib/python3.7/dist-packages/pyproj/crs/crs.py:131: FutureWarning: '+init=<authority>:<code>' syntax is deprecated. '<authority>:<code>' is the preferred initialization method. When making the change, be mindful of axis order changes: https://pyproj4.github.io/pyproj/stable/gotchas.html#axis-order-changes-in-proj-6\n",
            "  in_crs_string = _prepare_from_proj_string(in_crs_string)\n",
            "/usr/local/lib/python3.7/dist-packages/ipykernel_launcher.py:18: DeprecationWarning: This function is deprecated. See: https://pyproj4.github.io/pyproj/stable/gotchas.html#upgrading-to-pyproj-2-from-pyproj-1\n",
            "/usr/local/lib/python3.7/dist-packages/ipykernel_launcher.py:19: DeprecationWarning: This function is deprecated. See: https://pyproj4.github.io/pyproj/stable/gotchas.html#upgrading-to-pyproj-2-from-pyproj-1\n"
          ]
        },
        {
          "output_type": "stream",
          "name": "stdout",
          "text": [
            "{   'fire_alert_date': '2017-10-08',\n",
            "    'fire_alert_date_a_few_days_before': '2017-09-08',\n",
            "    'fire_area': 3405.75,\n",
            "    'fire_cont_date': '2017-11-05',\n",
            "    'fire_cont_date_a_few_days_after': '2017-12-05',\n",
            "    'fire_name': 'CAL_database_Sentinel2_7829',\n",
            "    'fire_perimeter': [   -121.63392763198324,\n",
            "                          39.54663829446969,\n",
            "                          -121.53500291334115,\n",
            "                          39.63551306278007]}\n",
            "95 / 108\n",
            "Generating the Sentinel tif: CAL_database_Sentinel2_7829_postFire_RGBIR\n",
            "Polling for task (id: WXQ73REREFJZWQVDJCICJFKZ).\n",
            "{'state': 'READY', 'description': 'export_task', 'creation_timestamp_ms': 1642079894553, 'update_timestamp_ms': 1642079894553, 'start_timestamp_ms': 0, 'task_type': 'EXPORT_IMAGE', 'id': 'WXQ73REREFJZWQVDJCICJFKZ', 'name': 'projects/earthengine-legacy/operations/WXQ73REREFJZWQVDJCICJFKZ'}\n",
            "Polling for task (id: WXQ73REREFJZWQVDJCICJFKZ).\n",
            "{'state': 'READY', 'description': 'export_task', 'creation_timestamp_ms': 1642079894553, 'update_timestamp_ms': 1642079894553, 'start_timestamp_ms': 0, 'task_type': 'EXPORT_IMAGE', 'id': 'WXQ73REREFJZWQVDJCICJFKZ', 'name': 'projects/earthengine-legacy/operations/WXQ73REREFJZWQVDJCICJFKZ'}\n"
          ]
        },
        {
          "output_type": "stream",
          "name": "stderr",
          "text": [
            "\r 89%|████████▉ | 96/108 [2:27:44<12:53, 64.45s/it]/usr/local/lib/python3.7/dist-packages/pyproj/crs/crs.py:131: FutureWarning: '+init=<authority>:<code>' syntax is deprecated. '<authority>:<code>' is the preferred initialization method. When making the change, be mindful of axis order changes: https://pyproj4.github.io/pyproj/stable/gotchas.html#axis-order-changes-in-proj-6\n",
            "  in_crs_string = _prepare_from_proj_string(in_crs_string)\n",
            "/usr/local/lib/python3.7/dist-packages/pyproj/crs/crs.py:131: FutureWarning: '+init=<authority>:<code>' syntax is deprecated. '<authority>:<code>' is the preferred initialization method. When making the change, be mindful of axis order changes: https://pyproj4.github.io/pyproj/stable/gotchas.html#axis-order-changes-in-proj-6\n",
            "  in_crs_string = _prepare_from_proj_string(in_crs_string)\n",
            "/usr/local/lib/python3.7/dist-packages/ipykernel_launcher.py:18: DeprecationWarning: This function is deprecated. See: https://pyproj4.github.io/pyproj/stable/gotchas.html#upgrading-to-pyproj-2-from-pyproj-1\n",
            "/usr/local/lib/python3.7/dist-packages/ipykernel_launcher.py:19: DeprecationWarning: This function is deprecated. See: https://pyproj4.github.io/pyproj/stable/gotchas.html#upgrading-to-pyproj-2-from-pyproj-1\n"
          ]
        },
        {
          "output_type": "stream",
          "name": "stdout",
          "text": [
            "{   'fire_alert_date': '2020-08-03',\n",
            "    'fire_alert_date_a_few_days_before': '2020-07-04',\n",
            "    'fire_area': 3136.57,\n",
            "    'fire_cont_date': '2020-08-03',\n",
            "    'fire_cont_date_a_few_days_after': '2020-09-02',\n",
            "    'fire_name': 'CAL_database_Sentinel2_75',\n",
            "    'fire_perimeter': [   -118.54384861346618,\n",
            "                          35.4334043621955,\n",
            "                          -118.41327168507547,\n",
            "                          35.475446068649426]}\n",
            "96 / 108\n",
            "Generating the Sentinel tif: CAL_database_Sentinel2_75_postFire_RGBIR\n",
            "Polling for task (id: 77JKMI7K5VBXAVYZPOTUVOL2).\n",
            "{'state': 'READY', 'description': 'export_task', 'creation_timestamp_ms': 1642079955957, 'update_timestamp_ms': 1642079955957, 'start_timestamp_ms': 0, 'task_type': 'EXPORT_IMAGE', 'id': '77JKMI7K5VBXAVYZPOTUVOL2', 'name': 'projects/earthengine-legacy/operations/77JKMI7K5VBXAVYZPOTUVOL2'}\n"
          ]
        },
        {
          "output_type": "stream",
          "name": "stderr",
          "text": [
            "\r 90%|████████▉ | 97/108 [2:28:15<09:58, 54.43s/it]/usr/local/lib/python3.7/dist-packages/pyproj/crs/crs.py:131: FutureWarning: '+init=<authority>:<code>' syntax is deprecated. '<authority>:<code>' is the preferred initialization method. When making the change, be mindful of axis order changes: https://pyproj4.github.io/pyproj/stable/gotchas.html#axis-order-changes-in-proj-6\n",
            "  in_crs_string = _prepare_from_proj_string(in_crs_string)\n",
            "/usr/local/lib/python3.7/dist-packages/pyproj/crs/crs.py:131: FutureWarning: '+init=<authority>:<code>' syntax is deprecated. '<authority>:<code>' is the preferred initialization method. When making the change, be mindful of axis order changes: https://pyproj4.github.io/pyproj/stable/gotchas.html#axis-order-changes-in-proj-6\n",
            "  in_crs_string = _prepare_from_proj_string(in_crs_string)\n",
            "/usr/local/lib/python3.7/dist-packages/ipykernel_launcher.py:18: DeprecationWarning: This function is deprecated. See: https://pyproj4.github.io/pyproj/stable/gotchas.html#upgrading-to-pyproj-2-from-pyproj-1\n",
            "/usr/local/lib/python3.7/dist-packages/ipykernel_launcher.py:19: DeprecationWarning: This function is deprecated. See: https://pyproj4.github.io/pyproj/stable/gotchas.html#upgrading-to-pyproj-2-from-pyproj-1\n"
          ]
        },
        {
          "output_type": "stream",
          "name": "stdout",
          "text": [
            "{   'fire_alert_date': '2017-08-03',\n",
            "    'fire_alert_date_a_few_days_before': '2017-07-04',\n",
            "    'fire_area': 3113.38,\n",
            "    'fire_cont_date': '2017-08-15',\n",
            "    'fire_cont_date_a_few_days_after': '2017-09-14',\n",
            "    'fire_name': 'CAL_database_Sentinel2_7909',\n",
            "    'fire_perimeter': [   -120.32986832528826,\n",
            "                          41.43325857859528,\n",
            "                          -120.19383053935326,\n",
            "                          41.49374006882714]}\n",
            "97 / 108\n",
            "Generating the Sentinel tif: CAL_database_Sentinel2_7909_postFire_RGBIR\n",
            "Polling for task (id: SER4G3YIKQOQDJG5ONBU6HKU).\n",
            "{'state': 'READY', 'description': 'export_task', 'creation_timestamp_ms': 1642079986946, 'update_timestamp_ms': 1642079986946, 'start_timestamp_ms': 0, 'task_type': 'EXPORT_IMAGE', 'id': 'SER4G3YIKQOQDJG5ONBU6HKU', 'name': 'projects/earthengine-legacy/operations/SER4G3YIKQOQDJG5ONBU6HKU'}\n"
          ]
        },
        {
          "output_type": "stream",
          "name": "stderr",
          "text": [
            "\r 91%|█████████ | 98/108 [2:28:46<07:53, 47.38s/it]/usr/local/lib/python3.7/dist-packages/pyproj/crs/crs.py:131: FutureWarning: '+init=<authority>:<code>' syntax is deprecated. '<authority>:<code>' is the preferred initialization method. When making the change, be mindful of axis order changes: https://pyproj4.github.io/pyproj/stable/gotchas.html#axis-order-changes-in-proj-6\n",
            "  in_crs_string = _prepare_from_proj_string(in_crs_string)\n",
            "/usr/local/lib/python3.7/dist-packages/pyproj/crs/crs.py:131: FutureWarning: '+init=<authority>:<code>' syntax is deprecated. '<authority>:<code>' is the preferred initialization method. When making the change, be mindful of axis order changes: https://pyproj4.github.io/pyproj/stable/gotchas.html#axis-order-changes-in-proj-6\n",
            "  in_crs_string = _prepare_from_proj_string(in_crs_string)\n",
            "/usr/local/lib/python3.7/dist-packages/ipykernel_launcher.py:18: DeprecationWarning: This function is deprecated. See: https://pyproj4.github.io/pyproj/stable/gotchas.html#upgrading-to-pyproj-2-from-pyproj-1\n",
            "/usr/local/lib/python3.7/dist-packages/ipykernel_launcher.py:19: DeprecationWarning: This function is deprecated. See: https://pyproj4.github.io/pyproj/stable/gotchas.html#upgrading-to-pyproj-2-from-pyproj-1\n"
          ]
        },
        {
          "output_type": "stream",
          "name": "stdout",
          "text": [
            "{   'fire_alert_date': '2016-06-19',\n",
            "    'fire_alert_date_a_few_days_before': '2016-05-20',\n",
            "    'fire_area': 3078.05,\n",
            "    'fire_cont_date': '2016-07-07',\n",
            "    'fire_cont_date_a_few_days_after': '2016-08-06',\n",
            "    'fire_name': 'CAL_database_Sentinel2_2551',\n",
            "    'fire_perimeter': [   -116.6473354679561,\n",
            "                          32.581992875980134,\n",
            "                          -116.49811096190048,\n",
            "                          32.64336460919532]}\n",
            "98 / 108\n",
            "Generating the Sentinel tif: CAL_database_Sentinel2_2551_postFire_RGBIR\n",
            "Polling for task (id: F6WF4Q54ZSS63XJGDKLUC6TV).\n",
            "{'state': 'READY', 'description': 'export_task', 'creation_timestamp_ms': 1642080017912, 'update_timestamp_ms': 1642080017912, 'start_timestamp_ms': 0, 'task_type': 'EXPORT_IMAGE', 'id': 'F6WF4Q54ZSS63XJGDKLUC6TV', 'name': 'projects/earthengine-legacy/operations/F6WF4Q54ZSS63XJGDKLUC6TV'}\n"
          ]
        },
        {
          "output_type": "stream",
          "name": "stderr",
          "text": [
            "\r 92%|█████████▏| 99/108 [2:29:17<06:22, 42.47s/it]/usr/local/lib/python3.7/dist-packages/pyproj/crs/crs.py:131: FutureWarning: '+init=<authority>:<code>' syntax is deprecated. '<authority>:<code>' is the preferred initialization method. When making the change, be mindful of axis order changes: https://pyproj4.github.io/pyproj/stable/gotchas.html#axis-order-changes-in-proj-6\n",
            "  in_crs_string = _prepare_from_proj_string(in_crs_string)\n",
            "/usr/local/lib/python3.7/dist-packages/pyproj/crs/crs.py:131: FutureWarning: '+init=<authority>:<code>' syntax is deprecated. '<authority>:<code>' is the preferred initialization method. When making the change, be mindful of axis order changes: https://pyproj4.github.io/pyproj/stable/gotchas.html#axis-order-changes-in-proj-6\n",
            "  in_crs_string = _prepare_from_proj_string(in_crs_string)\n",
            "/usr/local/lib/python3.7/dist-packages/ipykernel_launcher.py:18: DeprecationWarning: This function is deprecated. See: https://pyproj4.github.io/pyproj/stable/gotchas.html#upgrading-to-pyproj-2-from-pyproj-1\n",
            "/usr/local/lib/python3.7/dist-packages/ipykernel_launcher.py:19: DeprecationWarning: This function is deprecated. See: https://pyproj4.github.io/pyproj/stable/gotchas.html#upgrading-to-pyproj-2-from-pyproj-1\n"
          ]
        },
        {
          "output_type": "stream",
          "name": "stdout",
          "text": [
            "{   'fire_alert_date': '2017-08-13',\n",
            "    'fire_alert_date_a_few_days_before': '2017-07-14',\n",
            "    'fire_area': 3059.45,\n",
            "    'fire_cont_date': '2017-11-03',\n",
            "    'fire_cont_date_a_few_days_after': '2017-12-03',\n",
            "    'fire_name': 'CAL_database_Sentinel2_7910',\n",
            "    'fire_perimeter': [   -119.632345628374,\n",
            "                          37.53256511520857,\n",
            "                          -119.5175003837386,\n",
            "                          37.604035930792975]}\n",
            "99 / 108\n",
            "Generating the Sentinel tif: CAL_database_Sentinel2_7910_postFire_RGBIR\n",
            "Polling for task (id: 3Z3QHW7NTRIDJQ7NODALPIBC).\n",
            "{'state': 'READY', 'description': 'export_task', 'creation_timestamp_ms': 1642080048985, 'update_timestamp_ms': 1642080048985, 'start_timestamp_ms': 0, 'task_type': 'EXPORT_IMAGE', 'id': '3Z3QHW7NTRIDJQ7NODALPIBC', 'name': 'projects/earthengine-legacy/operations/3Z3QHW7NTRIDJQ7NODALPIBC'}\n",
            "Polling for task (id: 3Z3QHW7NTRIDJQ7NODALPIBC).\n",
            "{'state': 'READY', 'description': 'export_task', 'creation_timestamp_ms': 1642080048985, 'update_timestamp_ms': 1642080048985, 'start_timestamp_ms': 0, 'task_type': 'EXPORT_IMAGE', 'id': '3Z3QHW7NTRIDJQ7NODALPIBC', 'name': 'projects/earthengine-legacy/operations/3Z3QHW7NTRIDJQ7NODALPIBC'}\n"
          ]
        },
        {
          "output_type": "stream",
          "name": "stderr",
          "text": [
            "\r 93%|█████████▎| 100/108 [2:30:19<06:25, 48.14s/it]/usr/local/lib/python3.7/dist-packages/pyproj/crs/crs.py:131: FutureWarning: '+init=<authority>:<code>' syntax is deprecated. '<authority>:<code>' is the preferred initialization method. When making the change, be mindful of axis order changes: https://pyproj4.github.io/pyproj/stable/gotchas.html#axis-order-changes-in-proj-6\n",
            "  in_crs_string = _prepare_from_proj_string(in_crs_string)\n",
            "/usr/local/lib/python3.7/dist-packages/pyproj/crs/crs.py:131: FutureWarning: '+init=<authority>:<code>' syntax is deprecated. '<authority>:<code>' is the preferred initialization method. When making the change, be mindful of axis order changes: https://pyproj4.github.io/pyproj/stable/gotchas.html#axis-order-changes-in-proj-6\n",
            "  in_crs_string = _prepare_from_proj_string(in_crs_string)\n",
            "/usr/local/lib/python3.7/dist-packages/ipykernel_launcher.py:18: DeprecationWarning: This function is deprecated. See: https://pyproj4.github.io/pyproj/stable/gotchas.html#upgrading-to-pyproj-2-from-pyproj-1\n",
            "/usr/local/lib/python3.7/dist-packages/ipykernel_launcher.py:19: DeprecationWarning: This function is deprecated. See: https://pyproj4.github.io/pyproj/stable/gotchas.html#upgrading-to-pyproj-2-from-pyproj-1\n"
          ]
        },
        {
          "output_type": "stream",
          "name": "stdout",
          "text": [
            "{   'fire_alert_date': '2016-06-15',\n",
            "    'fire_alert_date_a_few_days_before': '2016-05-16',\n",
            "    'fire_area': 3021.28,\n",
            "    'fire_cont_date': '2016-07-11',\n",
            "    'fire_cont_date_a_few_days_after': '2016-08-10',\n",
            "    'fire_name': 'CAL_database_Sentinel2_7255',\n",
            "    'fire_perimeter': [   -120.06713023018833,\n",
            "                          34.46473934818035,\n",
            "                          -119.99756019166283,\n",
            "                          34.529206330414596]}\n",
            "100 / 108\n",
            "Generating the Sentinel tif: CAL_database_Sentinel2_7255_postFire_RGBIR\n",
            "Polling for task (id: 6NOTWIAWLNVZJMCU4XHN5U5B).\n",
            "{'state': 'READY', 'description': 'export_task', 'creation_timestamp_ms': 1642080110318, 'update_timestamp_ms': 1642080110318, 'start_timestamp_ms': 0, 'task_type': 'EXPORT_IMAGE', 'id': '6NOTWIAWLNVZJMCU4XHN5U5B', 'name': 'projects/earthengine-legacy/operations/6NOTWIAWLNVZJMCU4XHN5U5B'}\n"
          ]
        },
        {
          "output_type": "stream",
          "name": "stderr",
          "text": [
            "\r 94%|█████████▎| 101/108 [2:30:50<05:00, 43.00s/it]/usr/local/lib/python3.7/dist-packages/pyproj/crs/crs.py:131: FutureWarning: '+init=<authority>:<code>' syntax is deprecated. '<authority>:<code>' is the preferred initialization method. When making the change, be mindful of axis order changes: https://pyproj4.github.io/pyproj/stable/gotchas.html#axis-order-changes-in-proj-6\n",
            "  in_crs_string = _prepare_from_proj_string(in_crs_string)\n",
            "/usr/local/lib/python3.7/dist-packages/pyproj/crs/crs.py:131: FutureWarning: '+init=<authority>:<code>' syntax is deprecated. '<authority>:<code>' is the preferred initialization method. When making the change, be mindful of axis order changes: https://pyproj4.github.io/pyproj/stable/gotchas.html#axis-order-changes-in-proj-6\n",
            "  in_crs_string = _prepare_from_proj_string(in_crs_string)\n",
            "/usr/local/lib/python3.7/dist-packages/ipykernel_launcher.py:18: DeprecationWarning: This function is deprecated. See: https://pyproj4.github.io/pyproj/stable/gotchas.html#upgrading-to-pyproj-2-from-pyproj-1\n",
            "/usr/local/lib/python3.7/dist-packages/ipykernel_launcher.py:19: DeprecationWarning: This function is deprecated. See: https://pyproj4.github.io/pyproj/stable/gotchas.html#upgrading-to-pyproj-2-from-pyproj-1\n"
          ]
        },
        {
          "output_type": "stream",
          "name": "stdout",
          "text": [
            "{   'fire_alert_date': '2017-09-01',\n",
            "    'fire_alert_date_a_few_days_before': '2017-08-02',\n",
            "    'fire_area': 2853.58,\n",
            "    'fire_cont_date': '2017-09-08',\n",
            "    'fire_cont_date_a_few_days_after': '2017-10-08',\n",
            "    'fire_name': 'CAL_database_Sentinel2_7908',\n",
            "    'fire_perimeter': [   -118.3603542628424,\n",
            "                          34.206002351328365,\n",
            "                          -118.26962018282067,\n",
            "                          34.25648478930284]}\n",
            "101 / 108\n",
            "Generating the Sentinel tif: CAL_database_Sentinel2_7908_postFire_RGBIR\n",
            "Polling for task (id: 6KDC5YLSOQUKSAVC3UM2A27L).\n",
            "{'state': 'READY', 'description': 'export_task', 'creation_timestamp_ms': 1642080141259, 'update_timestamp_ms': 1642080141259, 'start_timestamp_ms': 0, 'task_type': 'EXPORT_IMAGE', 'id': '6KDC5YLSOQUKSAVC3UM2A27L', 'name': 'projects/earthengine-legacy/operations/6KDC5YLSOQUKSAVC3UM2A27L'}\n",
            "Polling for task (id: 6KDC5YLSOQUKSAVC3UM2A27L).\n",
            "{'state': 'READY', 'description': 'export_task', 'creation_timestamp_ms': 1642080141259, 'update_timestamp_ms': 1642080141259, 'start_timestamp_ms': 0, 'task_type': 'EXPORT_IMAGE', 'id': '6KDC5YLSOQUKSAVC3UM2A27L', 'name': 'projects/earthengine-legacy/operations/6KDC5YLSOQUKSAVC3UM2A27L'}\n"
          ]
        },
        {
          "output_type": "stream",
          "name": "stderr",
          "text": [
            "\r 94%|█████████▍| 102/108 [2:31:51<04:50, 48.48s/it]/usr/local/lib/python3.7/dist-packages/pyproj/crs/crs.py:131: FutureWarning: '+init=<authority>:<code>' syntax is deprecated. '<authority>:<code>' is the preferred initialization method. When making the change, be mindful of axis order changes: https://pyproj4.github.io/pyproj/stable/gotchas.html#axis-order-changes-in-proj-6\n",
            "  in_crs_string = _prepare_from_proj_string(in_crs_string)\n",
            "/usr/local/lib/python3.7/dist-packages/pyproj/crs/crs.py:131: FutureWarning: '+init=<authority>:<code>' syntax is deprecated. '<authority>:<code>' is the preferred initialization method. When making the change, be mindful of axis order changes: https://pyproj4.github.io/pyproj/stable/gotchas.html#axis-order-changes-in-proj-6\n",
            "  in_crs_string = _prepare_from_proj_string(in_crs_string)\n",
            "/usr/local/lib/python3.7/dist-packages/ipykernel_launcher.py:18: DeprecationWarning: This function is deprecated. See: https://pyproj4.github.io/pyproj/stable/gotchas.html#upgrading-to-pyproj-2-from-pyproj-1\n",
            "/usr/local/lib/python3.7/dist-packages/ipykernel_launcher.py:19: DeprecationWarning: This function is deprecated. See: https://pyproj4.github.io/pyproj/stable/gotchas.html#upgrading-to-pyproj-2-from-pyproj-1\n"
          ]
        },
        {
          "output_type": "stream",
          "name": "stdout",
          "text": [
            "{   'fire_alert_date': '2020-08-18',\n",
            "    'fire_alert_date_a_few_days_before': '2020-07-19',\n",
            "    'fire_area': 2831.56,\n",
            "    'fire_cont_date': '2020-09-06',\n",
            "    'fire_cont_date_a_few_days_after': '2020-10-06',\n",
            "    'fire_name': 'CAL_database_Sentinel2_155',\n",
            "    'fire_perimeter': [   -121.71889080000732,\n",
            "                          36.39196092324369,\n",
            "                          -121.58563491696142,\n",
            "                          36.44990094428642]}\n",
            "102 / 108\n",
            "Generating the Sentinel tif: CAL_database_Sentinel2_155_postFire_RGBIR\n",
            "Polling for task (id: SOMDIZOWKQ3WYKWXJABVVWDM).\n",
            "{'state': 'READY', 'description': 'export_task', 'creation_timestamp_ms': 1642080202549, 'update_timestamp_ms': 1642080202549, 'start_timestamp_ms': 0, 'task_type': 'EXPORT_IMAGE', 'id': 'SOMDIZOWKQ3WYKWXJABVVWDM', 'name': 'projects/earthengine-legacy/operations/SOMDIZOWKQ3WYKWXJABVVWDM'}\n",
            "Polling for task (id: SOMDIZOWKQ3WYKWXJABVVWDM).\n",
            "{'state': 'READY', 'description': 'export_task', 'creation_timestamp_ms': 1642080202549, 'update_timestamp_ms': 1642080202549, 'start_timestamp_ms': 0, 'task_type': 'EXPORT_IMAGE', 'id': 'SOMDIZOWKQ3WYKWXJABVVWDM', 'name': 'projects/earthengine-legacy/operations/SOMDIZOWKQ3WYKWXJABVVWDM'}\n",
            "Polling for task (id: SOMDIZOWKQ3WYKWXJABVVWDM).\n",
            "{'state': 'RUNNING', 'description': 'export_task', 'creation_timestamp_ms': 1642080202549, 'update_timestamp_ms': 1642080260342, 'start_timestamp_ms': 1642080257589, 'task_type': 'EXPORT_IMAGE', 'attempt': 1, 'id': 'SOMDIZOWKQ3WYKWXJABVVWDM', 'name': 'projects/earthengine-legacy/operations/SOMDIZOWKQ3WYKWXJABVVWDM'}\n"
          ]
        },
        {
          "output_type": "stream",
          "name": "stderr",
          "text": [
            "\r 95%|█████████▌| 103/108 [2:33:22<05:07, 61.42s/it]/usr/local/lib/python3.7/dist-packages/pyproj/crs/crs.py:131: FutureWarning: '+init=<authority>:<code>' syntax is deprecated. '<authority>:<code>' is the preferred initialization method. When making the change, be mindful of axis order changes: https://pyproj4.github.io/pyproj/stable/gotchas.html#axis-order-changes-in-proj-6\n",
            "  in_crs_string = _prepare_from_proj_string(in_crs_string)\n",
            "/usr/local/lib/python3.7/dist-packages/pyproj/crs/crs.py:131: FutureWarning: '+init=<authority>:<code>' syntax is deprecated. '<authority>:<code>' is the preferred initialization method. When making the change, be mindful of axis order changes: https://pyproj4.github.io/pyproj/stable/gotchas.html#axis-order-changes-in-proj-6\n",
            "  in_crs_string = _prepare_from_proj_string(in_crs_string)\n",
            "/usr/local/lib/python3.7/dist-packages/ipykernel_launcher.py:18: DeprecationWarning: This function is deprecated. See: https://pyproj4.github.io/pyproj/stable/gotchas.html#upgrading-to-pyproj-2-from-pyproj-1\n",
            "/usr/local/lib/python3.7/dist-packages/ipykernel_launcher.py:19: DeprecationWarning: This function is deprecated. See: https://pyproj4.github.io/pyproj/stable/gotchas.html#upgrading-to-pyproj-2-from-pyproj-1\n"
          ]
        },
        {
          "output_type": "stream",
          "name": "stdout",
          "text": [
            "{   'fire_alert_date': '2018-09-14',\n",
            "    'fire_alert_date_a_few_days_before': '2018-08-15',\n",
            "    'fire_area': 2821.57,\n",
            "    'fire_cont_date': '2018-09-17',\n",
            "    'fire_cont_date_a_few_days_after': '2018-10-17',\n",
            "    'fire_name': 'CAL_database_Sentinel2_8274',\n",
            "    'fire_perimeter': [   -119.48565042557426,\n",
            "                          38.359402712227066,\n",
            "                          -119.37051159466853,\n",
            "                          38.41634561057294]}\n",
            "103 / 108\n",
            "Generating the Sentinel tif: CAL_database_Sentinel2_8274_postFire_RGBIR\n",
            "Polling for task (id: O4NM2HIPQZDL6LDLHUZZICF3).\n",
            "{'state': 'READY', 'description': 'export_task', 'creation_timestamp_ms': 1642080294174, 'update_timestamp_ms': 1642080294174, 'start_timestamp_ms': 0, 'task_type': 'EXPORT_IMAGE', 'id': 'O4NM2HIPQZDL6LDLHUZZICF3', 'name': 'projects/earthengine-legacy/operations/O4NM2HIPQZDL6LDLHUZZICF3'}\n",
            "Polling for task (id: O4NM2HIPQZDL6LDLHUZZICF3).\n",
            "{'state': 'READY', 'description': 'export_task', 'creation_timestamp_ms': 1642080294174, 'update_timestamp_ms': 1642080294174, 'start_timestamp_ms': 0, 'task_type': 'EXPORT_IMAGE', 'id': 'O4NM2HIPQZDL6LDLHUZZICF3', 'name': 'projects/earthengine-legacy/operations/O4NM2HIPQZDL6LDLHUZZICF3'}\n"
          ]
        },
        {
          "output_type": "stream",
          "name": "stderr",
          "text": [
            "\r 96%|█████████▋| 104/108 [2:34:24<04:05, 61.38s/it]/usr/local/lib/python3.7/dist-packages/pyproj/crs/crs.py:131: FutureWarning: '+init=<authority>:<code>' syntax is deprecated. '<authority>:<code>' is the preferred initialization method. When making the change, be mindful of axis order changes: https://pyproj4.github.io/pyproj/stable/gotchas.html#axis-order-changes-in-proj-6\n",
            "  in_crs_string = _prepare_from_proj_string(in_crs_string)\n",
            "/usr/local/lib/python3.7/dist-packages/pyproj/crs/crs.py:131: FutureWarning: '+init=<authority>:<code>' syntax is deprecated. '<authority>:<code>' is the preferred initialization method. When making the change, be mindful of axis order changes: https://pyproj4.github.io/pyproj/stable/gotchas.html#axis-order-changes-in-proj-6\n",
            "  in_crs_string = _prepare_from_proj_string(in_crs_string)\n",
            "/usr/local/lib/python3.7/dist-packages/ipykernel_launcher.py:18: DeprecationWarning: This function is deprecated. See: https://pyproj4.github.io/pyproj/stable/gotchas.html#upgrading-to-pyproj-2-from-pyproj-1\n",
            "/usr/local/lib/python3.7/dist-packages/ipykernel_launcher.py:19: DeprecationWarning: This function is deprecated. See: https://pyproj4.github.io/pyproj/stable/gotchas.html#upgrading-to-pyproj-2-from-pyproj-1\n"
          ]
        },
        {
          "output_type": "stream",
          "name": "stdout",
          "text": [
            "{   'fire_alert_date': '2020-07-25',\n",
            "    'fire_alert_date_a_few_days_before': '2020-06-25',\n",
            "    'fire_area': 2801.24,\n",
            "    'fire_cont_date': '2020-11-19',\n",
            "    'fire_cont_date_a_few_days_after': '2020-12-19',\n",
            "    'fire_name': 'CAL_database_Sentinel2_301',\n",
            "    'fire_perimeter': [   -119.65773920785239,\n",
            "                          37.80954428805149,\n",
            "                          -119.5549452305418,\n",
            "                          37.87477438464876]}\n",
            "104 / 108\n",
            "Generating the Sentinel tif: CAL_database_Sentinel2_301_postFire_RGBIR\n",
            "Polling for task (id: O24GZYOE4YYNDCV6ISS6WGXR).\n",
            "{'state': 'READY', 'description': 'export_task', 'creation_timestamp_ms': 1642080355500, 'update_timestamp_ms': 1642080355500, 'start_timestamp_ms': 0, 'task_type': 'EXPORT_IMAGE', 'id': 'O24GZYOE4YYNDCV6ISS6WGXR', 'name': 'projects/earthengine-legacy/operations/O24GZYOE4YYNDCV6ISS6WGXR'}\n",
            "Polling for task (id: O24GZYOE4YYNDCV6ISS6WGXR).\n",
            "{'state': 'RUNNING', 'description': 'export_task', 'creation_timestamp_ms': 1642080355500, 'update_timestamp_ms': 1642080379640, 'start_timestamp_ms': 1642080374507, 'task_type': 'EXPORT_IMAGE', 'attempt': 1, 'id': 'O24GZYOE4YYNDCV6ISS6WGXR', 'name': 'projects/earthengine-legacy/operations/O24GZYOE4YYNDCV6ISS6WGXR'}\n"
          ]
        },
        {
          "output_type": "stream",
          "name": "stderr",
          "text": [
            "\r 97%|█████████▋| 105/108 [2:35:25<03:04, 61.37s/it]/usr/local/lib/python3.7/dist-packages/pyproj/crs/crs.py:131: FutureWarning: '+init=<authority>:<code>' syntax is deprecated. '<authority>:<code>' is the preferred initialization method. When making the change, be mindful of axis order changes: https://pyproj4.github.io/pyproj/stable/gotchas.html#axis-order-changes-in-proj-6\n",
            "  in_crs_string = _prepare_from_proj_string(in_crs_string)\n",
            "/usr/local/lib/python3.7/dist-packages/pyproj/crs/crs.py:131: FutureWarning: '+init=<authority>:<code>' syntax is deprecated. '<authority>:<code>' is the preferred initialization method. When making the change, be mindful of axis order changes: https://pyproj4.github.io/pyproj/stable/gotchas.html#axis-order-changes-in-proj-6\n",
            "  in_crs_string = _prepare_from_proj_string(in_crs_string)\n",
            "/usr/local/lib/python3.7/dist-packages/ipykernel_launcher.py:18: DeprecationWarning: This function is deprecated. See: https://pyproj4.github.io/pyproj/stable/gotchas.html#upgrading-to-pyproj-2-from-pyproj-1\n",
            "/usr/local/lib/python3.7/dist-packages/ipykernel_launcher.py:19: DeprecationWarning: This function is deprecated. See: https://pyproj4.github.io/pyproj/stable/gotchas.html#upgrading-to-pyproj-2-from-pyproj-1\n"
          ]
        },
        {
          "output_type": "stream",
          "name": "stdout",
          "text": [
            "{   'fire_alert_date': '2020-08-02',\n",
            "    'fire_alert_date_a_few_days_before': '2020-07-03',\n",
            "    'fire_area': 2785.17,\n",
            "    'fire_cont_date': '2020-08-10',\n",
            "    'fire_cont_date_a_few_days_after': '2020-09-09',\n",
            "    'fire_name': 'CAL_database_Sentinel2_323',\n",
            "    'fire_perimeter': [   -120.03916290416984,\n",
            "                          39.82358456328094,\n",
            "                          -119.93314394061015,\n",
            "                          39.88201745836625]}\n",
            "105 / 108\n",
            "Generating the Sentinel tif: CAL_database_Sentinel2_323_postFire_RGBIR\n",
            "Polling for task (id: C3GM4M4UIWTKALGKMQIEFLR5).\n",
            "{'state': 'READY', 'description': 'export_task', 'creation_timestamp_ms': 1642080416795, 'update_timestamp_ms': 1642080416795, 'start_timestamp_ms': 0, 'task_type': 'EXPORT_IMAGE', 'id': 'C3GM4M4UIWTKALGKMQIEFLR5', 'name': 'projects/earthengine-legacy/operations/C3GM4M4UIWTKALGKMQIEFLR5'}\n",
            "Polling for task (id: C3GM4M4UIWTKALGKMQIEFLR5).\n",
            "{'state': 'READY', 'description': 'export_task', 'creation_timestamp_ms': 1642080416795, 'update_timestamp_ms': 1642080416795, 'start_timestamp_ms': 0, 'task_type': 'EXPORT_IMAGE', 'id': 'C3GM4M4UIWTKALGKMQIEFLR5', 'name': 'projects/earthengine-legacy/operations/C3GM4M4UIWTKALGKMQIEFLR5'}\n",
            "Polling for task (id: C3GM4M4UIWTKALGKMQIEFLR5).\n",
            "{'state': 'RUNNING', 'description': 'export_task', 'creation_timestamp_ms': 1642080416795, 'update_timestamp_ms': 1642080477055, 'start_timestamp_ms': 1642080476916, 'task_type': 'EXPORT_IMAGE', 'attempt': 1, 'id': 'C3GM4M4UIWTKALGKMQIEFLR5', 'name': 'projects/earthengine-legacy/operations/C3GM4M4UIWTKALGKMQIEFLR5'}\n",
            "Polling for task (id: C3GM4M4UIWTKALGKMQIEFLR5).\n",
            "{'state': 'RUNNING', 'description': 'export_task', 'creation_timestamp_ms': 1642080416795, 'update_timestamp_ms': 1642080479572, 'start_timestamp_ms': 1642080476916, 'task_type': 'EXPORT_IMAGE', 'attempt': 1, 'id': 'C3GM4M4UIWTKALGKMQIEFLR5', 'name': 'projects/earthengine-legacy/operations/C3GM4M4UIWTKALGKMQIEFLR5'}\n"
          ]
        },
        {
          "output_type": "stream",
          "name": "stderr",
          "text": [
            "\r 98%|█████████▊| 106/108 [2:37:27<02:39, 79.54s/it]/usr/local/lib/python3.7/dist-packages/pyproj/crs/crs.py:131: FutureWarning: '+init=<authority>:<code>' syntax is deprecated. '<authority>:<code>' is the preferred initialization method. When making the change, be mindful of axis order changes: https://pyproj4.github.io/pyproj/stable/gotchas.html#axis-order-changes-in-proj-6\n",
            "  in_crs_string = _prepare_from_proj_string(in_crs_string)\n",
            "/usr/local/lib/python3.7/dist-packages/pyproj/crs/crs.py:131: FutureWarning: '+init=<authority>:<code>' syntax is deprecated. '<authority>:<code>' is the preferred initialization method. When making the change, be mindful of axis order changes: https://pyproj4.github.io/pyproj/stable/gotchas.html#axis-order-changes-in-proj-6\n",
            "  in_crs_string = _prepare_from_proj_string(in_crs_string)\n",
            "/usr/local/lib/python3.7/dist-packages/ipykernel_launcher.py:18: DeprecationWarning: This function is deprecated. See: https://pyproj4.github.io/pyproj/stable/gotchas.html#upgrading-to-pyproj-2-from-pyproj-1\n",
            "/usr/local/lib/python3.7/dist-packages/ipykernel_launcher.py:19: DeprecationWarning: This function is deprecated. See: https://pyproj4.github.io/pyproj/stable/gotchas.html#upgrading-to-pyproj-2-from-pyproj-1\n"
          ]
        },
        {
          "output_type": "stream",
          "name": "stdout",
          "text": [
            "{   'fire_alert_date': '2016-08-08',\n",
            "    'fire_alert_date_a_few_days_before': '2016-07-09',\n",
            "    'fire_area': 2747.93,\n",
            "    'fire_cont_date': '2016-08-19',\n",
            "    'fire_cont_date_a_few_days_after': '2016-09-18',\n",
            "    'fire_name': 'CAL_database_Sentinel2_7107',\n",
            "    'fire_perimeter': [   -120.55428699105988,\n",
            "                          36.10380334044085,\n",
            "                          -120.49154896592728,\n",
            "                          36.18365446158778]}\n",
            "106 / 108\n",
            "Generating the Sentinel tif: CAL_database_Sentinel2_7107_postFire_RGBIR\n",
            "Polling for task (id: GW7UJCJUUUWCDYHLZICDGZAH).\n",
            "{'state': 'READY', 'description': 'export_task', 'creation_timestamp_ms': 1642080538769, 'update_timestamp_ms': 1642080538769, 'start_timestamp_ms': 0, 'task_type': 'EXPORT_IMAGE', 'id': 'GW7UJCJUUUWCDYHLZICDGZAH', 'name': 'projects/earthengine-legacy/operations/GW7UJCJUUUWCDYHLZICDGZAH'}\n"
          ]
        },
        {
          "output_type": "stream",
          "name": "stderr",
          "text": [
            "\r 99%|█████████▉| 107/108 [2:37:58<01:04, 64.98s/it]/usr/local/lib/python3.7/dist-packages/pyproj/crs/crs.py:131: FutureWarning: '+init=<authority>:<code>' syntax is deprecated. '<authority>:<code>' is the preferred initialization method. When making the change, be mindful of axis order changes: https://pyproj4.github.io/pyproj/stable/gotchas.html#axis-order-changes-in-proj-6\n",
            "  in_crs_string = _prepare_from_proj_string(in_crs_string)\n",
            "/usr/local/lib/python3.7/dist-packages/pyproj/crs/crs.py:131: FutureWarning: '+init=<authority>:<code>' syntax is deprecated. '<authority>:<code>' is the preferred initialization method. When making the change, be mindful of axis order changes: https://pyproj4.github.io/pyproj/stable/gotchas.html#axis-order-changes-in-proj-6\n",
            "  in_crs_string = _prepare_from_proj_string(in_crs_string)\n",
            "/usr/local/lib/python3.7/dist-packages/ipykernel_launcher.py:18: DeprecationWarning: This function is deprecated. See: https://pyproj4.github.io/pyproj/stable/gotchas.html#upgrading-to-pyproj-2-from-pyproj-1\n",
            "/usr/local/lib/python3.7/dist-packages/ipykernel_launcher.py:19: DeprecationWarning: This function is deprecated. See: https://pyproj4.github.io/pyproj/stable/gotchas.html#upgrading-to-pyproj-2-from-pyproj-1\n"
          ]
        },
        {
          "output_type": "stream",
          "name": "stdout",
          "text": [
            "{   'fire_alert_date': '2020-12-03',\n",
            "    'fire_alert_date_a_few_days_before': '2020-11-03',\n",
            "    'fire_area': 2703.75,\n",
            "    'fire_cont_date': '2020-12-07',\n",
            "    'fire_cont_date_a_few_days_after': '2021-01-06',\n",
            "    'fire_name': 'CAL_database_Sentinel2_42',\n",
            "    'fire_perimeter': [   -117.7390241388629,\n",
            "                          33.710262329450316,\n",
            "                          -117.6024738223089,\n",
            "                          33.768104566044855]}\n",
            "107 / 108\n",
            "Generating the Sentinel tif: CAL_database_Sentinel2_42_postFire_RGBIR\n",
            "Polling for task (id: AIND6YHKHZ7Q2AURX3EBN52P).\n",
            "{'state': 'READY', 'description': 'export_task', 'creation_timestamp_ms': 1642080569756, 'update_timestamp_ms': 1642080569756, 'start_timestamp_ms': 0, 'task_type': 'EXPORT_IMAGE', 'id': 'AIND6YHKHZ7Q2AURX3EBN52P', 'name': 'projects/earthengine-legacy/operations/AIND6YHKHZ7Q2AURX3EBN52P'}\n",
            "Polling for task (id: AIND6YHKHZ7Q2AURX3EBN52P).\n",
            "{'state': 'READY', 'description': 'export_task', 'creation_timestamp_ms': 1642080569756, 'update_timestamp_ms': 1642080569756, 'start_timestamp_ms': 0, 'task_type': 'EXPORT_IMAGE', 'id': 'AIND6YHKHZ7Q2AURX3EBN52P', 'name': 'projects/earthengine-legacy/operations/AIND6YHKHZ7Q2AURX3EBN52P'}\n"
          ]
        },
        {
          "output_type": "stream",
          "name": "stderr",
          "text": [
            "100%|██████████| 108/108 [2:38:59<00:00, 88.33s/it]\n"
          ]
        }
      ]
    },
    {
      "cell_type": "markdown",
      "metadata": {
        "id": "IGcvuGzhu7IY"
      },
      "source": [
        "# Label tiff generation"
      ]
    },
    {
      "cell_type": "markdown",
      "metadata": {
        "id": "QuLFDOdUO4MX"
      },
      "source": [
        "Check the input data"
      ]
    },
    {
      "cell_type": "code",
      "metadata": {
        "colab": {
          "base_uri": "https://localhost:8080/"
        },
        "id": "kwvI8gdfOWS8",
        "outputId": "b08bfd62-f7c0-434e-bd21-5395b32c44d5"
      },
      "source": [
        "IMAGES_FOLDER = '/content/gdrive/MyDrive/Data/Training_data/CAL_database_2/images'\n",
        "MASKS_FOLDER = '/content/gdrive/MyDrive/Data/Training_data/CAL_database_2/masks'\n",
        "INDIVIDUAL_SHAPEFILE_FOLDER = '/content/gdrive/MyDrive/Fires/PERIMETRES/PERIM_DATABASE/CAL_database/individual_shapefiles'\n",
        "\n",
        "# Listing all Sentinel tif files\n",
        "sentinel_tif_list = os.listdir(IMAGES_FOLDER)\n",
        "sentinel_tif_list = [i for i in sentinel_tif_list if '.tif' in i]\n",
        "\n",
        "# Listing all Shapefiles\n",
        "shapefile_list = os.listdir(INDIVIDUAL_SHAPEFILE_FOLDER)\n",
        "shapefile_list = [i for i in shapefile_list if '.shp' in i]\n",
        "\n",
        "print('Total number of Sentinel images : ', len(sentinel_tif_list))\n",
        "print('Total number of Shapefiles : ', len(shapefile_list))"
      ],
      "execution_count": null,
      "outputs": [
        {
          "output_type": "stream",
          "name": "stdout",
          "text": [
            "Total number of Sentinel images :  41\n",
            "Total number of Shapefiles :  600\n"
          ]
        }
      ]
    },
    {
      "cell_type": "markdown",
      "metadata": {
        "id": "pX2oQIq_O9K8"
      },
      "source": [
        "Generation of the label tiff"
      ]
    },
    {
      "cell_type": "code",
      "metadata": {
        "colab": {
          "base_uri": "https://localhost:8080/"
        },
        "id": "pIZNy71yPCFg",
        "outputId": "a764ba88-7736-43db-d1ae-72a16759d057"
      },
      "source": [
        "# Init driver\n",
        "drv_tiff = gdal.GetDriverByName(\"GTiff\")\n",
        "driver = ogr.GetDriverByName('ESRI Shapefile')\n",
        "\n",
        "for sentinel_tif_file in tqdm(sentinel_tif_list):\n",
        "\n",
        "  print(sentinel_tif_file)\n",
        "\n",
        "  # Opening the Sentinel image\n",
        "  fire_sentinel_raster = gdal.Open(op.join(IMAGES_FOLDER, sentinel_tif_file))\n",
        "  geot = fire_sentinel_raster.GetGeoTransform()\n",
        "\n",
        "  # Finding and opening the Shapefile\n",
        "  fire_id = sentinel_tif_file.split('_')[3]\n",
        "  shapefile_filename = 'fperim' + str(fire_id) + '.shp'\n",
        "  shapefile_filename = op.join(INDIVIDUAL_SHAPEFILE_FOLDER, shapefile_filename)\n",
        "  print(shapefile_filename)\n",
        "\n",
        "  dataSource = driver.Open(shapefile_filename, 0) # 0 means read-only. 1 means writeable.\n",
        "\n",
        "  # Checking if the corresponding shapefile has been found.\n",
        "  shapefile_not_found = []\n",
        "  if dataSource is None:\n",
        "    shapefile_not_found.append(fire_id)\n",
        "    break\n",
        "  else:\n",
        "    layer = dataSource.GetLayer()\n",
        "\n",
        "  # Defining the label filename\n",
        "  if 'post' in sentinel_tif_file:\n",
        "    label_filename = op.join(MASKS_FOLDER, 'CAL_database_Sentinel2_' + fire_id + '_postFire_label.tif')\n",
        "  else:\n",
        "    label_filename = op.join(MASKS_FOLDER, 'CAL_database_Sentinel2_' + fire_id + '_preFire_label.tif')\n",
        "\n",
        "  # Creating the new raster\n",
        "  chn_ras_ds = drv_tiff.Create(label_filename, \n",
        "                               fire_sentinel_raster.RasterXSize, \n",
        "                               fire_sentinel_raster.RasterYSize, \n",
        "                               1, \n",
        "                               gdal.GDT_Byte)\n",
        "  \n",
        "  chn_ras_ds.SetGeoTransform(geot)\n",
        "  chn_ras_ds.SetProjection(fire_sentinel_raster.GetProjection())\n",
        "\n",
        "  if 'post' in sentinel_tif_file: gdal.RasterizeLayer(chn_ras_ds, [1], layer, None)\n",
        "  chn_ras_ds.GetRasterBand(1).SetNoDataValue(0.0)\n",
        "\n",
        "  chn_ras_ds = None\n",
        "\n",
        "# Checking the number of files generated\n",
        "label_tif_list = os.listdir(MASKS_FOLDER)\n",
        "print('Current generated Label tif files: ' + str(len(label_tif_list)))\n",
        "print('Total submitted Sentinel tif files: ' + str(len(sentinel_tif_list)))\n",
        "print('Number of unfound shapefile: ' + str(len(shapefile_not_found)))\n",
        "\n",
        "# Finally, visual check the postFire label tif because some are totally black for an unknown reason."
      ],
      "execution_count": null,
      "outputs": [
        {
          "output_type": "stream",
          "name": "stderr",
          "text": [
            "\r  0%|          | 0/41 [00:00<?, ?it/s]"
          ]
        },
        {
          "output_type": "stream",
          "name": "stdout",
          "text": [
            "CAL_database_Sentinel2_176_postFire_RGBIR.tif\n",
            "/content/gdrive/MyDrive/Fires/PERIMETRES/PERIM_DATABASE/CAL_database/individual_shapefiles/fperim176.shp\n"
          ]
        },
        {
          "output_type": "stream",
          "name": "stderr",
          "text": [
            "\r  2%|▏         | 1/41 [00:00<00:19,  2.02it/s]"
          ]
        },
        {
          "output_type": "stream",
          "name": "stdout",
          "text": [
            "CAL_database_Sentinel2_155_postFire_RGBIR.tif\n",
            "/content/gdrive/MyDrive/Fires/PERIMETRES/PERIM_DATABASE/CAL_database/individual_shapefiles/fperim155.shp\n"
          ]
        },
        {
          "output_type": "stream",
          "name": "stderr",
          "text": [
            "\r  5%|▍         | 2/41 [00:01<00:40,  1.04s/it]"
          ]
        },
        {
          "output_type": "stream",
          "name": "stdout",
          "text": [
            "CAL_database_Sentinel2_164_postFire_RGBIR.tif\n",
            "/content/gdrive/MyDrive/Fires/PERIMETRES/PERIM_DATABASE/CAL_database/individual_shapefiles/fperim164.shp\n"
          ]
        },
        {
          "output_type": "stream",
          "name": "stderr",
          "text": [
            "\r  7%|▋         | 3/41 [00:03<00:43,  1.15s/it]"
          ]
        },
        {
          "output_type": "stream",
          "name": "stdout",
          "text": [
            "CAL_database_Sentinel2_140_postFire_RGBIR.tif\n",
            "/content/gdrive/MyDrive/Fires/PERIMETRES/PERIM_DATABASE/CAL_database/individual_shapefiles/fperim140.shp\n"
          ]
        },
        {
          "output_type": "stream",
          "name": "stderr",
          "text": [
            "\r 10%|▉         | 4/41 [00:04<00:46,  1.26s/it]"
          ]
        },
        {
          "output_type": "stream",
          "name": "stdout",
          "text": [
            "CAL_database_Sentinel2_120_postFire_RGBIR.tif\n",
            "/content/gdrive/MyDrive/Fires/PERIMETRES/PERIM_DATABASE/CAL_database/individual_shapefiles/fperim120.shp\n"
          ]
        },
        {
          "output_type": "stream",
          "name": "stderr",
          "text": [
            "\r 12%|█▏        | 5/41 [00:05<00:46,  1.28s/it]"
          ]
        },
        {
          "output_type": "stream",
          "name": "stdout",
          "text": [
            "CAL_database_Sentinel2_22_postFire_RGBIR.tif\n",
            "/content/gdrive/MyDrive/Fires/PERIMETRES/PERIM_DATABASE/CAL_database/individual_shapefiles/fperim22.shp\n"
          ]
        },
        {
          "output_type": "stream",
          "name": "stderr",
          "text": [
            "\r 15%|█▍        | 6/41 [00:07<00:45,  1.29s/it]"
          ]
        },
        {
          "output_type": "stream",
          "name": "stdout",
          "text": [
            "CAL_database_Sentinel2_227_postFire_RGBIR.tif\n",
            "/content/gdrive/MyDrive/Fires/PERIMETRES/PERIM_DATABASE/CAL_database/individual_shapefiles/fperim227.shp\n"
          ]
        },
        {
          "output_type": "stream",
          "name": "stderr",
          "text": [
            "\r 17%|█▋        | 7/41 [01:53<20:15, 35.76s/it]"
          ]
        },
        {
          "output_type": "stream",
          "name": "stdout",
          "text": [
            "CAL_database_Sentinel2_226_postFire_RGBIR.tif\n",
            "/content/gdrive/MyDrive/Fires/PERIMETRES/PERIM_DATABASE/CAL_database/individual_shapefiles/fperim226.shp\n"
          ]
        },
        {
          "output_type": "stream",
          "name": "stderr",
          "text": [
            "\r 20%|█▉        | 8/41 [01:54<13:32, 24.62s/it]"
          ]
        },
        {
          "output_type": "stream",
          "name": "stdout",
          "text": [
            "CAL_database_Sentinel2_225_postFire_RGBIR.tif\n"
          ]
        },
        {
          "output_type": "stream",
          "name": "stderr",
          "text": [
            "\r 22%|██▏       | 9/41 [01:55<09:04, 17.03s/it]"
          ]
        },
        {
          "output_type": "stream",
          "name": "stdout",
          "text": [
            "/content/gdrive/MyDrive/Fires/PERIMETRES/PERIM_DATABASE/CAL_database/individual_shapefiles/fperim225.shp\n",
            "CAL_database_Sentinel2_201_postFire_RGBIR.tif\n"
          ]
        },
        {
          "output_type": "stream",
          "name": "stderr",
          "text": [
            "\r 24%|██▍       | 10/41 [01:55<06:08, 11.89s/it]"
          ]
        },
        {
          "output_type": "stream",
          "name": "stdout",
          "text": [
            "/content/gdrive/MyDrive/Fires/PERIMETRES/PERIM_DATABASE/CAL_database/individual_shapefiles/fperim201.shp\n",
            "CAL_database_Sentinel2_185_postFire_RGBIR.tif\n"
          ]
        },
        {
          "output_type": "stream",
          "name": "stderr",
          "text": [
            "\r 27%|██▋       | 11/41 [01:55<04:10,  8.37s/it]"
          ]
        },
        {
          "output_type": "stream",
          "name": "stdout",
          "text": [
            "/content/gdrive/MyDrive/Fires/PERIMETRES/PERIM_DATABASE/CAL_database/individual_shapefiles/fperim185.shp\n",
            "CAL_database_Sentinel2_272_postFire_RGBIR.tif\n"
          ]
        },
        {
          "output_type": "stream",
          "name": "stderr",
          "text": [
            "\r 29%|██▉       | 12/41 [01:56<02:52,  5.95s/it]"
          ]
        },
        {
          "output_type": "stream",
          "name": "stdout",
          "text": [
            "/content/gdrive/MyDrive/Fires/PERIMETRES/PERIM_DATABASE/CAL_database/individual_shapefiles/fperim272.shp\n",
            "CAL_database_Sentinel2_270_postFire_RGBIR.tif\n"
          ]
        },
        {
          "output_type": "stream",
          "name": "stderr",
          "text": [
            "\r 32%|███▏      | 13/41 [01:56<01:59,  4.26s/it]"
          ]
        },
        {
          "output_type": "stream",
          "name": "stdout",
          "text": [
            "/content/gdrive/MyDrive/Fires/PERIMETRES/PERIM_DATABASE/CAL_database/individual_shapefiles/fperim270.shp\n",
            "CAL_database_Sentinel2_243_postFire_RGBIR.tif\n"
          ]
        },
        {
          "output_type": "stream",
          "name": "stderr",
          "text": [
            "\r 34%|███▍      | 14/41 [01:57<01:24,  3.12s/it]"
          ]
        },
        {
          "output_type": "stream",
          "name": "stdout",
          "text": [
            "/content/gdrive/MyDrive/Fires/PERIMETRES/PERIM_DATABASE/CAL_database/individual_shapefiles/fperim243.shp\n",
            "CAL_database_Sentinel2_240_postFire_RGBIR.tif\n"
          ]
        },
        {
          "output_type": "stream",
          "name": "stderr",
          "text": [
            "\r 37%|███▋      | 15/41 [01:57<00:59,  2.28s/it]"
          ]
        },
        {
          "output_type": "stream",
          "name": "stdout",
          "text": [
            "/content/gdrive/MyDrive/Fires/PERIMETRES/PERIM_DATABASE/CAL_database/individual_shapefiles/fperim240.shp\n",
            "CAL_database_Sentinel2_238_postFire_RGBIR.tif\n"
          ]
        },
        {
          "output_type": "stream",
          "name": "stderr",
          "text": [
            "\r 39%|███▉      | 16/41 [01:57<00:42,  1.71s/it]"
          ]
        },
        {
          "output_type": "stream",
          "name": "stdout",
          "text": [
            "/content/gdrive/MyDrive/Fires/PERIMETRES/PERIM_DATABASE/CAL_database/individual_shapefiles/fperim238.shp\n",
            "CAL_database_Sentinel2_314_postFire_RGBIR.tif\n"
          ]
        },
        {
          "output_type": "stream",
          "name": "stderr",
          "text": [
            "\r 41%|████▏     | 17/41 [01:58<00:31,  1.31s/it]"
          ]
        },
        {
          "output_type": "stream",
          "name": "stdout",
          "text": [
            "/content/gdrive/MyDrive/Fires/PERIMETRES/PERIM_DATABASE/CAL_database/individual_shapefiles/fperim314.shp\n",
            "CAL_database_Sentinel2_301_postFire_RGBIR.tif\n"
          ]
        },
        {
          "output_type": "stream",
          "name": "stderr",
          "text": [
            "\r 44%|████▍     | 18/41 [01:58<00:23,  1.01s/it]"
          ]
        },
        {
          "output_type": "stream",
          "name": "stdout",
          "text": [
            "/content/gdrive/MyDrive/Fires/PERIMETRES/PERIM_DATABASE/CAL_database/individual_shapefiles/fperim301.shp\n",
            "CAL_database_Sentinel2_308_postFire_RGBIR.tif\n"
          ]
        },
        {
          "output_type": "stream",
          "name": "stderr",
          "text": [
            "\r 46%|████▋     | 19/41 [01:58<00:18,  1.20it/s]"
          ]
        },
        {
          "output_type": "stream",
          "name": "stdout",
          "text": [
            "/content/gdrive/MyDrive/Fires/PERIMETRES/PERIM_DATABASE/CAL_database/individual_shapefiles/fperim308.shp\n",
            "CAL_database_Sentinel2_303_postFire_RGBIR.tif\n"
          ]
        },
        {
          "output_type": "stream",
          "name": "stderr",
          "text": [
            "\r 49%|████▉     | 20/41 [01:59<00:14,  1.45it/s]"
          ]
        },
        {
          "output_type": "stream",
          "name": "stdout",
          "text": [
            "/content/gdrive/MyDrive/Fires/PERIMETRES/PERIM_DATABASE/CAL_database/individual_shapefiles/fperim303.shp\n",
            "CAL_database_Sentinel2_293_postFire_RGBIR.tif\n"
          ]
        },
        {
          "output_type": "stream",
          "name": "stderr",
          "text": [
            "\r 51%|█████     | 21/41 [01:59<00:11,  1.75it/s]"
          ]
        },
        {
          "output_type": "stream",
          "name": "stdout",
          "text": [
            "/content/gdrive/MyDrive/Fires/PERIMETRES/PERIM_DATABASE/CAL_database/individual_shapefiles/fperim293.shp\n",
            "CAL_database_Sentinel2_302_postFire_RGBIR.tif\n"
          ]
        },
        {
          "output_type": "stream",
          "name": "stderr",
          "text": [
            "\r 54%|█████▎    | 22/41 [01:59<00:09,  1.98it/s]"
          ]
        },
        {
          "output_type": "stream",
          "name": "stdout",
          "text": [
            "/content/gdrive/MyDrive/Fires/PERIMETRES/PERIM_DATABASE/CAL_database/individual_shapefiles/fperim302.shp\n",
            "CAL_database_Sentinel2_295_postFire_RGBIR.tif\n"
          ]
        },
        {
          "output_type": "stream",
          "name": "stderr",
          "text": [
            "\r 56%|█████▌    | 23/41 [02:00<00:08,  2.06it/s]"
          ]
        },
        {
          "output_type": "stream",
          "name": "stdout",
          "text": [
            "/content/gdrive/MyDrive/Fires/PERIMETRES/PERIM_DATABASE/CAL_database/individual_shapefiles/fperim295.shp\n",
            "CAL_database_Sentinel2_291_postFire_RGBIR.tif\n",
            "/content/gdrive/MyDrive/Fires/PERIMETRES/PERIM_DATABASE/CAL_database/individual_shapefiles/fperim291.shp\n"
          ]
        },
        {
          "output_type": "stream",
          "name": "stderr",
          "text": [
            "\r 59%|█████▊    | 24/41 [02:02<00:15,  1.06it/s]"
          ]
        },
        {
          "output_type": "stream",
          "name": "stdout",
          "text": [
            "CAL_database_Sentinel2_8261_postFire_RGBIR.tif\n"
          ]
        },
        {
          "output_type": "stream",
          "name": "stderr",
          "text": [
            "\r 61%|██████    | 25/41 [02:02<00:12,  1.29it/s]"
          ]
        },
        {
          "output_type": "stream",
          "name": "stdout",
          "text": [
            "/content/gdrive/MyDrive/Fires/PERIMETRES/PERIM_DATABASE/CAL_database/individual_shapefiles/fperim8261.shp\n",
            "CAL_database_Sentinel2_75_postFire_RGBIR.tif\n"
          ]
        },
        {
          "output_type": "stream",
          "name": "stderr",
          "text": [
            "\r 63%|██████▎   | 26/41 [02:03<00:09,  1.61it/s]"
          ]
        },
        {
          "output_type": "stream",
          "name": "stdout",
          "text": [
            "/content/gdrive/MyDrive/Fires/PERIMETRES/PERIM_DATABASE/CAL_database/individual_shapefiles/fperim75.shp\n",
            "CAL_database_Sentinel2_42_postFire_RGBIR.tif\n"
          ]
        },
        {
          "output_type": "stream",
          "name": "stderr",
          "text": [
            "\r 66%|██████▌   | 27/41 [02:03<00:07,  1.84it/s]"
          ]
        },
        {
          "output_type": "stream",
          "name": "stdout",
          "text": [
            "/content/gdrive/MyDrive/Fires/PERIMETRES/PERIM_DATABASE/CAL_database/individual_shapefiles/fperim42.shp\n",
            "CAL_database_Sentinel2_420_postFire_RGBIR.tif\n"
          ]
        },
        {
          "output_type": "stream",
          "name": "stderr",
          "text": [
            "\r 68%|██████▊   | 28/41 [02:03<00:06,  1.95it/s]"
          ]
        },
        {
          "output_type": "stream",
          "name": "stdout",
          "text": [
            "/content/gdrive/MyDrive/Fires/PERIMETRES/PERIM_DATABASE/CAL_database/individual_shapefiles/fperim420.shp\n",
            "CAL_database_Sentinel2_41_postFire_RGBIR.tif\n"
          ]
        },
        {
          "output_type": "stream",
          "name": "stderr",
          "text": [
            "\r 71%|███████   | 29/41 [02:04<00:05,  2.12it/s]"
          ]
        },
        {
          "output_type": "stream",
          "name": "stdout",
          "text": [
            "/content/gdrive/MyDrive/Fires/PERIMETRES/PERIM_DATABASE/CAL_database/individual_shapefiles/fperim41.shp\n",
            "CAL_database_Sentinel2_322_postFire_RGBIR.tif\n"
          ]
        },
        {
          "output_type": "stream",
          "name": "stderr",
          "text": [
            "\r 73%|███████▎  | 30/41 [02:04<00:04,  2.30it/s]"
          ]
        },
        {
          "output_type": "stream",
          "name": "stdout",
          "text": [
            "/content/gdrive/MyDrive/Fires/PERIMETRES/PERIM_DATABASE/CAL_database/individual_shapefiles/fperim322.shp\n",
            "CAL_database_Sentinel2_323_postFire_RGBIR.tif\n"
          ]
        },
        {
          "output_type": "stream",
          "name": "stderr",
          "text": [
            "\r 76%|███████▌  | 31/41 [02:04<00:03,  2.63it/s]"
          ]
        },
        {
          "output_type": "stream",
          "name": "stdout",
          "text": [
            "/content/gdrive/MyDrive/Fires/PERIMETRES/PERIM_DATABASE/CAL_database/individual_shapefiles/fperim323.shp\n",
            "CAL_database_Sentinel2_40_postFire_RGBIR.tif\n"
          ]
        },
        {
          "output_type": "stream",
          "name": "stderr",
          "text": [
            "\r 78%|███████▊  | 32/41 [02:05<00:03,  2.70it/s]"
          ]
        },
        {
          "output_type": "stream",
          "name": "stdout",
          "text": [
            "/content/gdrive/MyDrive/Fires/PERIMETRES/PERIM_DATABASE/CAL_database/individual_shapefiles/fperim40.shp\n",
            "CAL_database_Sentinel2_350_postFire_RGBIR.tif\n"
          ]
        },
        {
          "output_type": "stream",
          "name": "stderr",
          "text": [
            "\r 80%|████████  | 33/41 [02:05<00:03,  2.65it/s]"
          ]
        },
        {
          "output_type": "stream",
          "name": "stdout",
          "text": [
            "/content/gdrive/MyDrive/Fires/PERIMETRES/PERIM_DATABASE/CAL_database/individual_shapefiles/fperim350.shp\n",
            "CAL_database_Sentinel2_336_postFire_RGBIR.tif\n"
          ]
        },
        {
          "output_type": "stream",
          "name": "stderr",
          "text": [
            "\r 83%|████████▎ | 34/41 [02:06<00:02,  2.53it/s]"
          ]
        },
        {
          "output_type": "stream",
          "name": "stdout",
          "text": [
            "/content/gdrive/MyDrive/Fires/PERIMETRES/PERIM_DATABASE/CAL_database/individual_shapefiles/fperim336.shp\n",
            "CAL_database_Sentinel2_8438_postFire_RGBIR.tif\n"
          ]
        },
        {
          "output_type": "stream",
          "name": "stderr",
          "text": [
            "\r 85%|████████▌ | 35/41 [02:06<00:02,  2.79it/s]"
          ]
        },
        {
          "output_type": "stream",
          "name": "stdout",
          "text": [
            "/content/gdrive/MyDrive/Fires/PERIMETRES/PERIM_DATABASE/CAL_database/individual_shapefiles/fperim8438.shp\n",
            "CAL_database_Sentinel2_8556_postFire_RGBIR.tif\n"
          ]
        },
        {
          "output_type": "stream",
          "name": "stderr",
          "text": [
            "\r 88%|████████▊ | 36/41 [02:06<00:01,  2.98it/s]"
          ]
        },
        {
          "output_type": "stream",
          "name": "stdout",
          "text": [
            "/content/gdrive/MyDrive/Fires/PERIMETRES/PERIM_DATABASE/CAL_database/individual_shapefiles/fperim8556.shp\n",
            "CAL_database_Sentinel2_8630_postFire_RGBIR.tif\n"
          ]
        },
        {
          "output_type": "stream",
          "name": "stderr",
          "text": [
            "\r 90%|█████████ | 37/41 [02:06<00:01,  3.03it/s]"
          ]
        },
        {
          "output_type": "stream",
          "name": "stdout",
          "text": [
            "/content/gdrive/MyDrive/Fires/PERIMETRES/PERIM_DATABASE/CAL_database/individual_shapefiles/fperim8630.shp\n",
            "CAL_database_Sentinel2_8262_postFire_RGBIR.tif\n"
          ]
        },
        {
          "output_type": "stream",
          "name": "stderr",
          "text": [
            "\r 93%|█████████▎| 38/41 [02:07<00:01,  2.51it/s]"
          ]
        },
        {
          "output_type": "stream",
          "name": "stdout",
          "text": [
            "/content/gdrive/MyDrive/Fires/PERIMETRES/PERIM_DATABASE/CAL_database/individual_shapefiles/fperim8262.shp\n",
            "CAL_database_Sentinel2_8326_postFire_RGBIR.tif\n"
          ]
        },
        {
          "output_type": "stream",
          "name": "stderr",
          "text": [
            "\r 95%|█████████▌| 39/41 [02:07<00:00,  2.64it/s]"
          ]
        },
        {
          "output_type": "stream",
          "name": "stdout",
          "text": [
            "/content/gdrive/MyDrive/Fires/PERIMETRES/PERIM_DATABASE/CAL_database/individual_shapefiles/fperim8326.shp\n",
            "CAL_database_Sentinel2_8578_postFire_RGBIR.tif\n"
          ]
        },
        {
          "output_type": "stream",
          "name": "stderr",
          "text": [
            "\r 98%|█████████▊| 40/41 [02:08<00:00,  2.62it/s]"
          ]
        },
        {
          "output_type": "stream",
          "name": "stdout",
          "text": [
            "/content/gdrive/MyDrive/Fires/PERIMETRES/PERIM_DATABASE/CAL_database/individual_shapefiles/fperim8578.shp\n",
            "CAL_database_Sentinel2_8351_postFire_RGBIR.tif\n"
          ]
        },
        {
          "output_type": "stream",
          "name": "stderr",
          "text": [
            "100%|██████████| 41/41 [02:08<00:00,  3.14s/it]"
          ]
        },
        {
          "output_type": "stream",
          "name": "stdout",
          "text": [
            "/content/gdrive/MyDrive/Fires/PERIMETRES/PERIM_DATABASE/CAL_database/individual_shapefiles/fperim8351.shp\n",
            "Current generated Label tif files: 41\n",
            "Total submitted Sentinel tif files: 41\n",
            "Number of unfound shapefile: 0\n"
          ]
        },
        {
          "output_type": "stream",
          "name": "stderr",
          "text": [
            "\n"
          ]
        }
      ]
    }
  ]
}
