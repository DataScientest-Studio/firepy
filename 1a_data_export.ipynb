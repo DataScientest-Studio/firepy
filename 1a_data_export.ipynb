{
  "nbformat": 4,
  "nbformat_minor": 0,
  "metadata": {
    "colab": {
      "name": "1a_data_export.ipynb",
      "provenance": [],
      "collapsed_sections": [],
      "include_colab_link": true
    },
    "kernelspec": {
      "display_name": "Python 3",
      "name": "python3"
    },
    "language_info": {
      "name": "python"
    }
  },
  "cells": [
    {
      "cell_type": "markdown",
      "metadata": {
        "id": "view-in-github",
        "colab_type": "text"
      },
      "source": [
        "<a href=\"https://colab.research.google.com/github/icecore013/image-segmentation-keras/blob/master/1a_data_export.ipynb\" target=\"_parent\"><img src=\"https://colab.research.google.com/assets/colab-badge.svg\" alt=\"Open In Colab\"/></a>"
      ]
    },
    {
      "cell_type": "markdown",
      "source": [
        "# Objective of the notebook\n",
        "\n",
        "The aim of this code is to produce a training database containing the Sentinel 2 images and associated masks."
      ],
      "metadata": {
        "id": "xadGOEefES9I"
      }
    },
    {
      "cell_type": "markdown",
      "metadata": {
        "id": "LYKfJJNJukr0"
      },
      "source": [
        "# Imports and configuration"
      ]
    },
    {
      "cell_type": "code",
      "source": [
        "# Installing and importing the desired packages\n",
        "\n",
        "import pandas as pd\n",
        "import numpy as np\n",
        "from datetime import datetime, timedelta\n",
        "import time\n",
        "from google.colab import drive\n",
        "\n",
        "import os\n",
        "from os import path as op\n",
        "import glob\n",
        "import pprint\n",
        "pp = pprint.PrettyPrinter(indent=4)\n",
        "from tqdm import tqdm\n",
        "\n",
        "import ee\n",
        "import folium\n",
        "import gdal\n",
        "import ogr\n",
        "\n",
        "!pip install rasterio\n",
        "import rasterio as rio\n",
        "from rasterio.windows import Window\n",
        "\n",
        "!pip install geopandas\n",
        "import geopandas as gpd\n",
        "\n",
        "from pyproj import Proj, transform"
      ],
      "metadata": {
        "id": "Wh8kFFOTCA7z"
      },
      "execution_count": null,
      "outputs": []
    },
    {
      "cell_type": "code",
      "metadata": {
        "colab": {
          "base_uri": "https://localhost:8080/"
        },
        "id": "vF9emJE0a2o1",
        "outputId": "521d41a1-6b28-4888-fe40-e4b7e7ecbc6b"
      },
      "source": [
        "# Loading of our drive\n",
        "drive.mount('/content/gdrive', force_remount=True)\n",
        "root_path = 'gdrive/My Drive/'"
      ],
      "execution_count": null,
      "outputs": [
        {
          "output_type": "stream",
          "name": "stdout",
          "text": [
            "Mounted at /content/gdrive\n"
          ]
        }
      ]
    },
    {
      "cell_type": "code",
      "metadata": {
        "colab": {
          "base_uri": "https://localhost:8080/"
        },
        "id": "8gBgKDcya6q6",
        "outputId": "e4488fcc-9c92-4ae2-aa29-968387355499"
      },
      "source": [
        "# Trigger the authentication flow.\n",
        "ee.Authenticate()\n",
        "\n",
        "# Initialize the library.\n",
        "ee.Initialize()"
      ],
      "execution_count": null,
      "outputs": [
        {
          "output_type": "stream",
          "name": "stdout",
          "text": [
            "To authorize access needed by Earth Engine, open the following URL in a web browser and follow the instructions. If the web browser does not start automatically, please manually browse the URL below.\n",
            "\n",
            "    https://accounts.google.com/o/oauth2/auth?client_id=517222506229-vsmmajv00ul0bs7p89v5m89qs8eb9359.apps.googleusercontent.com&scope=https%3A%2F%2Fwww.googleapis.com%2Fauth%2Fearthengine+https%3A%2F%2Fwww.googleapis.com%2Fauth%2Fdevstorage.full_control&redirect_uri=urn%3Aietf%3Awg%3Aoauth%3A2.0%3Aoob&response_type=code&code_challenge=KVxTI021KhUJDvSfRQ8dIE6cmqY63G9WpxZmvNYzFP4&code_challenge_method=S256\n",
            "\n",
            "The authorization workflow will generate a code, which you should paste in the box below. \n",
            "Enter verification code: 4/1AX4XfWiNwwQvDju44pAjmVAy6QGDS9Mhj0NALkj2cp_qGAeBvM9cbYIwuhw\n",
            "\n",
            "Successfully saved authorization token.\n"
          ]
        }
      ]
    },
    {
      "cell_type": "code",
      "metadata": {
        "id": "yorGkj2LiaIF"
      },
      "source": [
        "# Setting the config variables\n",
        "\n",
        "NUMBER_OF_FIRES = 500\n",
        "\n",
        "DATABASE_PATH = \"/content/gdrive/MyDrive/Fires/PERIMETRES/PERIM_DATABASE/\"\n",
        "\n",
        "DATABASE_NAME = \"CAL_database\"\n",
        "\n",
        "SHAPEFILE_FOLDER = \"raw_shapefiles_32610\"\n",
        "SENTINEL_FOLDER = \"sentinel_tif_files\"\n",
        "LABEL_FOLDER = \"label_tif_files\"\n",
        "INDIVIDUAL_SHAPEFILE_FOLDER = 'individual_shapefiles'\n",
        "\n",
        "GDF_MAPPING_DICT = {\n",
        "    'firenum': 'fire_id',\n",
        "    'ALARM_DATE': 'fire_alert_date',\n",
        "    'CONT_DATE': 'fire_cont_date',\n",
        "    'SURFHA': 'fire_area',\n",
        "    'geometry': 'fire_geometry'\n",
        "}\n",
        "\n",
        "INDIVIDUAL_SHAPEFILE_CRS_CONFIG = 'epsg:32610'"
      ],
      "execution_count": null,
      "outputs": []
    },
    {
      "cell_type": "markdown",
      "metadata": {
        "id": "O3Fese1RuWQk"
      },
      "source": [
        "# Complete shapefile database collection"
      ]
    },
    {
      "cell_type": "code",
      "metadata": {
        "colab": {
          "base_uri": "https://localhost:8080/",
          "height": 1000
        },
        "id": "JRbkk9FRrfuT",
        "outputId": "dbb8cede-ea6b-4dd9-a6ae-0efd38b0c0ce"
      },
      "source": [
        "# Global geo dataframe\n",
        "shapefile_list = sorted(os.listdir(op.join(DATABASE_PATH, DATABASE_NAME, SHAPEFILE_FOLDER)))\n",
        "shapefile_list = [i for i in shapefile_list if '.shp' in i]\n",
        "print(shapefile_list)\n",
        "\n",
        "gdf_list = []\n",
        "for shapefile_filename in shapefile_list:\n",
        "  gdf = gpd.read_file(op.join(DATABASE_PATH, DATABASE_NAME, SHAPEFILE_FOLDER, shapefile_filename))\n",
        "  gdf_list.append(gdf)\n",
        "\n",
        "global_gdf = gpd.GeoDataFrame( pd.concat( gdf_list, ignore_index = True ) )\n",
        "\n",
        "# Renaming & selecting the the columns\n",
        "global_gdf = global_gdf.rename(columns = GDF_MAPPING_DICT)\n",
        "\n",
        "# Dropping NA and NULL\n",
        "sorted_gdf = global_gdf.dropna(how='any', subset=list(GDF_MAPPING_DICT.values())).sort_values(by = 'fire_area', ascending = False)\n",
        "sorted_gdf = sorted_gdf[sorted_gdf['fire_cont_date']!='NULL']\n",
        "\n",
        "# Extracting the alert year\n",
        "sorted_gdf['fire_alert_year'] = sorted_gdf['fire_alert_date'].apply(lambda x: x.split('-')[0]).astype('int')\n",
        "\n",
        "# Filtering the fire since 2017-01-01\n",
        "sorted_gdf = sorted_gdf[sorted_gdf['fire_alert_year'] > 2015]\n",
        "\n",
        "# Filtering on big fires (minimum area of one patch 256x256x20m)\n",
        "sorted_gdf = sorted_gdf[sorted_gdf['fire_area'] > 2600]\n",
        "\n",
        "# Filter the biggest fires\n",
        "filtered_gdf = sorted_gdf.head(NUMBER_OF_FIRES).reset_index()\n",
        "\n",
        "# Check the final gdf\n",
        "filtered_gdf"
      ],
      "execution_count": null,
      "outputs": [
        {
          "output_type": "stream",
          "name": "stdout",
          "text": [
            "['PFTOTCAL_HORSNULL32610.shp']\n"
          ]
        },
        {
          "output_type": "execute_result",
          "data": {
            "text/html": [
              "\n",
              "  <div id=\"df-05a43114-bc52-4b86-8d32-ec08e0fea721\">\n",
              "    <div class=\"colab-df-container\">\n",
              "      <div>\n",
              "<style scoped>\n",
              "    .dataframe tbody tr th:only-of-type {\n",
              "        vertical-align: middle;\n",
              "    }\n",
              "\n",
              "    .dataframe tbody tr th {\n",
              "        vertical-align: top;\n",
              "    }\n",
              "\n",
              "    .dataframe thead th {\n",
              "        text-align: right;\n",
              "    }\n",
              "</style>\n",
              "<table border=\"1\" class=\"dataframe\">\n",
              "  <thead>\n",
              "    <tr style=\"text-align: right;\">\n",
              "      <th></th>\n",
              "      <th>index</th>\n",
              "      <th>YEAR_</th>\n",
              "      <th>STATE</th>\n",
              "      <th>AGENCY</th>\n",
              "      <th>UNIT_ID</th>\n",
              "      <th>FIRE_NAME</th>\n",
              "      <th>INC_NUM</th>\n",
              "      <th>fire_alert_date</th>\n",
              "      <th>fire_cont_date</th>\n",
              "      <th>Shape_Leng</th>\n",
              "      <th>Shape_Area</th>\n",
              "      <th>fire_id</th>\n",
              "      <th>fire_area</th>\n",
              "      <th>BBOX</th>\n",
              "      <th>fire_geometry</th>\n",
              "      <th>fire_alert_year</th>\n",
              "    </tr>\n",
              "  </thead>\n",
              "  <tbody>\n",
              "    <tr>\n",
              "      <th>0</th>\n",
              "      <td>290</td>\n",
              "      <td>2020</td>\n",
              "      <td>CA</td>\n",
              "      <td>USF</td>\n",
              "      <td>MNF</td>\n",
              "      <td>AUGUST COMPLEX FIRES</td>\n",
              "      <td>00008864</td>\n",
              "      <td>2020-08-16</td>\n",
              "      <td>2020-11-11</td>\n",
              "      <td>1.298407e+06</td>\n",
              "      <td>4.179187e+09</td>\n",
              "      <td>291</td>\n",
              "      <td>417918.70</td>\n",
              "      <td>Polygon ((455998.47609156 4358097.87038731, 53...</td>\n",
              "      <td>MULTIPOLYGON (((525060.419 4358103.964, 524934...</td>\n",
              "      <td>2020</td>\n",
              "    </tr>\n",
              "    <tr>\n",
              "      <th>1</th>\n",
              "      <td>8169</td>\n",
              "      <td>2018</td>\n",
              "      <td>CA</td>\n",
              "      <td>CDF</td>\n",
              "      <td>LNU</td>\n",
              "      <td>RANCH</td>\n",
              "      <td>00008646</td>\n",
              "      <td>2018-07-27</td>\n",
              "      <td>2018-09-19</td>\n",
              "      <td>3.482277e+05</td>\n",
              "      <td>1.660030e+09</td>\n",
              "      <td>8170</td>\n",
              "      <td>166003.05</td>\n",
              "      <td>Polygon ((490516.59312277 4321802.50334735, 54...</td>\n",
              "      <td>MULTIPOLYGON (((525040.645 4321941.501, 525026...</td>\n",
              "      <td>2018</td>\n",
              "    </tr>\n",
              "    <tr>\n",
              "      <th>2</th>\n",
              "      <td>175</td>\n",
              "      <td>2020</td>\n",
              "      <td>CA</td>\n",
              "      <td>CDF</td>\n",
              "      <td>SCU</td>\n",
              "      <td>SCU COMPLEX</td>\n",
              "      <td>00005740</td>\n",
              "      <td>2020-08-16</td>\n",
              "      <td>2020-09-11</td>\n",
              "      <td>5.033547e+05</td>\n",
              "      <td>1.605892e+09</td>\n",
              "      <td>176</td>\n",
              "      <td>160589.16</td>\n",
              "      <td>Polygon ((594434.49001191 4107437.00079614, 66...</td>\n",
              "      <td>MULTIPOLYGON (((600314.004 4152845.714, 600355...</td>\n",
              "      <td>2020</td>\n",
              "    </tr>\n",
              "    <tr>\n",
              "      <th>3</th>\n",
              "      <td>247</td>\n",
              "      <td>2020</td>\n",
              "      <td>CA</td>\n",
              "      <td>USF</td>\n",
              "      <td>SNF</td>\n",
              "      <td>CREEK</td>\n",
              "      <td>00001391</td>\n",
              "      <td>2020-09-04</td>\n",
              "      <td>2020-12-24</td>\n",
              "      <td>8.180878e+05</td>\n",
              "      <td>1.537168e+09</td>\n",
              "      <td>248</td>\n",
              "      <td>153716.77</td>\n",
              "      <td>Polygon ((811330.89762775 4100254.70937166, 85...</td>\n",
              "      <td>MULTIPOLYGON (((839412.588 4112371.716, 839408...</td>\n",
              "      <td>2020</td>\n",
              "    </tr>\n",
              "    <tr>\n",
              "      <th>4</th>\n",
              "      <td>242</td>\n",
              "      <td>2020</td>\n",
              "      <td>CA</td>\n",
              "      <td>USF</td>\n",
              "      <td>PNF</td>\n",
              "      <td>NORTH COMPLEX</td>\n",
              "      <td>00001302</td>\n",
              "      <td>2020-08-17</td>\n",
              "      <td>2020-12-03</td>\n",
              "      <td>3.958365e+05</td>\n",
              "      <td>1.290127e+09</td>\n",
              "      <td>243</td>\n",
              "      <td>129012.67</td>\n",
              "      <td>Polygon ((629896.46019884 4375255.46951663, 69...</td>\n",
              "      <td>MULTIPOLYGON (((652102.740 4377766.501, 652098...</td>\n",
              "      <td>2020</td>\n",
              "    </tr>\n",
              "    <tr>\n",
              "      <th>...</th>\n",
              "      <td>...</td>\n",
              "      <td>...</td>\n",
              "      <td>...</td>\n",
              "      <td>...</td>\n",
              "      <td>...</td>\n",
              "      <td>...</td>\n",
              "      <td>...</td>\n",
              "      <td>...</td>\n",
              "      <td>...</td>\n",
              "      <td>...</td>\n",
              "      <td>...</td>\n",
              "      <td>...</td>\n",
              "      <td>...</td>\n",
              "      <td>...</td>\n",
              "      <td>...</td>\n",
              "      <td>...</td>\n",
              "    </tr>\n",
              "    <tr>\n",
              "      <th>104</th>\n",
              "      <td>300</td>\n",
              "      <td>2020</td>\n",
              "      <td>CA</td>\n",
              "      <td>NPS</td>\n",
              "      <td>YNP</td>\n",
              "      <td>BLUEJAY</td>\n",
              "      <td>00000054</td>\n",
              "      <td>2020-07-25</td>\n",
              "      <td>2020-11-19</td>\n",
              "      <td>4.408865e+04</td>\n",
              "      <td>2.801240e+07</td>\n",
              "      <td>301</td>\n",
              "      <td>2801.24</td>\n",
              "      <td>Polygon ((794240.66351095 4189948.41067016, 80...</td>\n",
              "      <td>MULTIPOLYGON (((798652.813 4190517.960, 798657...</td>\n",
              "      <td>2020</td>\n",
              "    </tr>\n",
              "    <tr>\n",
              "      <th>105</th>\n",
              "      <td>322</td>\n",
              "      <td>2020</td>\n",
              "      <td>CA</td>\n",
              "      <td>BLM</td>\n",
              "      <td>CCD</td>\n",
              "      <td>NORTH</td>\n",
              "      <td>00030547</td>\n",
              "      <td>2020-08-02</td>\n",
              "      <td>2020-08-10</td>\n",
              "      <td>4.284393e+04</td>\n",
              "      <td>2.785165e+07</td>\n",
              "      <td>323</td>\n",
              "      <td>2785.17</td>\n",
              "      <td>Polygon ((753405.85427991 4412372.39775962, 76...</td>\n",
              "      <td>POLYGON ((756152.078 4419006.206, 756181.541 4...</td>\n",
              "      <td>2020</td>\n",
              "    </tr>\n",
              "    <tr>\n",
              "      <th>106</th>\n",
              "      <td>7106</td>\n",
              "      <td>2016</td>\n",
              "      <td>CA</td>\n",
              "      <td>CDF</td>\n",
              "      <td>FKU</td>\n",
              "      <td>MINERAL</td>\n",
              "      <td>011358</td>\n",
              "      <td>2016-08-08</td>\n",
              "      <td>2016-08-19</td>\n",
              "      <td>3.292598e+04</td>\n",
              "      <td>2.747934e+07</td>\n",
              "      <td>7107</td>\n",
              "      <td>2747.93</td>\n",
              "      <td>Polygon ((720157.67466306 3998231.60527129, 72...</td>\n",
              "      <td>MULTIPOLYGON (((723898.039 4006044.153, 723867...</td>\n",
              "      <td>2016</td>\n",
              "    </tr>\n",
              "    <tr>\n",
              "      <th>107</th>\n",
              "      <td>41</td>\n",
              "      <td>2020</td>\n",
              "      <td>CA</td>\n",
              "      <td>CDF</td>\n",
              "      <td>ORC</td>\n",
              "      <td>BOND</td>\n",
              "      <td>20136890</td>\n",
              "      <td>2020-12-03</td>\n",
              "      <td>2020-12-07</td>\n",
              "      <td>4.384591e+04</td>\n",
              "      <td>2.703745e+07</td>\n",
              "      <td>42</td>\n",
              "      <td>2703.75</td>\n",
              "      <td>Polygon ((987747.83027922 3742480.12586713, 10...</td>\n",
              "      <td>POLYGON ((996930.765 3746766.923, 996993.165 3...</td>\n",
              "      <td>2020</td>\n",
              "    </tr>\n",
              "    <tr>\n",
              "      <th>108</th>\n",
              "      <td>8557</td>\n",
              "      <td>2019</td>\n",
              "      <td>CA</td>\n",
              "      <td>USF</td>\n",
              "      <td>INF</td>\n",
              "      <td>SPRINGS</td>\n",
              "      <td>00001465</td>\n",
              "      <td>2019-07-26</td>\n",
              "      <td>2019-12-18</td>\n",
              "      <td>2.476219e+04</td>\n",
              "      <td>2.676847e+07</td>\n",
              "      <td>8558</td>\n",
              "      <td>2676.85</td>\n",
              "      <td>Polygon ((850623.38753817 4192017.71523654, 86...</td>\n",
              "      <td>MULTIPOLYGON (((850647.536 4205721.588, 850623...</td>\n",
              "      <td>2019</td>\n",
              "    </tr>\n",
              "  </tbody>\n",
              "</table>\n",
              "<p>109 rows × 16 columns</p>\n",
              "</div>\n",
              "      <button class=\"colab-df-convert\" onclick=\"convertToInteractive('df-05a43114-bc52-4b86-8d32-ec08e0fea721')\"\n",
              "              title=\"Convert this dataframe to an interactive table.\"\n",
              "              style=\"display:none;\">\n",
              "        \n",
              "  <svg xmlns=\"http://www.w3.org/2000/svg\" height=\"24px\"viewBox=\"0 0 24 24\"\n",
              "       width=\"24px\">\n",
              "    <path d=\"M0 0h24v24H0V0z\" fill=\"none\"/>\n",
              "    <path d=\"M18.56 5.44l.94 2.06.94-2.06 2.06-.94-2.06-.94-.94-2.06-.94 2.06-2.06.94zm-11 1L8.5 8.5l.94-2.06 2.06-.94-2.06-.94L8.5 2.5l-.94 2.06-2.06.94zm10 10l.94 2.06.94-2.06 2.06-.94-2.06-.94-.94-2.06-.94 2.06-2.06.94z\"/><path d=\"M17.41 7.96l-1.37-1.37c-.4-.4-.92-.59-1.43-.59-.52 0-1.04.2-1.43.59L10.3 9.45l-7.72 7.72c-.78.78-.78 2.05 0 2.83L4 21.41c.39.39.9.59 1.41.59.51 0 1.02-.2 1.41-.59l7.78-7.78 2.81-2.81c.8-.78.8-2.07 0-2.86zM5.41 20L4 18.59l7.72-7.72 1.47 1.35L5.41 20z\"/>\n",
              "  </svg>\n",
              "      </button>\n",
              "      \n",
              "  <style>\n",
              "    .colab-df-container {\n",
              "      display:flex;\n",
              "      flex-wrap:wrap;\n",
              "      gap: 12px;\n",
              "    }\n",
              "\n",
              "    .colab-df-convert {\n",
              "      background-color: #E8F0FE;\n",
              "      border: none;\n",
              "      border-radius: 50%;\n",
              "      cursor: pointer;\n",
              "      display: none;\n",
              "      fill: #1967D2;\n",
              "      height: 32px;\n",
              "      padding: 0 0 0 0;\n",
              "      width: 32px;\n",
              "    }\n",
              "\n",
              "    .colab-df-convert:hover {\n",
              "      background-color: #E2EBFA;\n",
              "      box-shadow: 0px 1px 2px rgba(60, 64, 67, 0.3), 0px 1px 3px 1px rgba(60, 64, 67, 0.15);\n",
              "      fill: #174EA6;\n",
              "    }\n",
              "\n",
              "    [theme=dark] .colab-df-convert {\n",
              "      background-color: #3B4455;\n",
              "      fill: #D2E3FC;\n",
              "    }\n",
              "\n",
              "    [theme=dark] .colab-df-convert:hover {\n",
              "      background-color: #434B5C;\n",
              "      box-shadow: 0px 1px 3px 1px rgba(0, 0, 0, 0.15);\n",
              "      filter: drop-shadow(0px 1px 2px rgba(0, 0, 0, 0.3));\n",
              "      fill: #FFFFFF;\n",
              "    }\n",
              "  </style>\n",
              "\n",
              "      <script>\n",
              "        const buttonEl =\n",
              "          document.querySelector('#df-05a43114-bc52-4b86-8d32-ec08e0fea721 button.colab-df-convert');\n",
              "        buttonEl.style.display =\n",
              "          google.colab.kernel.accessAllowed ? 'block' : 'none';\n",
              "\n",
              "        async function convertToInteractive(key) {\n",
              "          const element = document.querySelector('#df-05a43114-bc52-4b86-8d32-ec08e0fea721');\n",
              "          const dataTable =\n",
              "            await google.colab.kernel.invokeFunction('convertToInteractive',\n",
              "                                                     [key], {});\n",
              "          if (!dataTable) return;\n",
              "\n",
              "          const docLinkHtml = 'Like what you see? Visit the ' +\n",
              "            '<a target=\"_blank\" href=https://colab.research.google.com/notebooks/data_table.ipynb>data table notebook</a>'\n",
              "            + ' to learn more about interactive tables.';\n",
              "          element.innerHTML = '';\n",
              "          dataTable['output_type'] = 'display_data';\n",
              "          await google.colab.output.renderOutput(dataTable, element);\n",
              "          const docLink = document.createElement('div');\n",
              "          docLink.innerHTML = docLinkHtml;\n",
              "          element.appendChild(docLink);\n",
              "        }\n",
              "      </script>\n",
              "    </div>\n",
              "  </div>\n",
              "  "
            ],
            "text/plain": [
              "     index  ... fire_alert_year\n",
              "0      290  ...            2020\n",
              "1     8169  ...            2018\n",
              "2      175  ...            2020\n",
              "3      247  ...            2020\n",
              "4      242  ...            2020\n",
              "..     ...  ...             ...\n",
              "104    300  ...            2020\n",
              "105    322  ...            2020\n",
              "106   7106  ...            2016\n",
              "107     41  ...            2020\n",
              "108   8557  ...            2019\n",
              "\n",
              "[109 rows x 16 columns]"
            ]
          },
          "metadata": {},
          "execution_count": 37
        }
      ]
    },
    {
      "cell_type": "markdown",
      "metadata": {
        "id": "Uk-vHes0uCMW"
      },
      "source": [
        "# Utility functions"
      ]
    },
    {
      "cell_type": "code",
      "metadata": {
        "id": "pGne2mbubAjj"
      },
      "source": [
        "# Fire record extraction\n",
        "def fire_features_extraction(bdd_index, fire_bdd):\n",
        "  \"\"\"\n",
        "  This function extracts key fire characteristics from a Geo Dataframe.\n",
        "  INPUTS:\n",
        "     - bdd_index: index of a record\n",
        "     - fire_bdd: geo detaframe\n",
        "  OUTPUT:\n",
        "     - A dictionary containing the fire characteristics\n",
        "  \"\"\"\n",
        "\n",
        "    fire_name = DATABASE_NAME + '_Sentinel2_' + str(fire_bdd['fire_id'][bdd_index])\n",
        "\n",
        "    fire_perimeter = fire_bdd['fire_geometry'][bdd_index].bounds\n",
        "    longitude1, latitude1  = fire_perimeter[0], fire_perimeter[1]\n",
        "    longitude2, latitude2  = fire_perimeter[2], fire_perimeter[3]\n",
        "      \n",
        "    inProj = Proj(init=INDIVIDUAL_SHAPEFILE_CRS_CONFIG)\n",
        "    outProj = Proj(init='epsg:4326')\n",
        "\n",
        "    longitude1, latitude1  = transform(inProj , outProj, fire_perimeter[0], fire_perimeter[1])\n",
        "    longitude2, latitude2  = transform(inProj , outProj, fire_perimeter[2], fire_perimeter[3])\n",
        "\n",
        "    gps_bounding_box = [longitude1, latitude1, longitude2, latitude2]\n",
        "    \n",
        "    fire_cont_date = fire_bdd['fire_cont_date'][bdd_index].replace('/', '-').split(' ')[0]\n",
        "    fire_alert_date = fire_bdd['fire_alert_date'][bdd_index].replace('/', '-').split(' ')[0]\n",
        "\n",
        "    fire_cont_date_obj = datetime.strptime(fire_cont_date, '%Y-%m-%d')\n",
        "    fire_cont_date_a_few_days_after =  fire_cont_date_obj + timedelta(days=30)\n",
        "    fire_cont_date_a_few_days_after = fire_cont_date_a_few_days_after.strftime('%Y-%m-%d')\n",
        "\n",
        "    fire_alert_date_obj = datetime.strptime(fire_alert_date, '%Y-%m-%d')\n",
        "    fire_alert_date_a_few_days_before =  fire_alert_date_obj + timedelta(days=-30)\n",
        "    fire_alert_date_a_few_days_before = fire_alert_date_a_few_days_before.strftime('%Y-%m-%d')\n",
        "\n",
        "    return {'fire_name' : fire_name,\n",
        "            'fire_area' : fire_bdd['fire_area'][bdd_index],\n",
        "            'fire_perimeter' : gps_bounding_box, \n",
        "            'fire_cont_date' : fire_cont_date,\n",
        "            'fire_cont_date_a_few_days_after' : fire_cont_date_a_few_days_after,\n",
        "            'fire_alert_date' : fire_alert_date,\n",
        "            'fire_alert_date_a_few_days_before' : fire_alert_date_a_few_days_before}"
      ],
      "execution_count": null,
      "outputs": []
    },
    {
      "cell_type": "code",
      "metadata": {
        "id": "JcvYdU6QbBfb"
      },
      "source": [
        "def extract_image(fire_record, bands, before_event):\n",
        "  \"\"\"\n",
        "  This function extracts a Google Earth Engine image.\n",
        "  INPUTS:\n",
        "     - fire_record: dictionary of fire record\n",
        "     - bands: a list containing the channels of interest\n",
        "     - before_event: boolean choosing the image before and after the fire event\n",
        "  OUTPUT:\n",
        "     - image object\n",
        "     - a bounding box\n",
        "  \"\"\"\n",
        "  \n",
        "  # Construct the bounding box\n",
        "  bounding_box = ee.Geometry.Rectangle(fire_record['fire_perimeter'])\n",
        "\n",
        "  # Defining the date range based on before_event boolean\n",
        "  if before_event:\n",
        "    fire_date1 = fire_record['fire_alert_date_a_few_days_before']\n",
        "    fire_date2 = fire_record['fire_alert_date']\n",
        "  else:\n",
        "    fire_date1 = fire_record['fire_cont_date']\n",
        "    fire_date2 = fire_record['fire_cont_date_a_few_days_after']\n",
        "\n",
        "  # Collecting the Sentinel image\n",
        "  image = (ee.ImageCollection('COPERNICUS/S2_SR')\n",
        "          .filterBounds(bounding_box)\n",
        "          .filterDate(fire_date1, fire_date2)\n",
        "          .filter(ee.Filter.lt('CLOUDY_PIXEL_PERCENTAGE', 10))\n",
        "          .select(bands)\n",
        "          .sort('system:index', opt_ascending=False).mosaic()\n",
        "          .clip(bounding_box))\n",
        "\n",
        "  return image, bounding_box"
      ],
      "execution_count": null,
      "outputs": []
    },
    {
      "cell_type": "code",
      "metadata": {
        "id": "hKpzI5gMbR2L"
      },
      "source": [
        "def images_package_extraction(i, fire_bdd):\n",
        "\n",
        "  \"\"\"\n",
        "  This function extracts a package of pre and post fire images\n",
        "  \"\"\"\n",
        "\n",
        "  # Extract a fire record\n",
        "  fire_record = fire_features_extraction(i, fire_bdd)\n",
        "\n",
        "  # Collect the image RGB + IR \n",
        "  fire_image_RGBIR_postFire, bounding_box  = extract_image(fire_record, ['B2', 'B3', 'B4', 'B7', 'B12'], False)\n",
        "  fire_image_RGBIR_preFire, bounding_box = extract_image(fire_record, ['B2', 'B3', 'B4', 'B7', 'B12'], True)\n",
        "  \n",
        "  return fire_image_RGBIR_preFire, fire_image_RGBIR_postFire, bounding_box, fire_record"
      ],
      "execution_count": null,
      "outputs": []
    },
    {
      "cell_type": "code",
      "metadata": {
        "id": "THLn1je0bZ82"
      },
      "source": [
        "def image_export(fire_image_RGBIR, fire_record, before_event):\n",
        "  \"\"\"\n",
        "  This function exports a Sentinel 2 image to a tif file stored into a drive account.\n",
        "  \"\"\"\n",
        "\n",
        "  if before_event :\n",
        "    fire_output_filename = fire_record['fire_name'] + '_preFire_' + 'RGBIR'\n",
        "  else:\n",
        "    fire_output_filename = fire_record['fire_name'] + '_postFire_' + 'RGBIR'\n",
        "  \n",
        "  task_config = {\n",
        "      'folder': 'GEE_exports',\n",
        "      'scale': 20,\n",
        "      'crs': INDIVIDUAL_SHAPEFILE_CRS_CONFIG,\n",
        "      'maxPixels': 200000000,\n",
        "      'fileNamePrefix': fire_output_filename,\n",
        "      'description': 'export_task'\n",
        "  }\n",
        "\n",
        "  task = ee.batch.Export.image.toDrive(image = fire_image_RGBIR,\n",
        "                                       **task_config)\n",
        "  \n",
        "  print('Generating the Sentinel tif: ' + fire_output_filename)\n",
        "  task.start()\n",
        "\n",
        "  while task.active():\n",
        "    print('Polling for task (id: {}).'.format(task.id))\n",
        "    print(task.status())\n",
        "    time.sleep(30)\n",
        "\n",
        "  return"
      ],
      "execution_count": null,
      "outputs": []
    },
    {
      "cell_type": "code",
      "metadata": {
        "id": "f0ARviyuzNE8"
      },
      "source": [
        "def add_ee_layer(self, ee_object, vis_params, name):\n",
        "  \"\"\"\n",
        "  This function defines a method for displaying Earth Engine image tiles on a folium map.\n",
        "  \"\"\"\n",
        "\n",
        "    try:    \n",
        "        # display ee.Image()\n",
        "        if isinstance(ee_object, ee.image.Image):    \n",
        "            map_id_dict = ee.Image(ee_object).getMapId(vis_params)\n",
        "            folium.raster_layers.TileLayer(\n",
        "            tiles = map_id_dict['tile_fetcher'].url_format,\n",
        "            attr = 'Google Earth Engine',\n",
        "            name = name,\n",
        "            overlay = True,\n",
        "            control = True\n",
        "            ).add_to(self)\n",
        "        # display ee.ImageCollection()\n",
        "        elif isinstance(ee_object, ee.imagecollection.ImageCollection):    \n",
        "            ee_object_new = ee_object.mosaic()\n",
        "            map_id_dict = ee.Image(ee_object_new).getMapId(vis_params)\n",
        "            folium.raster_layers.TileLayer(\n",
        "            tiles = map_id_dict['tile_fetcher'].url_format,\n",
        "            attr = 'Google Earth Engine',\n",
        "            name = name,\n",
        "            overlay = True,\n",
        "            control = True\n",
        "            ).add_to(self)\n",
        "        # display ee.Geometry()\n",
        "        elif isinstance(ee_object, ee.geometry.Geometry):    \n",
        "            folium.GeoJson(\n",
        "            data = ee_object.getInfo(),\n",
        "            name = name,\n",
        "            overlay = True,\n",
        "            control = True\n",
        "        ).add_to(self)\n",
        "        # display ee.FeatureCollection()\n",
        "        elif isinstance(ee_object, ee.featurecollection.FeatureCollection):  \n",
        "            ee_object_new = ee.Image().paint(ee_object, 0, 2)\n",
        "            map_id_dict = ee.Image(ee_object_new).getMapId(vis_params)\n",
        "            folium.raster_layers.TileLayer(\n",
        "            tiles = map_id_dict['tile_fetcher'].url_format,\n",
        "            attr = 'Google Earth Engine',\n",
        "            name = name,\n",
        "            overlay = True,\n",
        "            control = True\n",
        "        ).add_to(self)\n",
        "    \n",
        "    except:\n",
        "        print(\"Could not display {}\".format(name))\n",
        "    \n",
        "# Add EE drawing method to folium.\n",
        "folium.Map.add_ee_layer = add_ee_layer"
      ],
      "execution_count": null,
      "outputs": []
    },
    {
      "cell_type": "code",
      "metadata": {
        "id": "5isHV4U2zPRA"
      },
      "source": [
        "def show_image(vis_params, image, bounding_box):\n",
        "\n",
        "  \"\"\"\n",
        "  This function displays an image on a map.\n",
        "  \"\"\"\n",
        "\n",
        "  # Centering the map on the centroid of the feature map\n",
        "  map_s2 = folium.Map(location = bounding_box.centroid().getInfo()['coordinates'][::-1], zoom_start = 10)\n",
        "  \n",
        "  # Add the image layer to the map and display it.\n",
        "  map_s2.add_ee_layer( image, vis_params, 'layer')\n",
        "  \n",
        "  # Add the fire perimeter\n",
        "  folium.GeoJson( data = bounding_box.getInfo(), name = 'bounding box', overlay = True, control = True, \n",
        "                  style_function = lambda x: {'color': 'red', 'fillColor':'#00000000'} ).add_to(map_s2)\n",
        "\n",
        "  return map_s2"
      ],
      "execution_count": null,
      "outputs": []
    },
    {
      "cell_type": "markdown",
      "metadata": {
        "id": "mFnh_DjrLvx6"
      },
      "source": [
        "# Visual check"
      ]
    },
    {
      "cell_type": "code",
      "source": [
        "vis_params_RGB = {\n",
        "  'min': 0,\n",
        "  'max': 2000,\n",
        "  'bands': ['B2', 'B3', 'B4'][::-1] }\n",
        "\n",
        "for i in range(0, 10):\n",
        "  \n",
        "  # Extracting the images\n",
        "  fire_image_RGBIR_preFire, fire_image_RGBIR_postFire, bounding_box, fire_record = images_package_extraction(i, filtered_gdf)\n",
        "  pp.pprint(fire_record)\n",
        "\n",
        "  # Showing the images\n",
        "  map_features_preFire = show_image(vis_params_RGB, fire_image_RGBIR_preFire, bounding_box)\n",
        "  map_features_postFire = show_image(vis_params_RGB, fire_image_RGBIR_postFire, bounding_box)\n",
        "\n",
        "  from IPython.core.display import display, HTML\n",
        "\n",
        "  htmlmap = HTML('<iframe srcdoc=\"{}\" style=\"float:left; width: {}px; height: {}px; display:inline-block; width: 30%; margin: 0 auto; border: 2px solid black\"></iframe>'\n",
        "            '<iframe srcdoc=\"{}\" style=\"float:right; width: {}px; height: {}px; display:inline-block; width: 30%; margin: 0 auto; border: 2px solid black\"></iframe>'\n",
        "            .format(map_features_preFire.get_root().render().replace('\"', '&quot;'),400,400,\n",
        "                    map_features_postFire.get_root().render().replace('\"', '&quot;'),400,400))\n",
        "  display(htmlmap)"
      ],
      "metadata": {
        "id": "hgcRqLz1CGdB"
      },
      "execution_count": null,
      "outputs": []
    },
    {
      "cell_type": "markdown",
      "metadata": {
        "id": "wp9z0bp0MCYy"
      },
      "source": [
        "# Sentinel tiff generation"
      ]
    },
    {
      "cell_type": "code",
      "source": [
        "# Choosing the fire indices to extract\n",
        "start_index = 0\n",
        "#finish_index = NUMBER_OF_FIRES\n",
        "finish_index = 108\n",
        "\n",
        "# Looping on every fire in the geodataframe\n",
        "for i in tqdm(range(start_index, finish_index)):\n",
        "\n",
        "  # Extractig the images from Google Earth Engine\n",
        "  fire_image_RGBIR_preFire, fire_image_RGBIR_postFire, bounding_box, fire_record = images_package_extraction(i, filtered_gdf)\n",
        "  pp.pprint(fire_record)\n",
        "  print(str(i) + ' / ' + str(filtered_gdf.shape[0] - 1))\n",
        "  \n",
        "  # Exporting the images in tif files\n",
        "  #image_export(fire_image_RGBIR_preFire, fire_record, True)\n",
        "  image_export(fire_image_RGBIR_postFire, fire_record, False)"
      ],
      "metadata": {
        "id": "GZ8dWtLYCIZu"
      },
      "execution_count": null,
      "outputs": []
    },
    {
      "cell_type": "markdown",
      "metadata": {
        "id": "IGcvuGzhu7IY"
      },
      "source": [
        "# Label tiff generation"
      ]
    },
    {
      "cell_type": "markdown",
      "metadata": {
        "id": "QuLFDOdUO4MX"
      },
      "source": [
        "Check the input data"
      ]
    },
    {
      "cell_type": "code",
      "metadata": {
        "colab": {
          "base_uri": "https://localhost:8080/"
        },
        "id": "kwvI8gdfOWS8",
        "outputId": "b08bfd62-f7c0-434e-bd21-5395b32c44d5"
      },
      "source": [
        "IMAGES_FOLDER = '/content/gdrive/MyDrive/Data/Training_data/CAL_database_2/images'\n",
        "MASKS_FOLDER = '/content/gdrive/MyDrive/Data/Training_data/CAL_database_2/masks'\n",
        "INDIVIDUAL_SHAPEFILE_FOLDER = '/content/gdrive/MyDrive/Fires/PERIMETRES/PERIM_DATABASE/CAL_database/individual_shapefiles'\n",
        "\n",
        "# Listing all Sentinel tif files\n",
        "sentinel_tif_list = os.listdir(IMAGES_FOLDER)\n",
        "sentinel_tif_list = [i for i in sentinel_tif_list if '.tif' in i]\n",
        "\n",
        "# Listing all Shapefiles\n",
        "shapefile_list = os.listdir(INDIVIDUAL_SHAPEFILE_FOLDER)\n",
        "shapefile_list = [i for i in shapefile_list if '.shp' in i]\n",
        "\n",
        "print('Total number of Sentinel images : ', len(sentinel_tif_list))\n",
        "print('Total number of Shapefiles : ', len(shapefile_list))"
      ],
      "execution_count": null,
      "outputs": [
        {
          "output_type": "stream",
          "name": "stdout",
          "text": [
            "Total number of Sentinel images :  41\n",
            "Total number of Shapefiles :  600\n"
          ]
        }
      ]
    },
    {
      "cell_type": "markdown",
      "metadata": {
        "id": "pX2oQIq_O9K8"
      },
      "source": [
        "Generation of the label tiff"
      ]
    },
    {
      "cell_type": "code",
      "metadata": {
        "colab": {
          "base_uri": "https://localhost:8080/"
        },
        "id": "pIZNy71yPCFg",
        "outputId": "a764ba88-7736-43db-d1ae-72a16759d057"
      },
      "source": [
        "# Init driver\n",
        "drv_tiff = gdal.GetDriverByName(\"GTiff\")\n",
        "driver = ogr.GetDriverByName('ESRI Shapefile')\n",
        "\n",
        "for sentinel_tif_file in tqdm(sentinel_tif_list):\n",
        "\n",
        "  print(sentinel_tif_file)\n",
        "\n",
        "  # Opening the Sentinel image\n",
        "  fire_sentinel_raster = gdal.Open(op.join(IMAGES_FOLDER, sentinel_tif_file))\n",
        "  geot = fire_sentinel_raster.GetGeoTransform()\n",
        "\n",
        "  # Finding and opening the Shapefile\n",
        "  fire_id = sentinel_tif_file.split('_')[3]\n",
        "  shapefile_filename = 'fperim' + str(fire_id) + '.shp'\n",
        "  shapefile_filename = op.join(INDIVIDUAL_SHAPEFILE_FOLDER, shapefile_filename)\n",
        "  print(shapefile_filename)\n",
        "\n",
        "  dataSource = driver.Open(shapefile_filename, 0) # 0 means read-only. 1 means writeable.\n",
        "\n",
        "  # Checking if the corresponding shapefile has been found.\n",
        "  shapefile_not_found = []\n",
        "  if dataSource is None:\n",
        "    shapefile_not_found.append(fire_id)\n",
        "    break\n",
        "  else:\n",
        "    layer = dataSource.GetLayer()\n",
        "\n",
        "  # Defining the label filename\n",
        "  if 'post' in sentinel_tif_file:\n",
        "    label_filename = op.join(MASKS_FOLDER, 'CAL_database_Sentinel2_' + fire_id + '_postFire_label.tif')\n",
        "  else:\n",
        "    label_filename = op.join(MASKS_FOLDER, 'CAL_database_Sentinel2_' + fire_id + '_preFire_label.tif')\n",
        "\n",
        "  # Creating the new raster\n",
        "  chn_ras_ds = drv_tiff.Create(label_filename, \n",
        "                               fire_sentinel_raster.RasterXSize, \n",
        "                               fire_sentinel_raster.RasterYSize, \n",
        "                               1, \n",
        "                               gdal.GDT_Byte)\n",
        "  \n",
        "  chn_ras_ds.SetGeoTransform(geot)\n",
        "  chn_ras_ds.SetProjection(fire_sentinel_raster.GetProjection())\n",
        "\n",
        "  if 'post' in sentinel_tif_file: gdal.RasterizeLayer(chn_ras_ds, [1], layer, None)\n",
        "  chn_ras_ds.GetRasterBand(1).SetNoDataValue(0.0)\n",
        "\n",
        "  chn_ras_ds = None\n",
        "\n",
        "# Checking the number of files generated\n",
        "label_tif_list = os.listdir(MASKS_FOLDER)\n",
        "print('Current generated Label tif files: ' + str(len(label_tif_list)))\n",
        "print('Total submitted Sentinel tif files: ' + str(len(sentinel_tif_list)))\n",
        "print('Number of unfound shapefile: ' + str(len(shapefile_not_found)))\n",
        "\n",
        "# Finally, visual check the postFire label tif because some are totally black for an unknown reason."
      ],
      "execution_count": null,
      "outputs": [
        {
          "output_type": "stream",
          "name": "stderr",
          "text": [
            "\r  0%|          | 0/41 [00:00<?, ?it/s]"
          ]
        },
        {
          "output_type": "stream",
          "name": "stdout",
          "text": [
            "CAL_database_Sentinel2_176_postFire_RGBIR.tif\n",
            "/content/gdrive/MyDrive/Fires/PERIMETRES/PERIM_DATABASE/CAL_database/individual_shapefiles/fperim176.shp\n"
          ]
        },
        {
          "output_type": "stream",
          "name": "stderr",
          "text": [
            "\r  2%|▏         | 1/41 [00:00<00:19,  2.02it/s]"
          ]
        },
        {
          "output_type": "stream",
          "name": "stdout",
          "text": [
            "CAL_database_Sentinel2_155_postFire_RGBIR.tif\n",
            "/content/gdrive/MyDrive/Fires/PERIMETRES/PERIM_DATABASE/CAL_database/individual_shapefiles/fperim155.shp\n"
          ]
        },
        {
          "output_type": "stream",
          "name": "stderr",
          "text": [
            "\r  5%|▍         | 2/41 [00:01<00:40,  1.04s/it]"
          ]
        },
        {
          "output_type": "stream",
          "name": "stdout",
          "text": [
            "CAL_database_Sentinel2_164_postFire_RGBIR.tif\n",
            "/content/gdrive/MyDrive/Fires/PERIMETRES/PERIM_DATABASE/CAL_database/individual_shapefiles/fperim164.shp\n"
          ]
        },
        {
          "output_type": "stream",
          "name": "stderr",
          "text": [
            "\r  7%|▋         | 3/41 [00:03<00:43,  1.15s/it]"
          ]
        },
        {
          "output_type": "stream",
          "name": "stdout",
          "text": [
            "CAL_database_Sentinel2_140_postFire_RGBIR.tif\n",
            "/content/gdrive/MyDrive/Fires/PERIMETRES/PERIM_DATABASE/CAL_database/individual_shapefiles/fperim140.shp\n"
          ]
        },
        {
          "output_type": "stream",
          "name": "stderr",
          "text": [
            "\r 10%|▉         | 4/41 [00:04<00:46,  1.26s/it]"
          ]
        },
        {
          "output_type": "stream",
          "name": "stdout",
          "text": [
            "CAL_database_Sentinel2_120_postFire_RGBIR.tif\n",
            "/content/gdrive/MyDrive/Fires/PERIMETRES/PERIM_DATABASE/CAL_database/individual_shapefiles/fperim120.shp\n"
          ]
        },
        {
          "output_type": "stream",
          "name": "stderr",
          "text": [
            "\r 12%|█▏        | 5/41 [00:05<00:46,  1.28s/it]"
          ]
        },
        {
          "output_type": "stream",
          "name": "stdout",
          "text": [
            "CAL_database_Sentinel2_22_postFire_RGBIR.tif\n",
            "/content/gdrive/MyDrive/Fires/PERIMETRES/PERIM_DATABASE/CAL_database/individual_shapefiles/fperim22.shp\n"
          ]
        },
        {
          "output_type": "stream",
          "name": "stderr",
          "text": [
            "\r 15%|█▍        | 6/41 [00:07<00:45,  1.29s/it]"
          ]
        },
        {
          "output_type": "stream",
          "name": "stdout",
          "text": [
            "CAL_database_Sentinel2_227_postFire_RGBIR.tif\n",
            "/content/gdrive/MyDrive/Fires/PERIMETRES/PERIM_DATABASE/CAL_database/individual_shapefiles/fperim227.shp\n"
          ]
        },
        {
          "output_type": "stream",
          "name": "stderr",
          "text": [
            "\r 17%|█▋        | 7/41 [01:53<20:15, 35.76s/it]"
          ]
        },
        {
          "output_type": "stream",
          "name": "stdout",
          "text": [
            "CAL_database_Sentinel2_226_postFire_RGBIR.tif\n",
            "/content/gdrive/MyDrive/Fires/PERIMETRES/PERIM_DATABASE/CAL_database/individual_shapefiles/fperim226.shp\n"
          ]
        },
        {
          "output_type": "stream",
          "name": "stderr",
          "text": [
            "\r 20%|█▉        | 8/41 [01:54<13:32, 24.62s/it]"
          ]
        },
        {
          "output_type": "stream",
          "name": "stdout",
          "text": [
            "CAL_database_Sentinel2_225_postFire_RGBIR.tif\n"
          ]
        },
        {
          "output_type": "stream",
          "name": "stderr",
          "text": [
            "\r 22%|██▏       | 9/41 [01:55<09:04, 17.03s/it]"
          ]
        },
        {
          "output_type": "stream",
          "name": "stdout",
          "text": [
            "/content/gdrive/MyDrive/Fires/PERIMETRES/PERIM_DATABASE/CAL_database/individual_shapefiles/fperim225.shp\n",
            "CAL_database_Sentinel2_201_postFire_RGBIR.tif\n"
          ]
        },
        {
          "output_type": "stream",
          "name": "stderr",
          "text": [
            "\r 24%|██▍       | 10/41 [01:55<06:08, 11.89s/it]"
          ]
        },
        {
          "output_type": "stream",
          "name": "stdout",
          "text": [
            "/content/gdrive/MyDrive/Fires/PERIMETRES/PERIM_DATABASE/CAL_database/individual_shapefiles/fperim201.shp\n",
            "CAL_database_Sentinel2_185_postFire_RGBIR.tif\n"
          ]
        },
        {
          "output_type": "stream",
          "name": "stderr",
          "text": [
            "\r 27%|██▋       | 11/41 [01:55<04:10,  8.37s/it]"
          ]
        },
        {
          "output_type": "stream",
          "name": "stdout",
          "text": [
            "/content/gdrive/MyDrive/Fires/PERIMETRES/PERIM_DATABASE/CAL_database/individual_shapefiles/fperim185.shp\n",
            "CAL_database_Sentinel2_272_postFire_RGBIR.tif\n"
          ]
        },
        {
          "output_type": "stream",
          "name": "stderr",
          "text": [
            "\r 29%|██▉       | 12/41 [01:56<02:52,  5.95s/it]"
          ]
        },
        {
          "output_type": "stream",
          "name": "stdout",
          "text": [
            "/content/gdrive/MyDrive/Fires/PERIMETRES/PERIM_DATABASE/CAL_database/individual_shapefiles/fperim272.shp\n",
            "CAL_database_Sentinel2_270_postFire_RGBIR.tif\n"
          ]
        },
        {
          "output_type": "stream",
          "name": "stderr",
          "text": [
            "\r 32%|███▏      | 13/41 [01:56<01:59,  4.26s/it]"
          ]
        },
        {
          "output_type": "stream",
          "name": "stdout",
          "text": [
            "/content/gdrive/MyDrive/Fires/PERIMETRES/PERIM_DATABASE/CAL_database/individual_shapefiles/fperim270.shp\n",
            "CAL_database_Sentinel2_243_postFire_RGBIR.tif\n"
          ]
        },
        {
          "output_type": "stream",
          "name": "stderr",
          "text": [
            "\r 34%|███▍      | 14/41 [01:57<01:24,  3.12s/it]"
          ]
        },
        {
          "output_type": "stream",
          "name": "stdout",
          "text": [
            "/content/gdrive/MyDrive/Fires/PERIMETRES/PERIM_DATABASE/CAL_database/individual_shapefiles/fperim243.shp\n",
            "CAL_database_Sentinel2_240_postFire_RGBIR.tif\n"
          ]
        },
        {
          "output_type": "stream",
          "name": "stderr",
          "text": [
            "\r 37%|███▋      | 15/41 [01:57<00:59,  2.28s/it]"
          ]
        },
        {
          "output_type": "stream",
          "name": "stdout",
          "text": [
            "/content/gdrive/MyDrive/Fires/PERIMETRES/PERIM_DATABASE/CAL_database/individual_shapefiles/fperim240.shp\n",
            "CAL_database_Sentinel2_238_postFire_RGBIR.tif\n"
          ]
        },
        {
          "output_type": "stream",
          "name": "stderr",
          "text": [
            "\r 39%|███▉      | 16/41 [01:57<00:42,  1.71s/it]"
          ]
        },
        {
          "output_type": "stream",
          "name": "stdout",
          "text": [
            "/content/gdrive/MyDrive/Fires/PERIMETRES/PERIM_DATABASE/CAL_database/individual_shapefiles/fperim238.shp\n",
            "CAL_database_Sentinel2_314_postFire_RGBIR.tif\n"
          ]
        },
        {
          "output_type": "stream",
          "name": "stderr",
          "text": [
            "\r 41%|████▏     | 17/41 [01:58<00:31,  1.31s/it]"
          ]
        },
        {
          "output_type": "stream",
          "name": "stdout",
          "text": [
            "/content/gdrive/MyDrive/Fires/PERIMETRES/PERIM_DATABASE/CAL_database/individual_shapefiles/fperim314.shp\n",
            "CAL_database_Sentinel2_301_postFire_RGBIR.tif\n"
          ]
        },
        {
          "output_type": "stream",
          "name": "stderr",
          "text": [
            "\r 44%|████▍     | 18/41 [01:58<00:23,  1.01s/it]"
          ]
        },
        {
          "output_type": "stream",
          "name": "stdout",
          "text": [
            "/content/gdrive/MyDrive/Fires/PERIMETRES/PERIM_DATABASE/CAL_database/individual_shapefiles/fperim301.shp\n",
            "CAL_database_Sentinel2_308_postFire_RGBIR.tif\n"
          ]
        },
        {
          "output_type": "stream",
          "name": "stderr",
          "text": [
            "\r 46%|████▋     | 19/41 [01:58<00:18,  1.20it/s]"
          ]
        },
        {
          "output_type": "stream",
          "name": "stdout",
          "text": [
            "/content/gdrive/MyDrive/Fires/PERIMETRES/PERIM_DATABASE/CAL_database/individual_shapefiles/fperim308.shp\n",
            "CAL_database_Sentinel2_303_postFire_RGBIR.tif\n"
          ]
        },
        {
          "output_type": "stream",
          "name": "stderr",
          "text": [
            "\r 49%|████▉     | 20/41 [01:59<00:14,  1.45it/s]"
          ]
        },
        {
          "output_type": "stream",
          "name": "stdout",
          "text": [
            "/content/gdrive/MyDrive/Fires/PERIMETRES/PERIM_DATABASE/CAL_database/individual_shapefiles/fperim303.shp\n",
            "CAL_database_Sentinel2_293_postFire_RGBIR.tif\n"
          ]
        },
        {
          "output_type": "stream",
          "name": "stderr",
          "text": [
            "\r 51%|█████     | 21/41 [01:59<00:11,  1.75it/s]"
          ]
        },
        {
          "output_type": "stream",
          "name": "stdout",
          "text": [
            "/content/gdrive/MyDrive/Fires/PERIMETRES/PERIM_DATABASE/CAL_database/individual_shapefiles/fperim293.shp\n",
            "CAL_database_Sentinel2_302_postFire_RGBIR.tif\n"
          ]
        },
        {
          "output_type": "stream",
          "name": "stderr",
          "text": [
            "\r 54%|█████▎    | 22/41 [01:59<00:09,  1.98it/s]"
          ]
        },
        {
          "output_type": "stream",
          "name": "stdout",
          "text": [
            "/content/gdrive/MyDrive/Fires/PERIMETRES/PERIM_DATABASE/CAL_database/individual_shapefiles/fperim302.shp\n",
            "CAL_database_Sentinel2_295_postFire_RGBIR.tif\n"
          ]
        },
        {
          "output_type": "stream",
          "name": "stderr",
          "text": [
            "\r 56%|█████▌    | 23/41 [02:00<00:08,  2.06it/s]"
          ]
        },
        {
          "output_type": "stream",
          "name": "stdout",
          "text": [
            "/content/gdrive/MyDrive/Fires/PERIMETRES/PERIM_DATABASE/CAL_database/individual_shapefiles/fperim295.shp\n",
            "CAL_database_Sentinel2_291_postFire_RGBIR.tif\n",
            "/content/gdrive/MyDrive/Fires/PERIMETRES/PERIM_DATABASE/CAL_database/individual_shapefiles/fperim291.shp\n"
          ]
        },
        {
          "output_type": "stream",
          "name": "stderr",
          "text": [
            "\r 59%|█████▊    | 24/41 [02:02<00:15,  1.06it/s]"
          ]
        },
        {
          "output_type": "stream",
          "name": "stdout",
          "text": [
            "CAL_database_Sentinel2_8261_postFire_RGBIR.tif\n"
          ]
        },
        {
          "output_type": "stream",
          "name": "stderr",
          "text": [
            "\r 61%|██████    | 25/41 [02:02<00:12,  1.29it/s]"
          ]
        },
        {
          "output_type": "stream",
          "name": "stdout",
          "text": [
            "/content/gdrive/MyDrive/Fires/PERIMETRES/PERIM_DATABASE/CAL_database/individual_shapefiles/fperim8261.shp\n",
            "CAL_database_Sentinel2_75_postFire_RGBIR.tif\n"
          ]
        },
        {
          "output_type": "stream",
          "name": "stderr",
          "text": [
            "\r 63%|██████▎   | 26/41 [02:03<00:09,  1.61it/s]"
          ]
        },
        {
          "output_type": "stream",
          "name": "stdout",
          "text": [
            "/content/gdrive/MyDrive/Fires/PERIMETRES/PERIM_DATABASE/CAL_database/individual_shapefiles/fperim75.shp\n",
            "CAL_database_Sentinel2_42_postFire_RGBIR.tif\n"
          ]
        },
        {
          "output_type": "stream",
          "name": "stderr",
          "text": [
            "\r 66%|██████▌   | 27/41 [02:03<00:07,  1.84it/s]"
          ]
        },
        {
          "output_type": "stream",
          "name": "stdout",
          "text": [
            "/content/gdrive/MyDrive/Fires/PERIMETRES/PERIM_DATABASE/CAL_database/individual_shapefiles/fperim42.shp\n",
            "CAL_database_Sentinel2_420_postFire_RGBIR.tif\n"
          ]
        },
        {
          "output_type": "stream",
          "name": "stderr",
          "text": [
            "\r 68%|██████▊   | 28/41 [02:03<00:06,  1.95it/s]"
          ]
        },
        {
          "output_type": "stream",
          "name": "stdout",
          "text": [
            "/content/gdrive/MyDrive/Fires/PERIMETRES/PERIM_DATABASE/CAL_database/individual_shapefiles/fperim420.shp\n",
            "CAL_database_Sentinel2_41_postFire_RGBIR.tif\n"
          ]
        },
        {
          "output_type": "stream",
          "name": "stderr",
          "text": [
            "\r 71%|███████   | 29/41 [02:04<00:05,  2.12it/s]"
          ]
        },
        {
          "output_type": "stream",
          "name": "stdout",
          "text": [
            "/content/gdrive/MyDrive/Fires/PERIMETRES/PERIM_DATABASE/CAL_database/individual_shapefiles/fperim41.shp\n",
            "CAL_database_Sentinel2_322_postFire_RGBIR.tif\n"
          ]
        },
        {
          "output_type": "stream",
          "name": "stderr",
          "text": [
            "\r 73%|███████▎  | 30/41 [02:04<00:04,  2.30it/s]"
          ]
        },
        {
          "output_type": "stream",
          "name": "stdout",
          "text": [
            "/content/gdrive/MyDrive/Fires/PERIMETRES/PERIM_DATABASE/CAL_database/individual_shapefiles/fperim322.shp\n",
            "CAL_database_Sentinel2_323_postFire_RGBIR.tif\n"
          ]
        },
        {
          "output_type": "stream",
          "name": "stderr",
          "text": [
            "\r 76%|███████▌  | 31/41 [02:04<00:03,  2.63it/s]"
          ]
        },
        {
          "output_type": "stream",
          "name": "stdout",
          "text": [
            "/content/gdrive/MyDrive/Fires/PERIMETRES/PERIM_DATABASE/CAL_database/individual_shapefiles/fperim323.shp\n",
            "CAL_database_Sentinel2_40_postFire_RGBIR.tif\n"
          ]
        },
        {
          "output_type": "stream",
          "name": "stderr",
          "text": [
            "\r 78%|███████▊  | 32/41 [02:05<00:03,  2.70it/s]"
          ]
        },
        {
          "output_type": "stream",
          "name": "stdout",
          "text": [
            "/content/gdrive/MyDrive/Fires/PERIMETRES/PERIM_DATABASE/CAL_database/individual_shapefiles/fperim40.shp\n",
            "CAL_database_Sentinel2_350_postFire_RGBIR.tif\n"
          ]
        },
        {
          "output_type": "stream",
          "name": "stderr",
          "text": [
            "\r 80%|████████  | 33/41 [02:05<00:03,  2.65it/s]"
          ]
        },
        {
          "output_type": "stream",
          "name": "stdout",
          "text": [
            "/content/gdrive/MyDrive/Fires/PERIMETRES/PERIM_DATABASE/CAL_database/individual_shapefiles/fperim350.shp\n",
            "CAL_database_Sentinel2_336_postFire_RGBIR.tif\n"
          ]
        },
        {
          "output_type": "stream",
          "name": "stderr",
          "text": [
            "\r 83%|████████▎ | 34/41 [02:06<00:02,  2.53it/s]"
          ]
        },
        {
          "output_type": "stream",
          "name": "stdout",
          "text": [
            "/content/gdrive/MyDrive/Fires/PERIMETRES/PERIM_DATABASE/CAL_database/individual_shapefiles/fperim336.shp\n",
            "CAL_database_Sentinel2_8438_postFire_RGBIR.tif\n"
          ]
        },
        {
          "output_type": "stream",
          "name": "stderr",
          "text": [
            "\r 85%|████████▌ | 35/41 [02:06<00:02,  2.79it/s]"
          ]
        },
        {
          "output_type": "stream",
          "name": "stdout",
          "text": [
            "/content/gdrive/MyDrive/Fires/PERIMETRES/PERIM_DATABASE/CAL_database/individual_shapefiles/fperim8438.shp\n",
            "CAL_database_Sentinel2_8556_postFire_RGBIR.tif\n"
          ]
        },
        {
          "output_type": "stream",
          "name": "stderr",
          "text": [
            "\r 88%|████████▊ | 36/41 [02:06<00:01,  2.98it/s]"
          ]
        },
        {
          "output_type": "stream",
          "name": "stdout",
          "text": [
            "/content/gdrive/MyDrive/Fires/PERIMETRES/PERIM_DATABASE/CAL_database/individual_shapefiles/fperim8556.shp\n",
            "CAL_database_Sentinel2_8630_postFire_RGBIR.tif\n"
          ]
        },
        {
          "output_type": "stream",
          "name": "stderr",
          "text": [
            "\r 90%|█████████ | 37/41 [02:06<00:01,  3.03it/s]"
          ]
        },
        {
          "output_type": "stream",
          "name": "stdout",
          "text": [
            "/content/gdrive/MyDrive/Fires/PERIMETRES/PERIM_DATABASE/CAL_database/individual_shapefiles/fperim8630.shp\n",
            "CAL_database_Sentinel2_8262_postFire_RGBIR.tif\n"
          ]
        },
        {
          "output_type": "stream",
          "name": "stderr",
          "text": [
            "\r 93%|█████████▎| 38/41 [02:07<00:01,  2.51it/s]"
          ]
        },
        {
          "output_type": "stream",
          "name": "stdout",
          "text": [
            "/content/gdrive/MyDrive/Fires/PERIMETRES/PERIM_DATABASE/CAL_database/individual_shapefiles/fperim8262.shp\n",
            "CAL_database_Sentinel2_8326_postFire_RGBIR.tif\n"
          ]
        },
        {
          "output_type": "stream",
          "name": "stderr",
          "text": [
            "\r 95%|█████████▌| 39/41 [02:07<00:00,  2.64it/s]"
          ]
        },
        {
          "output_type": "stream",
          "name": "stdout",
          "text": [
            "/content/gdrive/MyDrive/Fires/PERIMETRES/PERIM_DATABASE/CAL_database/individual_shapefiles/fperim8326.shp\n",
            "CAL_database_Sentinel2_8578_postFire_RGBIR.tif\n"
          ]
        },
        {
          "output_type": "stream",
          "name": "stderr",
          "text": [
            "\r 98%|█████████▊| 40/41 [02:08<00:00,  2.62it/s]"
          ]
        },
        {
          "output_type": "stream",
          "name": "stdout",
          "text": [
            "/content/gdrive/MyDrive/Fires/PERIMETRES/PERIM_DATABASE/CAL_database/individual_shapefiles/fperim8578.shp\n",
            "CAL_database_Sentinel2_8351_postFire_RGBIR.tif\n"
          ]
        },
        {
          "output_type": "stream",
          "name": "stderr",
          "text": [
            "100%|██████████| 41/41 [02:08<00:00,  3.14s/it]"
          ]
        },
        {
          "output_type": "stream",
          "name": "stdout",
          "text": [
            "/content/gdrive/MyDrive/Fires/PERIMETRES/PERIM_DATABASE/CAL_database/individual_shapefiles/fperim8351.shp\n",
            "Current generated Label tif files: 41\n",
            "Total submitted Sentinel tif files: 41\n",
            "Number of unfound shapefile: 0\n"
          ]
        },
        {
          "output_type": "stream",
          "name": "stderr",
          "text": [
            "\n"
          ]
        }
      ]
    }
  ]
}
