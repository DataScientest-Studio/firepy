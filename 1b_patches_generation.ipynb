{
  "cells": [
    {
      "cell_type": "markdown",
      "metadata": {
        "id": "view-in-github",
        "colab_type": "text"
      },
      "source": [
        "<a href=\"https://colab.research.google.com/github/icecore013/image-segmentation-keras/blob/master/1b_patches_generation.ipynb\" target=\"_parent\"><img src=\"https://colab.research.google.com/assets/colab-badge.svg\" alt=\"Open In Colab\"/></a>"
      ]
    },
    {
      "cell_type": "markdown",
      "metadata": {
        "id": "0QLI9otJlMdV"
      },
      "source": [
        "# Import and configuration variables"
      ]
    },
    {
      "cell_type": "code",
      "execution_count": null,
      "metadata": {
        "colab": {
          "base_uri": "https://localhost:8080/"
        },
        "id": "t3ay3m4UAawf",
        "outputId": "491930dd-a336-4056-9308-391a9004c2d9"
      },
      "outputs": [
        {
          "output_type": "stream",
          "name": "stdout",
          "text": [
            "Mounted at /content/gdrive\n"
          ]
        }
      ],
      "source": [
        "# Loading of our drive\n",
        "from google.colab import drive\n",
        "drive.mount('/content/gdrive')\n",
        "root_path = 'gdrive/My Drive/'"
      ]
    },
    {
      "cell_type": "code",
      "execution_count": null,
      "metadata": {
        "id": "3vSqPYiwA8WE",
        "colab": {
          "base_uri": "https://localhost:8080/"
        },
        "outputId": "d7f2f8ff-2273-469e-94eb-5feede4b51e1"
      },
      "outputs": [
        {
          "output_type": "stream",
          "name": "stdout",
          "text": [
            "Collecting patchify\n",
            "  Downloading patchify-0.2.3-py3-none-any.whl (6.6 kB)\n",
            "Requirement already satisfied: numpy<2,>=1 in /usr/local/lib/python3.7/dist-packages (from patchify) (1.21.5)\n",
            "Installing collected packages: patchify\n",
            "Successfully installed patchify-0.2.3\n",
            "Collecting rasterio\n",
            "  Downloading rasterio-1.2.10-cp37-cp37m-manylinux1_x86_64.whl (19.3 MB)\n",
            "\u001b[K     |████████████████████████████████| 19.3 MB 257 kB/s \n",
            "\u001b[?25hRequirement already satisfied: click>=4.0 in /usr/local/lib/python3.7/dist-packages (from rasterio) (7.1.2)\n",
            "Collecting affine\n",
            "  Downloading affine-2.3.0-py2.py3-none-any.whl (15 kB)\n",
            "Collecting snuggs>=1.4.1\n",
            "  Downloading snuggs-1.4.7-py3-none-any.whl (5.4 kB)\n",
            "Collecting click-plugins\n",
            "  Downloading click_plugins-1.1.1-py2.py3-none-any.whl (7.5 kB)\n",
            "Requirement already satisfied: numpy in /usr/local/lib/python3.7/dist-packages (from rasterio) (1.21.5)\n",
            "Requirement already satisfied: setuptools in /usr/local/lib/python3.7/dist-packages (from rasterio) (57.4.0)\n",
            "Requirement already satisfied: attrs in /usr/local/lib/python3.7/dist-packages (from rasterio) (21.4.0)\n",
            "Collecting cligj>=0.5\n",
            "  Downloading cligj-0.7.2-py3-none-any.whl (7.1 kB)\n",
            "Requirement already satisfied: certifi in /usr/local/lib/python3.7/dist-packages (from rasterio) (2021.10.8)\n",
            "Requirement already satisfied: pyparsing>=2.1.6 in /usr/local/lib/python3.7/dist-packages (from snuggs>=1.4.1->rasterio) (3.0.7)\n",
            "Installing collected packages: snuggs, cligj, click-plugins, affine, rasterio\n",
            "Successfully installed affine-2.3.0 click-plugins-1.1.1 cligj-0.7.2 rasterio-1.2.10 snuggs-1.4.7\n",
            "Requirement already satisfied: keras in /usr/local/lib/python3.7/dist-packages (2.8.0)\n",
            "Requirement already satisfied: tifffile in /usr/local/lib/python3.7/dist-packages (2021.11.2)\n",
            "Requirement already satisfied: numpy>=1.15.1 in /usr/local/lib/python3.7/dist-packages (from tifffile) (1.21.5)\n"
          ]
        }
      ],
      "source": [
        "# Import\n",
        "import os\n",
        "from os import path as op\n",
        "import random\n",
        "\n",
        "!pip install patchify\n",
        "from patchify import patchify\n",
        "\n",
        "import numpy as np\n",
        "import matplotlib.pyplot as plt\n",
        "%matplotlib inline\n",
        "\n",
        "!pip install rasterio\n",
        "import rasterio\n",
        "\n",
        "import tensorflow as tf\n",
        "!pip install keras\n",
        "\n",
        "from sklearn.model_selection import train_test_split\n",
        "\n",
        "!pip install tifffile\n",
        "import tifffile\n",
        "\n",
        "from tqdm import tqdm"
      ]
    },
    {
      "cell_type": "code",
      "execution_count": null,
      "metadata": {
        "id": "cwlEk1tJBcqh"
      },
      "outputs": [],
      "source": [
        "# Config variables\n",
        "\n",
        "CHECK_DIRECTORY = '/content/gdrive/MyDrive/Data/Training_data/CAL_database'\n",
        "#CHECK_DIRECTORY = '/content/gdrive/MyDrive/Fires/PERIMETRES/PERIM_DATABASE/CAL_database'\n",
        "\n",
        "\n",
        "ROOT_DIRECTORY = '/content/gdrive/MyDrive/Data/Training_data'\n",
        "PATCH_DIRECTORY = '/content/gdrive/MyDrive/Data/Training_data/Final_patches'\n",
        "\n",
        "\n",
        "PREDICTION_THRESHOLD = 0.4\n",
        "\n",
        "IMAGE_SCALING_FACTOR = 10000\n",
        "MASK_SCALING_FACTOR = 255\n",
        "\n",
        "PATCH_SIZE = 256\n",
        "\n",
        "IMG_CHANNELS = 5\n",
        "MASK_CHANNELS = 1\n",
        "\n",
        "BATCH_SIZE = 32"
      ]
    },
    {
      "cell_type": "markdown",
      "metadata": {
        "id": "3UX6zNmuyy18"
      },
      "source": [
        "# Visual check of the complete image and corresponding mask"
      ]
    },
    {
      "cell_type": "code",
      "execution_count": null,
      "metadata": {
        "colab": {
          "base_uri": "https://localhost:8080/"
        },
        "id": "QeC3pN_dtwql",
        "outputId": "75d28e1c-aef8-4265-d09c-8c8b58a6b502"
      },
      "outputs": [
        {
          "output_type": "stream",
          "name": "stdout",
          "text": [
            "(1433, 761, 5) 0 CAL_database_Sentinel2_120_postFire_RGBIR.tif\n",
            "(902, 1132, 5) 1 CAL_database_Sentinel2_140_postFire_RGBIR.tif\n",
            "(331, 603, 5) 2 CAL_database_Sentinel2_155_postFire_RGBIR.tif\n",
            "(1297, 1195, 5) 3 CAL_database_Sentinel2_164_postFire_RGBIR.tif\n",
            "(4379, 3718, 5) 4 CAL_database_Sentinel2_176_postFire_RGBIR.tif\n",
            "(1771, 1682, 5) 5 CAL_database_Sentinel2_201_postFire_RGBIR.tif\n",
            "(996, 1029, 5) 6 CAL_database_Sentinel2_225_postFire_RGBIR.tif\n",
            "(3631, 2658, 5) 7 CAL_database_Sentinel2_226_postFire_RGBIR.tif\n",
            "(1347, 995, 5) 8 CAL_database_Sentinel2_227_postFire_RGBIR.tif\n",
            "(980, 968, 5) 9 CAL_database_Sentinel2_238_postFire_RGBIR.tif\n",
            "(1514, 1954, 5) 10 CAL_database_Sentinel2_240_postFire_RGBIR.tif\n",
            "(3062, 3268, 5) 11 CAL_database_Sentinel2_243_postFire_RGBIR.tif\n",
            "(747, 974, 5) 12 CAL_database_Sentinel2_270_postFire_RGBIR.tif\n",
            "(502, 878, 5) 13 CAL_database_Sentinel2_272_postFire_RGBIR.tif\n",
            "(488, 458, 5) 14 CAL_database_Sentinel2_293_postFire_RGBIR.tif\n",
            "(1194, 1291, 5) 15 CAL_database_Sentinel2_302_postFire_RGBIR.tif\n",
            "(904, 996, 5) 16 CAL_database_Sentinel2_303_postFire_RGBIR.tif\n",
            "(496, 429, 5) 17 CAL_database_Sentinel2_314_postFire_RGBIR.tif\n",
            "(604, 484, 5) 18 CAL_database_Sentinel2_322_postFire_RGBIR.tif\n",
            "(341, 466, 5) 19 CAL_database_Sentinel2_323_postFire_RGBIR.tif\n",
            "(1481, 1584, 5) 20 CAL_database_Sentinel2_336_postFire_RGBIR.tif\n",
            "(546, 572, 5) 21 CAL_database_Sentinel2_40_postFire_RGBIR.tif\n",
            "(464, 579, 5) 22 CAL_database_Sentinel2_41_postFire_RGBIR.tif\n",
            "(688, 944, 5) 23 CAL_database_Sentinel2_420_postFire_RGBIR.tif\n",
            "(355, 652, 5) 24 CAL_database_Sentinel2_42_postFire_RGBIR.tif\n",
            "(1473, 1364, 5) 25 CAL_database_Sentinel2_8261_postFire_RGBIR.tif\n",
            "(422, 549, 5) 26 CAL_database_Sentinel2_8326_postFire_RGBIR.tif\n",
            "(1599, 1059, 5) 27 CAL_database_Sentinel2_8351_postFire_RGBIR.tif\n",
            "(495, 415, 5) 28 CAL_database_Sentinel2_8438_postFire_RGBIR.tif\n",
            "(751, 609, 5) 29 CAL_database_Sentinel2_8578_postFire_RGBIR.tif\n",
            "(483, 606, 5) 30 CAL_database_Sentinel2_8630_postFire_RGBIR.tif\n",
            "Nb of images: 31\n"
          ]
        }
      ],
      "source": [
        "# Listing all filenames\n",
        "total_Flist = sorted(os.listdir(op.join(CHECK_DIRECTORY, 'images' )))\n",
        "total_Flist = [i for i in total_Flist if i.endswith('.tif')]\n",
        "total_Flist = [i for i in total_Flist if 'post' in i]\n",
        "\n",
        "# Initialisation of the image dataset\n",
        "image_dataset = []\n",
        "\n",
        "for i, filename in enumerate(total_Flist):\n",
        "    # Lecture du fichier tiff et conversion en Array\n",
        "    with rasterio.open(op.join(CHECK_DIRECTORY, 'images', filename ), 'r') as ds:\n",
        "      arr = ds.read()\n",
        "\n",
        "    # Normalize the data (divide par 10000)\n",
        "    arr = arr / 10000\n",
        "\n",
        "    # Change dimension order (number of channel at the end)\n",
        "    arr = np.moveaxis(arr, 0, -1)\n",
        "\n",
        "    # Check the dimensions of the Array\n",
        "    print(arr.shape, i, filename)\n",
        "\n",
        "    # Conversion Array en Tensor\n",
        "    tf_image = tf.convert_to_tensor(arr, dtype = tf.float32)\n",
        "\n",
        "    # Resize the image\n",
        "    tf_image_resized = tf.image.resize(tf_image, size=(PATCH_SIZE, PATCH_SIZE))\n",
        "\n",
        "    # Ajout du Train Dataset\n",
        "    image_dataset.append(tf_image_resized)\n",
        "\n",
        "image_dataset = np.array(image_dataset)\n",
        "print('Nb of images: ' + str(image_dataset.shape[0]))"
      ]
    },
    {
      "cell_type": "code",
      "execution_count": null,
      "metadata": {
        "colab": {
          "base_uri": "https://localhost:8080/"
        },
        "id": "wJxBKQ9ft0-j",
        "outputId": "acebef09-c8b3-4a5b-aeb3-d4ad32973eac"
      },
      "outputs": [
        {
          "output_type": "stream",
          "name": "stdout",
          "text": [
            "(1433, 761, 1) 0 CAL_database_Sentinel2_120_postFire_label.tif\n",
            "(902, 1132, 1) 1 CAL_database_Sentinel2_140_postFire_label.tif\n",
            "(331, 603, 1) 2 CAL_database_Sentinel2_155_postFire_label.tif\n",
            "(1297, 1195, 1) 3 CAL_database_Sentinel2_164_postFire_label.tif\n",
            "(4379, 3718, 1) 4 CAL_database_Sentinel2_176_postFire_label.tif\n",
            "(1771, 1682, 1) 5 CAL_database_Sentinel2_201_postFire_label.tif\n",
            "(996, 1029, 1) 6 CAL_database_Sentinel2_225_postFire_label.tif\n",
            "(3631, 2658, 1) 7 CAL_database_Sentinel2_226_postFire_label.tif\n",
            "(1347, 995, 1) 8 CAL_database_Sentinel2_227_postFire_label.tif\n",
            "(980, 968, 1) 9 CAL_database_Sentinel2_238_postFire_label.tif\n",
            "(1514, 1954, 1) 10 CAL_database_Sentinel2_240_postFire_label.tif\n",
            "(3062, 3268, 1) 11 CAL_database_Sentinel2_243_postFire_label.tif\n",
            "(747, 974, 1) 12 CAL_database_Sentinel2_270_postFire_label.tif\n",
            "(502, 878, 1) 13 CAL_database_Sentinel2_272_postFire_label.tif\n",
            "(488, 458, 1) 14 CAL_database_Sentinel2_293_postFire_label.tif\n",
            "(1194, 1291, 1) 15 CAL_database_Sentinel2_302_postFire_label.tif\n",
            "(904, 996, 1) 16 CAL_database_Sentinel2_303_postFire_label.tif\n",
            "(496, 429, 1) 17 CAL_database_Sentinel2_314_postFire_label.tif\n",
            "(604, 484, 1) 18 CAL_database_Sentinel2_322_postFire_label.tif\n",
            "(341, 466, 1) 19 CAL_database_Sentinel2_323_postFire_label.tif\n",
            "(1481, 1584, 1) 20 CAL_database_Sentinel2_336_postFire_label.tif\n",
            "(546, 572, 1) 21 CAL_database_Sentinel2_40_postFire_label.tif\n",
            "(464, 579, 1) 22 CAL_database_Sentinel2_41_postFire_label.tif\n",
            "(688, 944, 1) 23 CAL_database_Sentinel2_420_postFire_label.tif\n",
            "(355, 652, 1) 24 CAL_database_Sentinel2_42_postFire_label.tif\n",
            "(1473, 1364, 1) 25 CAL_database_Sentinel2_8261_postFire_label.tif\n",
            "(422, 549, 1) 26 CAL_database_Sentinel2_8326_postFire_label.tif\n",
            "(1599, 1059, 1) 27 CAL_database_Sentinel2_8351_postFire_label.tif\n",
            "(495, 415, 1) 28 CAL_database_Sentinel2_8438_postFire_label.tif\n",
            "(751, 609, 1) 29 CAL_database_Sentinel2_8578_postFire_label.tif\n",
            "(483, 606, 1) 30 CAL_database_Sentinel2_8630_postFire_label.tif\n",
            "Nb of masks: 31\n"
          ]
        }
      ],
      "source": [
        "# Listing all mask filenames\n",
        "mask_Flist = sorted(os.listdir(op.join(CHECK_DIRECTORY, 'masks' )))\n",
        "mask_Flist = [i for i in mask_Flist if i.endswith('.tif')]\n",
        "\n",
        "# Initialisation of the mask dataset\n",
        "mask_dataset = []\n",
        "\n",
        "for i, filename in enumerate(mask_Flist):\n",
        "    # tif file opening and conversion in Array\n",
        "    with rasterio.open(op.join(CHECK_DIRECTORY, 'masks', filename ), 'r') as ds:\n",
        "      arr = ds.read()\n",
        "\n",
        "    # Normalize the data (divide par 255)\n",
        "    arr = arr / 255\n",
        "\n",
        "    # Change dimension order (number of channel at the end)\n",
        "    arr = np.moveaxis(arr, 0, -1)\n",
        "\n",
        "    # Check the dimensions of the Array\n",
        "    print(arr.shape, i, filename)\n",
        "\n",
        "    # Conversion Array en Tensor\n",
        "    tf_label = tf.convert_to_tensor(arr, dtype = tf.int32)\n",
        "\n",
        "    # Resize the image\n",
        "    tf_label_resized = tf.image.resize(tf_label, size=(PATCH_SIZE, PATCH_SIZE))\n",
        "\n",
        "    # Ajout du Train Dataset\n",
        "    mask_dataset.append(tf_label_resized.numpy())\n",
        "\n",
        "mask_dataset = np.array(mask_dataset)\n",
        "print('Nb of masks: ' + str(image_dataset.shape[0]))"
      ]
    },
    {
      "cell_type": "code",
      "source": [
        "def visual_check(image, label):\n",
        "\n",
        "    # Selection of the first 3 channels\n",
        "    image_rgb = image[:, :, :3]\n",
        "\n",
        "    # Reorder for RGB image:\n",
        "    #   Channels from GEE are: 2(B), 3(G), 4(R)\n",
        "    #   Expected channels for RGB image: 4(R), 3(G), 2(B)\n",
        "    image_rgb = image_rgb[:, :, ::-1] * 5\n",
        "\n",
        "    # Finding the mask in mask_dataset    \n",
        "    label_2D = label[:, :, 0]\n",
        "\n",
        "    # Display graphs\n",
        "    plt.figure(figsize=(20, 20))\n",
        "    plt.subplot(1, 2, 1)\n",
        "    plt.imshow(image_rgb, vmin=0)\n",
        "    plt.title(\"Sentinel 2 RGB image\")\n",
        "\n",
        "    plt.subplot(1, 2, 2)\n",
        "    plt.imshow(label_2D, cmap='gray', vmin=0, vmax=1)\n",
        "    plt.title((\"Label image\"))\n",
        "\n",
        "    plt.show()\n",
        "\n",
        "# Checking some images visually to find unusable images (snow, smoke, clouds...)\n",
        "for i in range(0, len(image_dataset)):\n",
        "    print(i, total_Flist[i])\n",
        "    print(i, mask_Flist[i])\n",
        "    image = image_dataset[i]\n",
        "    label = mask_dataset[i]\n",
        "    visual_check(image, label)"
      ],
      "metadata": {
        "id": "OihQvUG-ACke"
      },
      "execution_count": null,
      "outputs": []
    },
    {
      "cell_type": "markdown",
      "metadata": {
        "id": "s0zJUiaq-qdr"
      },
      "source": [
        "# Generating patches"
      ]
    },
    {
      "cell_type": "code",
      "execution_count": null,
      "metadata": {
        "id": "Zj06U6hG-opP"
      },
      "outputs": [],
      "source": [
        "# Listing the relevant filenames\n",
        "\n",
        "image_filenames = []\n",
        "mask_filenames = []\n",
        "\n",
        "for path, subdirs, files in os.walk(ROOT_DIRECTORY):\n",
        "    dirname = path.split(os.path.sep)[-1]\n",
        "    if dirname == 'images':\n",
        "        images = sorted(os.listdir(path))\n",
        "        for i, image_name in enumerate(images):\n",
        "            if 'post' in image_name:                    # Only post fire images\n",
        "                if image_name.endswith(\".tif\"):         # Only tif images\n",
        "                    image_filenames.append(op.join(path, image_name))\n",
        "\n",
        "for path, subdirs, files in os.walk(ROOT_DIRECTORY):\n",
        "    dirname = path.split(os.path.sep)[-1]\n",
        "    if dirname == 'masks':\n",
        "        masks = sorted(os.listdir(path))\n",
        "        for i, mask_name in enumerate(masks):\n",
        "            if 'post' in mask_name:                    # Only post fire images\n",
        "                if mask_name.endswith(\".tif\"):         # Only tif images\n",
        "                    mask_filenames.append(op.join(path, mask_name))"
      ]
    },
    {
      "cell_type": "code",
      "execution_count": null,
      "metadata": {
        "id": "23Bk4M_FMtRf"
      },
      "outputs": [],
      "source": [
        "def patchify_images(large_image_path, NB_CHANNELS, target_folder, scaling_factor):\n",
        "\n",
        "  image_dataset = []\n",
        "  with rasterio.open(large_image_path, 'r') as ds:        # Open the file using rasterio\n",
        "    arr = ds.read()\n",
        "  arr = arr / scaling_factor           # Normalize the data\n",
        "  arr = np.moveaxis(arr, 0, -1)        # Change dimension order (number of channel at the end)\n",
        "\n",
        "  if arr.shape[0] > PATCH_SIZE and arr.shape[1] > PATCH_SIZE:       # Only big enough images\n",
        "      \n",
        "      SIZE_X = (arr.shape[0]//PATCH_SIZE)*PATCH_SIZE                # Nearest size divisible by our patch size\n",
        "      SIZE_Y = (arr.shape[1]//PATCH_SIZE)*PATCH_SIZE                # Nearest size divisible by our patch size\n",
        "      image = arr[:SIZE_X, :SIZE_Y, :]                              # Crop the images to get a multiple of patches\n",
        "\n",
        "      print(\"Now patchifying image: \", large_image_path)               # Extract patches from each image\n",
        "      patches_img = patchify(image, (PATCH_SIZE, PATCH_SIZE, NB_CHANNELS), step=PATCH_SIZE)  # Step=256 for 256 patches means no overlap\n",
        "\n",
        "      for i in range(patches_img.shape[0]):\n",
        "          for j in range(patches_img.shape[1]):\n",
        "              \n",
        "              single_patch_img = patches_img[i,j,:,:,:,:]\n",
        "              single_patch_img = single_patch_img[0]                # Drop the extra unecessary dimension that Patchify adds.\n",
        "\n",
        "              single_patch_filename = op.join(ROOT_DIRECTORY, 'Final_patches', target_folder, large_image_path.split('/')[8].split('.')[0] + '_' + str(i) + '_' + str(j) + '.tif')\n",
        "              tifffile.imsave(single_patch_filename, single_patch_img)\n",
        "\n",
        "  return"
      ]
    },
    {
      "cell_type": "code",
      "execution_count": null,
      "metadata": {
        "colab": {
          "base_uri": "https://localhost:8080/"
        },
        "id": "X8I-B_boRZAx",
        "outputId": "01956120-6ff8-4f49-9b59-1fd6656c2920"
      },
      "outputs": [
        {
          "output_type": "stream",
          "name": "stderr",
          "text": [
            "  3%|▎         | 1/31 [00:00<00:09,  3.24it/s]"
          ]
        },
        {
          "output_type": "stream",
          "name": "stdout",
          "text": [
            "Now patchifying image:  /content/gdrive/MyDrive/Data/Training_data/CAL_database/images/CAL_database_Sentinel2_120_postFire_RGBIR.tif\n"
          ]
        },
        {
          "output_type": "stream",
          "name": "stderr",
          "text": [
            "\r  6%|▋         | 2/31 [00:00<00:09,  3.13it/s]"
          ]
        },
        {
          "output_type": "stream",
          "name": "stdout",
          "text": [
            "Now patchifying image:  /content/gdrive/MyDrive/Data/Training_data/CAL_database/images/CAL_database_Sentinel2_140_postFire_RGBIR.tif\n",
            "Now patchifying image:  /content/gdrive/MyDrive/Data/Training_data/CAL_database/images/CAL_database_Sentinel2_155_postFire_RGBIR.tif\n",
            "Now patchifying image:  /content/gdrive/MyDrive/Data/Training_data/CAL_database/images/CAL_database_Sentinel2_164_postFire_RGBIR.tif\n"
          ]
        },
        {
          "output_type": "stream",
          "name": "stderr",
          "text": [
            "\r 13%|█▎        | 4/31 [00:01<00:09,  2.73it/s]"
          ]
        },
        {
          "output_type": "stream",
          "name": "stdout",
          "text": [
            "Now patchifying image:  /content/gdrive/MyDrive/Data/Training_data/CAL_database/images/CAL_database_Sentinel2_176_postFire_RGBIR.tif\n"
          ]
        },
        {
          "output_type": "stream",
          "name": "stderr",
          "text": [
            "\r 16%|█▌        | 5/31 [00:09<01:13,  2.84s/it]"
          ]
        },
        {
          "output_type": "stream",
          "name": "stdout",
          "text": [
            "Now patchifying image:  /content/gdrive/MyDrive/Data/Training_data/CAL_database/images/CAL_database_Sentinel2_201_postFire_RGBIR.tif\n"
          ]
        },
        {
          "output_type": "stream",
          "name": "stderr",
          "text": [
            " 23%|██▎       | 7/31 [00:11<00:42,  1.77s/it]"
          ]
        },
        {
          "output_type": "stream",
          "name": "stdout",
          "text": [
            "Now patchifying image:  /content/gdrive/MyDrive/Data/Training_data/CAL_database/images/CAL_database_Sentinel2_225_postFire_RGBIR.tif\n",
            "Now patchifying image:  /content/gdrive/MyDrive/Data/Training_data/CAL_database/images/CAL_database_Sentinel2_226_postFire_RGBIR.tif\n"
          ]
        },
        {
          "output_type": "stream",
          "name": "stderr",
          "text": [
            "\r 26%|██▌       | 8/31 [00:16<01:01,  2.68s/it]"
          ]
        },
        {
          "output_type": "stream",
          "name": "stdout",
          "text": [
            "Now patchifying image:  /content/gdrive/MyDrive/Data/Training_data/CAL_database/images/CAL_database_Sentinel2_227_postFire_RGBIR.tif\n"
          ]
        },
        {
          "output_type": "stream",
          "name": "stderr",
          "text": [
            " 32%|███▏      | 10/31 [00:17<00:33,  1.61s/it]"
          ]
        },
        {
          "output_type": "stream",
          "name": "stdout",
          "text": [
            "Now patchifying image:  /content/gdrive/MyDrive/Data/Training_data/CAL_database/images/CAL_database_Sentinel2_238_postFire_RGBIR.tif\n",
            "Now patchifying image:  /content/gdrive/MyDrive/Data/Training_data/CAL_database/images/CAL_database_Sentinel2_240_postFire_RGBIR.tif\n"
          ]
        },
        {
          "output_type": "stream",
          "name": "stderr",
          "text": [
            "\r 35%|███▌      | 11/31 [00:18<00:28,  1.41s/it]"
          ]
        },
        {
          "output_type": "stream",
          "name": "stdout",
          "text": [
            "Now patchifying image:  /content/gdrive/MyDrive/Data/Training_data/CAL_database/images/CAL_database_Sentinel2_243_postFire_RGBIR.tif\n"
          ]
        },
        {
          "output_type": "stream",
          "name": "stderr",
          "text": [
            "\r 39%|███▊      | 12/31 [00:23<00:44,  2.33s/it]"
          ]
        },
        {
          "output_type": "stream",
          "name": "stdout",
          "text": [
            "Now patchifying image:  /content/gdrive/MyDrive/Data/Training_data/CAL_database/images/CAL_database_Sentinel2_270_postFire_RGBIR.tif\n"
          ]
        },
        {
          "output_type": "stream",
          "name": "stderr",
          "text": [
            " 45%|████▌     | 14/31 [00:23<00:22,  1.33s/it]"
          ]
        },
        {
          "output_type": "stream",
          "name": "stdout",
          "text": [
            "Now patchifying image:  /content/gdrive/MyDrive/Data/Training_data/CAL_database/images/CAL_database_Sentinel2_272_postFire_RGBIR.tif\n",
            "Now patchifying image:  /content/gdrive/MyDrive/Data/Training_data/CAL_database/images/CAL_database_Sentinel2_293_postFire_RGBIR.tif\n",
            "Now patchifying image:  /content/gdrive/MyDrive/Data/Training_data/CAL_database/images/CAL_database_Sentinel2_302_postFire_RGBIR.tif\n"
          ]
        },
        {
          "output_type": "stream",
          "name": "stderr",
          "text": [
            " 55%|█████▍    | 17/31 [00:24<00:09,  1.42it/s]"
          ]
        },
        {
          "output_type": "stream",
          "name": "stdout",
          "text": [
            "Now patchifying image:  /content/gdrive/MyDrive/Data/Training_data/CAL_database/images/CAL_database_Sentinel2_303_postFire_RGBIR.tif\n",
            "Now patchifying image:  /content/gdrive/MyDrive/Data/Training_data/CAL_database/images/CAL_database_Sentinel2_314_postFire_RGBIR.tif\n"
          ]
        },
        {
          "output_type": "stream",
          "name": "stderr",
          "text": [
            "\r 61%|██████▏   | 19/31 [00:24<00:05,  2.26it/s]"
          ]
        },
        {
          "output_type": "stream",
          "name": "stdout",
          "text": [
            "Now patchifying image:  /content/gdrive/MyDrive/Data/Training_data/CAL_database/images/CAL_database_Sentinel2_322_postFire_RGBIR.tif\n",
            "Now patchifying image:  /content/gdrive/MyDrive/Data/Training_data/CAL_database/images/CAL_database_Sentinel2_323_postFire_RGBIR.tif\n",
            "Now patchifying image:  /content/gdrive/MyDrive/Data/Training_data/CAL_database/images/CAL_database_Sentinel2_336_postFire_RGBIR.tif\n"
          ]
        },
        {
          "output_type": "stream",
          "name": "stderr",
          "text": [
            " 71%|███████   | 22/31 [00:26<00:04,  2.24it/s]"
          ]
        },
        {
          "output_type": "stream",
          "name": "stdout",
          "text": [
            "Now patchifying image:  /content/gdrive/MyDrive/Data/Training_data/CAL_database/images/CAL_database_Sentinel2_40_postFire_RGBIR.tif\n"
          ]
        },
        {
          "output_type": "stream",
          "name": "stderr",
          "text": [
            "\r 74%|███████▍  | 23/31 [00:26<00:03,  2.62it/s]"
          ]
        },
        {
          "output_type": "stream",
          "name": "stdout",
          "text": [
            "Now patchifying image:  /content/gdrive/MyDrive/Data/Training_data/CAL_database/images/CAL_database_Sentinel2_41_postFire_RGBIR.tif\n",
            "Now patchifying image:  /content/gdrive/MyDrive/Data/Training_data/CAL_database/images/CAL_database_Sentinel2_420_postFire_RGBIR.tif\n"
          ]
        },
        {
          "output_type": "stream",
          "name": "stderr",
          "text": [
            " 81%|████████  | 25/31 [00:27<00:02,  2.99it/s]"
          ]
        },
        {
          "output_type": "stream",
          "name": "stdout",
          "text": [
            "Now patchifying image:  /content/gdrive/MyDrive/Data/Training_data/CAL_database/images/CAL_database_Sentinel2_42_postFire_RGBIR.tif\n",
            "Now patchifying image:  /content/gdrive/MyDrive/Data/Training_data/CAL_database/images/CAL_database_Sentinel2_8261_postFire_RGBIR.tif\n"
          ]
        },
        {
          "output_type": "stream",
          "name": "stderr",
          "text": [
            "\r 84%|████████▍ | 26/31 [00:28<00:02,  1.74it/s]"
          ]
        },
        {
          "output_type": "stream",
          "name": "stdout",
          "text": [
            "Now patchifying image:  /content/gdrive/MyDrive/Data/Training_data/CAL_database/images/CAL_database_Sentinel2_8326_postFire_RGBIR.tif\n",
            "Now patchifying image:  /content/gdrive/MyDrive/Data/Training_data/CAL_database/images/CAL_database_Sentinel2_8351_postFire_RGBIR.tif\n"
          ]
        },
        {
          "output_type": "stream",
          "name": "stderr",
          "text": [
            " 97%|█████████▋| 30/31 [00:29<00:00,  2.79it/s]"
          ]
        },
        {
          "output_type": "stream",
          "name": "stdout",
          "text": [
            "Now patchifying image:  /content/gdrive/MyDrive/Data/Training_data/CAL_database/images/CAL_database_Sentinel2_8438_postFire_RGBIR.tif\n",
            "Now patchifying image:  /content/gdrive/MyDrive/Data/Training_data/CAL_database/images/CAL_database_Sentinel2_8578_postFire_RGBIR.tif\n"
          ]
        },
        {
          "output_type": "stream",
          "name": "stderr",
          "text": [
            "\r100%|██████████| 31/31 [00:29<00:00,  1.05it/s]"
          ]
        },
        {
          "output_type": "stream",
          "name": "stdout",
          "text": [
            "Now patchifying image:  /content/gdrive/MyDrive/Data/Training_data/CAL_database/images/CAL_database_Sentinel2_8630_postFire_RGBIR.tif\n",
            "Number of generated image patches: 806\n"
          ]
        },
        {
          "output_type": "stream",
          "name": "stderr",
          "text": [
            "\n"
          ]
        }
      ],
      "source": [
        "# Image patches generation\n",
        "for image_filename in tqdm(image_filenames):\n",
        "  patchify_images(image_filename, IMG_CHANNELS, 'patchified_images', 10000)\n",
        "\n",
        "print('Number of generated image patches: '+ str(len(os.listdir(op.join(PATCH_DIRECTORY, 'patchified_images')))))"
      ]
    },
    {
      "cell_type": "code",
      "execution_count": null,
      "metadata": {
        "colab": {
          "base_uri": "https://localhost:8080/"
        },
        "id": "2FdEzmIEpKbD",
        "outputId": "7e05d6cb-36e6-42f4-d6de-173b43deecb4"
      },
      "outputs": [
        {
          "output_type": "stream",
          "name": "stderr",
          "text": [
            "\r  0%|          | 0/31 [00:00<?, ?it/s]"
          ]
        },
        {
          "output_type": "stream",
          "name": "stdout",
          "text": [
            "Now patchifying image:  /content/gdrive/MyDrive/Data/Training_data/CAL_database/masks/CAL_database_Sentinel2_120_postFire_label.tif\n"
          ]
        },
        {
          "output_type": "stream",
          "name": "stderr",
          "text": [
            "\r  3%|▎         | 1/31 [00:00<00:05,  5.92it/s]"
          ]
        },
        {
          "output_type": "stream",
          "name": "stdout",
          "text": [
            "Now patchifying image:  /content/gdrive/MyDrive/Data/Training_data/CAL_database/masks/CAL_database_Sentinel2_140_postFire_label.tif\n"
          ]
        },
        {
          "output_type": "stream",
          "name": "stderr",
          "text": [
            "\r  6%|▋         | 2/31 [00:00<00:13,  2.16it/s]"
          ]
        },
        {
          "output_type": "stream",
          "name": "stdout",
          "text": [
            "Now patchifying image:  /content/gdrive/MyDrive/Data/Training_data/CAL_database/masks/CAL_database_Sentinel2_155_postFire_label.tif\n",
            "Now patchifying image:  /content/gdrive/MyDrive/Data/Training_data/CAL_database/masks/CAL_database_Sentinel2_164_postFire_label.tif\n"
          ]
        },
        {
          "output_type": "stream",
          "name": "stderr",
          "text": [
            "\r 13%|█▎        | 4/31 [00:01<00:07,  3.64it/s]"
          ]
        },
        {
          "output_type": "stream",
          "name": "stdout",
          "text": [
            "Now patchifying image:  /content/gdrive/MyDrive/Data/Training_data/CAL_database/masks/CAL_database_Sentinel2_176_postFire_label.tif\n"
          ]
        },
        {
          "output_type": "stream",
          "name": "stderr",
          "text": [
            "\r 16%|█▌        | 5/31 [00:03<00:25,  1.00it/s]"
          ]
        },
        {
          "output_type": "stream",
          "name": "stdout",
          "text": [
            "Now patchifying image:  /content/gdrive/MyDrive/Data/Training_data/CAL_database/masks/CAL_database_Sentinel2_201_postFire_label.tif\n"
          ]
        },
        {
          "output_type": "stream",
          "name": "stderr",
          "text": [
            " 23%|██▎       | 7/31 [00:04<00:14,  1.69it/s]"
          ]
        },
        {
          "output_type": "stream",
          "name": "stdout",
          "text": [
            "Now patchifying image:  /content/gdrive/MyDrive/Data/Training_data/CAL_database/masks/CAL_database_Sentinel2_225_postFire_label.tif\n",
            "Now patchifying image:  /content/gdrive/MyDrive/Data/Training_data/CAL_database/masks/CAL_database_Sentinel2_226_postFire_label.tif\n"
          ]
        },
        {
          "output_type": "stream",
          "name": "stderr",
          "text": [
            " 29%|██▉       | 9/31 [00:06<00:15,  1.44it/s]"
          ]
        },
        {
          "output_type": "stream",
          "name": "stdout",
          "text": [
            "Now patchifying image:  /content/gdrive/MyDrive/Data/Training_data/CAL_database/masks/CAL_database_Sentinel2_227_postFire_label.tif\n",
            "Now patchifying image:  /content/gdrive/MyDrive/Data/Training_data/CAL_database/masks/CAL_database_Sentinel2_238_postFire_label.tif\n"
          ]
        },
        {
          "output_type": "stream",
          "name": "stderr",
          "text": [
            "\r 32%|███▏      | 10/31 [00:06<00:10,  1.93it/s]"
          ]
        },
        {
          "output_type": "stream",
          "name": "stdout",
          "text": [
            "Now patchifying image:  /content/gdrive/MyDrive/Data/Training_data/CAL_database/masks/CAL_database_Sentinel2_240_postFire_label.tif\n"
          ]
        },
        {
          "output_type": "stream",
          "name": "stderr",
          "text": [
            "\r 35%|███▌      | 11/31 [00:06<00:09,  2.16it/s]"
          ]
        },
        {
          "output_type": "stream",
          "name": "stdout",
          "text": [
            "Now patchifying image:  /content/gdrive/MyDrive/Data/Training_data/CAL_database/masks/CAL_database_Sentinel2_243_postFire_label.tif\n"
          ]
        },
        {
          "output_type": "stream",
          "name": "stderr",
          "text": [
            " 42%|████▏     | 13/31 [00:07<00:09,  1.85it/s]"
          ]
        },
        {
          "output_type": "stream",
          "name": "stdout",
          "text": [
            "Now patchifying image:  /content/gdrive/MyDrive/Data/Training_data/CAL_database/masks/CAL_database_Sentinel2_270_postFire_label.tif\n",
            "Now patchifying image:  /content/gdrive/MyDrive/Data/Training_data/CAL_database/masks/CAL_database_Sentinel2_272_postFire_label.tif\n"
          ]
        },
        {
          "output_type": "stream",
          "name": "stderr",
          "text": [
            "\r 45%|████▌     | 14/31 [00:08<00:08,  2.06it/s]"
          ]
        },
        {
          "output_type": "stream",
          "name": "stdout",
          "text": [
            "Now patchifying image:  /content/gdrive/MyDrive/Data/Training_data/CAL_database/masks/CAL_database_Sentinel2_293_postFire_label.tif\n",
            "Now patchifying image:  /content/gdrive/MyDrive/Data/Training_data/CAL_database/masks/CAL_database_Sentinel2_302_postFire_label.tif\n"
          ]
        },
        {
          "output_type": "stream",
          "name": "stderr",
          "text": [
            " 55%|█████▍    | 17/31 [00:08<00:03,  3.64it/s]"
          ]
        },
        {
          "output_type": "stream",
          "name": "stdout",
          "text": [
            "Now patchifying image:  /content/gdrive/MyDrive/Data/Training_data/CAL_database/masks/CAL_database_Sentinel2_303_postFire_label.tif\n",
            "Now patchifying image:  /content/gdrive/MyDrive/Data/Training_data/CAL_database/masks/CAL_database_Sentinel2_314_postFire_label.tif\n",
            "Now patchifying image:  /content/gdrive/MyDrive/Data/Training_data/CAL_database/masks/CAL_database_Sentinel2_322_postFire_label.tif\n",
            "Now patchifying image:  /content/gdrive/MyDrive/Data/Training_data/CAL_database/masks/CAL_database_Sentinel2_323_postFire_label.tif\n",
            "Now patchifying image:  /content/gdrive/MyDrive/Data/Training_data/CAL_database/masks/CAL_database_Sentinel2_336_postFire_label.tif\n"
          ]
        },
        {
          "output_type": "stream",
          "name": "stderr",
          "text": [
            " 77%|███████▋  | 24/31 [00:09<00:00,  8.41it/s]"
          ]
        },
        {
          "output_type": "stream",
          "name": "stdout",
          "text": [
            "Now patchifying image:  /content/gdrive/MyDrive/Data/Training_data/CAL_database/masks/CAL_database_Sentinel2_40_postFire_label.tif\n",
            "Now patchifying image:  /content/gdrive/MyDrive/Data/Training_data/CAL_database/masks/CAL_database_Sentinel2_41_postFire_label.tif\n",
            "Now patchifying image:  /content/gdrive/MyDrive/Data/Training_data/CAL_database/masks/CAL_database_Sentinel2_420_postFire_label.tif\n",
            "Now patchifying image:  /content/gdrive/MyDrive/Data/Training_data/CAL_database/masks/CAL_database_Sentinel2_42_postFire_label.tif\n",
            "Now patchifying image:  /content/gdrive/MyDrive/Data/Training_data/CAL_database/masks/CAL_database_Sentinel2_8261_postFire_label.tif\n"
          ]
        },
        {
          "output_type": "stream",
          "name": "stderr",
          "text": [
            "\r 84%|████████▍ | 26/31 [00:09<00:00,  7.58it/s]"
          ]
        },
        {
          "output_type": "stream",
          "name": "stdout",
          "text": [
            "Now patchifying image:  /content/gdrive/MyDrive/Data/Training_data/CAL_database/masks/CAL_database_Sentinel2_8326_postFire_label.tif\n",
            "Now patchifying image:  /content/gdrive/MyDrive/Data/Training_data/CAL_database/masks/CAL_database_Sentinel2_8351_postFire_label.tif\n"
          ]
        },
        {
          "output_type": "stream",
          "name": "stderr",
          "text": [
            "100%|██████████| 31/31 [00:09<00:00,  3.12it/s]"
          ]
        },
        {
          "output_type": "stream",
          "name": "stdout",
          "text": [
            "Now patchifying image:  /content/gdrive/MyDrive/Data/Training_data/CAL_database/masks/CAL_database_Sentinel2_8438_postFire_label.tif\n",
            "Now patchifying image:  /content/gdrive/MyDrive/Data/Training_data/CAL_database/masks/CAL_database_Sentinel2_8578_postFire_label.tif\n",
            "Now patchifying image:  /content/gdrive/MyDrive/Data/Training_data/CAL_database/masks/CAL_database_Sentinel2_8630_postFire_label.tif\n",
            "Number of generated mask patches: 806\n"
          ]
        },
        {
          "output_type": "stream",
          "name": "stderr",
          "text": [
            "\n"
          ]
        }
      ],
      "source": [
        "\n",
        "# Mask patches generation\n",
        "for mask_filename in tqdm(mask_filenames):\n",
        "  patchify_images(mask_filename, MASK_CHANNELS, 'patchified_masks', 255)\n",
        "\n",
        "print('Number of generated mask patches: '+ str(len(os.listdir(op.join(PATCH_DIRECTORY, 'patchified_masks')))))"
      ]
    },
    {
      "cell_type": "code",
      "source": [
        ""
      ],
      "metadata": {
        "id": "9QAPvoaBUn0m"
      },
      "execution_count": null,
      "outputs": []
    }
  ],
  "metadata": {
    "colab": {
      "collapsed_sections": [],
      "name": "1b_patches_generation.ipynb",
      "provenance": [],
      "include_colab_link": true
    },
    "kernelspec": {
      "display_name": "Python 3",
      "name": "python3"
    },
    "language_info": {
      "name": "python"
    }
  },
  "nbformat": 4,
  "nbformat_minor": 0
}
