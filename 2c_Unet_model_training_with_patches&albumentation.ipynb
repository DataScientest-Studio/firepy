{
  "cells": [
    {
      "cell_type": "markdown",
      "metadata": {
        "id": "view-in-github",
        "colab_type": "text"
      },
      "source": [
        "<a href=\"https://colab.research.google.com/github/icecore013/image-segmentation-keras/blob/master/2c_model_training_with_patches%26albumentation.ipynb\" target=\"_parent\"><img src=\"https://colab.research.google.com/assets/colab-badge.svg\" alt=\"Open In Colab\"/></a>"
      ]
    },
    {
      "cell_type": "markdown",
      "source": [
        "# Objective of the notebook\n",
        "\n",
        "The aim of this code is to train a semantic segmentation model on the California and Portugal databases."
      ],
      "metadata": {
        "id": "jEfN0ByS_vjx"
      }
    },
    {
      "cell_type": "markdown",
      "metadata": {
        "id": "0QLI9otJlMdV"
      },
      "source": [
        "# Import and configuration variables"
      ]
    },
    {
      "cell_type": "code",
      "execution_count": null,
      "metadata": {
        "colab": {
          "base_uri": "https://localhost:8080/"
        },
        "id": "t3ay3m4UAawf",
        "outputId": "14835c8d-1815-4df5-e792-ca41b8923518"
      },
      "outputs": [
        {
          "output_type": "stream",
          "name": "stdout",
          "text": [
            "Mounted at /content/gdrive\n"
          ]
        }
      ],
      "source": [
        "# Loading of our drive\n",
        "from google.colab import drive\n",
        "drive.mount('/content/gdrive')\n",
        "root_path = 'gdrive/My Drive/'"
      ]
    },
    {
      "cell_type": "code",
      "execution_count": null,
      "metadata": {
        "colab": {
          "base_uri": "https://localhost:8080/"
        },
        "id": "3vSqPYiwA8WE",
        "outputId": "c958c3e2-12b6-4a29-d9fe-fd352adeb131"
      },
      "outputs": [
        {
          "output_type": "stream",
          "name": "stdout",
          "text": [
            "Requirement already satisfied: keras in /usr/local/lib/python3.7/dist-packages (2.7.0)\n",
            "Requirement already satisfied: tifffile in /usr/local/lib/python3.7/dist-packages (2021.11.2)\n",
            "Requirement already satisfied: numpy>=1.15.1 in /usr/local/lib/python3.7/dist-packages (from tifffile) (1.19.5)\n",
            "Requirement already satisfied: albumentations in /usr/local/lib/python3.7/dist-packages (0.1.12)\n",
            "Requirement already satisfied: opencv-python in /usr/local/lib/python3.7/dist-packages (from albumentations) (4.1.2.30)\n",
            "Requirement already satisfied: scipy in /usr/local/lib/python3.7/dist-packages (from albumentations) (1.4.1)\n",
            "Collecting imgaug<0.2.7,>=0.2.5\n",
            "  Downloading imgaug-0.2.6.tar.gz (631 kB)\n",
            "\u001b[K     |████████████████████████████████| 631 kB 5.4 MB/s \n",
            "\u001b[?25hRequirement already satisfied: numpy>=1.11.1 in /usr/local/lib/python3.7/dist-packages (from albumentations) (1.19.5)\n",
            "Requirement already satisfied: scikit-image>=0.11.0 in /usr/local/lib/python3.7/dist-packages (from imgaug<0.2.7,>=0.2.5->albumentations) (0.18.3)\n",
            "Requirement already satisfied: six in /usr/local/lib/python3.7/dist-packages (from imgaug<0.2.7,>=0.2.5->albumentations) (1.15.0)\n",
            "Requirement already satisfied: pillow!=7.1.0,!=7.1.1,>=4.3.0 in /usr/local/lib/python3.7/dist-packages (from scikit-image>=0.11.0->imgaug<0.2.7,>=0.2.5->albumentations) (7.1.2)\n",
            "Requirement already satisfied: matplotlib!=3.0.0,>=2.0.0 in /usr/local/lib/python3.7/dist-packages (from scikit-image>=0.11.0->imgaug<0.2.7,>=0.2.5->albumentations) (3.2.2)\n",
            "Requirement already satisfied: networkx>=2.0 in /usr/local/lib/python3.7/dist-packages (from scikit-image>=0.11.0->imgaug<0.2.7,>=0.2.5->albumentations) (2.6.3)\n",
            "Requirement already satisfied: PyWavelets>=1.1.1 in /usr/local/lib/python3.7/dist-packages (from scikit-image>=0.11.0->imgaug<0.2.7,>=0.2.5->albumentations) (1.2.0)\n",
            "Requirement already satisfied: imageio>=2.3.0 in /usr/local/lib/python3.7/dist-packages (from scikit-image>=0.11.0->imgaug<0.2.7,>=0.2.5->albumentations) (2.4.1)\n",
            "Requirement already satisfied: tifffile>=2019.7.26 in /usr/local/lib/python3.7/dist-packages (from scikit-image>=0.11.0->imgaug<0.2.7,>=0.2.5->albumentations) (2021.11.2)\n",
            "Requirement already satisfied: cycler>=0.10 in /usr/local/lib/python3.7/dist-packages (from matplotlib!=3.0.0,>=2.0.0->scikit-image>=0.11.0->imgaug<0.2.7,>=0.2.5->albumentations) (0.11.0)\n",
            "Requirement already satisfied: python-dateutil>=2.1 in /usr/local/lib/python3.7/dist-packages (from matplotlib!=3.0.0,>=2.0.0->scikit-image>=0.11.0->imgaug<0.2.7,>=0.2.5->albumentations) (2.8.2)\n",
            "Requirement already satisfied: pyparsing!=2.0.4,!=2.1.2,!=2.1.6,>=2.0.1 in /usr/local/lib/python3.7/dist-packages (from matplotlib!=3.0.0,>=2.0.0->scikit-image>=0.11.0->imgaug<0.2.7,>=0.2.5->albumentations) (3.0.7)\n",
            "Requirement already satisfied: kiwisolver>=1.0.1 in /usr/local/lib/python3.7/dist-packages (from matplotlib!=3.0.0,>=2.0.0->scikit-image>=0.11.0->imgaug<0.2.7,>=0.2.5->albumentations) (1.3.2)\n",
            "Building wheels for collected packages: imgaug\n",
            "  Building wheel for imgaug (setup.py) ... \u001b[?25l\u001b[?25hdone\n",
            "  Created wheel for imgaug: filename=imgaug-0.2.6-py3-none-any.whl size=654017 sha256=114acb35fb14d2c98a8d26d7c96448caa04cae66776cc7853764f2026ac6d11f\n",
            "  Stored in directory: /root/.cache/pip/wheels/89/72/98/3ebfdba1069a9a8eaaa7ae7265cfd67d63ef0197aaee2e5f9c\n",
            "Successfully built imgaug\n",
            "Installing collected packages: imgaug\n",
            "  Attempting uninstall: imgaug\n",
            "    Found existing installation: imgaug 0.2.9\n",
            "    Uninstalling imgaug-0.2.9:\n",
            "      Successfully uninstalled imgaug-0.2.9\n",
            "Successfully installed imgaug-0.2.6\n"
          ]
        }
      ],
      "source": [
        "# Installing and importing the desired packages\n",
        "import os\n",
        "os.chdir('/content/gdrive/MyDrive/Colab Notebooks/Test')\n",
        "from os import path as op\n",
        "import random\n",
        "import numpy as np\n",
        "import matplotlib.pyplot as plt\n",
        "%matplotlib inline\n",
        "\n",
        "import tensorflow as tf\n",
        "!pip install keras\n",
        "\n",
        "from sklearn.model_selection import train_test_split\n",
        "\n",
        "!pip install tifffile\n",
        "import tifffile\n",
        "\n",
        "from tqdm import tqdm\n",
        "\n",
        "from unet_model import simple_unet_model\n",
        "\n",
        "!pip install albumentations\n",
        "import albumentations as A"
      ]
    },
    {
      "cell_type": "code",
      "execution_count": null,
      "metadata": {
        "id": "cwlEk1tJBcqh"
      },
      "outputs": [],
      "source": [
        "# Setting the config variables\n",
        "\n",
        "PATCHIFIED_IMAGES_PATH = '/content/gdrive/MyDrive/Data/Training_data/Final_patches/patchified_images'\n",
        "PATCHIFIED_MASKS_PATH = '/content/gdrive/MyDrive/Data/Training_data/Final_patches/patchified_masks'\n",
        "\n",
        "PREDICTION_THRESHOLD = 0.4\n",
        "\n",
        "IMAGE_SCALING_FACTOR = 10000\n",
        "MASK_SCALING_FACTOR = 255\n",
        "\n",
        "PATCH_SIZE = 256\n",
        "\n",
        "IMG_CHANNELS = 5\n",
        "MASK_CHANNELS = 1\n",
        "\n",
        "BATCH_SIZE = 32\n",
        "\n",
        "TEST_SIZE = 0.2"
      ]
    },
    {
      "cell_type": "markdown",
      "metadata": {
        "id": "8xGtVLmCB4nj"
      },
      "source": [
        "# Train & test generators"
      ]
    },
    {
      "cell_type": "code",
      "execution_count": null,
      "metadata": {
        "id": "OS3Cvd4lCIqC"
      },
      "outputs": [],
      "source": [
        "# Listing the relevant patch filenames\n",
        "image_filenames = sorted(os.listdir(PATCHIFIED_IMAGES_PATH))\n",
        "mask_filenames = sorted(os.listdir(PATCHIFIED_MASKS_PATH))"
      ]
    },
    {
      "cell_type": "code",
      "execution_count": null,
      "metadata": {
        "id": "oWXO5-y7CyNA"
      },
      "outputs": [],
      "source": [
        "# Creating the generators\n",
        "def datagen(image_path_list, mask_path_list, BATCH_SIZE):\n",
        "  while True:\n",
        "  \n",
        "    buffer_images = []\n",
        "    buffer_masks = []\n",
        "\n",
        "    transform = A.Compose([\n",
        "          A.HorizontalFlip(p=0.3),\n",
        "          A.VerticalFlip(p=0.3),\n",
        "          A.RandomRotate90(p=0.3),\n",
        "      ])\n",
        "\n",
        "    for image, mask in zip(image_path_list, mask_path_list):\n",
        "      image_arr = tifffile.imread(op.join(PATCHIFIED_IMAGES_PATH, image))\n",
        "      mask_arr = tifffile.imread(op.join(PATCHIFIED_MASKS_PATH, mask))\n",
        "\n",
        "      transformed = transform(image=image_arr, mask=mask_arr)\n",
        "      transformed_image = transformed['image']\n",
        "      transformed_mask = transformed['mask']\n",
        "\n",
        "      buffer_images.append(transformed_image)\n",
        "      buffer_masks.append(transformed_mask)\n",
        "\n",
        "      if len(buffer_images) == BATCH_SIZE:\n",
        "\n",
        "        final_images = np.array(buffer_images)\n",
        "        buffer_images = []\n",
        "        final_masks = np.array(buffer_masks)\n",
        "        buffer_masks = []\n",
        "\n",
        "        yield (final_images, final_masks)\n",
        "\n",
        "      else:\n",
        "        pass"
      ]
    },
    {
      "cell_type": "code",
      "execution_count": null,
      "metadata": {
        "colab": {
          "base_uri": "https://localhost:8080/"
        },
        "id": "f_E32-N-FqUV",
        "outputId": "93a28393-d542-40a6-a6e1-3c794cde61c0"
      },
      "outputs": [
        {
          "output_type": "stream",
          "name": "stdout",
          "text": [
            "The number of training samples is 916\n",
            "The number of testing samples is 229\n"
          ]
        }
      ],
      "source": [
        "# Splitting the learning database in train and validation sets\n",
        "train_image_path, test_image_path, train_mask_path, test_mask_path = train_test_split(image_filenames, \n",
        "                                                                                      mask_filenames, \n",
        "                                                                                      test_size=TEST_SIZE)\n",
        "train_nb_samples = len(train_image_path)\n",
        "print('The number of training samples is ' + str(train_nb_samples))\n",
        "test_nb_samples = len(test_image_path)\n",
        "print('The number of testing samples is ' + str(test_nb_samples))\n",
        "\n",
        "train_gen = datagen(train_image_path, train_mask_path, 32)\n",
        "test_gen = datagen(test_image_path, test_mask_path, 32)"
      ]
    },
    {
      "cell_type": "code",
      "execution_count": null,
      "metadata": {
        "id": "AzYEemzvNAvb"
      },
      "outputs": [],
      "source": [
        "# Checking the dataset generated\n",
        "train_sample_dataset = next(train_gen)\n",
        "\n",
        "for i in range(train_sample_dataset[0].shape[0]):\n",
        "  print(i)\n",
        "\n",
        "  # Selection of the first 3 channels\n",
        "  image_rgb = train_sample_dataset[0][i][:, :, :3]\n",
        "  # Reorder for RGB image:\n",
        "  #   - Channels from GEE are: 2(B), 3(G), 4(R)\n",
        "  #   - Expected channels for RGB image: 4(R), 3(G), 2(B)\n",
        "  image_rgb = image_rgb[:, :, ::-1] * 5\n",
        "\n",
        "  # Finding the mask in mask_dataset    \n",
        "  label_2D = train_sample_dataset[1][i][:, :, 0]\n",
        "\n",
        "  # Display graphs\n",
        "  plt.figure(figsize=(20, 20))\n",
        "\n",
        "  plt.subplot(1, 2, 1)\n",
        "  plt.imshow(image_rgb, vmin=0)\n",
        "  plt.title(\"Sentinel 2 RGB image\")\n",
        "\n",
        "  plt.subplot(1, 2, 2)\n",
        "  plt.imshow(label_2D, cmap='gray', vmin=0, vmax=1)\n",
        "  plt.title((\"Label image\"))\n",
        "\n",
        "  plt.show()"
      ]
    },
    {
      "cell_type": "markdown",
      "metadata": {
        "id": "DtyD7Ok9DD4T"
      },
      "source": [
        "# Defining the model"
      ]
    },
    {
      "cell_type": "code",
      "execution_count": null,
      "metadata": {
        "id": "evb7EaZTDJX3"
      },
      "outputs": [],
      "source": [
        "# Defining a model\n",
        "model = simple_unet_model(PATCH_SIZE, PATCH_SIZE, IMG_CHANNELS)"
      ]
    },
    {
      "cell_type": "markdown",
      "metadata": {
        "id": "lRLgi5GaDJwK"
      },
      "source": [
        "# Training of the model"
      ]
    },
    {
      "cell_type": "code",
      "execution_count": null,
      "metadata": {
        "colab": {
          "base_uri": "https://localhost:8080/"
        },
        "id": "wbT8519tDOxl",
        "outputId": "b2e59faf-9935-48d3-891f-467bbe206536"
      },
      "outputs": [
        {
          "output_type": "stream",
          "name": "stdout",
          "text": [
            "Epoch 1/20\n",
            "28/28 [==============================] - 228s 8s/step - loss: 0.5140 - acc: 0.7424 - f1_m: 0.5293 - precision_m: 0.6719 - recall_m: 0.5113 - iou_metric: 0.3658 - val_loss: 0.3179 - val_acc: 0.8768 - val_f1_m: 0.8162 - val_precision_m: 0.7925 - val_recall_m: 0.8467 - val_iou_metric: 0.5578\n",
            "Epoch 2/20\n",
            "28/28 [==============================] - 38s 1s/step - loss: 0.2933 - acc: 0.8720 - f1_m: 0.8311 - precision_m: 0.8072 - recall_m: 0.8642 - iou_metric: 0.6245 - val_loss: 0.2725 - val_acc: 0.8898 - val_f1_m: 0.8284 - val_precision_m: 0.8311 - val_recall_m: 0.8305 - val_iou_metric: 0.5871\n",
            "Epoch 3/20\n",
            "28/28 [==============================] - 37s 1s/step - loss: 0.2603 - acc: 0.8808 - f1_m: 0.8445 - precision_m: 0.8076 - recall_m: 0.8898 - iou_metric: 0.6535 - val_loss: 0.2618 - val_acc: 0.8909 - val_f1_m: 0.8290 - val_precision_m: 0.8362 - val_recall_m: 0.8267 - val_iou_metric: 0.6184\n",
            "Epoch 4/20\n",
            "28/28 [==============================] - 37s 1s/step - loss: 0.2479 - acc: 0.8861 - f1_m: 0.8514 - precision_m: 0.8141 - recall_m: 0.8965 - iou_metric: 0.6680 - val_loss: 0.2385 - val_acc: 0.9002 - val_f1_m: 0.8482 - val_precision_m: 0.8291 - val_recall_m: 0.8729 - val_iou_metric: 0.6413\n",
            "Epoch 5/20\n",
            "28/28 [==============================] - 37s 1s/step - loss: 0.2397 - acc: 0.8882 - f1_m: 0.8554 - precision_m: 0.8148 - recall_m: 0.9049 - iou_metric: 0.6762 - val_loss: 0.2304 - val_acc: 0.9020 - val_f1_m: 0.8589 - val_precision_m: 0.8018 - val_recall_m: 0.9302 - val_iou_metric: 0.6648\n",
            "Epoch 6/20\n",
            "28/28 [==============================] - 36s 1s/step - loss: 0.2303 - acc: 0.8932 - f1_m: 0.8626 - precision_m: 0.8170 - recall_m: 0.9174 - iou_metric: 0.6897 - val_loss: 0.2230 - val_acc: 0.9118 - val_f1_m: 0.8700 - val_precision_m: 0.8247 - val_recall_m: 0.9250 - val_iou_metric: 0.6813\n",
            "Epoch 7/20\n",
            "28/28 [==============================] - 36s 1s/step - loss: 0.2286 - acc: 0.8940 - f1_m: 0.8632 - precision_m: 0.8197 - recall_m: 0.9156 - iou_metric: 0.6925 - val_loss: 0.2228 - val_acc: 0.9086 - val_f1_m: 0.8656 - val_precision_m: 0.8204 - val_recall_m: 0.9210 - val_iou_metric: 0.6693\n",
            "Epoch 8/20\n",
            "28/28 [==============================] - 36s 1s/step - loss: 0.2211 - acc: 0.8975 - f1_m: 0.8679 - precision_m: 0.8234 - recall_m: 0.9216 - iou_metric: 0.7010 - val_loss: 0.2193 - val_acc: 0.9103 - val_f1_m: 0.8707 - val_precision_m: 0.8116 - val_recall_m: 0.9438 - val_iou_metric: 0.6933\n",
            "Epoch 9/20\n",
            "28/28 [==============================] - 49s 2s/step - loss: 0.2174 - acc: 0.9002 - f1_m: 0.8715 - precision_m: 0.8286 - recall_m: 0.9241 - iou_metric: 0.7065 - val_loss: 0.2183 - val_acc: 0.8983 - val_f1_m: 0.8594 - val_precision_m: 0.7792 - val_recall_m: 0.9642 - val_iou_metric: 0.6906\n",
            "Epoch 10/20\n",
            "28/28 [==============================] - 66s 2s/step - loss: 0.2098 - acc: 0.9043 - f1_m: 0.8776 - precision_m: 0.8293 - recall_m: 0.9358 - iou_metric: 0.7179 - val_loss: 0.2163 - val_acc: 0.9056 - val_f1_m: 0.8663 - val_precision_m: 0.7977 - val_recall_m: 0.9535 - val_iou_metric: 0.7020\n",
            "Epoch 11/20\n",
            "28/28 [==============================] - 65s 2s/step - loss: 0.2152 - acc: 0.9021 - f1_m: 0.8732 - precision_m: 0.8314 - recall_m: 0.9237 - iou_metric: 0.7118 - val_loss: 0.2168 - val_acc: 0.8979 - val_f1_m: 0.8590 - val_precision_m: 0.7790 - val_recall_m: 0.9628 - val_iou_metric: 0.6984\n",
            "Epoch 12/20\n",
            "28/28 [==============================] - 64s 2s/step - loss: 0.2030 - acc: 0.9071 - f1_m: 0.8801 - precision_m: 0.8349 - recall_m: 0.9343 - iou_metric: 0.7259 - val_loss: 0.2201 - val_acc: 0.8917 - val_f1_m: 0.8530 - val_precision_m: 0.7650 - val_recall_m: 0.9699 - val_iou_metric: 0.6980\n",
            "Epoch 13/20\n",
            "28/28 [==============================] - 65s 2s/step - loss: 0.2005 - acc: 0.9092 - f1_m: 0.8825 - precision_m: 0.8388 - recall_m: 0.9343 - iou_metric: 0.7289 - val_loss: 0.2140 - val_acc: 0.9005 - val_f1_m: 0.8588 - val_precision_m: 0.7906 - val_recall_m: 0.9455 - val_iou_metric: 0.6996\n",
            "Epoch 14/20\n",
            "28/28 [==============================] - 67s 2s/step - loss: 0.1984 - acc: 0.9093 - f1_m: 0.8823 - precision_m: 0.8416 - recall_m: 0.9302 - iou_metric: 0.7319 - val_loss: 0.2067 - val_acc: 0.8999 - val_f1_m: 0.8612 - val_precision_m: 0.7829 - val_recall_m: 0.9624 - val_iou_metric: 0.6981\n",
            "Epoch 15/20\n",
            "28/28 [==============================] - 61s 2s/step - loss: 0.1882 - acc: 0.9140 - f1_m: 0.8876 - precision_m: 0.8495 - recall_m: 0.9320 - iou_metric: 0.7450 - val_loss: 0.2062 - val_acc: 0.9248 - val_f1_m: 0.8822 - val_precision_m: 0.8758 - val_recall_m: 0.8925 - val_iou_metric: 0.6922\n",
            "Epoch 16/20\n",
            "28/28 [==============================] - 64s 2s/step - loss: 0.1997 - acc: 0.9108 - f1_m: 0.8828 - precision_m: 0.8471 - recall_m: 0.9259 - iou_metric: 0.7266 - val_loss: 0.2124 - val_acc: 0.8996 - val_f1_m: 0.8603 - val_precision_m: 0.7812 - val_recall_m: 0.9620 - val_iou_metric: 0.7051\n",
            "Epoch 17/20\n",
            "28/28 [==============================] - 64s 2s/step - loss: 0.1826 - acc: 0.9171 - f1_m: 0.8919 - precision_m: 0.8526 - recall_m: 0.9377 - iou_metric: 0.7541 - val_loss: 0.1947 - val_acc: 0.9129 - val_f1_m: 0.8743 - val_precision_m: 0.8142 - val_recall_m: 0.9492 - val_iou_metric: 0.7144\n",
            "Epoch 18/20\n",
            "28/28 [==============================] - 63s 2s/step - loss: 0.1809 - acc: 0.9171 - f1_m: 0.8919 - precision_m: 0.8532 - recall_m: 0.9373 - iou_metric: 0.7527 - val_loss: 0.1873 - val_acc: 0.9116 - val_f1_m: 0.8743 - val_precision_m: 0.8068 - val_recall_m: 0.9594 - val_iou_metric: 0.7249\n",
            "Epoch 19/20\n",
            "28/28 [==============================] - 64s 2s/step - loss: 0.1850 - acc: 0.9157 - f1_m: 0.8904 - precision_m: 0.8527 - recall_m: 0.9351 - iou_metric: 0.7482 - val_loss: 0.2232 - val_acc: 0.9048 - val_f1_m: 0.8560 - val_precision_m: 0.8273 - val_recall_m: 0.8911 - val_iou_metric: 0.6681\n",
            "Epoch 20/20\n",
            "28/28 [==============================] - 63s 2s/step - loss: 0.1854 - acc: 0.9165 - f1_m: 0.8908 - precision_m: 0.8556 - recall_m: 0.9326 - iou_metric: 0.7478 - val_loss: 0.1800 - val_acc: 0.9153 - val_f1_m: 0.8788 - val_precision_m: 0.8104 - val_recall_m: 0.9644 - val_iou_metric: 0.7383\n"
          ]
        }
      ],
      "source": [
        "from keras.callbacks import EarlyStopping\n",
        "\n",
        "# Loading a pre-trained model\n",
        "#model.load_weights('/content/gdrive/MyDrive/Data/model_save/model_patches.hdf5')\n",
        "\n",
        "# Early stopping callback to capture the best weights\n",
        "early_stopping_monitor = EarlyStopping(\n",
        "    monitor='val_loss',\n",
        "#    min_delta=0,\n",
        "    patience=3,\n",
        "    verbose=0,\n",
        "    mode='auto',\n",
        "    baseline=None,\n",
        "    restore_best_weights=True\n",
        ")\n",
        "\n",
        "# Learning launch\n",
        "history = model.fit(train_gen, \n",
        "                    validation_data = test_gen,\n",
        "                    steps_per_epoch = train_nb_samples // BATCH_SIZE,\n",
        "                    validation_steps = test_nb_samples // BATCH_SIZE,\n",
        "                    epochs = 20,\n",
        "                    callbacks=[early_stopping_monitor],\n",
        "                    )"
      ]
    },
    {
      "cell_type": "code",
      "execution_count": null,
      "metadata": {
        "id": "dmbrK1CNG_Wu"
      },
      "outputs": [],
      "source": [
        "# Saving the model\n",
        "model.save('/content/gdrive/MyDrive/Data/model_save/model_patches_20220213.hdf5')"
      ]
    },
    {
      "cell_type": "markdown",
      "metadata": {
        "id": "VrMxc6g6S3aw"
      },
      "source": [
        "# Evaluating the model"
      ]
    },
    {
      "cell_type": "code",
      "execution_count": null,
      "metadata": {
        "colab": {
          "base_uri": "https://localhost:8080/",
          "height": 850
        },
        "id": "FoKZTWqWS63b",
        "outputId": "9054bccf-1cbf-442f-dd71-de63e424004e"
      },
      "outputs": [
        {
          "output_type": "display_data",
          "data": {
            "image/png": "[encoded data removed]",
            "text/plain": [
              "<Figure size 1296x288 with 1 Axes>"
            ]
          },
          "metadata": {
            "needs_background": "light"
          }
        },
        {
          "output_type": "display_data",
          "data": {
            "image/png": "[encoded data removed]",
            "text/plain": [
              "<Figure size 1296x288 with 1 Axes>"
            ]
          },
          "metadata": {
            "needs_background": "light"
          }
        },
        {
          "output_type": "display_data",
          "data": {
            "image/png": "[encoded data removed]",
            "text/plain": [
              "<Figure size 1296x288 with 1 Axes>"
            ]
          },
          "metadata": {
            "needs_background": "light"
          }
        }
      ],
      "source": [
        "# Evaluating the performance of the model\n",
        "\n",
        "# Plot the training and validation accuracy and loss at each epoch\n",
        "loss = history.history['loss']\n",
        "val_loss = history.history['val_loss']\n",
        "epochs = range(1, len(loss) + 1)\n",
        "\n",
        "plt.figure(figsize=(18, 4))\n",
        "plt.plot(epochs, loss, 'y', label='Training loss')\n",
        "plt.plot(epochs, val_loss, 'r', label='Validation loss')\n",
        "plt.title('Training and validation loss')\n",
        "plt.xlabel('Epochs')\n",
        "plt.ylabel('Loss')\n",
        "plt.legend()\n",
        "plt.show()\n",
        "\n",
        "acc = history.history['acc']\n",
        "val_acc = history.history['val_acc']\n",
        "\n",
        "plt.figure(figsize=(18, 4))\n",
        "plt.plot(epochs, acc, 'y', label='Training acc')\n",
        "plt.plot(epochs, val_acc, 'r', label='Validation acc')\n",
        "plt.title('Training and validation accuracy')\n",
        "plt.xlabel('Epochs')\n",
        "plt.ylabel('Accuracy')\n",
        "plt.legend()\n",
        "plt.show()\n",
        "\n",
        "f1 = history.history['f1_m']\n",
        "val_f1 = history.history['val_f1_m']\n",
        "\n",
        "plt.figure(figsize=(18, 4))\n",
        "plt.plot(epochs, acc, 'y', label='Training f1 score')\n",
        "plt.plot(epochs, val_acc, 'r', label='Validation f1 score')\n",
        "plt.title('Training and validation f1 score')\n",
        "plt.xlabel('Epochs')\n",
        "plt.ylabel('f1 score')\n",
        "plt.legend()\n",
        "plt.show()\n",
        "\n"
      ]
    },
    {
      "cell_type": "markdown",
      "metadata": {
        "id": "ESro-Sy3TKc7"
      },
      "source": [
        "# Predicting on random test patches"
      ]
    },
    {
      "cell_type": "code",
      "source": [
        "# Loading the pre-trained model\n",
        "from sklearn.metrics import roc_curve, auc\n",
        "\n",
        "# If you want to reload a previous model:\n",
        "#model = simple_unet_model(IMG_HEIGHT, IMG_WIDTH, IMG_CHANNELS)\n",
        "#model.load_weights('/content/gdrive/MyDrive/Data/model_save/model_test.hdf5')\n",
        "\n",
        "test_sample_dataset = next(test_gen)\n",
        "\n",
        "for i in range(test_sample_dataset[0].shape[0]):\n",
        "  print(i)\n",
        "\n",
        "  # Collecting the imge and mask\n",
        "  test_img = test_sample_dataset[0][i][:, :, :3]\n",
        "  test_img_rgb = test_img[:, :, ::-1] * 4\n",
        "  test_mask = test_sample_dataset[1][i][:, :, 0]\n",
        "\n",
        "  # Calculation of the predicted mask\n",
        "  test_img_input = np.expand_dims(test_sample_dataset[0][i], 0)\n",
        "  prediction = model.predict(test_img_input)\n",
        "  final_prediction = (prediction > PREDICTION_THRESHOLD).astype(np.uint8)\n",
        "\n",
        "  # Data for ROC curve\n",
        "  test_mask_roc = test_mask.ravel().astype('int16')\n",
        "  prediction_proba = prediction[0, :, :, 0].ravel()\n",
        "  fpr, tpr, thresholds = roc_curve(test_mask_roc, prediction_proba)\n",
        "  roc_auc = auc(fpr,tpr)\n",
        "\n",
        "  # Figure\n",
        "  fig, (ax1, ax2, ax3, ax4, ax5) = plt.subplots(1, 5, figsize=(20,3.5))\n",
        "\n",
        "  # Showing the test image\n",
        "  ax1.set_title('Test Image')\n",
        "  ax1.imshow(test_img_rgb)\n",
        "  ax1.axis('off')\n",
        "\n",
        "  # Showing the label image\n",
        "  ax2.set_title('Test Label')\n",
        "  ax2.imshow(test_mask, cmap='gray')\n",
        "  ax2.axis('off')\n",
        "\n",
        "  # Showing the prediction image\n",
        "  ax3.set_title('Prediction on test image')\n",
        "  ax3.imshow(final_prediction[0, :, :, 0], cmap='gray')\n",
        "  ax3.axis('off')\n",
        "\n",
        "  # Showing the prediction proba\n",
        "  ax4.set_title('Prediction proba on test image')\n",
        "  ax4.imshow(prediction[0, :, :, 0], cmap='gray')\n",
        "  ax4.axis('off')\n",
        "\n",
        "  # Showing the ROC curve\n",
        "  ax5.plot(fpr, tpr, label='ROC curve (area = %0.3f)' % roc_auc)\n",
        "  ax5.plot([0, 1], [0, 1], 'k--')\n",
        "  ax5.set_xlim([0.0, 1.0])\n",
        "  ax5.set_ylim([0.0, 1.05])\n",
        "  ax5.set_xlabel('False Positive Rate')\n",
        "  ax5.set_ylabel('True Positive Rate')\n",
        "  ax5.set_title('Receiver Operating Characteristic')\n",
        "  ax5.legend(loc=\"lower right\")\n",
        "  plt.show()\n",
        "\n",
        "  # Best threshold\n",
        "  optimal_idx = np.argmax(tpr - fpr)\n",
        "  optimal_threshold = thresholds[optimal_idx]\n",
        "  print('The best threshold is: ' + str(optimal_threshold))"
      ],
      "metadata": {
        "id": "OE9bP-77Bgrh"
      },
      "execution_count": null,
      "outputs": []
    }
  ],
  "metadata": {
    "accelerator": "GPU",
    "colab": {
      "collapsed_sections": [],
      "name": "2c_model_training_with_patches&albumentation.ipynb",
      "provenance": [],
      "include_colab_link": true
    },
    "kernelspec": {
      "display_name": "Python 3",
      "name": "python3"
    },
    "language_info": {
      "name": "python"
    }
  },
  "nbformat": 4,
  "nbformat_minor": 0
}
